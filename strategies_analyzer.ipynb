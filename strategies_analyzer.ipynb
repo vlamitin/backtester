{
 "cells": [
  {
   "cell_type": "code",
   "execution_count": 1,
   "id": "initial_id",
   "metadata": {
    "ExecuteTime": {
     "end_time": "2025-09-01T21:52:27.148506Z",
     "start_time": "2025-09-01T21:52:23.363527Z"
    }
   },
   "outputs": [
    {
     "name": "stdout",
     "output_type": "stream",
     "text": [
      "strategy_29:\n",
      "Trade stat:\n"
     ]
    },
    {
     "data": {
      "text/plain": "                  name  trades  cum_pnl  minus_fees  win_rate\n0           market all     100 -2181.60    -3727.94     0.330\n1            limit all     235 -6494.53   -10123.25     0.217\n2      chase_median_rr      73 -1659.36    -2767.41     0.247\n3        chase_mean_rr      51  -628.37    -1920.58     0.196\n4     chase_absent_tyo       0     0.00        0.00     0.000\n5     chase_absent_tmo       0     0.00        0.00     0.000\n6     chase_absent_two       0     0.00        0.00     0.000\n7     chase_absent_tdo      11  -539.91     -817.69     0.182\n8   chase_absent_t90mo      21  -434.93     -588.48     0.286\n9            chase_tyo       0     0.00        0.00     0.000\n10           chase_tmo       9  -759.58     -806.43     0.000\n11           chase_two       9  -285.89     -341.15     0.333\n12           chase_tdo      29 -1088.08    -1435.40     0.241\n13         chase_t90mo      32 -1098.40    -1446.11     0.156",
      "text/html": "<div>\n<style scoped>\n    .dataframe tbody tr th:only-of-type {\n        vertical-align: middle;\n    }\n\n    .dataframe tbody tr th {\n        vertical-align: top;\n    }\n\n    .dataframe thead th {\n        text-align: right;\n    }\n</style>\n<table border=\"1\" class=\"dataframe\">\n  <thead>\n    <tr style=\"text-align: right;\">\n      <th></th>\n      <th>name</th>\n      <th>trades</th>\n      <th>cum_pnl</th>\n      <th>minus_fees</th>\n      <th>win_rate</th>\n    </tr>\n  </thead>\n  <tbody>\n    <tr>\n      <th>0</th>\n      <td>market all</td>\n      <td>100</td>\n      <td>-2181.60</td>\n      <td>-3727.94</td>\n      <td>0.330</td>\n    </tr>\n    <tr>\n      <th>1</th>\n      <td>limit all</td>\n      <td>235</td>\n      <td>-6494.53</td>\n      <td>-10123.25</td>\n      <td>0.217</td>\n    </tr>\n    <tr>\n      <th>2</th>\n      <td>chase_median_rr</td>\n      <td>73</td>\n      <td>-1659.36</td>\n      <td>-2767.41</td>\n      <td>0.247</td>\n    </tr>\n    <tr>\n      <th>3</th>\n      <td>chase_mean_rr</td>\n      <td>51</td>\n      <td>-628.37</td>\n      <td>-1920.58</td>\n      <td>0.196</td>\n    </tr>\n    <tr>\n      <th>4</th>\n      <td>chase_absent_tyo</td>\n      <td>0</td>\n      <td>0.00</td>\n      <td>0.00</td>\n      <td>0.000</td>\n    </tr>\n    <tr>\n      <th>5</th>\n      <td>chase_absent_tmo</td>\n      <td>0</td>\n      <td>0.00</td>\n      <td>0.00</td>\n      <td>0.000</td>\n    </tr>\n    <tr>\n      <th>6</th>\n      <td>chase_absent_two</td>\n      <td>0</td>\n      <td>0.00</td>\n      <td>0.00</td>\n      <td>0.000</td>\n    </tr>\n    <tr>\n      <th>7</th>\n      <td>chase_absent_tdo</td>\n      <td>11</td>\n      <td>-539.91</td>\n      <td>-817.69</td>\n      <td>0.182</td>\n    </tr>\n    <tr>\n      <th>8</th>\n      <td>chase_absent_t90mo</td>\n      <td>21</td>\n      <td>-434.93</td>\n      <td>-588.48</td>\n      <td>0.286</td>\n    </tr>\n    <tr>\n      <th>9</th>\n      <td>chase_tyo</td>\n      <td>0</td>\n      <td>0.00</td>\n      <td>0.00</td>\n      <td>0.000</td>\n    </tr>\n    <tr>\n      <th>10</th>\n      <td>chase_tmo</td>\n      <td>9</td>\n      <td>-759.58</td>\n      <td>-806.43</td>\n      <td>0.000</td>\n    </tr>\n    <tr>\n      <th>11</th>\n      <td>chase_two</td>\n      <td>9</td>\n      <td>-285.89</td>\n      <td>-341.15</td>\n      <td>0.333</td>\n    </tr>\n    <tr>\n      <th>12</th>\n      <td>chase_tdo</td>\n      <td>29</td>\n      <td>-1088.08</td>\n      <td>-1435.40</td>\n      <td>0.241</td>\n    </tr>\n    <tr>\n      <th>13</th>\n      <td>chase_t90mo</td>\n      <td>32</td>\n      <td>-1098.40</td>\n      <td>-1446.11</td>\n      <td>0.156</td>\n    </tr>\n  </tbody>\n</table>\n</div>"
     },
     "metadata": {},
     "output_type": "display_data"
    },
    {
     "name": "stdout",
     "output_type": "stream",
     "text": [
      "Limit orders stat:\n"
     ]
    },
    {
     "data": {
      "text/plain": "                  name  orders  trades  conversion\n0            limit all     540     235       43.52\n1      chase_median_rr     101      73       72.28\n2        chase_mean_rr     101      51       50.50\n3     chase_absent_tyo     102       0        0.00\n4     chase_absent_tmo      18       0        0.00\n5     chase_absent_two       9       0        0.00\n6     chase_absent_tdo      17      11       64.71\n7   chase_absent_t90mo      35      21       60.00\n8            chase_tyo       0       0        0.00\n9            chase_tmo      14       9       64.29\n10           chase_two      33       9       27.27\n11           chase_tdo      64      29       45.31\n12         chase_t90mo      46      32       69.57",
      "text/html": "<div>\n<style scoped>\n    .dataframe tbody tr th:only-of-type {\n        vertical-align: middle;\n    }\n\n    .dataframe tbody tr th {\n        vertical-align: top;\n    }\n\n    .dataframe thead th {\n        text-align: right;\n    }\n</style>\n<table border=\"1\" class=\"dataframe\">\n  <thead>\n    <tr style=\"text-align: right;\">\n      <th></th>\n      <th>name</th>\n      <th>orders</th>\n      <th>trades</th>\n      <th>conversion</th>\n    </tr>\n  </thead>\n  <tbody>\n    <tr>\n      <th>0</th>\n      <td>limit all</td>\n      <td>540</td>\n      <td>235</td>\n      <td>43.52</td>\n    </tr>\n    <tr>\n      <th>1</th>\n      <td>chase_median_rr</td>\n      <td>101</td>\n      <td>73</td>\n      <td>72.28</td>\n    </tr>\n    <tr>\n      <th>2</th>\n      <td>chase_mean_rr</td>\n      <td>101</td>\n      <td>51</td>\n      <td>50.50</td>\n    </tr>\n    <tr>\n      <th>3</th>\n      <td>chase_absent_tyo</td>\n      <td>102</td>\n      <td>0</td>\n      <td>0.00</td>\n    </tr>\n    <tr>\n      <th>4</th>\n      <td>chase_absent_tmo</td>\n      <td>18</td>\n      <td>0</td>\n      <td>0.00</td>\n    </tr>\n    <tr>\n      <th>5</th>\n      <td>chase_absent_two</td>\n      <td>9</td>\n      <td>0</td>\n      <td>0.00</td>\n    </tr>\n    <tr>\n      <th>6</th>\n      <td>chase_absent_tdo</td>\n      <td>17</td>\n      <td>11</td>\n      <td>64.71</td>\n    </tr>\n    <tr>\n      <th>7</th>\n      <td>chase_absent_t90mo</td>\n      <td>35</td>\n      <td>21</td>\n      <td>60.00</td>\n    </tr>\n    <tr>\n      <th>8</th>\n      <td>chase_tyo</td>\n      <td>0</td>\n      <td>0</td>\n      <td>0.00</td>\n    </tr>\n    <tr>\n      <th>9</th>\n      <td>chase_tmo</td>\n      <td>14</td>\n      <td>9</td>\n      <td>64.29</td>\n    </tr>\n    <tr>\n      <th>10</th>\n      <td>chase_two</td>\n      <td>33</td>\n      <td>9</td>\n      <td>27.27</td>\n    </tr>\n    <tr>\n      <th>11</th>\n      <td>chase_tdo</td>\n      <td>64</td>\n      <td>29</td>\n      <td>45.31</td>\n    </tr>\n    <tr>\n      <th>12</th>\n      <td>chase_t90mo</td>\n      <td>46</td>\n      <td>32</td>\n      <td>69.57</td>\n    </tr>\n  </tbody>\n</table>\n</div>"
     },
     "metadata": {},
     "output_type": "display_data"
    }
   ],
   "source": [
    "from typing import Tuple\n",
    "import pandas as pd\n",
    "from IPython.display import display\n",
    "import numpy as np\n",
    "\n",
    "from stock_market_research_kit.smt_psp_trade import smt_psp_trades_from_json\n",
    "from scripts.run_smt_strategies_analyzer import strategy29_2025_snapshot, to_trade_dfs, \\\n",
    "    with_cum_and_stagnation\n",
    "\n",
    "with open(strategy29_2025_snapshot, \"r\", encoding=\"utf-8\") as f:\n",
    "    json_str = f.read()\n",
    "df_m, df_l, df_lo = to_trade_dfs(smt_psp_trades_from_json(json_str))\n",
    "\n",
    "df_l_chase_median_rr = with_cum_and_stagnation(df_l.query('limit_reason == \"chase_median_rr\"'))\n",
    "df_l_chase_mean_rr = with_cum_and_stagnation(df_l.query('limit_reason == \"chase_mean_rr\"'))\n",
    "df_l_chase_absent_tyo = with_cum_and_stagnation(df_l.query('limit_reason == \"chase_absent_tyo\"'))\n",
    "df_l_chase_absent_tmo = with_cum_and_stagnation(df_l.query('limit_reason == \"chase_absent_tmo\"'))\n",
    "df_l_chase_absent_two = with_cum_and_stagnation(df_l.query('limit_reason == \"chase_absent_two\"'))\n",
    "df_l_chase_absent_tdo = with_cum_and_stagnation(df_l.query('limit_reason == \"chase_absent_tdo\"'))\n",
    "df_l_chase_absent_t90mo = with_cum_and_stagnation(df_l.query('limit_reason == \"chase_absent_t90mo\"'))\n",
    "df_l_chase_tyo = with_cum_and_stagnation(df_l.query('limit_reason == \"chase_tyo\"'))\n",
    "df_l_chase_tmo = with_cum_and_stagnation(df_l.query('limit_reason == \"chase_tmo\"'))\n",
    "df_l_chase_two = with_cum_and_stagnation(df_l.query('limit_reason == \"chase_two\"'))\n",
    "df_l_chase_tdo = with_cum_and_stagnation(df_l.query('limit_reason == \"chase_tdo\"'))\n",
    "df_l_chase_t90mo = with_cum_and_stagnation(df_l.query('limit_reason == \"chase_t90mo\"'))\n",
    "\n",
    "df_m = with_cum_and_stagnation(df_m)\n",
    "df_l = with_cum_and_stagnation(df_l)\n",
    "\n",
    "df_lo_chase_median_rr = df_lo.query('limit_reason == \"chase_median_rr\"')\n",
    "df_lo_chase_mean_rr = df_lo.query('limit_reason == \"chase_mean_rr\"')\n",
    "df_lo_chase_absent_tyo = df_lo.query('limit_reason == \"chase_absent_tyo\"')\n",
    "df_lo_chase_absent_tmo = df_lo.query('limit_reason == \"chase_absent_tmo\"')\n",
    "df_lo_chase_absent_two = df_lo.query('limit_reason == \"chase_absent_two\"')\n",
    "df_lo_chase_absent_tdo = df_lo.query('limit_reason == \"chase_absent_tdo\"')\n",
    "df_lo_chase_absent_t90mo = df_lo.query('limit_reason == \"chase_absent_t90mo\"')\n",
    "df_lo_chase_tyo = df_lo.query('limit_reason == \"chase_tyo\"')\n",
    "df_lo_chase_tmo = df_lo.query('limit_reason == \"chase_tmo\"')\n",
    "df_lo_chase_two = df_lo.query('limit_reason == \"chase_two\"')\n",
    "df_lo_chase_tdo = df_lo.query('limit_reason == \"chase_tdo\"')\n",
    "df_lo_chase_t90mo = df_lo.query('limit_reason == \"chase_t90mo\"')\n",
    "\n",
    "def basic_trade_stat(name, df) -> Tuple[str, int, float, float, float]:\n",
    "    if len(df) == 0:\n",
    "        return name, 0, 0, 0, 0\n",
    "    return (\n",
    "        name, len(df), round(df['cum_pnl_usd'].iloc[-1], 2),\n",
    "        round(df['cum_pnl_minus_fees'].iloc[-1], 2), round(len(df.query('won')) / len(df), 3)\n",
    "    )\n",
    "\n",
    "def basic_lo_stat(name, df) -> Tuple[str, int, int, float]:\n",
    "    if len(df) == 0:\n",
    "        return name, 0, 0, 0\n",
    "    filled_orders = df.query('limit_status == \"FILLED\"')\n",
    "    return name, len(df), len(filled_orders), round(100 * len(filled_orders) / len(df), 2)\n",
    "\n",
    "df_trade_stat = pd.DataFrame([\n",
    "    basic_trade_stat('market all', df_m),\n",
    "    basic_trade_stat('limit all', df_l),\n",
    "    basic_trade_stat('chase_median_rr', df_l_chase_median_rr),\n",
    "    basic_trade_stat('chase_mean_rr', df_l_chase_mean_rr),\n",
    "    basic_trade_stat('chase_absent_tyo', df_l_chase_absent_tyo),\n",
    "    basic_trade_stat('chase_absent_tmo', df_l_chase_absent_tmo),\n",
    "    basic_trade_stat('chase_absent_two', df_l_chase_absent_two),\n",
    "    basic_trade_stat('chase_absent_tdo', df_l_chase_absent_tdo),\n",
    "    basic_trade_stat('chase_absent_t90mo', df_l_chase_absent_t90mo),\n",
    "    basic_trade_stat('chase_tyo', df_l_chase_tyo),\n",
    "    basic_trade_stat('chase_tmo', df_l_chase_tmo),\n",
    "    basic_trade_stat('chase_two', df_l_chase_two),\n",
    "    basic_trade_stat('chase_tdo', df_l_chase_tdo),\n",
    "    basic_trade_stat('chase_t90mo', df_l_chase_t90mo),\n",
    "], columns=[\n",
    "    'name',\n",
    "    'trades',\n",
    "    'cum_pnl',\n",
    "    'minus_fees',\n",
    "    'win_rate',\n",
    "])\n",
    "\n",
    "df_lo_stat = pd.DataFrame([\n",
    "    basic_lo_stat('limit all', df_lo),\n",
    "    basic_lo_stat('chase_median_rr', df_lo_chase_median_rr),\n",
    "    basic_lo_stat('chase_mean_rr', df_lo_chase_mean_rr),\n",
    "    basic_lo_stat('chase_absent_tyo', df_lo_chase_absent_tyo),\n",
    "    basic_lo_stat('chase_absent_tmo', df_lo_chase_absent_tmo),\n",
    "    basic_lo_stat('chase_absent_two', df_lo_chase_absent_two),\n",
    "    basic_lo_stat('chase_absent_tdo', df_lo_chase_absent_tdo),\n",
    "    basic_lo_stat('chase_absent_t90mo', df_lo_chase_absent_t90mo),\n",
    "    basic_lo_stat('chase_tyo', df_lo_chase_tyo),\n",
    "    basic_lo_stat('chase_tmo', df_lo_chase_tmo),\n",
    "    basic_lo_stat('chase_two', df_lo_chase_two),\n",
    "    basic_lo_stat('chase_tdo', df_lo_chase_tdo),\n",
    "    basic_lo_stat('chase_t90mo', df_lo_chase_t90mo),\n",
    "], columns=[\n",
    "    'name',\n",
    "    'orders',\n",
    "    'trades',\n",
    "    'conversion',\n",
    "])\n",
    "\n",
    "print(f\"{f.name[23:34]}:\")\n",
    "print(f\"Trade stat:\")\n",
    "display(df_trade_stat)\n",
    "print(f\"Limit orders stat:\")\n",
    "display(df_lo_stat)\n",
    "\n"
   ]
  },
  {
   "cell_type": "code",
   "outputs": [
    {
     "data": {
      "text/plain": "                  market all              limit all                \\\n                        mean median count      mean  median count   \ndirection asset                                                     \nDOWN      BTCUSDT     -44.22 -59.72    20    -33.51  -53.79    55   \n          ETHUSDT     -43.59 -67.28    20    -59.87  -96.34    48   \n          SOLUSDT       1.94 -81.95    18    -44.73 -100.00    45   \nUP        BTCUSDT     -18.26 -54.71    14    -16.62  -65.80    28   \n          ETHUSDT      -5.49 -42.84    14     22.60  -50.18    29   \n          SOLUSDT      -9.12 -62.08    14      1.52 -100.00    30   \n\n                  chase_median_rr               chase_mean_rr  ... chase_tmo  \\\n                             mean  median count          mean  ...     count   \ndirection asset                                                ...             \nDOWN      BTCUSDT          -25.41  -46.63    18        -30.26  ...       NaN   \n          ETHUSDT          -54.14  -85.80    12        -49.98  ...       7.0   \n          SOLUSDT          -41.43 -100.00    12        -91.03  ...       2.0   \nUP        BTCUSDT          -26.70  -76.18    10        -16.64  ...       NaN   \n          ETHUSDT           16.82  -41.42    10         71.08  ...       NaN   \n          SOLUSDT            3.97 -100.00    11         44.46  ...       NaN   \n\n                  chase_two               chase_tdo               chase_t90mo  \\\n                       mean  median count      mean  median count        mean   \ndirection asset                                                                 \nDOWN      BTCUSDT    -79.20  -79.08   3.0     -7.33  -61.38     8      -47.19   \n          ETHUSDT     25.44   25.44   2.0    -97.56 -100.00     3      -69.78   \n          SOLUSDT   -100.00 -100.00   1.0    -50.69 -100.00     9       23.11   \nUP        BTCUSDT    -75.60  -75.60   1.0     27.29   19.22     4      -78.00   \n          ETHUSDT     38.22   38.22   2.0    -63.24  -72.82     3      -11.07   \n          SOLUSDT       NaN     NaN   NaN   -100.00 -100.00     2      -48.00   \n\n                                 \n                   median count  \ndirection asset                  \nDOWN      BTCUSDT  -59.41     9  \n          ETHUSDT  -50.00     7  \n          SOLUSDT -100.00     8  \nUP        BTCUSDT  -78.00     2  \n          ETHUSDT  -11.07     2  \n          SOLUSDT  -90.23     4  \n\n[6 rows x 30 columns]",
      "text/html": "<div>\n<style scoped>\n    .dataframe tbody tr th:only-of-type {\n        vertical-align: middle;\n    }\n\n    .dataframe tbody tr th {\n        vertical-align: top;\n    }\n\n    .dataframe thead tr th {\n        text-align: left;\n    }\n\n    .dataframe thead tr:last-of-type th {\n        text-align: right;\n    }\n</style>\n<table border=\"1\" class=\"dataframe\">\n  <thead>\n    <tr>\n      <th></th>\n      <th></th>\n      <th colspan=\"3\" halign=\"left\">market all</th>\n      <th colspan=\"3\" halign=\"left\">limit all</th>\n      <th colspan=\"3\" halign=\"left\">chase_median_rr</th>\n      <th>chase_mean_rr</th>\n      <th>...</th>\n      <th>chase_tmo</th>\n      <th colspan=\"3\" halign=\"left\">chase_two</th>\n      <th colspan=\"3\" halign=\"left\">chase_tdo</th>\n      <th colspan=\"3\" halign=\"left\">chase_t90mo</th>\n    </tr>\n    <tr>\n      <th></th>\n      <th></th>\n      <th>mean</th>\n      <th>median</th>\n      <th>count</th>\n      <th>mean</th>\n      <th>median</th>\n      <th>count</th>\n      <th>mean</th>\n      <th>median</th>\n      <th>count</th>\n      <th>mean</th>\n      <th>...</th>\n      <th>count</th>\n      <th>mean</th>\n      <th>median</th>\n      <th>count</th>\n      <th>mean</th>\n      <th>median</th>\n      <th>count</th>\n      <th>mean</th>\n      <th>median</th>\n      <th>count</th>\n    </tr>\n    <tr>\n      <th>direction</th>\n      <th>asset</th>\n      <th></th>\n      <th></th>\n      <th></th>\n      <th></th>\n      <th></th>\n      <th></th>\n      <th></th>\n      <th></th>\n      <th></th>\n      <th></th>\n      <th></th>\n      <th></th>\n      <th></th>\n      <th></th>\n      <th></th>\n      <th></th>\n      <th></th>\n      <th></th>\n      <th></th>\n      <th></th>\n      <th></th>\n    </tr>\n  </thead>\n  <tbody>\n    <tr>\n      <th rowspan=\"3\" valign=\"top\">DOWN</th>\n      <th>BTCUSDT</th>\n      <td>-44.22</td>\n      <td>-59.72</td>\n      <td>20</td>\n      <td>-33.51</td>\n      <td>-53.79</td>\n      <td>55</td>\n      <td>-25.41</td>\n      <td>-46.63</td>\n      <td>18</td>\n      <td>-30.26</td>\n      <td>...</td>\n      <td>NaN</td>\n      <td>-79.20</td>\n      <td>-79.08</td>\n      <td>3.0</td>\n      <td>-7.33</td>\n      <td>-61.38</td>\n      <td>8</td>\n      <td>-47.19</td>\n      <td>-59.41</td>\n      <td>9</td>\n    </tr>\n    <tr>\n      <th>ETHUSDT</th>\n      <td>-43.59</td>\n      <td>-67.28</td>\n      <td>20</td>\n      <td>-59.87</td>\n      <td>-96.34</td>\n      <td>48</td>\n      <td>-54.14</td>\n      <td>-85.80</td>\n      <td>12</td>\n      <td>-49.98</td>\n      <td>...</td>\n      <td>7.0</td>\n      <td>25.44</td>\n      <td>25.44</td>\n      <td>2.0</td>\n      <td>-97.56</td>\n      <td>-100.00</td>\n      <td>3</td>\n      <td>-69.78</td>\n      <td>-50.00</td>\n      <td>7</td>\n    </tr>\n    <tr>\n      <th>SOLUSDT</th>\n      <td>1.94</td>\n      <td>-81.95</td>\n      <td>18</td>\n      <td>-44.73</td>\n      <td>-100.00</td>\n      <td>45</td>\n      <td>-41.43</td>\n      <td>-100.00</td>\n      <td>12</td>\n      <td>-91.03</td>\n      <td>...</td>\n      <td>2.0</td>\n      <td>-100.00</td>\n      <td>-100.00</td>\n      <td>1.0</td>\n      <td>-50.69</td>\n      <td>-100.00</td>\n      <td>9</td>\n      <td>23.11</td>\n      <td>-100.00</td>\n      <td>8</td>\n    </tr>\n    <tr>\n      <th rowspan=\"3\" valign=\"top\">UP</th>\n      <th>BTCUSDT</th>\n      <td>-18.26</td>\n      <td>-54.71</td>\n      <td>14</td>\n      <td>-16.62</td>\n      <td>-65.80</td>\n      <td>28</td>\n      <td>-26.70</td>\n      <td>-76.18</td>\n      <td>10</td>\n      <td>-16.64</td>\n      <td>...</td>\n      <td>NaN</td>\n      <td>-75.60</td>\n      <td>-75.60</td>\n      <td>1.0</td>\n      <td>27.29</td>\n      <td>19.22</td>\n      <td>4</td>\n      <td>-78.00</td>\n      <td>-78.00</td>\n      <td>2</td>\n    </tr>\n    <tr>\n      <th>ETHUSDT</th>\n      <td>-5.49</td>\n      <td>-42.84</td>\n      <td>14</td>\n      <td>22.60</td>\n      <td>-50.18</td>\n      <td>29</td>\n      <td>16.82</td>\n      <td>-41.42</td>\n      <td>10</td>\n      <td>71.08</td>\n      <td>...</td>\n      <td>NaN</td>\n      <td>38.22</td>\n      <td>38.22</td>\n      <td>2.0</td>\n      <td>-63.24</td>\n      <td>-72.82</td>\n      <td>3</td>\n      <td>-11.07</td>\n      <td>-11.07</td>\n      <td>2</td>\n    </tr>\n    <tr>\n      <th>SOLUSDT</th>\n      <td>-9.12</td>\n      <td>-62.08</td>\n      <td>14</td>\n      <td>1.52</td>\n      <td>-100.00</td>\n      <td>30</td>\n      <td>3.97</td>\n      <td>-100.00</td>\n      <td>11</td>\n      <td>44.46</td>\n      <td>...</td>\n      <td>NaN</td>\n      <td>NaN</td>\n      <td>NaN</td>\n      <td>NaN</td>\n      <td>-100.00</td>\n      <td>-100.00</td>\n      <td>2</td>\n      <td>-48.00</td>\n      <td>-90.23</td>\n      <td>4</td>\n    </tr>\n  </tbody>\n</table>\n<p>6 rows × 30 columns</p>\n</div>"
     },
     "execution_count": 2,
     "metadata": {},
     "output_type": "execute_result"
    }
   ],
   "source": [
    "def group(fields):\n",
    "    def to_agg_pnl_df(label, df):\n",
    "        df_agg = df.groupby(fields)[\"pnl_usd\"].agg([\"mean\", \"median\", \"count\"]).round({\"mean\": 2, \"median\": 2})\n",
    "        df_agg.columns = pd.MultiIndex.from_product([[label], df_agg.columns])\n",
    "        return df_agg\n",
    "    def to_agg_wr_df(label, df):\n",
    "        df_agg = df.groupby(fields)[\"won\"].agg([\"mean\", \"median\", \"count\"]).round({\"mean\": 2, \"median\": 2})\n",
    "        df_agg.columns = pd.MultiIndex.from_product([[label], df_agg.columns])\n",
    "        return df_agg\n",
    "    \n",
    "    dfs = [\n",
    "        ('market all', df_m),\n",
    "        ('limit all', df_l),\n",
    "        ('chase_median_rr', df_l_chase_median_rr),\n",
    "        ('chase_mean_rr', df_l_chase_mean_rr),\n",
    "        ('chase_absent_tyo', df_l_chase_absent_tyo),\n",
    "        ('chase_absent_tmo', df_l_chase_absent_tmo),\n",
    "        ('chase_absent_two', df_l_chase_absent_two),\n",
    "        ('chase_absent_tdo', df_l_chase_absent_tdo),\n",
    "        ('chase_absent_t90mo', df_l_chase_absent_t90mo),\n",
    "        ('chase_tyo', df_l_chase_tyo),\n",
    "        ('chase_tmo', df_l_chase_tmo),\n",
    "        ('chase_two', df_l_chase_two),\n",
    "        ('chase_tdo', df_l_chase_tdo),\n",
    "        ('chase_t90mo', df_l_chase_t90mo),\n",
    "    ]\n",
    "\n",
    "    df_joined_pnl = pd.concat([to_agg_pnl_df(x[0], x[1]) for x in dfs if len(x[1]) > 0], axis=1)\n",
    "    df_joined_wr = pd.concat([to_agg_wr_df(x[0], x[1]) for x in dfs if len(x[1]) > 0], axis=1)\n",
    "    \n",
    "    return df_joined_pnl, df_joined_wr\n",
    "\n",
    "    # print(\"- pnl\")\n",
    "    # display(df_joined_pnl)\n",
    "    # print(\"- winrate\")\n",
    "    # display(df_joined_wr)\n",
    "\n",
    "df_pnl, df_wr = group([\"direction\", \"asset\"])\n",
    "df_pnl"
   ],
   "metadata": {
    "collapsed": false,
    "ExecuteTime": {
     "end_time": "2025-09-01T21:52:50.891849Z",
     "start_time": "2025-09-01T21:52:50.534316Z"
    }
   },
   "id": "9b1db32ee3c32514",
   "execution_count": 2
  },
  {
   "cell_type": "code",
   "outputs": [
    {
     "data": {
      "text/plain": "                  market all              limit all               \\\n                        mean median count      mean median count   \ndirection asset                                                    \nDOWN      BTCUSDT       0.35    0.0   203      0.32    0.0   482   \n          ETHUSDT       0.33    0.0   204      0.29    0.0   478   \n          SOLUSDT       0.34    0.0   201      0.29    0.0   480   \nUP        BTCUSDT       0.39    0.0   127      0.28    0.0   167   \n          ETHUSDT       0.44    0.0   127      0.30    0.0   171   \n          SOLUSDT       0.42    0.0   128      0.31    0.0   179   \n\n                  chase_median_rr              chase_mean_rr  ... chase_tmo  \\\n                             mean median count          mean  ...     count   \ndirection asset                                               ...             \nDOWN      BTCUSDT            0.33    0.0   156          0.26  ...       9.0   \n          ETHUSDT            0.30    0.0   141          0.20  ...      14.0   \n          SOLUSDT            0.28    0.0   145          0.18  ...       4.0   \nUP        BTCUSDT            0.32    0.0    84          0.22  ...       NaN   \n          ETHUSDT            0.33    0.0    84          0.25  ...       NaN   \n          SOLUSDT            0.35    0.0    92          0.25  ...       NaN   \n\n                  chase_two              chase_tdo              chase_t90mo  \\\n                       mean median count      mean median count        mean   \ndirection asset                                                               \nDOWN      BTCUSDT      0.56    1.0  18.0      0.44    0.0  62.0        0.24   \n          ETHUSDT      0.46    0.0  24.0      0.32    0.0  62.0        0.27   \n          SOLUSDT      0.33    0.0  21.0      0.39    0.0  69.0        0.30   \nUP        BTCUSDT       NaN    NaN   NaN       NaN    NaN   NaN         NaN   \n          ETHUSDT       NaN    NaN   NaN       NaN    NaN   NaN         NaN   \n          SOLUSDT       NaN    NaN   NaN       NaN    NaN   NaN         NaN   \n\n                                \n                  median count  \ndirection asset                 \nDOWN      BTCUSDT    0.0  82.0  \n          ETHUSDT    0.0  86.0  \n          SOLUSDT    0.0  93.0  \nUP        BTCUSDT    NaN   NaN  \n          ETHUSDT    NaN   NaN  \n          SOLUSDT    NaN   NaN  \n\n[6 rows x 39 columns]",
      "text/html": "<div>\n<style scoped>\n    .dataframe tbody tr th:only-of-type {\n        vertical-align: middle;\n    }\n\n    .dataframe tbody tr th {\n        vertical-align: top;\n    }\n\n    .dataframe thead tr th {\n        text-align: left;\n    }\n\n    .dataframe thead tr:last-of-type th {\n        text-align: right;\n    }\n</style>\n<table border=\"1\" class=\"dataframe\">\n  <thead>\n    <tr>\n      <th></th>\n      <th></th>\n      <th colspan=\"3\" halign=\"left\">market all</th>\n      <th colspan=\"3\" halign=\"left\">limit all</th>\n      <th colspan=\"3\" halign=\"left\">chase_median_rr</th>\n      <th>chase_mean_rr</th>\n      <th>...</th>\n      <th>chase_tmo</th>\n      <th colspan=\"3\" halign=\"left\">chase_two</th>\n      <th colspan=\"3\" halign=\"left\">chase_tdo</th>\n      <th colspan=\"3\" halign=\"left\">chase_t90mo</th>\n    </tr>\n    <tr>\n      <th></th>\n      <th></th>\n      <th>mean</th>\n      <th>median</th>\n      <th>count</th>\n      <th>mean</th>\n      <th>median</th>\n      <th>count</th>\n      <th>mean</th>\n      <th>median</th>\n      <th>count</th>\n      <th>mean</th>\n      <th>...</th>\n      <th>count</th>\n      <th>mean</th>\n      <th>median</th>\n      <th>count</th>\n      <th>mean</th>\n      <th>median</th>\n      <th>count</th>\n      <th>mean</th>\n      <th>median</th>\n      <th>count</th>\n    </tr>\n    <tr>\n      <th>direction</th>\n      <th>asset</th>\n      <th></th>\n      <th></th>\n      <th></th>\n      <th></th>\n      <th></th>\n      <th></th>\n      <th></th>\n      <th></th>\n      <th></th>\n      <th></th>\n      <th></th>\n      <th></th>\n      <th></th>\n      <th></th>\n      <th></th>\n      <th></th>\n      <th></th>\n      <th></th>\n      <th></th>\n      <th></th>\n      <th></th>\n    </tr>\n  </thead>\n  <tbody>\n    <tr>\n      <th rowspan=\"3\" valign=\"top\">DOWN</th>\n      <th>BTCUSDT</th>\n      <td>0.35</td>\n      <td>0.0</td>\n      <td>203</td>\n      <td>0.32</td>\n      <td>0.0</td>\n      <td>482</td>\n      <td>0.33</td>\n      <td>0.0</td>\n      <td>156</td>\n      <td>0.26</td>\n      <td>...</td>\n      <td>9.0</td>\n      <td>0.56</td>\n      <td>1.0</td>\n      <td>18.0</td>\n      <td>0.44</td>\n      <td>0.0</td>\n      <td>62.0</td>\n      <td>0.24</td>\n      <td>0.0</td>\n      <td>82.0</td>\n    </tr>\n    <tr>\n      <th>ETHUSDT</th>\n      <td>0.33</td>\n      <td>0.0</td>\n      <td>204</td>\n      <td>0.29</td>\n      <td>0.0</td>\n      <td>478</td>\n      <td>0.30</td>\n      <td>0.0</td>\n      <td>141</td>\n      <td>0.20</td>\n      <td>...</td>\n      <td>14.0</td>\n      <td>0.46</td>\n      <td>0.0</td>\n      <td>24.0</td>\n      <td>0.32</td>\n      <td>0.0</td>\n      <td>62.0</td>\n      <td>0.27</td>\n      <td>0.0</td>\n      <td>86.0</td>\n    </tr>\n    <tr>\n      <th>SOLUSDT</th>\n      <td>0.34</td>\n      <td>0.0</td>\n      <td>201</td>\n      <td>0.29</td>\n      <td>0.0</td>\n      <td>480</td>\n      <td>0.28</td>\n      <td>0.0</td>\n      <td>145</td>\n      <td>0.18</td>\n      <td>...</td>\n      <td>4.0</td>\n      <td>0.33</td>\n      <td>0.0</td>\n      <td>21.0</td>\n      <td>0.39</td>\n      <td>0.0</td>\n      <td>69.0</td>\n      <td>0.30</td>\n      <td>0.0</td>\n      <td>93.0</td>\n    </tr>\n    <tr>\n      <th rowspan=\"3\" valign=\"top\">UP</th>\n      <th>BTCUSDT</th>\n      <td>0.39</td>\n      <td>0.0</td>\n      <td>127</td>\n      <td>0.28</td>\n      <td>0.0</td>\n      <td>167</td>\n      <td>0.32</td>\n      <td>0.0</td>\n      <td>84</td>\n      <td>0.22</td>\n      <td>...</td>\n      <td>NaN</td>\n      <td>NaN</td>\n      <td>NaN</td>\n      <td>NaN</td>\n      <td>NaN</td>\n      <td>NaN</td>\n      <td>NaN</td>\n      <td>NaN</td>\n      <td>NaN</td>\n      <td>NaN</td>\n    </tr>\n    <tr>\n      <th>ETHUSDT</th>\n      <td>0.44</td>\n      <td>0.0</td>\n      <td>127</td>\n      <td>0.30</td>\n      <td>0.0</td>\n      <td>171</td>\n      <td>0.33</td>\n      <td>0.0</td>\n      <td>84</td>\n      <td>0.25</td>\n      <td>...</td>\n      <td>NaN</td>\n      <td>NaN</td>\n      <td>NaN</td>\n      <td>NaN</td>\n      <td>NaN</td>\n      <td>NaN</td>\n      <td>NaN</td>\n      <td>NaN</td>\n      <td>NaN</td>\n      <td>NaN</td>\n    </tr>\n    <tr>\n      <th>SOLUSDT</th>\n      <td>0.42</td>\n      <td>0.0</td>\n      <td>128</td>\n      <td>0.31</td>\n      <td>0.0</td>\n      <td>179</td>\n      <td>0.35</td>\n      <td>0.0</td>\n      <td>92</td>\n      <td>0.25</td>\n      <td>...</td>\n      <td>NaN</td>\n      <td>NaN</td>\n      <td>NaN</td>\n      <td>NaN</td>\n      <td>NaN</td>\n      <td>NaN</td>\n      <td>NaN</td>\n      <td>NaN</td>\n      <td>NaN</td>\n      <td>NaN</td>\n    </tr>\n  </tbody>\n</table>\n<p>6 rows × 39 columns</p>\n</div>"
     },
     "execution_count": 12,
     "metadata": {},
     "output_type": "execute_result"
    }
   ],
   "source": [
    "df_wr"
   ],
   "metadata": {
    "collapsed": false,
    "ExecuteTime": {
     "end_time": "2025-09-01T21:52:00.791996Z",
     "start_time": "2025-09-01T21:52:00.738702Z"
    }
   },
   "id": "f429df2c3f6d9426",
   "execution_count": 12
  },
  {
   "cell_type": "code",
   "execution_count": 3,
   "id": "635b22294b2d4d73",
   "metadata": {
    "collapsed": false,
    "ExecuteTime": {
     "end_time": "2025-09-01T21:56:53.261019Z",
     "start_time": "2025-09-01T21:56:52.946121Z"
    }
   },
   "outputs": [
    {
     "data": {
      "text/plain": "                  market all              limit all                \\\n                        mean median count      mean  median count   \ndirection psp_key                                                   \nDOWN      1h          -29.06 -62.08    21    -48.78  -80.07    58   \n          2h          -25.30 -66.94    23    -41.52  -62.59    49   \n          4h          -37.79 -52.16    14    -45.52 -100.00    41   \nUP        1h          -12.15 -49.83    24      3.47  -57.23    49   \n          2h          -58.25 -89.66    12    -61.00 -100.00    30   \n          4h           88.39  72.32     6    236.97  216.79     8   \n\n                  chase_median_rr               chase_mean_rr  ... chase_tmo  \\\n                             mean  median count          mean  ...     count   \ndirection psp_key                                              ...             \nDOWN      1h               -36.15  -70.25    18        -53.00  ...       3.0   \n          2h               -44.18  -64.32    13        -78.86  ...       3.0   \n          4h               -34.48  -64.19    11        -36.57  ...       3.0   \nUP        1h               -12.71  -67.99    15         40.96  ...       NaN   \n          2h               -59.23 -100.00    11        -70.18  ...       NaN   \n          4h               157.41  150.43     5        475.73  ...       NaN   \n\n                  chase_two               chase_tdo               chase_t90mo  \\\n                       mean  median count      mean  median count        mean   \ndirection psp_key                                                               \nDOWN      1h         -87.29  -82.79   3.0    -92.34 -100.00   6.0      -26.52   \n          2h         -31.22  -31.22   2.0      4.94  -61.15   8.0      -33.58   \n          4h          37.59   37.59   1.0    -48.82 -100.00   6.0         NaN   \nUP        1h         -78.21  -78.21   2.0    -22.57  -40.60   8.0      -46.94   \n          2h            NaN     NaN   NaN   -100.00 -100.00   1.0      -45.16   \n          4h         157.27  157.27   1.0       NaN     NaN   NaN         NaN   \n\n                                \n                  median count  \ndirection psp_key               \nDOWN      1h      -65.31  11.0  \n          2h      -60.43  13.0  \n          4h         NaN   NaN  \nUP        1h      -67.13   5.0  \n          2h      -80.46   3.0  \n          4h         NaN   NaN  \n\n[6 rows x 30 columns]",
      "text/html": "<div>\n<style scoped>\n    .dataframe tbody tr th:only-of-type {\n        vertical-align: middle;\n    }\n\n    .dataframe tbody tr th {\n        vertical-align: top;\n    }\n\n    .dataframe thead tr th {\n        text-align: left;\n    }\n\n    .dataframe thead tr:last-of-type th {\n        text-align: right;\n    }\n</style>\n<table border=\"1\" class=\"dataframe\">\n  <thead>\n    <tr>\n      <th></th>\n      <th></th>\n      <th colspan=\"3\" halign=\"left\">market all</th>\n      <th colspan=\"3\" halign=\"left\">limit all</th>\n      <th colspan=\"3\" halign=\"left\">chase_median_rr</th>\n      <th>chase_mean_rr</th>\n      <th>...</th>\n      <th>chase_tmo</th>\n      <th colspan=\"3\" halign=\"left\">chase_two</th>\n      <th colspan=\"3\" halign=\"left\">chase_tdo</th>\n      <th colspan=\"3\" halign=\"left\">chase_t90mo</th>\n    </tr>\n    <tr>\n      <th></th>\n      <th></th>\n      <th>mean</th>\n      <th>median</th>\n      <th>count</th>\n      <th>mean</th>\n      <th>median</th>\n      <th>count</th>\n      <th>mean</th>\n      <th>median</th>\n      <th>count</th>\n      <th>mean</th>\n      <th>...</th>\n      <th>count</th>\n      <th>mean</th>\n      <th>median</th>\n      <th>count</th>\n      <th>mean</th>\n      <th>median</th>\n      <th>count</th>\n      <th>mean</th>\n      <th>median</th>\n      <th>count</th>\n    </tr>\n    <tr>\n      <th>direction</th>\n      <th>psp_key</th>\n      <th></th>\n      <th></th>\n      <th></th>\n      <th></th>\n      <th></th>\n      <th></th>\n      <th></th>\n      <th></th>\n      <th></th>\n      <th></th>\n      <th></th>\n      <th></th>\n      <th></th>\n      <th></th>\n      <th></th>\n      <th></th>\n      <th></th>\n      <th></th>\n      <th></th>\n      <th></th>\n      <th></th>\n    </tr>\n  </thead>\n  <tbody>\n    <tr>\n      <th rowspan=\"3\" valign=\"top\">DOWN</th>\n      <th>1h</th>\n      <td>-29.06</td>\n      <td>-62.08</td>\n      <td>21</td>\n      <td>-48.78</td>\n      <td>-80.07</td>\n      <td>58</td>\n      <td>-36.15</td>\n      <td>-70.25</td>\n      <td>18</td>\n      <td>-53.00</td>\n      <td>...</td>\n      <td>3.0</td>\n      <td>-87.29</td>\n      <td>-82.79</td>\n      <td>3.0</td>\n      <td>-92.34</td>\n      <td>-100.00</td>\n      <td>6.0</td>\n      <td>-26.52</td>\n      <td>-65.31</td>\n      <td>11.0</td>\n    </tr>\n    <tr>\n      <th>2h</th>\n      <td>-25.30</td>\n      <td>-66.94</td>\n      <td>23</td>\n      <td>-41.52</td>\n      <td>-62.59</td>\n      <td>49</td>\n      <td>-44.18</td>\n      <td>-64.32</td>\n      <td>13</td>\n      <td>-78.86</td>\n      <td>...</td>\n      <td>3.0</td>\n      <td>-31.22</td>\n      <td>-31.22</td>\n      <td>2.0</td>\n      <td>4.94</td>\n      <td>-61.15</td>\n      <td>8.0</td>\n      <td>-33.58</td>\n      <td>-60.43</td>\n      <td>13.0</td>\n    </tr>\n    <tr>\n      <th>4h</th>\n      <td>-37.79</td>\n      <td>-52.16</td>\n      <td>14</td>\n      <td>-45.52</td>\n      <td>-100.00</td>\n      <td>41</td>\n      <td>-34.48</td>\n      <td>-64.19</td>\n      <td>11</td>\n      <td>-36.57</td>\n      <td>...</td>\n      <td>3.0</td>\n      <td>37.59</td>\n      <td>37.59</td>\n      <td>1.0</td>\n      <td>-48.82</td>\n      <td>-100.00</td>\n      <td>6.0</td>\n      <td>NaN</td>\n      <td>NaN</td>\n      <td>NaN</td>\n    </tr>\n    <tr>\n      <th rowspan=\"3\" valign=\"top\">UP</th>\n      <th>1h</th>\n      <td>-12.15</td>\n      <td>-49.83</td>\n      <td>24</td>\n      <td>3.47</td>\n      <td>-57.23</td>\n      <td>49</td>\n      <td>-12.71</td>\n      <td>-67.99</td>\n      <td>15</td>\n      <td>40.96</td>\n      <td>...</td>\n      <td>NaN</td>\n      <td>-78.21</td>\n      <td>-78.21</td>\n      <td>2.0</td>\n      <td>-22.57</td>\n      <td>-40.60</td>\n      <td>8.0</td>\n      <td>-46.94</td>\n      <td>-67.13</td>\n      <td>5.0</td>\n    </tr>\n    <tr>\n      <th>2h</th>\n      <td>-58.25</td>\n      <td>-89.66</td>\n      <td>12</td>\n      <td>-61.00</td>\n      <td>-100.00</td>\n      <td>30</td>\n      <td>-59.23</td>\n      <td>-100.00</td>\n      <td>11</td>\n      <td>-70.18</td>\n      <td>...</td>\n      <td>NaN</td>\n      <td>NaN</td>\n      <td>NaN</td>\n      <td>NaN</td>\n      <td>-100.00</td>\n      <td>-100.00</td>\n      <td>1.0</td>\n      <td>-45.16</td>\n      <td>-80.46</td>\n      <td>3.0</td>\n    </tr>\n    <tr>\n      <th>4h</th>\n      <td>88.39</td>\n      <td>72.32</td>\n      <td>6</td>\n      <td>236.97</td>\n      <td>216.79</td>\n      <td>8</td>\n      <td>157.41</td>\n      <td>150.43</td>\n      <td>5</td>\n      <td>475.73</td>\n      <td>...</td>\n      <td>NaN</td>\n      <td>157.27</td>\n      <td>157.27</td>\n      <td>1.0</td>\n      <td>NaN</td>\n      <td>NaN</td>\n      <td>NaN</td>\n      <td>NaN</td>\n      <td>NaN</td>\n      <td>NaN</td>\n    </tr>\n  </tbody>\n</table>\n<p>6 rows × 30 columns</p>\n</div>"
     },
     "execution_count": 3,
     "metadata": {},
     "output_type": "execute_result"
    }
   ],
   "source": [
    "# group([\"direction\"])\n",
    "# group([\"asset\"])\n",
    "# group([\"smt_type\"])\n",
    "# group([\"smt_label\"])\n",
    "# group([\"smt_flags\"])\n",
    "\n",
    "# display([round(float(x), 4) for x in np.percentile(trades_df_2024['entry_rr'], [10, 30, 70, 90])])\n",
    "# display([round(float(x), 4) for x in np.percentile(trades_df_2025['entry_rr'], [10, 30, 70, 90])])\n",
    "\n",
    "# group([\"entry_rr_perc\"])\n",
    "df_pnl, df_wr = group([\"direction\", \"psp_key\"])\n",
    "df_pnl"
   ]
  },
  {
   "cell_type": "code",
   "outputs": [
    {
     "data": {
      "text/plain": "                  market all              limit all               \\\n                        mean median count      mean median count   \ndirection psp_key                                                  \nDOWN      1h            0.24    0.0    21      0.12    0.0    58   \n          2h            0.26    0.0    23      0.16    0.0    49   \n          4h            0.43    0.0    14      0.27    0.0    41   \nUP        1h            0.38    0.0    24      0.27    0.0    49   \n          2h            0.17    0.0    12      0.17    0.0    30   \n          4h            0.83    1.0     6      0.88    1.0     8   \n\n                  chase_median_rr              chase_mean_rr  ... chase_tmo  \\\n                             mean median count          mean  ...     count   \ndirection psp_key                                             ...             \nDOWN      1h                 0.17    0.0    18          0.17  ...       3.0   \n          2h                 0.15    0.0    13          0.00  ...       3.0   \n          4h                 0.36    0.0    11          0.25  ...       3.0   \nUP        1h                 0.20    0.0    15          0.23  ...       NaN   \n          2h                 0.18    0.0    11          0.11  ...       NaN   \n          4h                 0.80    1.0     5          1.00  ...       NaN   \n\n                  chase_two              chase_tdo              chase_t90mo  \\\n                       mean median count      mean median count        mean   \ndirection psp_key                                                             \nDOWN      1h            0.0    0.0   3.0      0.00    0.0   6.0        0.09   \n          2h            0.5    0.5   2.0      0.38    0.0   8.0        0.15   \n          4h            1.0    1.0   1.0      0.17    0.0   6.0         NaN   \nUP        1h            0.0    0.0   2.0      0.38    0.0   8.0        0.20   \n          2h            NaN    NaN   NaN      0.00    0.0   1.0        0.33   \n          4h            1.0    1.0   1.0       NaN    NaN   NaN         NaN   \n\n                                \n                  median count  \ndirection psp_key               \nDOWN      1h         0.0  11.0  \n          2h         0.0  13.0  \n          4h         NaN   NaN  \nUP        1h         0.0   5.0  \n          2h         0.0   3.0  \n          4h         NaN   NaN  \n\n[6 rows x 30 columns]",
      "text/html": "<div>\n<style scoped>\n    .dataframe tbody tr th:only-of-type {\n        vertical-align: middle;\n    }\n\n    .dataframe tbody tr th {\n        vertical-align: top;\n    }\n\n    .dataframe thead tr th {\n        text-align: left;\n    }\n\n    .dataframe thead tr:last-of-type th {\n        text-align: right;\n    }\n</style>\n<table border=\"1\" class=\"dataframe\">\n  <thead>\n    <tr>\n      <th></th>\n      <th></th>\n      <th colspan=\"3\" halign=\"left\">market all</th>\n      <th colspan=\"3\" halign=\"left\">limit all</th>\n      <th colspan=\"3\" halign=\"left\">chase_median_rr</th>\n      <th>chase_mean_rr</th>\n      <th>...</th>\n      <th>chase_tmo</th>\n      <th colspan=\"3\" halign=\"left\">chase_two</th>\n      <th colspan=\"3\" halign=\"left\">chase_tdo</th>\n      <th colspan=\"3\" halign=\"left\">chase_t90mo</th>\n    </tr>\n    <tr>\n      <th></th>\n      <th></th>\n      <th>mean</th>\n      <th>median</th>\n      <th>count</th>\n      <th>mean</th>\n      <th>median</th>\n      <th>count</th>\n      <th>mean</th>\n      <th>median</th>\n      <th>count</th>\n      <th>mean</th>\n      <th>...</th>\n      <th>count</th>\n      <th>mean</th>\n      <th>median</th>\n      <th>count</th>\n      <th>mean</th>\n      <th>median</th>\n      <th>count</th>\n      <th>mean</th>\n      <th>median</th>\n      <th>count</th>\n    </tr>\n    <tr>\n      <th>direction</th>\n      <th>psp_key</th>\n      <th></th>\n      <th></th>\n      <th></th>\n      <th></th>\n      <th></th>\n      <th></th>\n      <th></th>\n      <th></th>\n      <th></th>\n      <th></th>\n      <th></th>\n      <th></th>\n      <th></th>\n      <th></th>\n      <th></th>\n      <th></th>\n      <th></th>\n      <th></th>\n      <th></th>\n      <th></th>\n      <th></th>\n    </tr>\n  </thead>\n  <tbody>\n    <tr>\n      <th rowspan=\"3\" valign=\"top\">DOWN</th>\n      <th>1h</th>\n      <td>0.24</td>\n      <td>0.0</td>\n      <td>21</td>\n      <td>0.12</td>\n      <td>0.0</td>\n      <td>58</td>\n      <td>0.17</td>\n      <td>0.0</td>\n      <td>18</td>\n      <td>0.17</td>\n      <td>...</td>\n      <td>3.0</td>\n      <td>0.0</td>\n      <td>0.0</td>\n      <td>3.0</td>\n      <td>0.00</td>\n      <td>0.0</td>\n      <td>6.0</td>\n      <td>0.09</td>\n      <td>0.0</td>\n      <td>11.0</td>\n    </tr>\n    <tr>\n      <th>2h</th>\n      <td>0.26</td>\n      <td>0.0</td>\n      <td>23</td>\n      <td>0.16</td>\n      <td>0.0</td>\n      <td>49</td>\n      <td>0.15</td>\n      <td>0.0</td>\n      <td>13</td>\n      <td>0.00</td>\n      <td>...</td>\n      <td>3.0</td>\n      <td>0.5</td>\n      <td>0.5</td>\n      <td>2.0</td>\n      <td>0.38</td>\n      <td>0.0</td>\n      <td>8.0</td>\n      <td>0.15</td>\n      <td>0.0</td>\n      <td>13.0</td>\n    </tr>\n    <tr>\n      <th>4h</th>\n      <td>0.43</td>\n      <td>0.0</td>\n      <td>14</td>\n      <td>0.27</td>\n      <td>0.0</td>\n      <td>41</td>\n      <td>0.36</td>\n      <td>0.0</td>\n      <td>11</td>\n      <td>0.25</td>\n      <td>...</td>\n      <td>3.0</td>\n      <td>1.0</td>\n      <td>1.0</td>\n      <td>1.0</td>\n      <td>0.17</td>\n      <td>0.0</td>\n      <td>6.0</td>\n      <td>NaN</td>\n      <td>NaN</td>\n      <td>NaN</td>\n    </tr>\n    <tr>\n      <th rowspan=\"3\" valign=\"top\">UP</th>\n      <th>1h</th>\n      <td>0.38</td>\n      <td>0.0</td>\n      <td>24</td>\n      <td>0.27</td>\n      <td>0.0</td>\n      <td>49</td>\n      <td>0.20</td>\n      <td>0.0</td>\n      <td>15</td>\n      <td>0.23</td>\n      <td>...</td>\n      <td>NaN</td>\n      <td>0.0</td>\n      <td>0.0</td>\n      <td>2.0</td>\n      <td>0.38</td>\n      <td>0.0</td>\n      <td>8.0</td>\n      <td>0.20</td>\n      <td>0.0</td>\n      <td>5.0</td>\n    </tr>\n    <tr>\n      <th>2h</th>\n      <td>0.17</td>\n      <td>0.0</td>\n      <td>12</td>\n      <td>0.17</td>\n      <td>0.0</td>\n      <td>30</td>\n      <td>0.18</td>\n      <td>0.0</td>\n      <td>11</td>\n      <td>0.11</td>\n      <td>...</td>\n      <td>NaN</td>\n      <td>NaN</td>\n      <td>NaN</td>\n      <td>NaN</td>\n      <td>0.00</td>\n      <td>0.0</td>\n      <td>1.0</td>\n      <td>0.33</td>\n      <td>0.0</td>\n      <td>3.0</td>\n    </tr>\n    <tr>\n      <th>4h</th>\n      <td>0.83</td>\n      <td>1.0</td>\n      <td>6</td>\n      <td>0.88</td>\n      <td>1.0</td>\n      <td>8</td>\n      <td>0.80</td>\n      <td>1.0</td>\n      <td>5</td>\n      <td>1.00</td>\n      <td>...</td>\n      <td>NaN</td>\n      <td>1.0</td>\n      <td>1.0</td>\n      <td>1.0</td>\n      <td>NaN</td>\n      <td>NaN</td>\n      <td>NaN</td>\n      <td>NaN</td>\n      <td>NaN</td>\n      <td>NaN</td>\n    </tr>\n  </tbody>\n</table>\n<p>6 rows × 30 columns</p>\n</div>"
     },
     "execution_count": 4,
     "metadata": {},
     "output_type": "execute_result"
    }
   ],
   "source": [
    "df_wr"
   ],
   "metadata": {
    "collapsed": false,
    "ExecuteTime": {
     "end_time": "2025-09-01T21:56:57.421221Z",
     "start_time": "2025-09-01T21:56:57.318940Z"
    }
   },
   "id": "573b442e7dce8524",
   "execution_count": 4
  },
  {
   "cell_type": "code",
   "execution_count": null,
   "id": "b5617f2e69a35666",
   "metadata": {
    "collapsed": false
   },
   "outputs": [],
   "source": [
    "group([\"psp_key\", \"direction\", \"entry_yq\"])\n",
    "group([\"psp_key\", \"direction\", \"entry_mw\"])\n",
    "group([\"psp_key\", \"direction\", \"entry_wd\"])\n",
    "group([\"psp_key\", \"direction\", \"entry_wd\"])\n",
    "group([\"psp_key\", \"direction\", \"entry_dq\"])\n",
    "group([\"psp_key\", \"direction\", \"entry_q90m\"])\n",
    "group([\"entry_yq\"])\n",
    "group([\"entry_mw\"])\n",
    "group([\"entry_wd\"])\n",
    "group([\"entry_dq\"])\n",
    "group([\"entry_q90m\"])"
   ]
  },
  {
   "cell_type": "code",
   "execution_count": null,
   "id": "ff8c325b4d14bf3e",
   "metadata": {
    "collapsed": false
   },
   "outputs": [],
   "source": []
  },
  {
   "cell_type": "code",
   "execution_count": null,
   "id": "7c6fc9a68cdfa4b1",
   "metadata": {
    "collapsed": false
   },
   "outputs": [],
   "source": [
    "# (trades_df_2024.groupby([\"smt_label\", \"psp_key\", \"direction\"])[\"pnl_usd\"]\n",
    "#  .agg([\"mean\", \"median\", \"count\"])\n",
    "#  .reset_index())\n",
    "# (trades_df_2025.groupby([\"smt_label\", \"psp_key\", \"direction\"])[\"pnl_usd\"]\n",
    "#  .agg([\"mean\", \"median\", \"count\"])\n",
    "#  .reset_index())"
   ]
  },
  {
   "cell_type": "code",
   "execution_count": null,
   "id": "c26f779155e01a1d",
   "metadata": {
    "collapsed": false
   },
   "outputs": [],
   "source": [
    "# display([round(float(x), 4) for x in np.percentile(trades_df_2024['entry_rr'], [10, 30, 70, 90])])\n",
    "# display([round(float(x), 4) for x in np.percentile(trades_df_2025['entry_rr'], [10, 30, 70, 90])])\n",
    "# \n",
    "# display(trades_df_2024.groupby(\"entry_rr_perc\")[\"pnl_usd\"].agg([\"mean\", \"median\", \"count\"]))\n",
    "# display(trades_df_2025.groupby(\"entry_rr_perc\")[\"pnl_usd\"].agg([\"mean\", \"median\", \"count\"]))\n",
    "# \n",
    "# display(trades_df_2024.query(\"14 < entry_rr < 17\")[\"pnl_usd\"].agg([\"mean\", \"median\", \"count\"]))\n",
    "# display(trades_df_2025.query(\"14 < entry_rr < 17\")[\"pnl_usd\"].agg([\"mean\", \"median\", \"count\"]))\n",
    "# display(trades_df_2024.query(\"14 < entry_rr < 17\")[\"won\"].agg([\"mean\", \"median\", \"count\"]))\n",
    "# display(trades_df_2025.query(\"14 < entry_rr < 17\")[\"won\"].agg([\"mean\", \"median\", \"count\"]))"
   ]
  },
  {
   "cell_type": "code",
   "outputs": [],
   "source": [
    "# df_rr_change_2024 = trades_df_2024.query(\"won\")[[\"entry_rr\", \"entry_rr_perc\", \"best_entry_rr\"]]\n",
    "# df_rr_change_2024[\"multiplier\"] = df_rr_change_2024[\"best_entry_rr\"] / df_rr_change_2024[\"entry_rr\"]\n",
    "# display([round(float(x), 4) for x in np.percentile(df_rr_change_2024['entry_rr'], [10, 30, 70, 90])])\n",
    "# display(df_rr_change_2024.groupby(\"entry_rr_perc\")[\"multiplier\"].agg([\"mean\", \"median\", \"count\"]))\n",
    "# \n",
    "# df_rr_change_2025 = trades_df_2025.query(\"won\")[[\"entry_rr\", \"entry_rr_perc\", \"best_entry_rr\"]]\n",
    "# df_rr_change_2025[\"multiplier\"] = df_rr_change_2025[\"best_entry_rr\"] / df_rr_change_2025[\"entry_rr\"]\n",
    "# display([round(float(x), 4) for x in np.percentile(df_rr_change_2025['entry_rr'], [10, 30, 70, 90])])\n",
    "# display(df_rr_change_2025.groupby(\"entry_rr_perc\")[\"multiplier\"].agg([\"mean\", \"median\", \"count\"]))"
   ],
   "metadata": {
    "collapsed": false
   },
   "id": "7947ce3bea8d6633",
   "execution_count": null
  }
 ],
 "metadata": {
  "kernelspec": {
   "display_name": "Python 3 (ipykernel)",
   "language": "python",
   "name": "python3"
  },
  "language_info": {
   "codemirror_mode": {
    "name": "ipython",
    "version": 3
   },
   "file_extension": ".py",
   "mimetype": "text/x-python",
   "name": "python",
   "nbconvert_exporter": "python",
   "pygments_lexer": "ipython3",
   "version": "3.11.11"
  }
 },
 "nbformat": 4,
 "nbformat_minor": 5
}
