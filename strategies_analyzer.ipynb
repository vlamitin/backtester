{
 "cells": [
  {
   "cell_type": "code",
   "execution_count": 1,
   "id": "initial_id",
   "metadata": {
    "ExecuteTime": {
     "end_time": "2025-09-13T23:13:42.767708Z",
     "start_time": "2025-09-13T23:12:51.848760Z"
    }
   },
   "outputs": [
    {
     "name": "stdout",
     "output_type": "stream",
     "text": [
      "2023 bes strategy_27: 3932 trades with cum pnl 8478.04 (mf -49088.99 per trade -25.16); if full final close pnl -3747.74 (mf -61306.91 per trade -15.59); if full pre-close pnl 14264.8 (mf -43308.07 per trade -11.01)\n",
      "2024 bes strategy_27: 4392 trades with cum pnl 37315.58 (mf -20529.15 per trade -10.72); if full final close pnl 44235.14 (mf -13607.23 per trade -3.1); if full pre-close pnl 29375.61 (mf -28470.1 per trade -6.48)\n",
      "2025 bes strategy_27: 2559 trades with cum pnl -441.99 (mf -38658.68 per trade -33.23); if full final close pnl 16591.44 (mf -21622.87 per trade -8.45); if full pre-close pnl -12847.62 (mf -51068.49 per trade -19.96)\n",
      "---\n",
      "2023 bes Trade stat:\n"
     ]
    },
    {
     "data": {
      "text/plain": "                  name  trades      pnl    mf pnl  mf pnl/trade  tpsl close  \\\n0           market all    1258  2585.31 -16161.66        -12.85    -5088.11   \n1            limit all    2674  5892.73 -32927.33        -12.31   -17916.88   \n2      chase_median_rr     796   158.37 -11556.08        -14.52    -8192.00   \n3        chase_mean_rr     495  4708.84  -7180.18        -14.51    -3879.04   \n4     chase_absent_tyo       0     0.00      0.00          0.00        0.00   \n5     chase_absent_tmo       6  1401.77   1367.34        227.89     1401.77   \n6     chase_absent_two      21  1005.23    895.12         42.62     1005.23   \n7     chase_absent_tdo     182    -0.11  -1725.08         -9.48     -866.31   \n8   chase_absent_t90mo     233 -4091.36  -6143.05        -26.37    -4747.57   \n9            chase_tyo      18   189.10    -24.12         -1.34      148.06   \n10           chase_tmo      36  -841.00  -1086.23        -30.17     -687.75   \n11           chase_two     112  4432.39   3371.69         30.10     3283.63   \n12           chase_tdo     369 -1342.20  -5950.13        -16.13    -3166.95   \n13         chase_t90mo     406   271.70  -4896.63        -12.06    -2215.96   \n\n    full tpsl  mf full tpsl       pre  if full pre  mf full pre  win rate  \n0      238.31     -18506.59   7673.42      3122.91    -15625.75     0.365  \n1    -3986.05     -42800.32  23809.61     11141.89    -27682.32     0.312  \n2    -4812.72     -16525.33   8350.36      2861.06     -8854.72     0.279  \n3     2386.75      -9500.34   8587.88      6146.97     -5743.14     0.234  \n4        0.00          0.00      0.00         0.00         0.00     0.000  \n5     1401.77       1367.34      0.00      1401.77      1367.34     1.000  \n6     1005.23        895.12      0.00      1005.23       895.12     0.429  \n7     -527.64      -2252.37    866.19      -116.91     -1842.37     0.407  \n8    -6553.37      -8605.03    656.21     -2272.50     -4324.07     0.326  \n9      461.82        248.53     41.04         9.21      -203.98     0.389  \n10   -1304.41      -1549.72   -153.25      -377.59      -622.74     0.250  \n11    4460.06       3399.87   1148.76      4425.73      3364.55     0.536  \n12       0.13      -4606.65   1824.76     -2562.61     -7171.48     0.322  \n13    -503.67      -5671.72   2487.66       621.52     -4546.83     0.337  ",
      "text/html": "<div>\n<style scoped>\n    .dataframe tbody tr th:only-of-type {\n        vertical-align: middle;\n    }\n\n    .dataframe tbody tr th {\n        vertical-align: top;\n    }\n\n    .dataframe thead th {\n        text-align: right;\n    }\n</style>\n<table border=\"1\" class=\"dataframe\">\n  <thead>\n    <tr style=\"text-align: right;\">\n      <th></th>\n      <th>name</th>\n      <th>trades</th>\n      <th>pnl</th>\n      <th>mf pnl</th>\n      <th>mf pnl/trade</th>\n      <th>tpsl close</th>\n      <th>full tpsl</th>\n      <th>mf full tpsl</th>\n      <th>pre</th>\n      <th>if full pre</th>\n      <th>mf full pre</th>\n      <th>win rate</th>\n    </tr>\n  </thead>\n  <tbody>\n    <tr>\n      <th>0</th>\n      <td>market all</td>\n      <td>1258</td>\n      <td>2585.31</td>\n      <td>-16161.66</td>\n      <td>-12.85</td>\n      <td>-5088.11</td>\n      <td>238.31</td>\n      <td>-18506.59</td>\n      <td>7673.42</td>\n      <td>3122.91</td>\n      <td>-15625.75</td>\n      <td>0.365</td>\n    </tr>\n    <tr>\n      <th>1</th>\n      <td>limit all</td>\n      <td>2674</td>\n      <td>5892.73</td>\n      <td>-32927.33</td>\n      <td>-12.31</td>\n      <td>-17916.88</td>\n      <td>-3986.05</td>\n      <td>-42800.32</td>\n      <td>23809.61</td>\n      <td>11141.89</td>\n      <td>-27682.32</td>\n      <td>0.312</td>\n    </tr>\n    <tr>\n      <th>2</th>\n      <td>chase_median_rr</td>\n      <td>796</td>\n      <td>158.37</td>\n      <td>-11556.08</td>\n      <td>-14.52</td>\n      <td>-8192.00</td>\n      <td>-4812.72</td>\n      <td>-16525.33</td>\n      <td>8350.36</td>\n      <td>2861.06</td>\n      <td>-8854.72</td>\n      <td>0.279</td>\n    </tr>\n    <tr>\n      <th>3</th>\n      <td>chase_mean_rr</td>\n      <td>495</td>\n      <td>4708.84</td>\n      <td>-7180.18</td>\n      <td>-14.51</td>\n      <td>-3879.04</td>\n      <td>2386.75</td>\n      <td>-9500.34</td>\n      <td>8587.88</td>\n      <td>6146.97</td>\n      <td>-5743.14</td>\n      <td>0.234</td>\n    </tr>\n    <tr>\n      <th>4</th>\n      <td>chase_absent_tyo</td>\n      <td>0</td>\n      <td>0.00</td>\n      <td>0.00</td>\n      <td>0.00</td>\n      <td>0.00</td>\n      <td>0.00</td>\n      <td>0.00</td>\n      <td>0.00</td>\n      <td>0.00</td>\n      <td>0.00</td>\n      <td>0.000</td>\n    </tr>\n    <tr>\n      <th>5</th>\n      <td>chase_absent_tmo</td>\n      <td>6</td>\n      <td>1401.77</td>\n      <td>1367.34</td>\n      <td>227.89</td>\n      <td>1401.77</td>\n      <td>1401.77</td>\n      <td>1367.34</td>\n      <td>0.00</td>\n      <td>1401.77</td>\n      <td>1367.34</td>\n      <td>1.000</td>\n    </tr>\n    <tr>\n      <th>6</th>\n      <td>chase_absent_two</td>\n      <td>21</td>\n      <td>1005.23</td>\n      <td>895.12</td>\n      <td>42.62</td>\n      <td>1005.23</td>\n      <td>1005.23</td>\n      <td>895.12</td>\n      <td>0.00</td>\n      <td>1005.23</td>\n      <td>895.12</td>\n      <td>0.429</td>\n    </tr>\n    <tr>\n      <th>7</th>\n      <td>chase_absent_tdo</td>\n      <td>182</td>\n      <td>-0.11</td>\n      <td>-1725.08</td>\n      <td>-9.48</td>\n      <td>-866.31</td>\n      <td>-527.64</td>\n      <td>-2252.37</td>\n      <td>866.19</td>\n      <td>-116.91</td>\n      <td>-1842.37</td>\n      <td>0.407</td>\n    </tr>\n    <tr>\n      <th>8</th>\n      <td>chase_absent_t90mo</td>\n      <td>233</td>\n      <td>-4091.36</td>\n      <td>-6143.05</td>\n      <td>-26.37</td>\n      <td>-4747.57</td>\n      <td>-6553.37</td>\n      <td>-8605.03</td>\n      <td>656.21</td>\n      <td>-2272.50</td>\n      <td>-4324.07</td>\n      <td>0.326</td>\n    </tr>\n    <tr>\n      <th>9</th>\n      <td>chase_tyo</td>\n      <td>18</td>\n      <td>189.10</td>\n      <td>-24.12</td>\n      <td>-1.34</td>\n      <td>148.06</td>\n      <td>461.82</td>\n      <td>248.53</td>\n      <td>41.04</td>\n      <td>9.21</td>\n      <td>-203.98</td>\n      <td>0.389</td>\n    </tr>\n    <tr>\n      <th>10</th>\n      <td>chase_tmo</td>\n      <td>36</td>\n      <td>-841.00</td>\n      <td>-1086.23</td>\n      <td>-30.17</td>\n      <td>-687.75</td>\n      <td>-1304.41</td>\n      <td>-1549.72</td>\n      <td>-153.25</td>\n      <td>-377.59</td>\n      <td>-622.74</td>\n      <td>0.250</td>\n    </tr>\n    <tr>\n      <th>11</th>\n      <td>chase_two</td>\n      <td>112</td>\n      <td>4432.39</td>\n      <td>3371.69</td>\n      <td>30.10</td>\n      <td>3283.63</td>\n      <td>4460.06</td>\n      <td>3399.87</td>\n      <td>1148.76</td>\n      <td>4425.73</td>\n      <td>3364.55</td>\n      <td>0.536</td>\n    </tr>\n    <tr>\n      <th>12</th>\n      <td>chase_tdo</td>\n      <td>369</td>\n      <td>-1342.20</td>\n      <td>-5950.13</td>\n      <td>-16.13</td>\n      <td>-3166.95</td>\n      <td>0.13</td>\n      <td>-4606.65</td>\n      <td>1824.76</td>\n      <td>-2562.61</td>\n      <td>-7171.48</td>\n      <td>0.322</td>\n    </tr>\n    <tr>\n      <th>13</th>\n      <td>chase_t90mo</td>\n      <td>406</td>\n      <td>271.70</td>\n      <td>-4896.63</td>\n      <td>-12.06</td>\n      <td>-2215.96</td>\n      <td>-503.67</td>\n      <td>-5671.72</td>\n      <td>2487.66</td>\n      <td>621.52</td>\n      <td>-4546.83</td>\n      <td>0.337</td>\n    </tr>\n  </tbody>\n</table>\n</div>"
     },
     "metadata": {},
     "output_type": "display_data"
    },
    {
     "name": "stdout",
     "output_type": "stream",
     "text": [
      "2024 bes Trade stat:\n"
     ]
    },
    {
     "data": {
      "text/plain": "                  name  trades       pnl    mf pnl  mf pnl/trade  tpsl close  \\\n0           market all    1376   8183.61  -9903.28         -7.20    -2152.17   \n1            limit all    3016  29131.97 -10625.87         -3.52    -7736.28   \n2      chase_median_rr     973   8215.29  -4542.17         -4.67    -4460.16   \n3        chase_mean_rr     627   2909.56 -10491.78        -16.73    -9206.44   \n4     chase_absent_tyo       3   1604.95   1578.20        526.07     1184.92   \n5     chase_absent_tmo       0      0.00      0.00          0.00        0.00   \n6     chase_absent_two       6    851.33    729.82        121.64      851.33   \n7     chase_absent_tdo     169   5013.15   3471.70         20.54     3468.47   \n8   chase_absent_t90mo     265     80.85  -2196.99         -8.29    -2158.03   \n9            chase_tyo       7   1716.85   1673.41        239.06     1396.65   \n10           chase_tmo      29   1853.51   1630.55         56.23      967.80   \n11           chase_two     112   5160.73   4233.04         37.80     3837.79   \n12           chase_tdo     386   2183.71  -1710.11         -4.43      322.21   \n13         chase_t90mo     439   -457.95  -5001.53        -11.39    -3940.83   \n\n    full tpsl  mf full tpsl       pre  if full pre  mf full pre  win rate  \n0     9423.45      -8662.86  10335.78      6586.54    -11500.31     0.347  \n1    34811.69      -4944.37  36868.25     22789.07    -16969.79     0.308  \n2     9872.50      -2884.55  12675.45      6490.22     -6267.24     0.288  \n3     1609.67     -11791.88  12116.00      4239.36     -9161.52     0.209  \n4     2099.31       2072.78    420.03      1110.59      1083.62     1.000  \n5        0.00          0.00      0.00         0.00         0.00     0.000  \n6      851.33        729.82      0.00       851.33       729.82     0.167  \n7     5963.97       4422.05   1544.68      3870.14      2329.11     0.391  \n8     1377.18       -901.13   2238.88      -976.98     -3254.31     0.389  \n9     1893.74       1850.38    320.20      1390.04      1346.45     0.571  \n10    2030.93       1807.99    885.71      1753.23      1530.23     0.517  \n11    7177.70       6250.88   1322.94      3576.87      2648.54     0.509  \n12    3788.92       -103.70   1861.49        88.27     -3806.74     0.347  \n13   -1853.56      -6397.00   3482.88       395.98     -4147.74     0.310  ",
      "text/html": "<div>\n<style scoped>\n    .dataframe tbody tr th:only-of-type {\n        vertical-align: middle;\n    }\n\n    .dataframe tbody tr th {\n        vertical-align: top;\n    }\n\n    .dataframe thead th {\n        text-align: right;\n    }\n</style>\n<table border=\"1\" class=\"dataframe\">\n  <thead>\n    <tr style=\"text-align: right;\">\n      <th></th>\n      <th>name</th>\n      <th>trades</th>\n      <th>pnl</th>\n      <th>mf pnl</th>\n      <th>mf pnl/trade</th>\n      <th>tpsl close</th>\n      <th>full tpsl</th>\n      <th>mf full tpsl</th>\n      <th>pre</th>\n      <th>if full pre</th>\n      <th>mf full pre</th>\n      <th>win rate</th>\n    </tr>\n  </thead>\n  <tbody>\n    <tr>\n      <th>0</th>\n      <td>market all</td>\n      <td>1376</td>\n      <td>8183.61</td>\n      <td>-9903.28</td>\n      <td>-7.20</td>\n      <td>-2152.17</td>\n      <td>9423.45</td>\n      <td>-8662.86</td>\n      <td>10335.78</td>\n      <td>6586.54</td>\n      <td>-11500.31</td>\n      <td>0.347</td>\n    </tr>\n    <tr>\n      <th>1</th>\n      <td>limit all</td>\n      <td>3016</td>\n      <td>29131.97</td>\n      <td>-10625.87</td>\n      <td>-3.52</td>\n      <td>-7736.28</td>\n      <td>34811.69</td>\n      <td>-4944.37</td>\n      <td>36868.25</td>\n      <td>22789.07</td>\n      <td>-16969.79</td>\n      <td>0.308</td>\n    </tr>\n    <tr>\n      <th>2</th>\n      <td>chase_median_rr</td>\n      <td>973</td>\n      <td>8215.29</td>\n      <td>-4542.17</td>\n      <td>-4.67</td>\n      <td>-4460.16</td>\n      <td>9872.50</td>\n      <td>-2884.55</td>\n      <td>12675.45</td>\n      <td>6490.22</td>\n      <td>-6267.24</td>\n      <td>0.288</td>\n    </tr>\n    <tr>\n      <th>3</th>\n      <td>chase_mean_rr</td>\n      <td>627</td>\n      <td>2909.56</td>\n      <td>-10491.78</td>\n      <td>-16.73</td>\n      <td>-9206.44</td>\n      <td>1609.67</td>\n      <td>-11791.88</td>\n      <td>12116.00</td>\n      <td>4239.36</td>\n      <td>-9161.52</td>\n      <td>0.209</td>\n    </tr>\n    <tr>\n      <th>4</th>\n      <td>chase_absent_tyo</td>\n      <td>3</td>\n      <td>1604.95</td>\n      <td>1578.20</td>\n      <td>526.07</td>\n      <td>1184.92</td>\n      <td>2099.31</td>\n      <td>2072.78</td>\n      <td>420.03</td>\n      <td>1110.59</td>\n      <td>1083.62</td>\n      <td>1.000</td>\n    </tr>\n    <tr>\n      <th>5</th>\n      <td>chase_absent_tmo</td>\n      <td>0</td>\n      <td>0.00</td>\n      <td>0.00</td>\n      <td>0.00</td>\n      <td>0.00</td>\n      <td>0.00</td>\n      <td>0.00</td>\n      <td>0.00</td>\n      <td>0.00</td>\n      <td>0.00</td>\n      <td>0.000</td>\n    </tr>\n    <tr>\n      <th>6</th>\n      <td>chase_absent_two</td>\n      <td>6</td>\n      <td>851.33</td>\n      <td>729.82</td>\n      <td>121.64</td>\n      <td>851.33</td>\n      <td>851.33</td>\n      <td>729.82</td>\n      <td>0.00</td>\n      <td>851.33</td>\n      <td>729.82</td>\n      <td>0.167</td>\n    </tr>\n    <tr>\n      <th>7</th>\n      <td>chase_absent_tdo</td>\n      <td>169</td>\n      <td>5013.15</td>\n      <td>3471.70</td>\n      <td>20.54</td>\n      <td>3468.47</td>\n      <td>5963.97</td>\n      <td>4422.05</td>\n      <td>1544.68</td>\n      <td>3870.14</td>\n      <td>2329.11</td>\n      <td>0.391</td>\n    </tr>\n    <tr>\n      <th>8</th>\n      <td>chase_absent_t90mo</td>\n      <td>265</td>\n      <td>80.85</td>\n      <td>-2196.99</td>\n      <td>-8.29</td>\n      <td>-2158.03</td>\n      <td>1377.18</td>\n      <td>-901.13</td>\n      <td>2238.88</td>\n      <td>-976.98</td>\n      <td>-3254.31</td>\n      <td>0.389</td>\n    </tr>\n    <tr>\n      <th>9</th>\n      <td>chase_tyo</td>\n      <td>7</td>\n      <td>1716.85</td>\n      <td>1673.41</td>\n      <td>239.06</td>\n      <td>1396.65</td>\n      <td>1893.74</td>\n      <td>1850.38</td>\n      <td>320.20</td>\n      <td>1390.04</td>\n      <td>1346.45</td>\n      <td>0.571</td>\n    </tr>\n    <tr>\n      <th>10</th>\n      <td>chase_tmo</td>\n      <td>29</td>\n      <td>1853.51</td>\n      <td>1630.55</td>\n      <td>56.23</td>\n      <td>967.80</td>\n      <td>2030.93</td>\n      <td>1807.99</td>\n      <td>885.71</td>\n      <td>1753.23</td>\n      <td>1530.23</td>\n      <td>0.517</td>\n    </tr>\n    <tr>\n      <th>11</th>\n      <td>chase_two</td>\n      <td>112</td>\n      <td>5160.73</td>\n      <td>4233.04</td>\n      <td>37.80</td>\n      <td>3837.79</td>\n      <td>7177.70</td>\n      <td>6250.88</td>\n      <td>1322.94</td>\n      <td>3576.87</td>\n      <td>2648.54</td>\n      <td>0.509</td>\n    </tr>\n    <tr>\n      <th>12</th>\n      <td>chase_tdo</td>\n      <td>386</td>\n      <td>2183.71</td>\n      <td>-1710.11</td>\n      <td>-4.43</td>\n      <td>322.21</td>\n      <td>3788.92</td>\n      <td>-103.70</td>\n      <td>1861.49</td>\n      <td>88.27</td>\n      <td>-3806.74</td>\n      <td>0.347</td>\n    </tr>\n    <tr>\n      <th>13</th>\n      <td>chase_t90mo</td>\n      <td>439</td>\n      <td>-457.95</td>\n      <td>-5001.53</td>\n      <td>-11.39</td>\n      <td>-3940.83</td>\n      <td>-1853.56</td>\n      <td>-6397.00</td>\n      <td>3482.88</td>\n      <td>395.98</td>\n      <td>-4147.74</td>\n      <td>0.310</td>\n    </tr>\n  </tbody>\n</table>\n</div>"
     },
     "metadata": {},
     "output_type": "display_data"
    },
    {
     "name": "stdout",
     "output_type": "stream",
     "text": [
      "2025 bes Trade stat:\n"
     ]
    },
    {
     "data": {
      "text/plain": "                  name  trades      pnl    mf pnl  mf pnl/trade  tpsl close  \\\n0           market all     805 -4623.19 -16644.22        -20.68   -10085.97   \n1            limit all    1754  4181.20 -22014.46        -12.55   -17729.79   \n2      chase_median_rr     566   210.60  -8282.97        -14.63    -7450.50   \n3        chase_mean_rr     383  3523.56  -5746.26        -15.00    -4782.18   \n4     chase_absent_tyo       0     0.00      0.00          0.00        0.00   \n5     chase_absent_tmo      11 -1024.10  -1122.34       -102.03     -850.00   \n6     chase_absent_two       0     0.00      0.00          0.00        0.00   \n7     chase_absent_tdo      96  1367.30    416.02          4.33      154.11   \n8   chase_absent_t90mo     110    57.82  -1194.62        -10.86     -854.40   \n9            chase_tyo       3   180.28    168.11         56.04      169.40   \n10           chase_tmo      29   100.03    -60.36         -2.08      212.64   \n11           chase_two      67  2450.67   1823.49         27.22     2330.92   \n12           chase_tdo     215 -1338.53  -3630.28        -16.89    -2779.28   \n13         chase_t90mo     274 -1346.44  -4385.27        -16.00    -3880.51   \n\n    full tpsl  mf full tpsl       pre  if full pre  mf full pre  win rate  \n0    -2310.13     -14331.44   5462.78     -5885.06    -17906.26     0.324  \n1    18901.57      -7291.43  21910.99     -6962.56    -33162.23     0.266  \n2     2766.56      -5726.50   7661.10     -1407.70     -9902.22     0.267  \n3    10118.38        849.96   8305.74     -1280.74    -10552.23     0.193  \n4        0.00          0.00      0.00         0.00         0.00     0.000  \n5    -1100.00      -1198.28   -174.10      -948.19     -1046.40     0.000  \n6        0.00          0.00      0.00         0.00         0.00     0.000  \n7     3250.06       2299.22   1213.19      -180.79     -1132.64     0.333  \n8      683.80       -569.10    912.22      -246.38     -1498.50     0.264  \n9      182.14        169.98     10.88       178.41       166.25     0.667  \n10     -66.65       -227.03   -112.61       238.02        77.61     0.448  \n11    5132.52       4506.22    119.75      -366.74      -995.04     0.418  \n12    -303.35      -2595.73   1440.75     -1975.00     -4266.23     0.302  \n13   -1761.89      -4800.17   2534.07      -973.44     -4012.83     0.266  ",
      "text/html": "<div>\n<style scoped>\n    .dataframe tbody tr th:only-of-type {\n        vertical-align: middle;\n    }\n\n    .dataframe tbody tr th {\n        vertical-align: top;\n    }\n\n    .dataframe thead th {\n        text-align: right;\n    }\n</style>\n<table border=\"1\" class=\"dataframe\">\n  <thead>\n    <tr style=\"text-align: right;\">\n      <th></th>\n      <th>name</th>\n      <th>trades</th>\n      <th>pnl</th>\n      <th>mf pnl</th>\n      <th>mf pnl/trade</th>\n      <th>tpsl close</th>\n      <th>full tpsl</th>\n      <th>mf full tpsl</th>\n      <th>pre</th>\n      <th>if full pre</th>\n      <th>mf full pre</th>\n      <th>win rate</th>\n    </tr>\n  </thead>\n  <tbody>\n    <tr>\n      <th>0</th>\n      <td>market all</td>\n      <td>805</td>\n      <td>-4623.19</td>\n      <td>-16644.22</td>\n      <td>-20.68</td>\n      <td>-10085.97</td>\n      <td>-2310.13</td>\n      <td>-14331.44</td>\n      <td>5462.78</td>\n      <td>-5885.06</td>\n      <td>-17906.26</td>\n      <td>0.324</td>\n    </tr>\n    <tr>\n      <th>1</th>\n      <td>limit all</td>\n      <td>1754</td>\n      <td>4181.20</td>\n      <td>-22014.46</td>\n      <td>-12.55</td>\n      <td>-17729.79</td>\n      <td>18901.57</td>\n      <td>-7291.43</td>\n      <td>21910.99</td>\n      <td>-6962.56</td>\n      <td>-33162.23</td>\n      <td>0.266</td>\n    </tr>\n    <tr>\n      <th>2</th>\n      <td>chase_median_rr</td>\n      <td>566</td>\n      <td>210.60</td>\n      <td>-8282.97</td>\n      <td>-14.63</td>\n      <td>-7450.50</td>\n      <td>2766.56</td>\n      <td>-5726.50</td>\n      <td>7661.10</td>\n      <td>-1407.70</td>\n      <td>-9902.22</td>\n      <td>0.267</td>\n    </tr>\n    <tr>\n      <th>3</th>\n      <td>chase_mean_rr</td>\n      <td>383</td>\n      <td>3523.56</td>\n      <td>-5746.26</td>\n      <td>-15.00</td>\n      <td>-4782.18</td>\n      <td>10118.38</td>\n      <td>849.96</td>\n      <td>8305.74</td>\n      <td>-1280.74</td>\n      <td>-10552.23</td>\n      <td>0.193</td>\n    </tr>\n    <tr>\n      <th>4</th>\n      <td>chase_absent_tyo</td>\n      <td>0</td>\n      <td>0.00</td>\n      <td>0.00</td>\n      <td>0.00</td>\n      <td>0.00</td>\n      <td>0.00</td>\n      <td>0.00</td>\n      <td>0.00</td>\n      <td>0.00</td>\n      <td>0.00</td>\n      <td>0.000</td>\n    </tr>\n    <tr>\n      <th>5</th>\n      <td>chase_absent_tmo</td>\n      <td>11</td>\n      <td>-1024.10</td>\n      <td>-1122.34</td>\n      <td>-102.03</td>\n      <td>-850.00</td>\n      <td>-1100.00</td>\n      <td>-1198.28</td>\n      <td>-174.10</td>\n      <td>-948.19</td>\n      <td>-1046.40</td>\n      <td>0.000</td>\n    </tr>\n    <tr>\n      <th>6</th>\n      <td>chase_absent_two</td>\n      <td>0</td>\n      <td>0.00</td>\n      <td>0.00</td>\n      <td>0.00</td>\n      <td>0.00</td>\n      <td>0.00</td>\n      <td>0.00</td>\n      <td>0.00</td>\n      <td>0.00</td>\n      <td>0.00</td>\n      <td>0.000</td>\n    </tr>\n    <tr>\n      <th>7</th>\n      <td>chase_absent_tdo</td>\n      <td>96</td>\n      <td>1367.30</td>\n      <td>416.02</td>\n      <td>4.33</td>\n      <td>154.11</td>\n      <td>3250.06</td>\n      <td>2299.22</td>\n      <td>1213.19</td>\n      <td>-180.79</td>\n      <td>-1132.64</td>\n      <td>0.333</td>\n    </tr>\n    <tr>\n      <th>8</th>\n      <td>chase_absent_t90mo</td>\n      <td>110</td>\n      <td>57.82</td>\n      <td>-1194.62</td>\n      <td>-10.86</td>\n      <td>-854.40</td>\n      <td>683.80</td>\n      <td>-569.10</td>\n      <td>912.22</td>\n      <td>-246.38</td>\n      <td>-1498.50</td>\n      <td>0.264</td>\n    </tr>\n    <tr>\n      <th>9</th>\n      <td>chase_tyo</td>\n      <td>3</td>\n      <td>180.28</td>\n      <td>168.11</td>\n      <td>56.04</td>\n      <td>169.40</td>\n      <td>182.14</td>\n      <td>169.98</td>\n      <td>10.88</td>\n      <td>178.41</td>\n      <td>166.25</td>\n      <td>0.667</td>\n    </tr>\n    <tr>\n      <th>10</th>\n      <td>chase_tmo</td>\n      <td>29</td>\n      <td>100.03</td>\n      <td>-60.36</td>\n      <td>-2.08</td>\n      <td>212.64</td>\n      <td>-66.65</td>\n      <td>-227.03</td>\n      <td>-112.61</td>\n      <td>238.02</td>\n      <td>77.61</td>\n      <td>0.448</td>\n    </tr>\n    <tr>\n      <th>11</th>\n      <td>chase_two</td>\n      <td>67</td>\n      <td>2450.67</td>\n      <td>1823.49</td>\n      <td>27.22</td>\n      <td>2330.92</td>\n      <td>5132.52</td>\n      <td>4506.22</td>\n      <td>119.75</td>\n      <td>-366.74</td>\n      <td>-995.04</td>\n      <td>0.418</td>\n    </tr>\n    <tr>\n      <th>12</th>\n      <td>chase_tdo</td>\n      <td>215</td>\n      <td>-1338.53</td>\n      <td>-3630.28</td>\n      <td>-16.89</td>\n      <td>-2779.28</td>\n      <td>-303.35</td>\n      <td>-2595.73</td>\n      <td>1440.75</td>\n      <td>-1975.00</td>\n      <td>-4266.23</td>\n      <td>0.302</td>\n    </tr>\n    <tr>\n      <th>13</th>\n      <td>chase_t90mo</td>\n      <td>274</td>\n      <td>-1346.44</td>\n      <td>-4385.27</td>\n      <td>-16.00</td>\n      <td>-3880.51</td>\n      <td>-1761.89</td>\n      <td>-4800.17</td>\n      <td>2534.07</td>\n      <td>-973.44</td>\n      <td>-4012.83</td>\n      <td>0.266</td>\n    </tr>\n  </tbody>\n</table>\n</div>"
     },
     "metadata": {},
     "output_type": "display_data"
    }
   ],
   "source": [
    "from IPython.display import display\n",
    "\n",
    "from scripts.run_smt_strategies_analyzer import snap_dfs, basic_stats, merge_year_dfs, \\\n",
    "    group_display, pnls, snapshot_file, to_tw_arrs\n",
    "\n",
    "symbols_bes = ['BTCUSDT', 'ETHUSDT', 'SOLUSDT']\n",
    "symbols_bet = ['BTCUSDT', 'ETHUSDT', 'TOTAL3']\n",
    "snap_2023_bes = snapshot_file('27', 2023, symbols_bes)\n",
    "snap_2024_bes = snapshot_file('27', 2024, symbols_bes)\n",
    "# snap_2024_bet = snapshot_file('27', 2024, symbols_bet)\n",
    "snap_2025_bes = snapshot_file('27', 2025, symbols_bes)\n",
    "# snap_2025_bet = snapshot_file('27', 2025, symbols_bet)\n",
    "\n",
    "f_name_2023_bes, trade_dfs_2023_bes, lo_dfs_2023_bes = snap_dfs(snap_2023_bes, symbols_bes)\n",
    "f_name_2024_bes, trade_dfs_2024_bes, lo_dfs_2024_bes = snap_dfs(snap_2024_bes, symbols_bes)\n",
    "# f_name_2024_bet, trade_dfs_2024_bet, lo_dfs_2024_bet = snap_dfs(snap_2024_bet, symbols_bet)\n",
    "f_name_2025_bes, trade_dfs_2025_bes, lo_dfs_2025_bes = snap_dfs(snap_2025_bes, symbols_bes)\n",
    "# f_name_2025_bet, trade_dfs_2025_bet, lo_dfs_2025_bet = snap_dfs(snap_2025_bet, symbols_bet)\n",
    "\n",
    "trade_stat_2023_bes, lo_stat_2023_bes = basic_stats(trade_dfs_2023_bes, lo_dfs_2023_bes)\n",
    "trade_stat_2024_bes, lo_stat_2024_bes = basic_stats(trade_dfs_2024_bes, lo_dfs_2024_bes)\n",
    "# trade_stat_2024_bet, lo_stat_2024_bet = basic_stats(trade_dfs_2024_bet, lo_dfs_2024_bet)\n",
    "trade_stat_2025_bes, lo_stat_2025_bes = basic_stats(trade_dfs_2025_bes, lo_dfs_2025_bes)\n",
    "# trade_stat_2025_bet, lo_stat_2025_bet = basic_stats(trade_dfs_2025_bet, lo_dfs_2025_bet)\n",
    "\n",
    "trade_dfs_bes = merge_year_dfs([trade_dfs_2023_bes, trade_dfs_2024_bes, trade_dfs_2025_bes], \"\", [])\n",
    "# trade_dfs_bet = merge_year_dfs([trade_dfs_2024_bet, trade_dfs_2025_bet], \"\", [])\n",
    "\n",
    "\n",
    "def to_stat_str(f_name: str, year_pnls):\n",
    "    return f\"{f_name[23:34]}: {year_pnls['trades']} trades with cum pnl {year_pnls['pnl']} (mf {year_pnls['mf pnl']} per trade {year_pnls['mf pnl/trade']}); if full final close pnl {year_pnls['full tpsl']} (mf {year_pnls['mf full tpsl']} per trade {round(year_pnls['mf full tpsl'] / year_pnls['trades'], 2)}); if full pre-close pnl {year_pnls['if full pre']} (mf {year_pnls['mf full pre']} per trade {round(year_pnls['mf full pre'] / year_pnls['trades'], 2)})\"\n",
    "\n",
    "\n",
    "print(f\"2023 bes {to_stat_str(f_name_2023_bes, pnls(trade_stat_2023_bes))}\")\n",
    "print(f\"2024 bes {to_stat_str(f_name_2024_bes, pnls(trade_stat_2024_bes))}\")\n",
    "# print(f\"2024 bet {to_stat_str(f_name_2024_bet, pnls(trade_stat_2024_bet))}\")\n",
    "print(f\"2025 bes {to_stat_str(f_name_2025_bes, pnls(trade_stat_2025_bes))}\")\n",
    "# print(f\"2025 bet {to_stat_str(f_name_2025_bet, pnls(trade_stat_2025_bet))}\")\n",
    "print(f\"---\")\n",
    "print(f\"2023 bes Trade stat:\")\n",
    "display(trade_stat_2023_bes)\n",
    "print(f\"2024 bes Trade stat:\")\n",
    "display(trade_stat_2024_bes)\n",
    "# print(f\"2024 bet Trade stat:\")\n",
    "# display(trade_stat_2024_bet)\n",
    "print(f\"2025 bes Trade stat:\")\n",
    "display(trade_stat_2025_bes)\n",
    "# print(f\"2025 bet Trade stat:\")\n",
    "# display(trade_stat_2025_bet)\n",
    "\n",
    "# print(f\"2024 Limit orders stat:\")\n",
    "# display(lo_stat_2024)\n",
    "# print(f\"2025 Limit orders stat:\")\n",
    "# display(lo_stat_2025)"
   ]
  },
  {
   "cell_type": "code",
   "outputs": [
    {
     "data": {
      "text/plain": "                                                                        market all  \\\n                                                                              mean   \npsp_date_ny      entry_time_ny    final_close_time_ny psp_key smt_flags              \n2025-04-01 18:00 2025-04-01 22:00 2025-04-02 10:00    2h      Bes            24.61   \n                 2025-04-02 00:00 2025-04-02 10:00    4h      Bes           -43.28   \n2025-04-01 19:00 2025-04-01 21:00 2025-04-02 10:00    1h      Bes            -9.04   \n2025-04-04 18:00 2025-04-04 20:00 2025-04-05 09:00    1h      bES            32.28   \n2025-04-04 20:00 2025-04-05 00:00 2025-04-05 09:00    2h      bES            51.73   \n...                                                                            ...   \n2025-06-24 22:00 2025-06-25 00:00 2025-06-25 05:15    1h      BeS          -100.87   \n2025-06-28 04:00 2025-06-28 08:00 2025-06-28 12:00    2h      beS           -96.18   \n2025-06-28 12:00 2025-06-28 20:00 2025-06-28 22:15    4h      beS            -3.15   \n2025-06-28 22:00 2025-06-29 00:00 2025-06-29 04:45    1h      BEs           138.36   \n2025-06-29 08:00 2025-06-29 10:00 2025-06-29 20:30    1h      BEs           -85.59   \n\n                                                                                 \\\n                                                                        wr_mean   \npsp_date_ny      entry_time_ny    final_close_time_ny psp_key smt_flags           \n2025-04-01 18:00 2025-04-01 22:00 2025-04-02 10:00    2h      Bes           1.0   \n                 2025-04-02 00:00 2025-04-02 10:00    4h      Bes           0.0   \n2025-04-01 19:00 2025-04-01 21:00 2025-04-02 10:00    1h      Bes           0.0   \n2025-04-04 18:00 2025-04-04 20:00 2025-04-05 09:00    1h      bES           1.0   \n2025-04-04 20:00 2025-04-05 00:00 2025-04-05 09:00    2h      bES           1.0   \n...                                                                         ...   \n2025-06-24 22:00 2025-06-25 00:00 2025-06-25 05:15    1h      BeS           0.0   \n2025-06-28 04:00 2025-06-28 08:00 2025-06-28 12:00    2h      beS           0.0   \n2025-06-28 12:00 2025-06-28 20:00 2025-06-28 22:15    4h      beS           0.0   \n2025-06-28 22:00 2025-06-29 00:00 2025-06-29 04:45    1h      BEs           1.0   \n2025-06-29 08:00 2025-06-29 10:00 2025-06-29 20:30    1h      BEs           0.0   \n\n                                                                               \\\n                                                                        count   \npsp_date_ny      entry_time_ny    final_close_time_ny psp_key smt_flags         \n2025-04-01 18:00 2025-04-01 22:00 2025-04-02 10:00    2h      Bes           1   \n                 2025-04-02 00:00 2025-04-02 10:00    4h      Bes           1   \n2025-04-01 19:00 2025-04-01 21:00 2025-04-02 10:00    1h      Bes           1   \n2025-04-04 18:00 2025-04-04 20:00 2025-04-05 09:00    1h      bES           1   \n2025-04-04 20:00 2025-04-05 00:00 2025-04-05 09:00    2h      bES           1   \n...                                                                       ...   \n2025-06-24 22:00 2025-06-25 00:00 2025-06-25 05:15    1h      BeS           1   \n2025-06-28 04:00 2025-06-28 08:00 2025-06-28 12:00    2h      beS           1   \n2025-06-28 12:00 2025-06-28 20:00 2025-06-28 22:15    4h      beS           1   \n2025-06-28 22:00 2025-06-29 00:00 2025-06-29 04:45    1h      BEs           1   \n2025-06-29 08:00 2025-06-29 10:00 2025-06-29 20:30    1h      BEs           1   \n\n                                                                                  \\\n                                                                        wr_count   \npsp_date_ny      entry_time_ny    final_close_time_ny psp_key smt_flags            \n2025-04-01 18:00 2025-04-01 22:00 2025-04-02 10:00    2h      Bes              1   \n                 2025-04-02 00:00 2025-04-02 10:00    4h      Bes              0   \n2025-04-01 19:00 2025-04-01 21:00 2025-04-02 10:00    1h      Bes              0   \n2025-04-04 18:00 2025-04-04 20:00 2025-04-05 09:00    1h      bES              1   \n2025-04-04 20:00 2025-04-05 00:00 2025-04-05 09:00    2h      bES              1   \n...                                                                          ...   \n2025-06-24 22:00 2025-06-25 00:00 2025-06-25 05:15    1h      BeS              0   \n2025-06-28 04:00 2025-06-28 08:00 2025-06-28 12:00    2h      beS              0   \n2025-06-28 12:00 2025-06-28 20:00 2025-06-28 22:15    4h      beS              0   \n2025-06-28 22:00 2025-06-29 00:00 2025-06-29 04:45    1h      BEs              1   \n2025-06-29 08:00 2025-06-29 10:00 2025-06-29 20:30    1h      BEs              0   \n\n                                                                                 \n                                                                            sum  \npsp_date_ny      entry_time_ny    final_close_time_ny psp_key smt_flags          \n2025-04-01 18:00 2025-04-01 22:00 2025-04-02 10:00    2h      Bes         24.61  \n                 2025-04-02 00:00 2025-04-02 10:00    4h      Bes        -43.28  \n2025-04-01 19:00 2025-04-01 21:00 2025-04-02 10:00    1h      Bes         -9.04  \n2025-04-04 18:00 2025-04-04 20:00 2025-04-05 09:00    1h      bES         32.28  \n2025-04-04 20:00 2025-04-05 00:00 2025-04-05 09:00    2h      bES         51.73  \n...                                                                         ...  \n2025-06-24 22:00 2025-06-25 00:00 2025-06-25 05:15    1h      BeS       -100.87  \n2025-06-28 04:00 2025-06-28 08:00 2025-06-28 12:00    2h      beS        -96.18  \n2025-06-28 12:00 2025-06-28 20:00 2025-06-28 22:15    4h      beS         -3.15  \n2025-06-28 22:00 2025-06-29 00:00 2025-06-29 04:45    1h      BEs        138.36  \n2025-06-29 08:00 2025-06-29 10:00 2025-06-29 20:30    1h      BEs        -85.59  \n\n[96 rows x 5 columns]",
      "text/html": "<div>\n<style scoped>\n    .dataframe tbody tr th:only-of-type {\n        vertical-align: middle;\n    }\n\n    .dataframe tbody tr th {\n        vertical-align: top;\n    }\n\n    .dataframe thead tr th {\n        text-align: left;\n    }\n\n    .dataframe thead tr:last-of-type th {\n        text-align: right;\n    }\n</style>\n<table border=\"1\" class=\"dataframe\">\n  <thead>\n    <tr>\n      <th></th>\n      <th></th>\n      <th></th>\n      <th></th>\n      <th></th>\n      <th colspan=\"5\" halign=\"left\">market all</th>\n    </tr>\n    <tr>\n      <th></th>\n      <th></th>\n      <th></th>\n      <th></th>\n      <th></th>\n      <th>mean</th>\n      <th>wr_mean</th>\n      <th>count</th>\n      <th>wr_count</th>\n      <th>sum</th>\n    </tr>\n    <tr>\n      <th>psp_date_ny</th>\n      <th>entry_time_ny</th>\n      <th>final_close_time_ny</th>\n      <th>psp_key</th>\n      <th>smt_flags</th>\n      <th></th>\n      <th></th>\n      <th></th>\n      <th></th>\n      <th></th>\n    </tr>\n  </thead>\n  <tbody>\n    <tr>\n      <th rowspan=\"2\" valign=\"top\">2025-04-01 18:00</th>\n      <th>2025-04-01 22:00</th>\n      <th>2025-04-02 10:00</th>\n      <th>2h</th>\n      <th>Bes</th>\n      <td>24.61</td>\n      <td>1.0</td>\n      <td>1</td>\n      <td>1</td>\n      <td>24.61</td>\n    </tr>\n    <tr>\n      <th>2025-04-02 00:00</th>\n      <th>2025-04-02 10:00</th>\n      <th>4h</th>\n      <th>Bes</th>\n      <td>-43.28</td>\n      <td>0.0</td>\n      <td>1</td>\n      <td>0</td>\n      <td>-43.28</td>\n    </tr>\n    <tr>\n      <th>2025-04-01 19:00</th>\n      <th>2025-04-01 21:00</th>\n      <th>2025-04-02 10:00</th>\n      <th>1h</th>\n      <th>Bes</th>\n      <td>-9.04</td>\n      <td>0.0</td>\n      <td>1</td>\n      <td>0</td>\n      <td>-9.04</td>\n    </tr>\n    <tr>\n      <th>2025-04-04 18:00</th>\n      <th>2025-04-04 20:00</th>\n      <th>2025-04-05 09:00</th>\n      <th>1h</th>\n      <th>bES</th>\n      <td>32.28</td>\n      <td>1.0</td>\n      <td>1</td>\n      <td>1</td>\n      <td>32.28</td>\n    </tr>\n    <tr>\n      <th>2025-04-04 20:00</th>\n      <th>2025-04-05 00:00</th>\n      <th>2025-04-05 09:00</th>\n      <th>2h</th>\n      <th>bES</th>\n      <td>51.73</td>\n      <td>1.0</td>\n      <td>1</td>\n      <td>1</td>\n      <td>51.73</td>\n    </tr>\n    <tr>\n      <th>...</th>\n      <th>...</th>\n      <th>...</th>\n      <th>...</th>\n      <th>...</th>\n      <td>...</td>\n      <td>...</td>\n      <td>...</td>\n      <td>...</td>\n      <td>...</td>\n    </tr>\n    <tr>\n      <th>2025-06-24 22:00</th>\n      <th>2025-06-25 00:00</th>\n      <th>2025-06-25 05:15</th>\n      <th>1h</th>\n      <th>BeS</th>\n      <td>-100.87</td>\n      <td>0.0</td>\n      <td>1</td>\n      <td>0</td>\n      <td>-100.87</td>\n    </tr>\n    <tr>\n      <th>2025-06-28 04:00</th>\n      <th>2025-06-28 08:00</th>\n      <th>2025-06-28 12:00</th>\n      <th>2h</th>\n      <th>beS</th>\n      <td>-96.18</td>\n      <td>0.0</td>\n      <td>1</td>\n      <td>0</td>\n      <td>-96.18</td>\n    </tr>\n    <tr>\n      <th>2025-06-28 12:00</th>\n      <th>2025-06-28 20:00</th>\n      <th>2025-06-28 22:15</th>\n      <th>4h</th>\n      <th>beS</th>\n      <td>-3.15</td>\n      <td>0.0</td>\n      <td>1</td>\n      <td>0</td>\n      <td>-3.15</td>\n    </tr>\n    <tr>\n      <th>2025-06-28 22:00</th>\n      <th>2025-06-29 00:00</th>\n      <th>2025-06-29 04:45</th>\n      <th>1h</th>\n      <th>BEs</th>\n      <td>138.36</td>\n      <td>1.0</td>\n      <td>1</td>\n      <td>1</td>\n      <td>138.36</td>\n    </tr>\n    <tr>\n      <th>2025-06-29 08:00</th>\n      <th>2025-06-29 10:00</th>\n      <th>2025-06-29 20:30</th>\n      <th>1h</th>\n      <th>BEs</th>\n      <td>-85.59</td>\n      <td>0.0</td>\n      <td>1</td>\n      <td>0</td>\n      <td>-85.59</td>\n    </tr>\n  </tbody>\n</table>\n<p>96 rows × 5 columns</p>\n</div>"
     },
     "execution_count": 4,
     "metadata": {},
     "output_type": "execute_result"
    }
   ],
   "source": [
    "# group_display(trade_dfs, [\"year\"], False, \"entry_rr\")\n",
    "# print('--')\n",
    "# search_by = trade_dfs\n",
    "search_in = merge_year_dfs([trade_dfs_bes],\n",
    "                           # \"target_level == 4 and psp_key == '1h' and 2 < entry_rr\",\n",
    "                           # \"minutes_in_market >= 500 and \"\n",
    "                           # \"signal_wd not in ['Sun', 'Mon', 'Tue'] and \"\n",
    "                           # \"signal_dq in ['DQ1_Asia'] and \"\n",
    "                           # \"target_is_half == False and \"\n",
    "                           # \"smt_is_half == False and \"\n",
    "                           # \"3 < percents_till_take and \"\n",
    "                           # \"percents_till_stop < 2.3 and \"\n",
    "                           # \"2 < entry_rr and \"\n",
    "                           \"year == 2025 and entry_yq in ['YQ2'] and \"\n",
    "                           # \"psp_key in ['4h'] and \"\n",
    "                           \"asset in ['BTCUSDT']\"\n",
    "                           # \"psp_key == '4h' and 4 < entry_rr and year not in [2023] and asset in ['BTCUSDT', 'ETHUSDT'] and signal_dq not in ['DQ4_NYPM']\",\n",
    "                           # \"asset != 'SOLUSDT' and smt_flags in ['BeS', 'Bes', 'bES', 'bEs']\",\n",
    "                           # \"psp_key == '4h' and target_level == 5 and 0.3 < entry_rr < 113\",\n",
    "                           \"\",\n",
    "                           ['market all']\n",
    "                           # [x[0] for x in trade_dfs if x[0] not in ['market all', 'limit all']]\n",
    "                           )\n",
    "df_group = group_display(search_in, [\n",
    "    # \"entry_rr\",\n",
    "    \"psp_date_ny\",\n",
    "    # \"signal_time_ny\",\n",
    "    \"entry_time_ny\",\n",
    "    \"final_close_time_ny\",\n",
    "    # \"direction\",\n",
    "    # \"percents_till_stop\",\n",
    "    # \"percents_till_take\",\n",
    "    # \"pnl_minus_fees\",\n",
    "    # \"pnl_minus_fees_if_full_preclose\",\n",
    "    # \"pnl_minus_fees_if_full_tp_sl\",\n",
    "    # \"year\",\n",
    "\n",
    "    \"psp_key\",\n",
    "    # \"asset\",\n",
    "    # \"asset_smt_swept\",\n",
    "    # \"entry_rr_perc\",\n",
    "    # \"percents_till_stop_perc\",\n",
    "    # \"percents_till_take_perc\",\n",
    "    # \"target_level\",\n",
    "\n",
    "    # \"smt_is_half\",\n",
    "    # \"target_is_half\",\n",
    "\n",
    "    # \"signal_dq\",\n",
    "    # \"entry_dq\",\n",
    "    # \"final_close_dq\",\n",
    "    # \"best_entry_dq\",\n",
    "    # \"signal_wd\",\n",
    "    # \"entry_wd\"\n",
    "    # \"final_close_wd\"\n",
    "    # \"best_entry_wd\"\n",
    "    # \"target_label\",\n",
    "\n",
    "    \"smt_flags\",\n",
    "    # \"signal_q90m\",\n",
    "    # \"entry_q90m\",\n",
    "    # \"minutes_in_market_perc\",\n",
    "    # \"best_entry_minutes_in_market\",\n",
    "    # \"minutes_between_signal_and_entry\",\n",
    "    # \"entry_position_usd\",\n",
    "    # \"entry_position_fee\",\n",
    "    # \"close_position_fee\",\n",
    "\n",
    "    # \"entry_rr\",\n",
    "    \n",
    "    # \"year\",\n",
    "    # \"entry_yq\",\n",
    "], False, [\n",
    "    # \"entry_rr\",\n",
    "    # \"minutes_in_market\",\n",
    "    # \"percents_till_stop\",\n",
    "    # \"percents_till_take\",\n",
    "], [\"median\", \"sem\", \"min\",  \"max\",  \"std\", \"var\"])\n",
    "\n",
    "df_group\n",
    "# df_group[\"entry_position_usd\"].max()"
   ],
   "metadata": {
    "collapsed": false,
    "ExecuteTime": {
     "end_time": "2025-09-14T11:05:04.488434Z",
     "start_time": "2025-09-14T11:05:04.336785Z"
    }
   },
   "id": "9b1db32ee3c32514",
   "execution_count": 4
  },
  {
   "cell_type": "code",
   "outputs": [
    {
     "name": "stdout",
     "output_type": "stream",
     "text": [
      "var int[] psp_times  = array.from(1743548400000, 1743544800000, 1743544800000, 1743804000000, 1743814800000, 1743811200000, 1744444800000, 1744444800000, 1744405200000, 1744401600000, 1744401600000, 1744470000000, 1744693200000, 1744502400000, 1744747200000, 1744905600000, 1744819200000, 1745107200000, 1745542800000, 1745920800000, 1745949600000, 1745985600000, 1746068400000, 1746054000000, 1746050400000, 1745589600000, 1745582400000, 1746140400000, 1746136800000, 1746136800000, 1746223200000, 1746241200000, 1746230400000, 1746306000000, 1746352800000, 1746363600000, 1746360000000, 1746201600000, 1747184400000, 1747555200000, 1747555200000, 1747584000000, 1747706400000, 1747706400000, 1747800000000, 1747965600000, 1747965600000, 1747958400000, 1748131200000, 1748044800000, 1748044800000, 1748160000000, 1748185200000, 1748174400000, 1748484000000, 1748516400000, 1748512800000, 1748563200000, 1748563200000, 1748772000000, 1748779200000, 1749078000000, 1749110400000, 1749132000000, 1749254400000, 1749279600000, 1749276000000, 1749268800000, 1749333600000, 1749333600000, 1749333600000, 1749387600000, 1749412800000, 1749513600000, 1749513600000, 1749513600000, 1749600000000, 1749654000000, 1749679200000, 1749704400000, 1749870000000, 1750010400000, 1750003200000, 1750039200000, 1750050000000, 1750082400000, 1750251600000, 1750406400000, 1750413600000, 1750500000000, 1750500000000, 1750816800000, 1751097600000, 1751126400000, 1751162400000, 1751198400000)\n",
      "var int[] entry_times = array.from(1743555600000, 1743559200000, 1743566400000, 1743811200000, 1743822000000, 1743825600000, 1744452000000, 1744459200000, 1744412400000, 1744416000000, 1744430400000, 1744477200000, 1744700400000, 1744531200000, 1744754400000, 1744934400000, 1744848000000, 1745136000000, 1745550000000, 1745935200000, 1745964000000, 1745992800000, 1746075600000, 1746061200000, 1746064800000, 1745604000000, 1745611200000, 1746147600000, 1746151200000, 1746158400000, 1746230400000, 1746248400000, 1746237600000, 1746313200000, 1746360000000, 1746370800000, 1746374400000, 1746216000000, 1747191600000, 1747562400000, 1747569600000, 1747591200000, 1747713600000, 1747720800000, 1747828800000, 1747972800000, 1747980000000, 1747987200000, 1748160000000, 1748052000000, 1748059200000, 1748174400000, 1748192400000, 1748203200000, 1748498400000, 1748523600000, 1748527200000, 1748577600000, 1748592000000, 1748779200000, 1748793600000, 1749085200000, 1749117600000, 1749139200000, 1749268800000, 1749286800000, 1749290400000, 1749297600000, 1749340800000, 1749348000000, 1749355200000, 1749394800000, 1749427200000, 1749520800000, 1749528000000, 1749542400000, 1749628800000, 1749661200000, 1749693600000, 1749711600000, 1749877200000, 1750024800000, 1750032000000, 1750046400000, 1750057200000, 1750089600000, 1750258800000, 1750413600000, 1750420800000, 1750507200000, 1750514400000, 1750824000000, 1751112000000, 1751155200000, 1751169600000, 1751205600000)\n",
      "var float[] entry_prices = array.from(84918.5, 85101.4, 84509.5, 83861.3, 83945.9, 83585.7, 83506.9, 83484.0, 83380.8, 83378.3, 82940.3, 84624.1, 85351.7, 84378.4, 84137.1, 84915.0, 83990.0, 84736.5, 92941.8, 94747.5, 94683.3, 94855.8, 94825.2, 94358.9, 94598.7, 94465.7, 95229.2, 96973.9, 96910.1, 97054.9, 96831.2, 96470.4, 96457.7, 96128.8, 95376.0, 95562.6, 95421.1, 96856.8, 103672.3, 103834.9, 103769.0, 104805.2, 105720.0, 106065.6, 106490.9, 111044.0, 110810.3, 110685.2, 107637.1, 107437.5, 108306.8, 107214.0, 107129.9, 107656.3, 107631.6, 108388.9, 107569.1, 105978.8, 104997.5, 104038.0, 104664.0, 104939.0, 104854.9, 104490.5, 104822.4, 104692.3, 104788.2, 105094.5, 105507.5, 105644.5, 105436.4, 105766.8, 105676.5, 109742.7, 109525.8, 109178.0, 109396.9, 109399.8, 108481.4, 107855.2, 105323.7, 104744.8, 105534.6, 105865.6, 106530.8, 107374.9, 104576.1, 105897.7, 105928.6, 103827.5, 103528.4, 106177.0, 107320.3, 107241.0, 107156.5, 108013.0)\n",
      "var float[] stop_prices = array.from(85595.5, 85595.5, 85595.5, 84248.5, 84244.5, 84244.5, 83998.9, 83998.9, 84300.0, 84300.0, 84300.0, 85388.0, 85835.0, 86100.0, 83760.1, 85441.5, 85493.5, 85283.6, 94409.5, 95264.9, 95400.0, 95149.9, 94978.1, 93950.0, 93950.0, 95769.6, 95769.6, 96122.4, 96122.4, 96122.4, 96513.4, 96255.0, 96868.4, 96399.9, 95227.2, 95172.4, 95172.4, 97740.0, 104042.5, 104066.1, 104066.1, 105999.7, 106800.0, 106800.0, 107950.0, 111567.3, 111567.3, 111770.4, 107142.0, 106836.0, 106836.0, 106653.0, 106497.0, 106497.0, 108450.0, 108860.0, 108860.0, 104521.0, 104521.0, 103727.1, 103708.6, 104568.0, 104373.0, 103825.0, 103800.1, 105281.0, 105293.0, 105293.0, 105871.0, 105871.0, 105871.0, 106200.0, 106482.6, 110280.0, 110280.0, 110280.0, 110247.0, 109997.5, 108001.2, 107547.5, 105150.1, 105646.0, 105744.0, 105927.0, 106777.0, 107759.8, 103750.0, 106486.2, 106129.0, 103940.6, 103940.6, 106750.9, 107450.0, 107494.0, 107112.6, 108499.0)\n",
      "var float[] take_profit_prices = array.from(82221.0, 82221.0, 82221.0, 83155.4, 83155.4, 83155.4, 78935.5, 78935.5, 81617.75, 81617.75, 78935.5, 78935.5, 83118.1, 82756.0, 85101.55, 83700.0, 83063.9, 84260.0, 91619.0, 92700.0, 94154.1, 92700.0, 92848.1, 95186.5, 95426.4, 91619.0, 91619.0, 97388.0, 97388.0, 97388.0, 97865.4, 97865.4, 96122.4, 95804.8, 97865.4, 97865.4, 97865.4, 93950.0, 103174.6, 102541.6, 102541.6, 102541.6, 102038.8, 102038.8, 104115.2, 110723.0, 110096.7, 110096.7, 109440.2, 109510.2, 109510.2, 109440.2, 109440.2, 109440.2, 106723.9, 106723.9, 106723.9, 107220.0, 107220.0, 105029.35, 105029.35, 105039.45, 105967.2, 105967.2, 105283.0, 100972.5, 100972.5, 100972.5, 103800.1, 103800.1, 103800.1, 103800.1, 100972.5, 107953.4, 107953.4, 107953.4, 108282.0, 108282.0, 109325.05, 109325.05, 106180.9, 102614.0, 102614.0, 102614.0, 102614.0, 102614.0, 106100.0, 103870.3, 103870.3, 102255.3, 102255.3, 104939.6, 106313.1, 107152.5, 107538.0, 106767.0)\n",
      "var int[] best_entry_times = array.from(1743600600000, 1743600600000, 1743600600000, 1743815700000, 1743822000000, 1743847200000, 1744462800000, 1744462800000, 1744463700000, 1744463700000, 1744463700000, 1744488900000, 1744701300000, 1744723800000, 1744755300000, 1745053200000, 1745075700000, 1745136900000, 1745580600000, 1745937000000, 1745963100000, 1746011700000, 1746076500000, 1746061200000, 1746064800000, 1745844300000, 1745844300000, 1746171000000, 1746171000000, 1746171000000, 1746234000000, 1746252000000, 1746239400000, 1746313200000, 1746364500000, 1746379800000, 1746379800000, 1746217800000, 1747201500000, 1747567800000, 1747573200000, 1747609200000, 1747769400000, 1747769400000, 1747837800000, 1747972800000, 1747993500000, 1747993500000, 1748161800000, 1748164500000, 1748164500000, 1748184300000, 1748193300000, 1748208600000, 1748507400000, 1748523600000, 1748527200000, 1748597400000, 1748597400000, 1748780100000, 1748792700000, 1749084300000, 1749120300000, 1749140100000, 1749270600000, 1749298500000, 1749298500000, 1749298500000, 1749389400000, 1749389400000, 1749389400000, 1749398400000, 1749460500000, 1749582900000, 1749582900000, 1749582900000, 1749650400000, 1749662100000, 1749697200000, 1749712500000, 1749880800000, 1750032000000, 1750032900000, 1750045500000, 1750057200000, 1750090500000, 1750266000000, 1750415400000, 1750424400000, 1750507200000, 1750516200000, 1750837500000, 1751112000000, 1751157900000, 1751169600000, 1751238900000)\n",
      "var float[] best_entry_prices = array.from(85498.9, 85498.9, 85498.9, 84244.5, 83946.0, 83866.3, 83990.0, 83990.0, 84080.2, 84080.2, 84080.2, 85232.7, 85750.0, 86080.0, 83771.4, 85400.0, 85488.9, 84751.0, 94256.0, 95260.0, 94683.3, 95080.7, 94943.1, 94343.4, 94563.0, 95578.8, 95578.8, 96283.1, 96283.1, 96283.1, 96525.0, 96275.5, 96657.3, 96132.3, 95266.6, 95200.1, 95200.1, 97083.4, 103949.6, 103955.8, 103919.0, 105953.8, 106600.0, 106600.0, 107750.0, 111143.3, 111348.0, 111348.0, 107202.3, 106850.6, 106850.6, 107100.0, 107043.8, 107118.8, 108280.7, 108548.3, 107735.8, 104568.0, 104568.0, 103950.0, 104664.0, 104939.0, 104463.1, 103855.1, 104591.9, 105241.3, 105241.3, 105241.3, 105834.2, 105834.2, 105834.2, 106199.9, 106131.5, 110145.3, 110145.3, 110145.3, 109978.5, 109715.6, 108223.2, 107615.3, 105154.0, 105572.3, 105733.0, 105865.6, 106666.6, 107639.9, 103929.0, 106129.0, 106111.9, 103899.0, 103729.3, 106664.2, 107331.5, 107464.0, 107156.4, 108400.0)\n",
      "var int[] final_close_times = array.from(1743601500000, 1743601500000, 1743601500000, 1743857100000, 1743857100000, 1743857100000, 1744463700000, 1744463700000, 1744464600000, 1744464600000, 1744464600000, 1744489800000, 1744704000000, 1744724700000, 1744757100000, 1745070300000, 1745076600000, 1745145000000, 1745581500000, 1745944200000, 1745964900000, 1746012600000, 1746077400000, 1746090900000, 1746091800000, 1746092700000, 1746092700000, 1746196200000, 1746196200000, 1746196200000, 1746234900000, 1746252900000, 1746254700000, 1746315000000, 1746365400000, 1746396000000, 1746396000000, 1746408600000, 1747212300000, 1747575000000, 1747575000000, 1747611900000, 1747770300000, 1747770300000, 1747838700000, 1747973700000, 1747999800000, 1747999800000, 1748162700000, 1748165400000, 1748165400000, 1748186100000, 1748220300000, 1748220300000, 1748508300000, 1748529000000, 1748529000000, 1748622600000, 1748622600000, 1748781000000, 1748793600000, 1749085200000, 1749131100000, 1749141000000, 1749278700000, 1749299400000, 1749299400000, 1749299400000, 1749390300000, 1749390300000, 1749390300000, 1749399300000, 1749461400000, 1749583800000, 1749583800000, 1749583800000, 1749651300000, 1749680100000, 1749698100000, 1749713400000, 1749881700000, 1750032900000, 1750038300000, 1750046400000, 1750058100000, 1750091400000, 1750267800000, 1750430700000, 1750430700000, 1750534200000, 1750534200000, 1750842000000, 1751125500000, 1751162400000, 1751185800000, 1751242500000)\n",
      "var float[] final_close_prices = array.from(85595.5, 85595.5, 85595.5, 83155.4, 83155.4, 83155.4, 83998.9, 83998.9, 84300.0, 84300.0, 84300.0, 85388.0, 85835.0, 86100.0, 83760.1, 85441.5, 85493.5, 84260.0, 94409.5, 95264.9, 94154.1, 95149.9, 94978.1, 95186.5, 95426.4, 95769.6, 95769.6, 97388.0, 97388.0, 97388.0, 96513.4, 96255.0, 96122.4, 95804.8, 95227.2, 95172.4, 95172.4, 93950.0, 103174.6, 104066.1, 104066.1, 105999.7, 106800.0, 106800.0, 107950.0, 110723.0, 110096.7, 110096.7, 107142.0, 106836.0, 106836.0, 106653.0, 109440.2, 109440.2, 108450.0, 106723.9, 106723.9, 104521.0, 104521.0, 103727.1, 105029.35, 105039.45, 104373.0, 103825.0, 105283.0, 105281.0, 105293.0, 105293.0, 105871.0, 105871.0, 105871.0, 106200.0, 106482.6, 110280.0, 110280.0, 110280.0, 110247.0, 108282.0, 108001.2, 107547.5, 105150.1, 105646.0, 105744.0, 105927.0, 106777.0, 107759.8, 103750.0, 103870.3, 103870.3, 102255.3, 102255.3, 106750.9, 107450.0, 107152.5, 107538.0, 108499.0)\n",
      "var int[] directions = array.from(-1, -1, -1, -1, -1, -1, -1, -1, -1, -1, -1, -1, -1, -1, 1, -1, -1, -1, -1, -1, -1, -1, -1, 1, 1, -1, -1, 1, 1, 1, 1, 1, -1, -1, 1, 1, 1, -1, -1, -1, -1, -1, -1, -1, -1, -1, -1, -1, 1, 1, 1, 1, 1, 1, -1, -1, -1, 1, 1, 1, 1, 1, 1, 1, 1, -1, -1, -1, -1, -1, -1, -1, -1, -1, -1, -1, -1, -1, 1, 1, 1, -1, -1, -1, -1, -1, 1, -1, -1, -1, -1, -1, -1, -1, 1, -1)\n"
     ]
    }
   ],
   "source": [
    "print(to_tw_arrs(\"BTCUSDT\", search_in[0][1]))"
   ],
   "metadata": {
    "collapsed": false,
    "ExecuteTime": {
     "end_time": "2025-09-13T23:13:57.937448Z",
     "start_time": "2025-09-13T23:13:57.830006Z"
    }
   },
   "id": "249bfbd99ff69a7c",
   "execution_count": 3
  },
  {
   "cell_type": "code",
   "outputs": [],
   "source": [
    "# group_display(trade_dfs, [\"year\"], False, \"entry_rr\")\n",
    "# print('--')\n",
    "# search_by = trade_dfs\n",
    "# search_by = merge_year_dfs([trade_dfs_bet],\n",
    "#                            \"2 < entry_rr and asset in ['BTCUSDT', 'ETHUSDT']\",\n",
    "#                            # \"psp_key == '4h' and 4 < entry_rr and asset in ['BTCUSDT', 'ETHUSDT'] and signal_dq not in ['DQ4_NYPM']\",\n",
    "#                            # \"year == 2024\",\n",
    "#                            # \"asset != 'SOLUSDT' and smt_flags in ['BeS', 'Bes', 'bES', 'bEs']\",\n",
    "#                            # \"psp_key == '4h' and target_level == 5 and 0.3 < entry_rr < 113\",\n",
    "#                            # [],\n",
    "#                            ['chase_median_rr']\n",
    "#                            # [x[0] for x in trade_dfs if x[0] not in ['market all', 'limit all']]\n",
    "#                            )\n",
    "# df_group = group_display(search_by, [\n",
    "#     # \"entry_rr\",\n",
    "#     # \"year\",\n",
    "#     \"psp_key\",\n",
    "#     # \"smt_type\",\n",
    "#     # \"smt_flags\",\n",
    "#     # \"entry_rr_perc\",\n",
    "#     # \"target_level\",\n",
    "# \n",
    "#     \"signal_dq\",\n",
    "#     \"target_label\",\n",
    "#     # \"entry_dq\",\n",
    "#     # \"signal_wd\",\n",
    "#     # \"signal_q90m\",\n",
    "#     # \"entry_q90m\",\n",
    "#     # \"entry_wd\",\n",
    "#     # \"asset\",\n",
    "#     # \"minutes_between_signal_and_entry\",\n",
    "#     # \"entry_position_usd\",\n",
    "#     # \"entry_position_fee\",\n",
    "#     # \"close_position_fee\",\n",
    "# \n",
    "#     # \"entry_rr\",\n",
    "#     \"year\",\n",
    "#     \"entry_yq\",\n",
    "# ], False, [\"entry_rr\"], [])\n",
    "# \n",
    "# df_group\n",
    "# df_group[\"entry_position_usd\"].max()"
   ],
   "metadata": {
    "collapsed": false,
    "ExecuteTime": {
     "end_time": "2025-09-13T18:49:37.941785Z",
     "start_time": "2025-09-13T18:49:37.927970Z"
    }
   },
   "id": "2df7893458705fa2",
   "execution_count": 11
  },
  {
   "cell_type": "code",
   "outputs": [],
   "source": [],
   "metadata": {
    "collapsed": false
   },
   "id": "b4b8e029b39b7ba7",
   "execution_count": null
  },
  {
   "cell_type": "code",
   "outputs": [
    {
     "data": {
      "text/plain": "           signal_time        entry_time    asset direction     pnl_usd  \\\n16    2023-01-07 01:00  2023-01-07 01:15  BTCUSDT      DOWN  196.571539   \n17    2023-01-07 01:00  2023-01-07 01:15  ETHUSDT      DOWN  578.207724   \n26    2023-01-11 03:00  2023-01-11 03:45  SOLUSDT      DOWN  262.962963   \n28    2023-01-11 03:00  2023-01-11 03:45  BTCUSDT      DOWN  -13.612654   \n29    2023-01-11 03:00  2023-01-11 05:15  ETHUSDT      DOWN   -0.715849   \n...                ...               ...      ...       ...         ...   \n2288  2025-08-21 05:00  2025-08-21 05:45  ETHUSDT      DOWN  212.007486   \n2305  2025-08-29 02:00  2025-08-29 02:15  SOLUSDT      DOWN  279.604954   \n2309  2025-08-31 03:00  2025-08-31 03:15  SOLUSDT      DOWN  335.216961   \n2310  2025-08-31 03:00  2025-08-31 03:15  BTCUSDT      DOWN  470.269974   \n2327  2025-09-05 15:00  2025-09-05 15:15  ETHUSDT      DOWN   17.690750   \n\n      pnl_minus_fees    signal_time_ny     entry_time_ny   entry_rr  \\\n16        117.909996  2023-01-06 20:00  2023-01-06 20:15  36.222727   \n17        499.717917  2023-01-06 20:00  2023-01-06 20:15  17.230804   \n26        257.594772  2023-01-10 22:00  2023-01-10 22:45   2.629630   \n28        -25.892833  2023-01-10 22:00  2023-01-10 22:45   3.271250   \n29        -10.293193  2023-01-10 22:00  2023-01-11 00:15   2.032700   \n...              ...               ...               ...        ...   \n2288      202.689348  2025-08-21 01:00  2025-08-21 01:45   3.031616   \n2305      275.728021  2025-08-28 22:00  2025-08-28 22:15   3.823529   \n2309      324.514058  2025-08-30 23:00  2025-08-30 23:15   6.723214   \n2310      438.095572  2025-08-30 23:00  2025-08-30 23:15   9.160567   \n2327       16.312048  2025-09-05 11:00  2025-09-05 11:15   0.176908   \n\n        entry_price  ...  cum_pnl_if_full_preclose  \\\n16     16970.988106  ...                194.828649   \n17      1270.474284  ...               1005.971036   \n26        16.051684  ...               2172.115582   \n28     17410.635060  ...               2480.316141   \n29      1332.842236  ...               2578.884443   \n...             ...  ...                       ...   \n2288    4302.942614  ...              -2275.672032   \n2305     214.572805  ...              -1901.412367   \n2309     205.447491  ...               -946.851410   \n2310  109227.421690  ...               -922.368115   \n2327    4283.881281  ...               -939.670898   \n\n      cum_pnl_minus_fees_if_full_preclose  cum_pnl_if_full_tp_sl  \\\n16                            -117.130677            -580.991466   \n17                             615.626724            -667.151774   \n26                            1624.655058             431.782364   \n28                            1916.220624             567.208232   \n29                            2005.256260             467.208232   \n...                                   ...                    ...   \n2288                        -10160.282216            3241.341894   \n2305                         -9893.735293            3760.495779   \n2309                         -9009.027149            4132.817208   \n2310                         -9016.918860            5048.873861   \n2327                         -9262.564007            3466.564611   \n\n      cum_pnl_minus_fees_if_full_tp_sl          entry_date  \\\n16                         -893.075813 2023-01-07 01:15:00   \n17                        -1058.024893 2023-01-07 01:15:00   \n26                         -116.216100 2023-01-11 03:45:00   \n28                            2.497025 2023-01-11 03:45:00   \n29                         -107.124996 2023-01-11 05:15:00   \n...                                ...                 ...   \n2288                      -4641.292059 2025-08-21 05:45:00   \n2305                      -4229.785713 2025-08-29 02:15:00   \n2309                      -3927.579106 2025-08-31 03:15:00   \n2310                      -3043.496251 2025-08-31 03:15:00   \n2327                      -4854.771580 2025-09-05 15:15:00   \n\n     3d_window_start_date 3d_pnl_cumsum stagnation_trades_count  \\\n16             2023-01-06    187.066770                       0   \n17             2023-01-06    765.274493                       0   \n26             2023-01-09   1104.708463                       0   \n28             2023-01-09   1326.521677                       0   \n29             2023-01-09   1325.805828                       0   \n...                   ...           ...                     ...   \n2288           2025-08-20    301.694900                       0   \n2305           2025-08-29    635.259420                       0   \n2309           2025-08-29   1298.700613                       0   \n2310           2025-08-29   1768.970587                       0   \n2327           2025-09-04   -424.207469                      16   \n\n      stagnation_days 3d_pnl_cumsum_last_in_window  \n16                  0                   793.105372  \n17                  0                   793.105372  \n26                  0                  1149.157981  \n28                  0                  1149.157981  \n29                  0                  1149.157981  \n...               ...                          ...  \n2288                0                   301.694900  \n2305                0                  1713.712952  \n2309                0                  1713.712952  \n2310                0                  1713.712952  \n2327                2                  -424.207469  \n\n[305 rows x 97 columns]",
      "text/html": "<div>\n<style scoped>\n    .dataframe tbody tr th:only-of-type {\n        vertical-align: middle;\n    }\n\n    .dataframe tbody tr th {\n        vertical-align: top;\n    }\n\n    .dataframe thead th {\n        text-align: right;\n    }\n</style>\n<table border=\"1\" class=\"dataframe\">\n  <thead>\n    <tr style=\"text-align: right;\">\n      <th></th>\n      <th>signal_time</th>\n      <th>entry_time</th>\n      <th>asset</th>\n      <th>direction</th>\n      <th>pnl_usd</th>\n      <th>pnl_minus_fees</th>\n      <th>signal_time_ny</th>\n      <th>entry_time_ny</th>\n      <th>entry_rr</th>\n      <th>entry_price</th>\n      <th>...</th>\n      <th>cum_pnl_if_full_preclose</th>\n      <th>cum_pnl_minus_fees_if_full_preclose</th>\n      <th>cum_pnl_if_full_tp_sl</th>\n      <th>cum_pnl_minus_fees_if_full_tp_sl</th>\n      <th>entry_date</th>\n      <th>3d_window_start_date</th>\n      <th>3d_pnl_cumsum</th>\n      <th>stagnation_trades_count</th>\n      <th>stagnation_days</th>\n      <th>3d_pnl_cumsum_last_in_window</th>\n    </tr>\n  </thead>\n  <tbody>\n    <tr>\n      <th>16</th>\n      <td>2023-01-07 01:00</td>\n      <td>2023-01-07 01:15</td>\n      <td>BTCUSDT</td>\n      <td>DOWN</td>\n      <td>196.571539</td>\n      <td>117.909996</td>\n      <td>2023-01-06 20:00</td>\n      <td>2023-01-06 20:15</td>\n      <td>36.222727</td>\n      <td>16970.988106</td>\n      <td>...</td>\n      <td>194.828649</td>\n      <td>-117.130677</td>\n      <td>-580.991466</td>\n      <td>-893.075813</td>\n      <td>2023-01-07 01:15:00</td>\n      <td>2023-01-06</td>\n      <td>187.066770</td>\n      <td>0</td>\n      <td>0</td>\n      <td>793.105372</td>\n    </tr>\n    <tr>\n      <th>17</th>\n      <td>2023-01-07 01:00</td>\n      <td>2023-01-07 01:15</td>\n      <td>ETHUSDT</td>\n      <td>DOWN</td>\n      <td>578.207724</td>\n      <td>499.717917</td>\n      <td>2023-01-06 20:00</td>\n      <td>2023-01-06 20:15</td>\n      <td>17.230804</td>\n      <td>1270.474284</td>\n      <td>...</td>\n      <td>1005.971036</td>\n      <td>615.626724</td>\n      <td>-667.151774</td>\n      <td>-1058.024893</td>\n      <td>2023-01-07 01:15:00</td>\n      <td>2023-01-06</td>\n      <td>765.274493</td>\n      <td>0</td>\n      <td>0</td>\n      <td>793.105372</td>\n    </tr>\n    <tr>\n      <th>26</th>\n      <td>2023-01-11 03:00</td>\n      <td>2023-01-11 03:45</td>\n      <td>SOLUSDT</td>\n      <td>DOWN</td>\n      <td>262.962963</td>\n      <td>257.594772</td>\n      <td>2023-01-10 22:00</td>\n      <td>2023-01-10 22:45</td>\n      <td>2.629630</td>\n      <td>16.051684</td>\n      <td>...</td>\n      <td>2172.115582</td>\n      <td>1624.655058</td>\n      <td>431.782364</td>\n      <td>-116.216100</td>\n      <td>2023-01-11 03:45:00</td>\n      <td>2023-01-09</td>\n      <td>1104.708463</td>\n      <td>0</td>\n      <td>0</td>\n      <td>1149.157981</td>\n    </tr>\n    <tr>\n      <th>28</th>\n      <td>2023-01-11 03:00</td>\n      <td>2023-01-11 03:45</td>\n      <td>BTCUSDT</td>\n      <td>DOWN</td>\n      <td>-13.612654</td>\n      <td>-25.892833</td>\n      <td>2023-01-10 22:00</td>\n      <td>2023-01-10 22:45</td>\n      <td>3.271250</td>\n      <td>17410.635060</td>\n      <td>...</td>\n      <td>2480.316141</td>\n      <td>1916.220624</td>\n      <td>567.208232</td>\n      <td>2.497025</td>\n      <td>2023-01-11 03:45:00</td>\n      <td>2023-01-09</td>\n      <td>1326.521677</td>\n      <td>0</td>\n      <td>0</td>\n      <td>1149.157981</td>\n    </tr>\n    <tr>\n      <th>29</th>\n      <td>2023-01-11 03:00</td>\n      <td>2023-01-11 05:15</td>\n      <td>ETHUSDT</td>\n      <td>DOWN</td>\n      <td>-0.715849</td>\n      <td>-10.293193</td>\n      <td>2023-01-10 22:00</td>\n      <td>2023-01-11 00:15</td>\n      <td>2.032700</td>\n      <td>1332.842236</td>\n      <td>...</td>\n      <td>2578.884443</td>\n      <td>2005.256260</td>\n      <td>467.208232</td>\n      <td>-107.124996</td>\n      <td>2023-01-11 05:15:00</td>\n      <td>2023-01-09</td>\n      <td>1325.805828</td>\n      <td>0</td>\n      <td>0</td>\n      <td>1149.157981</td>\n    </tr>\n    <tr>\n      <th>...</th>\n      <td>...</td>\n      <td>...</td>\n      <td>...</td>\n      <td>...</td>\n      <td>...</td>\n      <td>...</td>\n      <td>...</td>\n      <td>...</td>\n      <td>...</td>\n      <td>...</td>\n      <td>...</td>\n      <td>...</td>\n      <td>...</td>\n      <td>...</td>\n      <td>...</td>\n      <td>...</td>\n      <td>...</td>\n      <td>...</td>\n      <td>...</td>\n      <td>...</td>\n      <td>...</td>\n    </tr>\n    <tr>\n      <th>2288</th>\n      <td>2025-08-21 05:00</td>\n      <td>2025-08-21 05:45</td>\n      <td>ETHUSDT</td>\n      <td>DOWN</td>\n      <td>212.007486</td>\n      <td>202.689348</td>\n      <td>2025-08-21 01:00</td>\n      <td>2025-08-21 01:45</td>\n      <td>3.031616</td>\n      <td>4302.942614</td>\n      <td>...</td>\n      <td>-2275.672032</td>\n      <td>-10160.282216</td>\n      <td>3241.341894</td>\n      <td>-4641.292059</td>\n      <td>2025-08-21 05:45:00</td>\n      <td>2025-08-20</td>\n      <td>301.694900</td>\n      <td>0</td>\n      <td>0</td>\n      <td>301.694900</td>\n    </tr>\n    <tr>\n      <th>2305</th>\n      <td>2025-08-29 02:00</td>\n      <td>2025-08-29 02:15</td>\n      <td>SOLUSDT</td>\n      <td>DOWN</td>\n      <td>279.604954</td>\n      <td>275.728021</td>\n      <td>2025-08-28 22:00</td>\n      <td>2025-08-28 22:15</td>\n      <td>3.823529</td>\n      <td>214.572805</td>\n      <td>...</td>\n      <td>-1901.412367</td>\n      <td>-9893.735293</td>\n      <td>3760.495779</td>\n      <td>-4229.785713</td>\n      <td>2025-08-29 02:15:00</td>\n      <td>2025-08-29</td>\n      <td>635.259420</td>\n      <td>0</td>\n      <td>0</td>\n      <td>1713.712952</td>\n    </tr>\n    <tr>\n      <th>2309</th>\n      <td>2025-08-31 03:00</td>\n      <td>2025-08-31 03:15</td>\n      <td>SOLUSDT</td>\n      <td>DOWN</td>\n      <td>335.216961</td>\n      <td>324.514058</td>\n      <td>2025-08-30 23:00</td>\n      <td>2025-08-30 23:15</td>\n      <td>6.723214</td>\n      <td>205.447491</td>\n      <td>...</td>\n      <td>-946.851410</td>\n      <td>-9009.027149</td>\n      <td>4132.817208</td>\n      <td>-3927.579106</td>\n      <td>2025-08-31 03:15:00</td>\n      <td>2025-08-29</td>\n      <td>1298.700613</td>\n      <td>0</td>\n      <td>0</td>\n      <td>1713.712952</td>\n    </tr>\n    <tr>\n      <th>2310</th>\n      <td>2025-08-31 03:00</td>\n      <td>2025-08-31 03:15</td>\n      <td>BTCUSDT</td>\n      <td>DOWN</td>\n      <td>470.269974</td>\n      <td>438.095572</td>\n      <td>2025-08-30 23:00</td>\n      <td>2025-08-30 23:15</td>\n      <td>9.160567</td>\n      <td>109227.421690</td>\n      <td>...</td>\n      <td>-922.368115</td>\n      <td>-9016.918860</td>\n      <td>5048.873861</td>\n      <td>-3043.496251</td>\n      <td>2025-08-31 03:15:00</td>\n      <td>2025-08-29</td>\n      <td>1768.970587</td>\n      <td>0</td>\n      <td>0</td>\n      <td>1713.712952</td>\n    </tr>\n    <tr>\n      <th>2327</th>\n      <td>2025-09-05 15:00</td>\n      <td>2025-09-05 15:15</td>\n      <td>ETHUSDT</td>\n      <td>DOWN</td>\n      <td>17.690750</td>\n      <td>16.312048</td>\n      <td>2025-09-05 11:00</td>\n      <td>2025-09-05 11:15</td>\n      <td>0.176908</td>\n      <td>4283.881281</td>\n      <td>...</td>\n      <td>-939.670898</td>\n      <td>-9262.564007</td>\n      <td>3466.564611</td>\n      <td>-4854.771580</td>\n      <td>2025-09-05 15:15:00</td>\n      <td>2025-09-04</td>\n      <td>-424.207469</td>\n      <td>16</td>\n      <td>2</td>\n      <td>-424.207469</td>\n    </tr>\n  </tbody>\n</table>\n<p>305 rows × 97 columns</p>\n</div>"
     },
     "execution_count": 37,
     "metadata": {},
     "output_type": "execute_result"
    }
   ],
   "source": [
    "search_in[0][1]"
   ],
   "metadata": {
    "collapsed": false,
    "ExecuteTime": {
     "end_time": "2025-09-13T16:47:19.558138Z",
     "start_time": "2025-09-13T16:47:19.478962Z"
    }
   },
   "id": "b1afca64c1c631a1",
   "execution_count": 37
  },
  {
   "cell_type": "code",
   "execution_count": 25,
   "id": "635b22294b2d4d73",
   "metadata": {
    "collapsed": false,
    "ExecuteTime": {
     "end_time": "2025-09-03T22:03:09.388825Z",
     "start_time": "2025-09-03T22:03:09.383951Z"
    }
   },
   "outputs": [],
   "source": [
    "# group([\"direction\"])\n",
    "# group([\"asset\"])\n",
    "# group([\"smt_type\"])\n",
    "# group([\"smt_label\"])\n",
    "# group([\"smt_flags\"])\n",
    "\n",
    "# display([round(float(x), 4) for x in np.percentile(trades_df_2024['entry_rr'], [10, 30, 70, 90])])\n",
    "# display([round(float(x), 4) for x in np.percentile(trades_df_2025['entry_rr'], [10, 30, 70, 90])])\n",
    "\n",
    "# group([\"entry_rr_perc\"])\n",
    "# df_group = group([\"direction\", \"psp_key\"], \"\")\n",
    "# df_group"
   ]
  },
  {
   "cell_type": "code",
   "outputs": [],
   "source": [],
   "metadata": {
    "collapsed": false
   },
   "id": "1ba08e06214d119d",
   "execution_count": null
  },
  {
   "cell_type": "code",
   "outputs": [],
   "source": [],
   "metadata": {
    "collapsed": false
   },
   "id": "7a52177675c1a758",
   "execution_count": null
  },
  {
   "cell_type": "code",
   "outputs": [],
   "source": [],
   "metadata": {
    "collapsed": false
   },
   "id": "d6a74a6bde7c5e83",
   "execution_count": null
  },
  {
   "cell_type": "code",
   "execution_count": 29,
   "id": "b5617f2e69a35666",
   "metadata": {
    "collapsed": false,
    "ExecuteTime": {
     "end_time": "2025-09-03T22:03:11.057045Z",
     "start_time": "2025-09-03T22:03:11.053007Z"
    }
   },
   "outputs": [],
   "source": [
    "# group([\"psp_key\", \"direction\", \"entry_yq\"])\n",
    "# group([\"psp_key\", \"direction\", \"entry_mw\"])\n",
    "# group([\"psp_key\", \"direction\", \"entry_wd\"])\n",
    "# group([\"psp_key\", \"direction\", \"entry_wd\"])\n",
    "# group([\"psp_key\", \"direction\", \"entry_dq\"])\n",
    "# group([\"psp_key\", \"direction\", \"entry_q90m\"])\n",
    "# group([\"entry_yq\"])\n",
    "# group([\"entry_mw\"])\n",
    "# group([\"entry_wd\"])\n",
    "# group([\"entry_dq\"])\n",
    "# group([\"entry_q90m\"])"
   ]
  },
  {
   "cell_type": "code",
   "execution_count": 29,
   "id": "ff8c325b4d14bf3e",
   "metadata": {
    "collapsed": false,
    "ExecuteTime": {
     "end_time": "2025-09-03T22:03:11.062313Z",
     "start_time": "2025-09-03T22:03:11.059004Z"
    }
   },
   "outputs": [],
   "source": []
  },
  {
   "cell_type": "code",
   "execution_count": 30,
   "id": "7c6fc9a68cdfa4b1",
   "metadata": {
    "collapsed": false,
    "ExecuteTime": {
     "end_time": "2025-09-03T22:03:11.071650Z",
     "start_time": "2025-09-03T22:03:11.067565Z"
    }
   },
   "outputs": [],
   "source": [
    "# (trades_df_2024.groupby([\"smt_label\", \"psp_key\", \"direction\"])[\"pnl_usd\"]\n",
    "#  .agg([\"mean\", \"median\", \"count\"])\n",
    "#  .reset_index())\n",
    "# (trades_df_2025.groupby([\"smt_label\", \"psp_key\", \"direction\"])[\"pnl_usd\"]\n",
    "#  .agg([\"mean\", \"median\", \"count\"])\n",
    "#  .reset_index())"
   ]
  },
  {
   "cell_type": "code",
   "execution_count": 31,
   "id": "c26f779155e01a1d",
   "metadata": {
    "collapsed": false,
    "ExecuteTime": {
     "end_time": "2025-09-03T22:03:11.088856Z",
     "start_time": "2025-09-03T22:03:11.073775Z"
    }
   },
   "outputs": [],
   "source": [
    "# display([round(float(x), 4) for x in np.percentile(trades_df_2024['entry_rr'], [10, 30, 70, 90])])\n",
    "# display([round(float(x), 4) for x in np.percentile(trades_df_2025['entry_rr'], [10, 30, 70, 90])])\n",
    "# \n",
    "# display(trades_df_2024.groupby(\"entry_rr_perc\")[\"pnl_usd\"].agg([\"mean\", \"median\", \"count\"]))\n",
    "# display(trades_df_2025.groupby(\"entry_rr_perc\")[\"pnl_usd\"].agg([\"mean\", \"median\", \"count\"]))\n",
    "# \n",
    "# display(trades_df_2024.query(\"14 < entry_rr < 17\")[\"pnl_usd\"].agg([\"mean\", \"median\", \"count\"]))\n",
    "# display(trades_df_2025.query(\"14 < entry_rr < 17\")[\"pnl_usd\"].agg([\"mean\", \"median\", \"count\"]))\n",
    "# display(trades_df_2024.query(\"14 < entry_rr < 17\")[\"won\"].agg([\"mean\", \"median\", \"count\"]))\n",
    "# display(trades_df_2025.query(\"14 < entry_rr < 17\")[\"won\"].agg([\"mean\", \"median\", \"count\"]))"
   ]
  },
  {
   "cell_type": "code",
   "outputs": [],
   "source": [
    "# df_rr_change_2024 = trades_df_2024.query(\"won\")[[\"entry_rr\", \"entry_rr_perc\", \"best_entry_rr\"]]\n",
    "# df_rr_change_2024[\"multiplier\"] = df_rr_change_2024[\"best_entry_rr\"] / df_rr_change_2024[\"entry_rr\"]\n",
    "# display([round(float(x), 4) for x in np.percentile(df_rr_change_2024['entry_rr'], [10, 30, 70, 90])])\n",
    "# display(df_rr_change_2024.groupby(\"entry_rr_perc\")[\"multiplier\"].agg([\"mean\", \"median\", \"count\"]))\n",
    "# \n",
    "# df_rr_change_2025 = trades_df_2025.query(\"won\")[[\"entry_rr\", \"entry_rr_perc\", \"best_entry_rr\"]]\n",
    "# df_rr_change_2025[\"multiplier\"] = df_rr_change_2025[\"best_entry_rr\"] / df_rr_change_2025[\"entry_rr\"]\n",
    "# display([round(float(x), 4) for x in np.percentile(df_rr_change_2025['entry_rr'], [10, 30, 70, 90])])\n",
    "# display(df_rr_change_2025.groupby(\"entry_rr_perc\")[\"multiplier\"].agg([\"mean\", \"median\", \"count\"]))"
   ],
   "metadata": {
    "collapsed": false,
    "ExecuteTime": {
     "end_time": "2025-09-03T22:03:11.103880Z",
     "start_time": "2025-09-03T22:03:11.090808Z"
    }
   },
   "id": "7947ce3bea8d6633",
   "execution_count": 32
  }
 ],
 "metadata": {
  "kernelspec": {
   "display_name": "Python 3 (ipykernel)",
   "language": "python",
   "name": "python3"
  },
  "language_info": {
   "codemirror_mode": {
    "name": "ipython",
    "version": 3
   },
   "file_extension": ".py",
   "mimetype": "text/x-python",
   "name": "python",
   "nbconvert_exporter": "python",
   "pygments_lexer": "ipython3",
   "version": "3.11.11"
  }
 },
 "nbformat": 4,
 "nbformat_minor": 5
}
