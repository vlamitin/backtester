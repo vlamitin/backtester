{
 "cells": [
  {
   "cell_type": "code",
   "execution_count": null,
   "id": "initial_id",
   "metadata": {
    "is_executing": true,
    "ExecuteTime": {
     "start_time": "2025-09-03T18:22:44.336198Z"
    }
   },
   "outputs": [],
   "source": [
    "from IPython.display import display\n",
    "\n",
    "from scripts.run_smt_strategies_analyzer import strategy11_2024_snapshot, strategy11_2025_snapshot, snap_dfs, basic_stats, merge_year_dfs, \\\n",
    "    group_display\n",
    "\n",
    "f_name_2024, trade_dfs_2024, lo_dfs_2024 = snap_dfs(strategy11_2024_snapshot)\n",
    "f_name_2025, trade_dfs_2025, lo_dfs_2025  = snap_dfs(strategy11_2025_snapshot)\n",
    "\n",
    "trade_stat_2024, lo_stat_2024 = basic_stats(trade_dfs_2024, lo_dfs_2024)\n",
    "trade_stat_2025, lo_stat_2025 = basic_stats(trade_dfs_2025, lo_dfs_2025)\n",
    "\n",
    "trade_dfs = merge_year_dfs([trade_dfs_2024, trade_dfs_2025], \"\", [])\n",
    "\n",
    "print(f\"2024 {f_name_2024[23:34]}:\")\n",
    "print(f\"2024 Trade stat:\")\n",
    "display(trade_stat_2024)\n",
    "print(f\"2025 {f_name_2025[23:34]}:\")\n",
    "print(f\"2025 Trade stat:\")\n",
    "display(trade_stat_2025)\n",
    "\n",
    "print(f\"2024 Limit orders stat:\")\n",
    "display(lo_stat_2024)\n",
    "print(f\"2025 Limit orders stat:\")\n",
    "display(lo_stat_2025)"
   ]
  },
  {
   "cell_type": "code",
   "outputs": [
    {
     "data": {
      "text/plain": "'market all [0.93, 2.23, 6.6, 15.96]'"
     },
     "metadata": {},
     "output_type": "display_data"
    },
    {
     "data": {
      "text/plain": "'limit all [1.17, 3.13, 9.96, 24.65]'"
     },
     "metadata": {},
     "output_type": "display_data"
    },
    {
     "data": {
      "text/plain": "'chase_median_rr [1.8, 3.78, 9.76, 23.71]'"
     },
     "metadata": {},
     "output_type": "display_data"
    },
    {
     "data": {
      "text/plain": "'chase_mean_rr [4.01, 7.3, 17.4, 44.96]'"
     },
     "metadata": {},
     "output_type": "display_data"
    },
    {
     "data": {
      "text/plain": "'chase_absent_two [0.65, 1.63, 4.7, 6.72]'"
     },
     "metadata": {},
     "output_type": "display_data"
    },
    {
     "data": {
      "text/plain": "'chase_absent_tdo [0.65, 1.73, 4.31, 10.03]'"
     },
     "metadata": {},
     "output_type": "display_data"
    },
    {
     "data": {
      "text/plain": "'chase_absent_t90mo [0.55, 1.29, 3.76, 8.39]'"
     },
     "metadata": {},
     "output_type": "display_data"
    },
    {
     "data": {
      "text/plain": "'chase_tyo [0.8, 1.47, 4.19, 18.28]'"
     },
     "metadata": {},
     "output_type": "display_data"
    },
    {
     "data": {
      "text/plain": "'chase_tmo [0.4, 1.36, 3.47, 11.15]'"
     },
     "metadata": {},
     "output_type": "display_data"
    },
    {
     "data": {
      "text/plain": "'chase_two [0.39, 1.16, 5.03, 12.75]'"
     },
     "metadata": {},
     "output_type": "display_data"
    },
    {
     "data": {
      "text/plain": "'chase_tdo [0.45, 1.14, 3.51, 8.2]'"
     },
     "metadata": {},
     "output_type": "display_data"
    },
    {
     "data": {
      "text/plain": "'chase_t90mo [1.16, 2.29, 5.66, 11.52]'"
     },
     "metadata": {},
     "output_type": "display_data"
    },
    {
     "data": {
      "text/plain": "      market all                      limit all                    \\\n            mean      median count         mean      median count   \nyear                                                                \n2024   -23.2/0.1  -100.0/0.0   134  -46.29/0.11  -100.0/0.0   397   \n2025  -0.58/0.14  -100.0/0.0    85   44.85/0.14  -100.0/0.0   311   \n\n     chase_median_rr                   chase_mean_rr  ... chase_tmo  \\\n                mean      median count          mean  ...     count   \nyear                                                  ...             \n2024     -39.86/0.11  -100.0/0.0   154   -48.77/0.12  ...         1   \n2025      33.55/0.17  -100.0/0.0   107    36.98/0.11  ...         3   \n\n       chase_two                      chase_tdo                    \\\n            mean      median count         mean      median count   \nyear                                                                \n2024  -100.0/0.0  -100.0/0.0     5   -100.0/0.0  -100.0/0.0     8   \n2025  -93.01/0.0  -93.01/0.0     2  -70.91/0.14  -100.0/0.0     7   \n\n      chase_t90mo                    \n             mean      median count  \nyear                                 \n2024  -39.38/0.23  -100.0/0.0    13  \n2025  -58.58/0.17  -91.67/0.0    12  \n\n[2 rows x 33 columns]",
      "text/html": "<div>\n<style scoped>\n    .dataframe tbody tr th:only-of-type {\n        vertical-align: middle;\n    }\n\n    .dataframe tbody tr th {\n        vertical-align: top;\n    }\n\n    .dataframe thead tr th {\n        text-align: left;\n    }\n\n    .dataframe thead tr:last-of-type th {\n        text-align: right;\n    }\n</style>\n<table border=\"1\" class=\"dataframe\">\n  <thead>\n    <tr>\n      <th></th>\n      <th colspan=\"3\" halign=\"left\">market all</th>\n      <th colspan=\"3\" halign=\"left\">limit all</th>\n      <th colspan=\"3\" halign=\"left\">chase_median_rr</th>\n      <th>chase_mean_rr</th>\n      <th>...</th>\n      <th>chase_tmo</th>\n      <th colspan=\"3\" halign=\"left\">chase_two</th>\n      <th colspan=\"3\" halign=\"left\">chase_tdo</th>\n      <th colspan=\"3\" halign=\"left\">chase_t90mo</th>\n    </tr>\n    <tr>\n      <th></th>\n      <th>mean</th>\n      <th>median</th>\n      <th>count</th>\n      <th>mean</th>\n      <th>median</th>\n      <th>count</th>\n      <th>mean</th>\n      <th>median</th>\n      <th>count</th>\n      <th>mean</th>\n      <th>...</th>\n      <th>count</th>\n      <th>mean</th>\n      <th>median</th>\n      <th>count</th>\n      <th>mean</th>\n      <th>median</th>\n      <th>count</th>\n      <th>mean</th>\n      <th>median</th>\n      <th>count</th>\n    </tr>\n    <tr>\n      <th>year</th>\n      <th></th>\n      <th></th>\n      <th></th>\n      <th></th>\n      <th></th>\n      <th></th>\n      <th></th>\n      <th></th>\n      <th></th>\n      <th></th>\n      <th></th>\n      <th></th>\n      <th></th>\n      <th></th>\n      <th></th>\n      <th></th>\n      <th></th>\n      <th></th>\n      <th></th>\n      <th></th>\n      <th></th>\n    </tr>\n  </thead>\n  <tbody>\n    <tr>\n      <th>2024</th>\n      <td>-23.2/0.1</td>\n      <td>-100.0/0.0</td>\n      <td>134</td>\n      <td>-46.29/0.11</td>\n      <td>-100.0/0.0</td>\n      <td>397</td>\n      <td>-39.86/0.11</td>\n      <td>-100.0/0.0</td>\n      <td>154</td>\n      <td>-48.77/0.12</td>\n      <td>...</td>\n      <td>1</td>\n      <td>-100.0/0.0</td>\n      <td>-100.0/0.0</td>\n      <td>5</td>\n      <td>-100.0/0.0</td>\n      <td>-100.0/0.0</td>\n      <td>8</td>\n      <td>-39.38/0.23</td>\n      <td>-100.0/0.0</td>\n      <td>13</td>\n    </tr>\n    <tr>\n      <th>2025</th>\n      <td>-0.58/0.14</td>\n      <td>-100.0/0.0</td>\n      <td>85</td>\n      <td>44.85/0.14</td>\n      <td>-100.0/0.0</td>\n      <td>311</td>\n      <td>33.55/0.17</td>\n      <td>-100.0/0.0</td>\n      <td>107</td>\n      <td>36.98/0.11</td>\n      <td>...</td>\n      <td>3</td>\n      <td>-93.01/0.0</td>\n      <td>-93.01/0.0</td>\n      <td>2</td>\n      <td>-70.91/0.14</td>\n      <td>-100.0/0.0</td>\n      <td>7</td>\n      <td>-58.58/0.17</td>\n      <td>-91.67/0.0</td>\n      <td>12</td>\n    </tr>\n  </tbody>\n</table>\n<p>2 rows × 33 columns</p>\n</div>"
     },
     "execution_count": 35,
     "metadata": {},
     "output_type": "execute_result"
    }
   ],
   "source": [
    "group_display(trade_dfs, [\"year\"], False, \"entry_rr\")\n",
    "# print('--')\n",
    "# search_by = trade_dfs\n",
    "search_by = merge_year_dfs(\n",
    "    [trade_dfs],\n",
    "    \"25 < entry_rr < 50\",\n",
    "    # \"psp_key == '4h' and target_level == 5 and 5 < entry_rr < 11 and signal_dq == 'DQ2_London'\",\n",
    "    [],\n",
    "    # ['chase_median_rr']\n",
    "    # [x[0] for x in trade_dfs if x[0] not in ['market all', 'limit all']]\n",
    ")\n",
    "df_group = group_display(search_by, [\n",
    "    # \"entry_dq\",\n",
    "    # \"minutes_between_signal_and_entry\",\n",
    "    # \"entry_dq\",\n",
    "    # \"entry_rr_perc\",\n",
    "    # \"entry_rr\",\n",
    "    # \"entry_position_usd\",\n",
    "    # \"entry_position_fee\",\n",
    "    # \"close_position_fee\",\n",
    "\n",
    "    \n",
    "    \"year\"], False, \"\")\n",
    "# df_group = group_display(search_by, [\"psp_key\", \"entry_rr_perc\", \"target_level\", \"year\"], True, \"entry_rr\")\n",
    "# df_group = group_display(search_by, [\"psp_key\", \"entry_rr_perc\", \"year\"], True, \"entry_rr\")\n",
    "\n",
    "df_group\n",
    "# df_group[\"entry_position_usd\"].max()"
   ],
   "metadata": {
    "collapsed": false,
    "ExecuteTime": {
     "end_time": "2025-09-03T16:08:28.864552Z",
     "start_time": "2025-09-03T16:08:28.221539Z"
    }
   },
   "id": "9b1db32ee3c32514",
   "execution_count": 35
  },
  {
   "cell_type": "code",
   "execution_count": 16,
   "id": "635b22294b2d4d73",
   "metadata": {
    "collapsed": false,
    "ExecuteTime": {
     "end_time": "2025-09-03T15:38:10.604544Z",
     "start_time": "2025-09-03T15:38:10.599030Z"
    }
   },
   "outputs": [],
   "source": [
    "# group([\"direction\"])\n",
    "# group([\"asset\"])\n",
    "# group([\"smt_type\"])\n",
    "# group([\"smt_label\"])\n",
    "# group([\"smt_flags\"])\n",
    "\n",
    "# display([round(float(x), 4) for x in np.percentile(trades_df_2024['entry_rr'], [10, 30, 70, 90])])\n",
    "# display([round(float(x), 4) for x in np.percentile(trades_df_2025['entry_rr'], [10, 30, 70, 90])])\n",
    "\n",
    "# group([\"entry_rr_perc\"])\n",
    "# df_group = group([\"direction\", \"psp_key\"], \"\")\n",
    "# df_group"
   ]
  },
  {
   "cell_type": "code",
   "outputs": [
    {
     "data": {
      "text/plain": "'market all'"
     },
     "metadata": {},
     "output_type": "display_data"
    },
    {
     "data": {
      "text/plain": "                                mean     median  count\npsp_key target_level year                             \n1h      4            2025  47.728736 -67.054042    174\n2h      4            2024  18.545964 -53.226046     60\n4h      5            2025  17.984025 -47.066320    600",
      "text/html": "<div>\n<style scoped>\n    .dataframe tbody tr th:only-of-type {\n        vertical-align: middle;\n    }\n\n    .dataframe tbody tr th {\n        vertical-align: top;\n    }\n\n    .dataframe thead th {\n        text-align: right;\n    }\n</style>\n<table border=\"1\" class=\"dataframe\">\n  <thead>\n    <tr style=\"text-align: right;\">\n      <th></th>\n      <th></th>\n      <th></th>\n      <th>mean</th>\n      <th>median</th>\n      <th>count</th>\n    </tr>\n    <tr>\n      <th>psp_key</th>\n      <th>target_level</th>\n      <th>year</th>\n      <th></th>\n      <th></th>\n      <th></th>\n    </tr>\n  </thead>\n  <tbody>\n    <tr>\n      <th>1h</th>\n      <th>4</th>\n      <th>2025</th>\n      <td>47.728736</td>\n      <td>-67.054042</td>\n      <td>174</td>\n    </tr>\n    <tr>\n      <th>2h</th>\n      <th>4</th>\n      <th>2024</th>\n      <td>18.545964</td>\n      <td>-53.226046</td>\n      <td>60</td>\n    </tr>\n    <tr>\n      <th>4h</th>\n      <th>5</th>\n      <th>2025</th>\n      <td>17.984025</td>\n      <td>-47.066320</td>\n      <td>600</td>\n    </tr>\n  </tbody>\n</table>\n</div>"
     },
     "metadata": {},
     "output_type": "display_data"
    },
    {
     "data": {
      "text/plain": "'limit all'"
     },
     "metadata": {},
     "output_type": "display_data"
    },
    {
     "data": {
      "text/plain": "                                mean     median  count\npsp_key target_level year                             \n1h      4            2025  61.871639 -81.443268    372\n4h      5            2025  38.756095 -56.159902   1233",
      "text/html": "<div>\n<style scoped>\n    .dataframe tbody tr th:only-of-type {\n        vertical-align: middle;\n    }\n\n    .dataframe tbody tr th {\n        vertical-align: top;\n    }\n\n    .dataframe thead th {\n        text-align: right;\n    }\n</style>\n<table border=\"1\" class=\"dataframe\">\n  <thead>\n    <tr style=\"text-align: right;\">\n      <th></th>\n      <th></th>\n      <th></th>\n      <th>mean</th>\n      <th>median</th>\n      <th>count</th>\n    </tr>\n    <tr>\n      <th>psp_key</th>\n      <th>target_level</th>\n      <th>year</th>\n      <th></th>\n      <th></th>\n      <th></th>\n    </tr>\n  </thead>\n  <tbody>\n    <tr>\n      <th>1h</th>\n      <th>4</th>\n      <th>2025</th>\n      <td>61.871639</td>\n      <td>-81.443268</td>\n      <td>372</td>\n    </tr>\n    <tr>\n      <th>4h</th>\n      <th>5</th>\n      <th>2025</th>\n      <td>38.756095</td>\n      <td>-56.159902</td>\n      <td>1233</td>\n    </tr>\n  </tbody>\n</table>\n</div>"
     },
     "metadata": {},
     "output_type": "display_data"
    },
    {
     "data": {
      "text/plain": "'chase_median_rr'"
     },
     "metadata": {},
     "output_type": "display_data"
    },
    {
     "data": {
      "text/plain": "                                mean     median  count\npsp_key target_level year                             \n1h      4            2025  63.255191 -76.728586    148\n4h      4            2024  28.286827 -66.306077    148\n        5            2025  33.742129 -63.530474    426",
      "text/html": "<div>\n<style scoped>\n    .dataframe tbody tr th:only-of-type {\n        vertical-align: middle;\n    }\n\n    .dataframe tbody tr th {\n        vertical-align: top;\n    }\n\n    .dataframe thead th {\n        text-align: right;\n    }\n</style>\n<table border=\"1\" class=\"dataframe\">\n  <thead>\n    <tr style=\"text-align: right;\">\n      <th></th>\n      <th></th>\n      <th></th>\n      <th>mean</th>\n      <th>median</th>\n      <th>count</th>\n    </tr>\n    <tr>\n      <th>psp_key</th>\n      <th>target_level</th>\n      <th>year</th>\n      <th></th>\n      <th></th>\n      <th></th>\n    </tr>\n  </thead>\n  <tbody>\n    <tr>\n      <th>1h</th>\n      <th>4</th>\n      <th>2025</th>\n      <td>63.255191</td>\n      <td>-76.728586</td>\n      <td>148</td>\n    </tr>\n    <tr>\n      <th rowspan=\"2\" valign=\"top\">4h</th>\n      <th>4</th>\n      <th>2024</th>\n      <td>28.286827</td>\n      <td>-66.306077</td>\n      <td>148</td>\n    </tr>\n    <tr>\n      <th>5</th>\n      <th>2025</th>\n      <td>33.742129</td>\n      <td>-63.530474</td>\n      <td>426</td>\n    </tr>\n  </tbody>\n</table>\n</div>"
     },
     "metadata": {},
     "output_type": "display_data"
    },
    {
     "data": {
      "text/plain": "'chase_mean_rr'"
     },
     "metadata": {},
     "output_type": "display_data"
    },
    {
     "data": {
      "text/plain": "                                mean      median  count\npsp_key target_level year                              \n1h      4            2025  78.476973 -100.000000    116\n4h      5            2025  69.497384  -86.279181    285",
      "text/html": "<div>\n<style scoped>\n    .dataframe tbody tr th:only-of-type {\n        vertical-align: middle;\n    }\n\n    .dataframe tbody tr th {\n        vertical-align: top;\n    }\n\n    .dataframe thead th {\n        text-align: right;\n    }\n</style>\n<table border=\"1\" class=\"dataframe\">\n  <thead>\n    <tr style=\"text-align: right;\">\n      <th></th>\n      <th></th>\n      <th></th>\n      <th>mean</th>\n      <th>median</th>\n      <th>count</th>\n    </tr>\n    <tr>\n      <th>psp_key</th>\n      <th>target_level</th>\n      <th>year</th>\n      <th></th>\n      <th></th>\n      <th></th>\n    </tr>\n  </thead>\n  <tbody>\n    <tr>\n      <th>1h</th>\n      <th>4</th>\n      <th>2025</th>\n      <td>78.476973</td>\n      <td>-100.000000</td>\n      <td>116</td>\n    </tr>\n    <tr>\n      <th>4h</th>\n      <th>5</th>\n      <th>2025</th>\n      <td>69.497384</td>\n      <td>-86.279181</td>\n      <td>285</td>\n    </tr>\n  </tbody>\n</table>\n</div>"
     },
     "metadata": {},
     "output_type": "display_data"
    },
    {
     "data": {
      "text/plain": "'chase_absent_two'"
     },
     "metadata": {},
     "output_type": "display_data"
    },
    {
     "data": {
      "text/plain": "                                mean     median  count\npsp_key target_level year                             \n4h      5            2024  30.856964 -51.355628     11",
      "text/html": "<div>\n<style scoped>\n    .dataframe tbody tr th:only-of-type {\n        vertical-align: middle;\n    }\n\n    .dataframe tbody tr th {\n        vertical-align: top;\n    }\n\n    .dataframe thead th {\n        text-align: right;\n    }\n</style>\n<table border=\"1\" class=\"dataframe\">\n  <thead>\n    <tr style=\"text-align: right;\">\n      <th></th>\n      <th></th>\n      <th></th>\n      <th>mean</th>\n      <th>median</th>\n      <th>count</th>\n    </tr>\n    <tr>\n      <th>psp_key</th>\n      <th>target_level</th>\n      <th>year</th>\n      <th></th>\n      <th></th>\n      <th></th>\n    </tr>\n  </thead>\n  <tbody>\n    <tr>\n      <th>4h</th>\n      <th>5</th>\n      <th>2024</th>\n      <td>30.856964</td>\n      <td>-51.355628</td>\n      <td>11</td>\n    </tr>\n  </tbody>\n</table>\n</div>"
     },
     "metadata": {},
     "output_type": "display_data"
    },
    {
     "data": {
      "text/plain": "'chase_absent_tdo'"
     },
     "metadata": {},
     "output_type": "display_data"
    },
    {
     "data": {
      "text/plain": "                                 mean     median  count\npsp_key target_level year                              \n1h      4            2025   62.055081  25.707075     14\n        5            2025   54.313019  -4.394731     32\n2h      4            2025  231.404461 -89.387587      9\n        5            2024   37.892694 -67.004660     29\n4h      4            2025  246.776657 -64.962125      9",
      "text/html": "<div>\n<style scoped>\n    .dataframe tbody tr th:only-of-type {\n        vertical-align: middle;\n    }\n\n    .dataframe tbody tr th {\n        vertical-align: top;\n    }\n\n    .dataframe thead th {\n        text-align: right;\n    }\n</style>\n<table border=\"1\" class=\"dataframe\">\n  <thead>\n    <tr style=\"text-align: right;\">\n      <th></th>\n      <th></th>\n      <th></th>\n      <th>mean</th>\n      <th>median</th>\n      <th>count</th>\n    </tr>\n    <tr>\n      <th>psp_key</th>\n      <th>target_level</th>\n      <th>year</th>\n      <th></th>\n      <th></th>\n      <th></th>\n    </tr>\n  </thead>\n  <tbody>\n    <tr>\n      <th rowspan=\"2\" valign=\"top\">1h</th>\n      <th>4</th>\n      <th>2025</th>\n      <td>62.055081</td>\n      <td>25.707075</td>\n      <td>14</td>\n    </tr>\n    <tr>\n      <th>5</th>\n      <th>2025</th>\n      <td>54.313019</td>\n      <td>-4.394731</td>\n      <td>32</td>\n    </tr>\n    <tr>\n      <th rowspan=\"2\" valign=\"top\">2h</th>\n      <th>4</th>\n      <th>2025</th>\n      <td>231.404461</td>\n      <td>-89.387587</td>\n      <td>9</td>\n    </tr>\n    <tr>\n      <th>5</th>\n      <th>2024</th>\n      <td>37.892694</td>\n      <td>-67.004660</td>\n      <td>29</td>\n    </tr>\n    <tr>\n      <th>4h</th>\n      <th>4</th>\n      <th>2025</th>\n      <td>246.776657</td>\n      <td>-64.962125</td>\n      <td>9</td>\n    </tr>\n  </tbody>\n</table>\n</div>"
     },
     "metadata": {},
     "output_type": "display_data"
    },
    {
     "data": {
      "text/plain": "'chase_absent_t90mo'"
     },
     "metadata": {},
     "output_type": "display_data"
    },
    {
     "data": {
      "text/plain": "                                mean     median  count\npsp_key target_level year                             \n2h      5            2025  35.772961 -50.002289     62",
      "text/html": "<div>\n<style scoped>\n    .dataframe tbody tr th:only-of-type {\n        vertical-align: middle;\n    }\n\n    .dataframe tbody tr th {\n        vertical-align: top;\n    }\n\n    .dataframe thead th {\n        text-align: right;\n    }\n</style>\n<table border=\"1\" class=\"dataframe\">\n  <thead>\n    <tr style=\"text-align: right;\">\n      <th></th>\n      <th></th>\n      <th></th>\n      <th>mean</th>\n      <th>median</th>\n      <th>count</th>\n    </tr>\n    <tr>\n      <th>psp_key</th>\n      <th>target_level</th>\n      <th>year</th>\n      <th></th>\n      <th></th>\n      <th></th>\n    </tr>\n  </thead>\n  <tbody>\n    <tr>\n      <th>2h</th>\n      <th>5</th>\n      <th>2025</th>\n      <td>35.772961</td>\n      <td>-50.002289</td>\n      <td>62</td>\n    </tr>\n  </tbody>\n</table>\n</div>"
     },
     "metadata": {},
     "output_type": "display_data"
    },
    {
     "data": {
      "text/plain": "'chase_tyo'"
     },
     "metadata": {},
     "output_type": "display_data"
    },
    {
     "data": {
      "text/plain": "                                mean     median  count\npsp_key target_level year                             \n1h      5            2024  59.205909 -63.405248     14\n2h      5            2024  58.419194 -81.436702      5",
      "text/html": "<div>\n<style scoped>\n    .dataframe tbody tr th:only-of-type {\n        vertical-align: middle;\n    }\n\n    .dataframe tbody tr th {\n        vertical-align: top;\n    }\n\n    .dataframe thead th {\n        text-align: right;\n    }\n</style>\n<table border=\"1\" class=\"dataframe\">\n  <thead>\n    <tr style=\"text-align: right;\">\n      <th></th>\n      <th></th>\n      <th></th>\n      <th>mean</th>\n      <th>median</th>\n      <th>count</th>\n    </tr>\n    <tr>\n      <th>psp_key</th>\n      <th>target_level</th>\n      <th>year</th>\n      <th></th>\n      <th></th>\n      <th></th>\n    </tr>\n  </thead>\n  <tbody>\n    <tr>\n      <th>1h</th>\n      <th>5</th>\n      <th>2024</th>\n      <td>59.205909</td>\n      <td>-63.405248</td>\n      <td>14</td>\n    </tr>\n    <tr>\n      <th>2h</th>\n      <th>5</th>\n      <th>2024</th>\n      <td>58.419194</td>\n      <td>-81.436702</td>\n      <td>5</td>\n    </tr>\n  </tbody>\n</table>\n</div>"
     },
     "metadata": {},
     "output_type": "display_data"
    },
    {
     "data": {
      "text/plain": "'chase_tmo'"
     },
     "metadata": {},
     "output_type": "display_data"
    },
    {
     "data": {
      "text/plain": "                                mean     median  count\npsp_key target_level year                             \n1h      5            2024  91.981356  44.240646     26\n2h      5            2024  54.080557 -54.781838     20",
      "text/html": "<div>\n<style scoped>\n    .dataframe tbody tr th:only-of-type {\n        vertical-align: middle;\n    }\n\n    .dataframe tbody tr th {\n        vertical-align: top;\n    }\n\n    .dataframe thead th {\n        text-align: right;\n    }\n</style>\n<table border=\"1\" class=\"dataframe\">\n  <thead>\n    <tr style=\"text-align: right;\">\n      <th></th>\n      <th></th>\n      <th></th>\n      <th>mean</th>\n      <th>median</th>\n      <th>count</th>\n    </tr>\n    <tr>\n      <th>psp_key</th>\n      <th>target_level</th>\n      <th>year</th>\n      <th></th>\n      <th></th>\n      <th></th>\n    </tr>\n  </thead>\n  <tbody>\n    <tr>\n      <th>1h</th>\n      <th>5</th>\n      <th>2024</th>\n      <td>91.981356</td>\n      <td>44.240646</td>\n      <td>26</td>\n    </tr>\n    <tr>\n      <th>2h</th>\n      <th>5</th>\n      <th>2024</th>\n      <td>54.080557</td>\n      <td>-54.781838</td>\n      <td>20</td>\n    </tr>\n  </tbody>\n</table>\n</div>"
     },
     "metadata": {},
     "output_type": "display_data"
    },
    {
     "data": {
      "text/plain": "'chase_two'"
     },
     "metadata": {},
     "output_type": "display_data"
    },
    {
     "data": {
      "text/plain": "                                 mean     median  count\npsp_key target_level year                              \n1h      4            2025  243.814078 -39.640678     17\n2h      5            2024   26.015147 -11.473944     59\n4h      4            2024   51.750780  44.071857     12\n        5            2025  163.861308   8.620916     45",
      "text/html": "<div>\n<style scoped>\n    .dataframe tbody tr th:only-of-type {\n        vertical-align: middle;\n    }\n\n    .dataframe tbody tr th {\n        vertical-align: top;\n    }\n\n    .dataframe thead th {\n        text-align: right;\n    }\n</style>\n<table border=\"1\" class=\"dataframe\">\n  <thead>\n    <tr style=\"text-align: right;\">\n      <th></th>\n      <th></th>\n      <th></th>\n      <th>mean</th>\n      <th>median</th>\n      <th>count</th>\n    </tr>\n    <tr>\n      <th>psp_key</th>\n      <th>target_level</th>\n      <th>year</th>\n      <th></th>\n      <th></th>\n      <th></th>\n    </tr>\n  </thead>\n  <tbody>\n    <tr>\n      <th>1h</th>\n      <th>4</th>\n      <th>2025</th>\n      <td>243.814078</td>\n      <td>-39.640678</td>\n      <td>17</td>\n    </tr>\n    <tr>\n      <th>2h</th>\n      <th>5</th>\n      <th>2024</th>\n      <td>26.015147</td>\n      <td>-11.473944</td>\n      <td>59</td>\n    </tr>\n    <tr>\n      <th rowspan=\"2\" valign=\"top\">4h</th>\n      <th>4</th>\n      <th>2024</th>\n      <td>51.750780</td>\n      <td>44.071857</td>\n      <td>12</td>\n    </tr>\n    <tr>\n      <th>5</th>\n      <th>2025</th>\n      <td>163.861308</td>\n      <td>8.620916</td>\n      <td>45</td>\n    </tr>\n  </tbody>\n</table>\n</div>"
     },
     "metadata": {},
     "output_type": "display_data"
    },
    {
     "data": {
      "text/plain": "'chase_tdo'"
     },
     "metadata": {},
     "output_type": "display_data"
    },
    {
     "data": {
      "text/plain": "                               mean     median  count\npsp_key target_level year                            \n4h      5            2025  36.57747  13.809784    174",
      "text/html": "<div>\n<style scoped>\n    .dataframe tbody tr th:only-of-type {\n        vertical-align: middle;\n    }\n\n    .dataframe tbody tr th {\n        vertical-align: top;\n    }\n\n    .dataframe thead th {\n        text-align: right;\n    }\n</style>\n<table border=\"1\" class=\"dataframe\">\n  <thead>\n    <tr style=\"text-align: right;\">\n      <th></th>\n      <th></th>\n      <th></th>\n      <th>mean</th>\n      <th>median</th>\n      <th>count</th>\n    </tr>\n    <tr>\n      <th>psp_key</th>\n      <th>target_level</th>\n      <th>year</th>\n      <th></th>\n      <th></th>\n      <th></th>\n    </tr>\n  </thead>\n  <tbody>\n    <tr>\n      <th>4h</th>\n      <th>5</th>\n      <th>2025</th>\n      <td>36.57747</td>\n      <td>13.809784</td>\n      <td>174</td>\n    </tr>\n  </tbody>\n</table>\n</div>"
     },
     "metadata": {},
     "output_type": "display_data"
    },
    {
     "data": {
      "text/plain": "'chase_t90mo'"
     },
     "metadata": {},
     "output_type": "display_data"
    },
    {
     "data": {
      "text/plain": "                                mean     median  count\npsp_key target_level year                             \n2h      5            2024  21.722539 -62.794589    233\n4h      4            2024  15.369140 -66.420603     76",
      "text/html": "<div>\n<style scoped>\n    .dataframe tbody tr th:only-of-type {\n        vertical-align: middle;\n    }\n\n    .dataframe tbody tr th {\n        vertical-align: top;\n    }\n\n    .dataframe thead th {\n        text-align: right;\n    }\n</style>\n<table border=\"1\" class=\"dataframe\">\n  <thead>\n    <tr style=\"text-align: right;\">\n      <th></th>\n      <th></th>\n      <th></th>\n      <th>mean</th>\n      <th>median</th>\n      <th>count</th>\n    </tr>\n    <tr>\n      <th>psp_key</th>\n      <th>target_level</th>\n      <th>year</th>\n      <th></th>\n      <th></th>\n      <th></th>\n    </tr>\n  </thead>\n  <tbody>\n    <tr>\n      <th>2h</th>\n      <th>5</th>\n      <th>2024</th>\n      <td>21.722539</td>\n      <td>-62.794589</td>\n      <td>233</td>\n    </tr>\n    <tr>\n      <th>4h</th>\n      <th>4</th>\n      <th>2024</th>\n      <td>15.369140</td>\n      <td>-66.420603</td>\n      <td>76</td>\n    </tr>\n  </tbody>\n</table>\n</div>"
     },
     "metadata": {},
     "output_type": "display_data"
    },
    {
     "data": {
      "text/plain": "                            market all                     limit all  \\\n                                  mean      median count        mean   \npsp_key target_level year                                              \n1h      4            2024    6.46/0.27  -67.36/0.0   235  -4.57/0.24   \n                     2025    47.73/0.3  -67.05/0.0   174  61.87/0.27   \n        5            2024     9.17/0.3  -63.97/0.0  1656   3.52/0.27   \n                     2025   -7.11/0.25  -72.64/0.0  1170  -7.89/0.22   \n2h      4            2024   18.55/0.38  -53.23/0.0    60   0.44/0.29   \n                     2025   -31.63/0.3  -76.25/0.0    90  -26.0/0.23   \n        5            2024    4.55/0.33  -67.97/0.0   807    0.5/0.27   \n                     2025  -15.69/0.26   -74.0/0.0   458  -9.21/0.25   \n4h      4            2024    7.78/0.29  -64.78/0.0   189    5.7/0.25   \n                     2025  -17.11/0.23  -78.81/0.0    87  -4.64/0.19   \n        5            2024   -6.09/0.36  -57.48/0.0   795  -8.73/0.31   \n                     2025   17.98/0.42  -47.07/0.0   600  38.76/0.37   \n\n                                            chase_median_rr                    \\\n                               median count            mean      median count   \npsp_key target_level year                                                       \n1h      4            2024  -75.86/0.0   490       7.26/0.22  -74.54/0.0   195   \n                     2025  -81.44/0.0   372      63.26/0.26  -76.73/0.0   148   \n        5            2024  -74.48/0.0  3326       4.01/0.26  -78.15/0.0  1312   \n                     2025  -90.36/0.0  2349       -7.41/0.2  -100.0/0.0   949   \n2h      4            2024  -70.33/0.0   133       8.23/0.28  -57.48/0.0    50   \n                     2025  -89.39/0.0   185     -38.05/0.25  -87.93/0.0    73   \n        5            2024  -79.64/0.0  1684      -0.92/0.25  -81.84/0.0   608   \n                     2025  -77.63/0.0   994     -22.83/0.22  -82.12/0.0   380   \n4h      4            2024  -68.67/0.0   448      28.29/0.26  -66.31/0.0   148   \n                     2025  -94.43/0.0   195     -15.94/0.16  -100.0/0.0    61   \n        5            2024  -64.94/0.0  1688      -9.25/0.28  -69.42/0.0   581   \n                     2025  -56.16/0.0  1233      33.74/0.34  -63.53/0.0   426   \n\n                          chase_mean_rr  ... chase_tmo    chase_two  \\\n                                   mean  ...     count         mean   \npsp_key target_level year                ...                          \n1h      4            2024    -22.7/0.17  ...         3   -8.75/0.37   \n                     2025    78.48/0.22  ...         6  243.81/0.47   \n        5            2024     2.95/0.19  ...        26  -16.89/0.27   \n                     2025    -12.6/0.15  ...        30  -27.61/0.29   \n2h      4            2024    -2.71/0.15  ...         2     0.32/0.5   \n                     2025   -50.52/0.15  ...         3   -74.29/0.0   \n        5            2024    -3.96/0.17  ...        20   26.02/0.47   \n                     2025   -12.36/0.18  ...        20  -22.41/0.33   \n4h      4            2024     -1.1/0.18  ...         2   51.75/0.67   \n                     2025     -8.22/0.1  ...         6  -31.95/0.25   \n        5            2024    -12.13/0.2  ...        13    0.48/0.49   \n                     2025     69.5/0.26  ...        21  163.86/0.53   \n\n                                               chase_tdo                    \\\n                               median count         mean      median count   \npsp_key target_level year                                                    \n1h      4            2024  -31.14/0.0    19  -17.51/0.35   -78.4/0.0    31   \n                     2025  -39.64/0.0    17    2.64/0.12  -80.23/0.0    17   \n        5            2024  -66.56/0.0    85    4.56/0.43   -33.1/0.0   236   \n                     2025  -66.61/0.0    58  -16.73/0.33  -59.75/0.0   184   \n2h      4            2024  -28.44/0.5     4   -7.91/0.47  -34.72/0.0    15   \n                     2025  -100.0/0.0     3  -34.66/0.27  -48.39/0.0    15   \n        5            2024  -11.47/0.0    59  -23.23/0.37  -63.73/0.0   171   \n                     2025   -57.4/0.0    24     9.54/0.4  -38.34/0.0    90   \n4h      4            2024   44.07/1.0    12  -23.29/0.13  -70.14/0.0    39   \n                     2025  -100.0/0.0     4  -12.88/0.27  -70.11/0.0    22   \n        5            2024   -8.59/0.0    57   -6.21/0.46  -27.06/0.0   207   \n                     2025    8.62/1.0    45   36.58/0.55   13.81/1.0   174   \n\n                           chase_t90mo                    \n                                  mean      median count  \npsp_key target_level year                                 \n1h      4            2024    8.37/0.33  -66.37/0.0    75  \n                     2025   -2.59/0.33  -83.74/0.0    43  \n        5            2024   -0.32/0.32  -56.82/0.0   403  \n                     2025    4.17/0.29  -54.09/0.0   266  \n2h      4            2024  -10.25/0.31  -73.03/0.0    13  \n                     2025  -33.51/0.25  -81.71/0.0    24  \n        5            2024   21.72/0.36  -62.79/0.0   233  \n                     2025   12.84/0.28  -64.87/0.0   109  \n4h      4            2024   15.37/0.34  -66.42/0.0    76  \n                     2025   -38.04/0.2  -55.89/0.0    30  \n        5            2024   -14.62/0.3  -68.65/0.0   227  \n                     2025   -0.99/0.31  -57.98/0.0   162  \n\n[12 rows x 36 columns]",
      "text/html": "<div>\n<style scoped>\n    .dataframe tbody tr th:only-of-type {\n        vertical-align: middle;\n    }\n\n    .dataframe tbody tr th {\n        vertical-align: top;\n    }\n\n    .dataframe thead tr th {\n        text-align: left;\n    }\n\n    .dataframe thead tr:last-of-type th {\n        text-align: right;\n    }\n</style>\n<table border=\"1\" class=\"dataframe\">\n  <thead>\n    <tr>\n      <th></th>\n      <th></th>\n      <th></th>\n      <th colspan=\"3\" halign=\"left\">market all</th>\n      <th colspan=\"3\" halign=\"left\">limit all</th>\n      <th colspan=\"3\" halign=\"left\">chase_median_rr</th>\n      <th>chase_mean_rr</th>\n      <th>...</th>\n      <th>chase_tmo</th>\n      <th colspan=\"3\" halign=\"left\">chase_two</th>\n      <th colspan=\"3\" halign=\"left\">chase_tdo</th>\n      <th colspan=\"3\" halign=\"left\">chase_t90mo</th>\n    </tr>\n    <tr>\n      <th></th>\n      <th></th>\n      <th></th>\n      <th>mean</th>\n      <th>median</th>\n      <th>count</th>\n      <th>mean</th>\n      <th>median</th>\n      <th>count</th>\n      <th>mean</th>\n      <th>median</th>\n      <th>count</th>\n      <th>mean</th>\n      <th>...</th>\n      <th>count</th>\n      <th>mean</th>\n      <th>median</th>\n      <th>count</th>\n      <th>mean</th>\n      <th>median</th>\n      <th>count</th>\n      <th>mean</th>\n      <th>median</th>\n      <th>count</th>\n    </tr>\n    <tr>\n      <th>psp_key</th>\n      <th>target_level</th>\n      <th>year</th>\n      <th></th>\n      <th></th>\n      <th></th>\n      <th></th>\n      <th></th>\n      <th></th>\n      <th></th>\n      <th></th>\n      <th></th>\n      <th></th>\n      <th></th>\n      <th></th>\n      <th></th>\n      <th></th>\n      <th></th>\n      <th></th>\n      <th></th>\n      <th></th>\n      <th></th>\n      <th></th>\n      <th></th>\n    </tr>\n  </thead>\n  <tbody>\n    <tr>\n      <th rowspan=\"4\" valign=\"top\">1h</th>\n      <th rowspan=\"2\" valign=\"top\">4</th>\n      <th>2024</th>\n      <td>6.46/0.27</td>\n      <td>-67.36/0.0</td>\n      <td>235</td>\n      <td>-4.57/0.24</td>\n      <td>-75.86/0.0</td>\n      <td>490</td>\n      <td>7.26/0.22</td>\n      <td>-74.54/0.0</td>\n      <td>195</td>\n      <td>-22.7/0.17</td>\n      <td>...</td>\n      <td>3</td>\n      <td>-8.75/0.37</td>\n      <td>-31.14/0.0</td>\n      <td>19</td>\n      <td>-17.51/0.35</td>\n      <td>-78.4/0.0</td>\n      <td>31</td>\n      <td>8.37/0.33</td>\n      <td>-66.37/0.0</td>\n      <td>75</td>\n    </tr>\n    <tr>\n      <th>2025</th>\n      <td>47.73/0.3</td>\n      <td>-67.05/0.0</td>\n      <td>174</td>\n      <td>61.87/0.27</td>\n      <td>-81.44/0.0</td>\n      <td>372</td>\n      <td>63.26/0.26</td>\n      <td>-76.73/0.0</td>\n      <td>148</td>\n      <td>78.48/0.22</td>\n      <td>...</td>\n      <td>6</td>\n      <td>243.81/0.47</td>\n      <td>-39.64/0.0</td>\n      <td>17</td>\n      <td>2.64/0.12</td>\n      <td>-80.23/0.0</td>\n      <td>17</td>\n      <td>-2.59/0.33</td>\n      <td>-83.74/0.0</td>\n      <td>43</td>\n    </tr>\n    <tr>\n      <th rowspan=\"2\" valign=\"top\">5</th>\n      <th>2024</th>\n      <td>9.17/0.3</td>\n      <td>-63.97/0.0</td>\n      <td>1656</td>\n      <td>3.52/0.27</td>\n      <td>-74.48/0.0</td>\n      <td>3326</td>\n      <td>4.01/0.26</td>\n      <td>-78.15/0.0</td>\n      <td>1312</td>\n      <td>2.95/0.19</td>\n      <td>...</td>\n      <td>26</td>\n      <td>-16.89/0.27</td>\n      <td>-66.56/0.0</td>\n      <td>85</td>\n      <td>4.56/0.43</td>\n      <td>-33.1/0.0</td>\n      <td>236</td>\n      <td>-0.32/0.32</td>\n      <td>-56.82/0.0</td>\n      <td>403</td>\n    </tr>\n    <tr>\n      <th>2025</th>\n      <td>-7.11/0.25</td>\n      <td>-72.64/0.0</td>\n      <td>1170</td>\n      <td>-7.89/0.22</td>\n      <td>-90.36/0.0</td>\n      <td>2349</td>\n      <td>-7.41/0.2</td>\n      <td>-100.0/0.0</td>\n      <td>949</td>\n      <td>-12.6/0.15</td>\n      <td>...</td>\n      <td>30</td>\n      <td>-27.61/0.29</td>\n      <td>-66.61/0.0</td>\n      <td>58</td>\n      <td>-16.73/0.33</td>\n      <td>-59.75/0.0</td>\n      <td>184</td>\n      <td>4.17/0.29</td>\n      <td>-54.09/0.0</td>\n      <td>266</td>\n    </tr>\n    <tr>\n      <th rowspan=\"4\" valign=\"top\">2h</th>\n      <th rowspan=\"2\" valign=\"top\">4</th>\n      <th>2024</th>\n      <td>18.55/0.38</td>\n      <td>-53.23/0.0</td>\n      <td>60</td>\n      <td>0.44/0.29</td>\n      <td>-70.33/0.0</td>\n      <td>133</td>\n      <td>8.23/0.28</td>\n      <td>-57.48/0.0</td>\n      <td>50</td>\n      <td>-2.71/0.15</td>\n      <td>...</td>\n      <td>2</td>\n      <td>0.32/0.5</td>\n      <td>-28.44/0.5</td>\n      <td>4</td>\n      <td>-7.91/0.47</td>\n      <td>-34.72/0.0</td>\n      <td>15</td>\n      <td>-10.25/0.31</td>\n      <td>-73.03/0.0</td>\n      <td>13</td>\n    </tr>\n    <tr>\n      <th>2025</th>\n      <td>-31.63/0.3</td>\n      <td>-76.25/0.0</td>\n      <td>90</td>\n      <td>-26.0/0.23</td>\n      <td>-89.39/0.0</td>\n      <td>185</td>\n      <td>-38.05/0.25</td>\n      <td>-87.93/0.0</td>\n      <td>73</td>\n      <td>-50.52/0.15</td>\n      <td>...</td>\n      <td>3</td>\n      <td>-74.29/0.0</td>\n      <td>-100.0/0.0</td>\n      <td>3</td>\n      <td>-34.66/0.27</td>\n      <td>-48.39/0.0</td>\n      <td>15</td>\n      <td>-33.51/0.25</td>\n      <td>-81.71/0.0</td>\n      <td>24</td>\n    </tr>\n    <tr>\n      <th rowspan=\"2\" valign=\"top\">5</th>\n      <th>2024</th>\n      <td>4.55/0.33</td>\n      <td>-67.97/0.0</td>\n      <td>807</td>\n      <td>0.5/0.27</td>\n      <td>-79.64/0.0</td>\n      <td>1684</td>\n      <td>-0.92/0.25</td>\n      <td>-81.84/0.0</td>\n      <td>608</td>\n      <td>-3.96/0.17</td>\n      <td>...</td>\n      <td>20</td>\n      <td>26.02/0.47</td>\n      <td>-11.47/0.0</td>\n      <td>59</td>\n      <td>-23.23/0.37</td>\n      <td>-63.73/0.0</td>\n      <td>171</td>\n      <td>21.72/0.36</td>\n      <td>-62.79/0.0</td>\n      <td>233</td>\n    </tr>\n    <tr>\n      <th>2025</th>\n      <td>-15.69/0.26</td>\n      <td>-74.0/0.0</td>\n      <td>458</td>\n      <td>-9.21/0.25</td>\n      <td>-77.63/0.0</td>\n      <td>994</td>\n      <td>-22.83/0.22</td>\n      <td>-82.12/0.0</td>\n      <td>380</td>\n      <td>-12.36/0.18</td>\n      <td>...</td>\n      <td>20</td>\n      <td>-22.41/0.33</td>\n      <td>-57.4/0.0</td>\n      <td>24</td>\n      <td>9.54/0.4</td>\n      <td>-38.34/0.0</td>\n      <td>90</td>\n      <td>12.84/0.28</td>\n      <td>-64.87/0.0</td>\n      <td>109</td>\n    </tr>\n    <tr>\n      <th rowspan=\"4\" valign=\"top\">4h</th>\n      <th rowspan=\"2\" valign=\"top\">4</th>\n      <th>2024</th>\n      <td>7.78/0.29</td>\n      <td>-64.78/0.0</td>\n      <td>189</td>\n      <td>5.7/0.25</td>\n      <td>-68.67/0.0</td>\n      <td>448</td>\n      <td>28.29/0.26</td>\n      <td>-66.31/0.0</td>\n      <td>148</td>\n      <td>-1.1/0.18</td>\n      <td>...</td>\n      <td>2</td>\n      <td>51.75/0.67</td>\n      <td>44.07/1.0</td>\n      <td>12</td>\n      <td>-23.29/0.13</td>\n      <td>-70.14/0.0</td>\n      <td>39</td>\n      <td>15.37/0.34</td>\n      <td>-66.42/0.0</td>\n      <td>76</td>\n    </tr>\n    <tr>\n      <th>2025</th>\n      <td>-17.11/0.23</td>\n      <td>-78.81/0.0</td>\n      <td>87</td>\n      <td>-4.64/0.19</td>\n      <td>-94.43/0.0</td>\n      <td>195</td>\n      <td>-15.94/0.16</td>\n      <td>-100.0/0.0</td>\n      <td>61</td>\n      <td>-8.22/0.1</td>\n      <td>...</td>\n      <td>6</td>\n      <td>-31.95/0.25</td>\n      <td>-100.0/0.0</td>\n      <td>4</td>\n      <td>-12.88/0.27</td>\n      <td>-70.11/0.0</td>\n      <td>22</td>\n      <td>-38.04/0.2</td>\n      <td>-55.89/0.0</td>\n      <td>30</td>\n    </tr>\n    <tr>\n      <th rowspan=\"2\" valign=\"top\">5</th>\n      <th>2024</th>\n      <td>-6.09/0.36</td>\n      <td>-57.48/0.0</td>\n      <td>795</td>\n      <td>-8.73/0.31</td>\n      <td>-64.94/0.0</td>\n      <td>1688</td>\n      <td>-9.25/0.28</td>\n      <td>-69.42/0.0</td>\n      <td>581</td>\n      <td>-12.13/0.2</td>\n      <td>...</td>\n      <td>13</td>\n      <td>0.48/0.49</td>\n      <td>-8.59/0.0</td>\n      <td>57</td>\n      <td>-6.21/0.46</td>\n      <td>-27.06/0.0</td>\n      <td>207</td>\n      <td>-14.62/0.3</td>\n      <td>-68.65/0.0</td>\n      <td>227</td>\n    </tr>\n    <tr>\n      <th>2025</th>\n      <td>17.98/0.42</td>\n      <td>-47.07/0.0</td>\n      <td>600</td>\n      <td>38.76/0.37</td>\n      <td>-56.16/0.0</td>\n      <td>1233</td>\n      <td>33.74/0.34</td>\n      <td>-63.53/0.0</td>\n      <td>426</td>\n      <td>69.5/0.26</td>\n      <td>...</td>\n      <td>21</td>\n      <td>163.86/0.53</td>\n      <td>8.62/1.0</td>\n      <td>45</td>\n      <td>36.58/0.55</td>\n      <td>13.81/1.0</td>\n      <td>174</td>\n      <td>-0.99/0.31</td>\n      <td>-57.98/0.0</td>\n      <td>162</td>\n    </tr>\n  </tbody>\n</table>\n<p>12 rows × 36 columns</p>\n</div>"
     },
     "execution_count": 17,
     "metadata": {},
     "output_type": "execute_result"
    }
   ],
   "source": [
    "df_group = group_display(trade_dfs, [\"psp_key\", \"target_level\", \"year\"], True, \"\")\n",
    "df_group"
   ],
   "metadata": {
    "collapsed": false,
    "ExecuteTime": {
     "end_time": "2025-09-03T15:38:11.082631Z",
     "start_time": "2025-09-03T15:38:10.608735Z"
    }
   },
   "id": "1ba08e06214d119d",
   "execution_count": 17
  },
  {
   "cell_type": "code",
   "outputs": [
    {
     "data": {
      "text/plain": "'market all'"
     },
     "metadata": {},
     "output_type": "display_data"
    },
    {
     "data": {
      "text/plain": "                                                 mean      median  count\npercents_till_stop_perc target_level year                               \n<p10                    4            2025  191.886020 -100.000000     31\n                        5            2024   21.319353 -100.000000    328\n<p30                    4            2025   50.247779  -81.617924     58\n<p70                    4            2024   15.200999  -62.056738    189",
      "text/html": "<div>\n<style scoped>\n    .dataframe tbody tr th:only-of-type {\n        vertical-align: middle;\n    }\n\n    .dataframe tbody tr th {\n        vertical-align: top;\n    }\n\n    .dataframe thead th {\n        text-align: right;\n    }\n</style>\n<table border=\"1\" class=\"dataframe\">\n  <thead>\n    <tr style=\"text-align: right;\">\n      <th></th>\n      <th></th>\n      <th></th>\n      <th>mean</th>\n      <th>median</th>\n      <th>count</th>\n    </tr>\n    <tr>\n      <th>percents_till_stop_perc</th>\n      <th>target_level</th>\n      <th>year</th>\n      <th></th>\n      <th></th>\n      <th></th>\n    </tr>\n  </thead>\n  <tbody>\n    <tr>\n      <th rowspan=\"2\" valign=\"top\">&lt;p10</th>\n      <th>4</th>\n      <th>2025</th>\n      <td>191.886020</td>\n      <td>-100.000000</td>\n      <td>31</td>\n    </tr>\n    <tr>\n      <th>5</th>\n      <th>2024</th>\n      <td>21.319353</td>\n      <td>-100.000000</td>\n      <td>328</td>\n    </tr>\n    <tr>\n      <th>&lt;p30</th>\n      <th>4</th>\n      <th>2025</th>\n      <td>50.247779</td>\n      <td>-81.617924</td>\n      <td>58</td>\n    </tr>\n    <tr>\n      <th>&lt;p70</th>\n      <th>4</th>\n      <th>2024</th>\n      <td>15.200999</td>\n      <td>-62.056738</td>\n      <td>189</td>\n    </tr>\n  </tbody>\n</table>\n</div>"
     },
     "metadata": {},
     "output_type": "display_data"
    },
    {
     "data": {
      "text/plain": "'limit all'"
     },
     "metadata": {},
     "output_type": "display_data"
    },
    {
     "data": {
      "text/plain": "                                                 mean      median  count\npercents_till_stop_perc target_level year                               \n<p10                    4            2025  229.115274 -100.000000     68\n<p30                    4            2025   69.057509  -80.230568    131\n                        5            2025   34.755832 -100.000000    940",
      "text/html": "<div>\n<style scoped>\n    .dataframe tbody tr th:only-of-type {\n        vertical-align: middle;\n    }\n\n    .dataframe tbody tr th {\n        vertical-align: top;\n    }\n\n    .dataframe thead th {\n        text-align: right;\n    }\n</style>\n<table border=\"1\" class=\"dataframe\">\n  <thead>\n    <tr style=\"text-align: right;\">\n      <th></th>\n      <th></th>\n      <th></th>\n      <th>mean</th>\n      <th>median</th>\n      <th>count</th>\n    </tr>\n    <tr>\n      <th>percents_till_stop_perc</th>\n      <th>target_level</th>\n      <th>year</th>\n      <th></th>\n      <th></th>\n      <th></th>\n    </tr>\n  </thead>\n  <tbody>\n    <tr>\n      <th>&lt;p10</th>\n      <th>4</th>\n      <th>2025</th>\n      <td>229.115274</td>\n      <td>-100.000000</td>\n      <td>68</td>\n    </tr>\n    <tr>\n      <th rowspan=\"2\" valign=\"top\">&lt;p30</th>\n      <th>4</th>\n      <th>2025</th>\n      <td>69.057509</td>\n      <td>-80.230568</td>\n      <td>131</td>\n    </tr>\n    <tr>\n      <th>5</th>\n      <th>2025</th>\n      <td>34.755832</td>\n      <td>-100.000000</td>\n      <td>940</td>\n    </tr>\n  </tbody>\n</table>\n</div>"
     },
     "metadata": {},
     "output_type": "display_data"
    },
    {
     "data": {
      "text/plain": "'chase_median_rr'"
     },
     "metadata": {},
     "output_type": "display_data"
    },
    {
     "data": {
      "text/plain": "                                                 mean      median  count\npercents_till_stop_perc target_level year                               \n<p10                    4            2025  260.209516 -100.000000     26\n<p30                    4            2024   23.450359 -100.000000     59\n                                     2025   70.222672  -76.728586     50\n                        5            2025   30.617980 -100.000000    379\n<p70                    4            2024   19.337820  -60.751443    153\n>=p90                   4            2024   30.176166  -46.236683     51",
      "text/html": "<div>\n<style scoped>\n    .dataframe tbody tr th:only-of-type {\n        vertical-align: middle;\n    }\n\n    .dataframe tbody tr th {\n        vertical-align: top;\n    }\n\n    .dataframe thead th {\n        text-align: right;\n    }\n</style>\n<table border=\"1\" class=\"dataframe\">\n  <thead>\n    <tr style=\"text-align: right;\">\n      <th></th>\n      <th></th>\n      <th></th>\n      <th>mean</th>\n      <th>median</th>\n      <th>count</th>\n    </tr>\n    <tr>\n      <th>percents_till_stop_perc</th>\n      <th>target_level</th>\n      <th>year</th>\n      <th></th>\n      <th></th>\n      <th></th>\n    </tr>\n  </thead>\n  <tbody>\n    <tr>\n      <th>&lt;p10</th>\n      <th>4</th>\n      <th>2025</th>\n      <td>260.209516</td>\n      <td>-100.000000</td>\n      <td>26</td>\n    </tr>\n    <tr>\n      <th rowspan=\"3\" valign=\"top\">&lt;p30</th>\n      <th rowspan=\"2\" valign=\"top\">4</th>\n      <th>2024</th>\n      <td>23.450359</td>\n      <td>-100.000000</td>\n      <td>59</td>\n    </tr>\n    <tr>\n      <th>2025</th>\n      <td>70.222672</td>\n      <td>-76.728586</td>\n      <td>50</td>\n    </tr>\n    <tr>\n      <th>5</th>\n      <th>2025</th>\n      <td>30.617980</td>\n      <td>-100.000000</td>\n      <td>379</td>\n    </tr>\n    <tr>\n      <th>&lt;p70</th>\n      <th>4</th>\n      <th>2024</th>\n      <td>19.337820</td>\n      <td>-60.751443</td>\n      <td>153</td>\n    </tr>\n    <tr>\n      <th>&gt;=p90</th>\n      <th>4</th>\n      <th>2024</th>\n      <td>30.176166</td>\n      <td>-46.236683</td>\n      <td>51</td>\n    </tr>\n  </tbody>\n</table>\n</div>"
     },
     "metadata": {},
     "output_type": "display_data"
    },
    {
     "data": {
      "text/plain": "'chase_mean_rr'"
     },
     "metadata": {},
     "output_type": "display_data"
    },
    {
     "data": {
      "text/plain": "                                                 mean      median  count\npercents_till_stop_perc target_level year                               \n<p10                    4            2025  177.924866 -100.000000     23\n<p30                    4            2025   97.756939 -100.000000     39\n                        5            2025   54.429291 -100.000000    302\n<p90                    4            2024   34.618236  -77.173463     59",
      "text/html": "<div>\n<style scoped>\n    .dataframe tbody tr th:only-of-type {\n        vertical-align: middle;\n    }\n\n    .dataframe tbody tr th {\n        vertical-align: top;\n    }\n\n    .dataframe thead th {\n        text-align: right;\n    }\n</style>\n<table border=\"1\" class=\"dataframe\">\n  <thead>\n    <tr style=\"text-align: right;\">\n      <th></th>\n      <th></th>\n      <th></th>\n      <th>mean</th>\n      <th>median</th>\n      <th>count</th>\n    </tr>\n    <tr>\n      <th>percents_till_stop_perc</th>\n      <th>target_level</th>\n      <th>year</th>\n      <th></th>\n      <th></th>\n      <th></th>\n    </tr>\n  </thead>\n  <tbody>\n    <tr>\n      <th>&lt;p10</th>\n      <th>4</th>\n      <th>2025</th>\n      <td>177.924866</td>\n      <td>-100.000000</td>\n      <td>23</td>\n    </tr>\n    <tr>\n      <th rowspan=\"2\" valign=\"top\">&lt;p30</th>\n      <th>4</th>\n      <th>2025</th>\n      <td>97.756939</td>\n      <td>-100.000000</td>\n      <td>39</td>\n    </tr>\n    <tr>\n      <th>5</th>\n      <th>2025</th>\n      <td>54.429291</td>\n      <td>-100.000000</td>\n      <td>302</td>\n    </tr>\n    <tr>\n      <th>&lt;p90</th>\n      <th>4</th>\n      <th>2024</th>\n      <td>34.618236</td>\n      <td>-77.173463</td>\n      <td>59</td>\n    </tr>\n  </tbody>\n</table>\n</div>"
     },
     "metadata": {},
     "output_type": "display_data"
    },
    {
     "data": {
      "text/plain": "'chase_absent_two'"
     },
     "metadata": {},
     "output_type": "display_data"
    },
    {
     "data": {
      "text/plain": "                                                mean     median  count\npercents_till_stop_perc target_level year                             \n>=p90                   5            2024  53.305126  54.464618      7",
      "text/html": "<div>\n<style scoped>\n    .dataframe tbody tr th:only-of-type {\n        vertical-align: middle;\n    }\n\n    .dataframe tbody tr th {\n        vertical-align: top;\n    }\n\n    .dataframe thead th {\n        text-align: right;\n    }\n</style>\n<table border=\"1\" class=\"dataframe\">\n  <thead>\n    <tr style=\"text-align: right;\">\n      <th></th>\n      <th></th>\n      <th></th>\n      <th>mean</th>\n      <th>median</th>\n      <th>count</th>\n    </tr>\n    <tr>\n      <th>percents_till_stop_perc</th>\n      <th>target_level</th>\n      <th>year</th>\n      <th></th>\n      <th></th>\n      <th></th>\n    </tr>\n  </thead>\n  <tbody>\n    <tr>\n      <th>&gt;=p90</th>\n      <th>5</th>\n      <th>2024</th>\n      <td>53.305126</td>\n      <td>54.464618</td>\n      <td>7</td>\n    </tr>\n  </tbody>\n</table>\n</div>"
     },
     "metadata": {},
     "output_type": "display_data"
    },
    {
     "data": {
      "text/plain": "'chase_absent_tdo'"
     },
     "metadata": {},
     "output_type": "display_data"
    },
    {
     "data": {
      "text/plain": "                                                 mean     median  count\npercents_till_stop_perc target_level year                              \n<p70                    5            2024   17.698868 -63.622688     50\n<p90                    4            2025  492.540283  21.573560     10\n>=p90                   5            2025   41.430154  26.902864     13",
      "text/html": "<div>\n<style scoped>\n    .dataframe tbody tr th:only-of-type {\n        vertical-align: middle;\n    }\n\n    .dataframe tbody tr th {\n        vertical-align: top;\n    }\n\n    .dataframe thead th {\n        text-align: right;\n    }\n</style>\n<table border=\"1\" class=\"dataframe\">\n  <thead>\n    <tr style=\"text-align: right;\">\n      <th></th>\n      <th></th>\n      <th></th>\n      <th>mean</th>\n      <th>median</th>\n      <th>count</th>\n    </tr>\n    <tr>\n      <th>percents_till_stop_perc</th>\n      <th>target_level</th>\n      <th>year</th>\n      <th></th>\n      <th></th>\n      <th></th>\n    </tr>\n  </thead>\n  <tbody>\n    <tr>\n      <th>&lt;p70</th>\n      <th>5</th>\n      <th>2024</th>\n      <td>17.698868</td>\n      <td>-63.622688</td>\n      <td>50</td>\n    </tr>\n    <tr>\n      <th>&lt;p90</th>\n      <th>4</th>\n      <th>2025</th>\n      <td>492.540283</td>\n      <td>21.573560</td>\n      <td>10</td>\n    </tr>\n    <tr>\n      <th>&gt;=p90</th>\n      <th>5</th>\n      <th>2025</th>\n      <td>41.430154</td>\n      <td>26.902864</td>\n      <td>13</td>\n    </tr>\n  </tbody>\n</table>\n</div>"
     },
     "metadata": {},
     "output_type": "display_data"
    },
    {
     "data": {
      "text/plain": "'chase_absent_t90mo'"
     },
     "metadata": {},
     "output_type": "display_data"
    },
    {
     "data": {
      "text/plain": "                                                mean      median  count\npercents_till_stop_perc target_level year                              \n<p10                    5            2024  32.056921 -100.000000     15\n<p30                    5            2025  29.426006  -50.008358     48",
      "text/html": "<div>\n<style scoped>\n    .dataframe tbody tr th:only-of-type {\n        vertical-align: middle;\n    }\n\n    .dataframe tbody tr th {\n        vertical-align: top;\n    }\n\n    .dataframe thead th {\n        text-align: right;\n    }\n</style>\n<table border=\"1\" class=\"dataframe\">\n  <thead>\n    <tr style=\"text-align: right;\">\n      <th></th>\n      <th></th>\n      <th></th>\n      <th>mean</th>\n      <th>median</th>\n      <th>count</th>\n    </tr>\n    <tr>\n      <th>percents_till_stop_perc</th>\n      <th>target_level</th>\n      <th>year</th>\n      <th></th>\n      <th></th>\n      <th></th>\n    </tr>\n  </thead>\n  <tbody>\n    <tr>\n      <th>&lt;p10</th>\n      <th>5</th>\n      <th>2024</th>\n      <td>32.056921</td>\n      <td>-100.000000</td>\n      <td>15</td>\n    </tr>\n    <tr>\n      <th>&lt;p30</th>\n      <th>5</th>\n      <th>2025</th>\n      <td>29.426006</td>\n      <td>-50.008358</td>\n      <td>48</td>\n    </tr>\n  </tbody>\n</table>\n</div>"
     },
     "metadata": {},
     "output_type": "display_data"
    },
    {
     "data": {
      "text/plain": "'chase_tyo'"
     },
     "metadata": {},
     "output_type": "display_data"
    },
    {
     "data": {
      "text/plain": "                                                mean      median  count\npercents_till_stop_perc target_level year                              \n<p30                    5            2024  51.231958 -100.000000      6\n<p90                    5            2024  46.517368    8.413179      9",
      "text/html": "<div>\n<style scoped>\n    .dataframe tbody tr th:only-of-type {\n        vertical-align: middle;\n    }\n\n    .dataframe tbody tr th {\n        vertical-align: top;\n    }\n\n    .dataframe thead th {\n        text-align: right;\n    }\n</style>\n<table border=\"1\" class=\"dataframe\">\n  <thead>\n    <tr style=\"text-align: right;\">\n      <th></th>\n      <th></th>\n      <th></th>\n      <th>mean</th>\n      <th>median</th>\n      <th>count</th>\n    </tr>\n    <tr>\n      <th>percents_till_stop_perc</th>\n      <th>target_level</th>\n      <th>year</th>\n      <th></th>\n      <th></th>\n      <th></th>\n    </tr>\n  </thead>\n  <tbody>\n    <tr>\n      <th>&lt;p30</th>\n      <th>5</th>\n      <th>2024</th>\n      <td>51.231958</td>\n      <td>-100.000000</td>\n      <td>6</td>\n    </tr>\n    <tr>\n      <th>&lt;p90</th>\n      <th>5</th>\n      <th>2024</th>\n      <td>46.517368</td>\n      <td>8.413179</td>\n      <td>9</td>\n    </tr>\n  </tbody>\n</table>\n</div>"
     },
     "metadata": {},
     "output_type": "display_data"
    },
    {
     "data": {
      "text/plain": "'chase_tmo'"
     },
     "metadata": {},
     "output_type": "display_data"
    },
    {
     "data": {
      "text/plain": "                                                 mean     median  count\npercents_till_stop_perc target_level year                              \n<p30                    5            2024   52.815678 -74.050166      9\n                                     2025   26.832763  12.833039      9\n<p70                    5            2024  117.686724  29.573475     17\n>=p90                   5            2024   33.939479 -14.135311     14",
      "text/html": "<div>\n<style scoped>\n    .dataframe tbody tr th:only-of-type {\n        vertical-align: middle;\n    }\n\n    .dataframe tbody tr th {\n        vertical-align: top;\n    }\n\n    .dataframe thead th {\n        text-align: right;\n    }\n</style>\n<table border=\"1\" class=\"dataframe\">\n  <thead>\n    <tr style=\"text-align: right;\">\n      <th></th>\n      <th></th>\n      <th></th>\n      <th>mean</th>\n      <th>median</th>\n      <th>count</th>\n    </tr>\n    <tr>\n      <th>percents_till_stop_perc</th>\n      <th>target_level</th>\n      <th>year</th>\n      <th></th>\n      <th></th>\n      <th></th>\n    </tr>\n  </thead>\n  <tbody>\n    <tr>\n      <th rowspan=\"2\" valign=\"top\">&lt;p30</th>\n      <th rowspan=\"2\" valign=\"top\">5</th>\n      <th>2024</th>\n      <td>52.815678</td>\n      <td>-74.050166</td>\n      <td>9</td>\n    </tr>\n    <tr>\n      <th>2025</th>\n      <td>26.832763</td>\n      <td>12.833039</td>\n      <td>9</td>\n    </tr>\n    <tr>\n      <th>&lt;p70</th>\n      <th>5</th>\n      <th>2024</th>\n      <td>117.686724</td>\n      <td>29.573475</td>\n      <td>17</td>\n    </tr>\n    <tr>\n      <th>&gt;=p90</th>\n      <th>5</th>\n      <th>2024</th>\n      <td>33.939479</td>\n      <td>-14.135311</td>\n      <td>14</td>\n    </tr>\n  </tbody>\n</table>\n</div>"
     },
     "metadata": {},
     "output_type": "display_data"
    },
    {
     "data": {
      "text/plain": "'chase_two'"
     },
     "metadata": {},
     "output_type": "display_data"
    },
    {
     "data": {
      "text/plain": "                                                 mean     median  count\npercents_till_stop_perc target_level year                              \n<p30                    4            2025   64.933961 -22.878105      7\n                        5            2024   21.808788 -55.233237     25\n<p70                    4            2024   22.389480 -15.122994     14\n                        5            2025  144.459567 -43.171396     46\n<p90                    5            2024   17.067500 -12.136053     50\n>=p90                   4            2024   47.630677  21.562776      5",
      "text/html": "<div>\n<style scoped>\n    .dataframe tbody tr th:only-of-type {\n        vertical-align: middle;\n    }\n\n    .dataframe tbody tr th {\n        vertical-align: top;\n    }\n\n    .dataframe thead th {\n        text-align: right;\n    }\n</style>\n<table border=\"1\" class=\"dataframe\">\n  <thead>\n    <tr style=\"text-align: right;\">\n      <th></th>\n      <th></th>\n      <th></th>\n      <th>mean</th>\n      <th>median</th>\n      <th>count</th>\n    </tr>\n    <tr>\n      <th>percents_till_stop_perc</th>\n      <th>target_level</th>\n      <th>year</th>\n      <th></th>\n      <th></th>\n      <th></th>\n    </tr>\n  </thead>\n  <tbody>\n    <tr>\n      <th rowspan=\"2\" valign=\"top\">&lt;p30</th>\n      <th>4</th>\n      <th>2025</th>\n      <td>64.933961</td>\n      <td>-22.878105</td>\n      <td>7</td>\n    </tr>\n    <tr>\n      <th>5</th>\n      <th>2024</th>\n      <td>21.808788</td>\n      <td>-55.233237</td>\n      <td>25</td>\n    </tr>\n    <tr>\n      <th rowspan=\"2\" valign=\"top\">&lt;p70</th>\n      <th>4</th>\n      <th>2024</th>\n      <td>22.389480</td>\n      <td>-15.122994</td>\n      <td>14</td>\n    </tr>\n    <tr>\n      <th>5</th>\n      <th>2025</th>\n      <td>144.459567</td>\n      <td>-43.171396</td>\n      <td>46</td>\n    </tr>\n    <tr>\n      <th>&lt;p90</th>\n      <th>5</th>\n      <th>2024</th>\n      <td>17.067500</td>\n      <td>-12.136053</td>\n      <td>50</td>\n    </tr>\n    <tr>\n      <th>&gt;=p90</th>\n      <th>4</th>\n      <th>2024</th>\n      <td>47.630677</td>\n      <td>21.562776</td>\n      <td>5</td>\n    </tr>\n  </tbody>\n</table>\n</div>"
     },
     "metadata": {},
     "output_type": "display_data"
    },
    {
     "data": {
      "text/plain": "'chase_tdo'"
     },
     "metadata": {},
     "output_type": "display_data"
    },
    {
     "data": {
      "text/plain": "                                                mean      median  count\npercents_till_stop_perc target_level year                              \n<p10                    5            2025  33.170352 -100.000000     25\n<p30                    4            2025  96.951583  -48.154849     11",
      "text/html": "<div>\n<style scoped>\n    .dataframe tbody tr th:only-of-type {\n        vertical-align: middle;\n    }\n\n    .dataframe tbody tr th {\n        vertical-align: top;\n    }\n\n    .dataframe thead th {\n        text-align: right;\n    }\n</style>\n<table border=\"1\" class=\"dataframe\">\n  <thead>\n    <tr style=\"text-align: right;\">\n      <th></th>\n      <th></th>\n      <th></th>\n      <th>mean</th>\n      <th>median</th>\n      <th>count</th>\n    </tr>\n    <tr>\n      <th>percents_till_stop_perc</th>\n      <th>target_level</th>\n      <th>year</th>\n      <th></th>\n      <th></th>\n      <th></th>\n    </tr>\n  </thead>\n  <tbody>\n    <tr>\n      <th>&lt;p10</th>\n      <th>5</th>\n      <th>2025</th>\n      <td>33.170352</td>\n      <td>-100.000000</td>\n      <td>25</td>\n    </tr>\n    <tr>\n      <th>&lt;p30</th>\n      <th>4</th>\n      <th>2025</th>\n      <td>96.951583</td>\n      <td>-48.154849</td>\n      <td>11</td>\n    </tr>\n  </tbody>\n</table>\n</div>"
     },
     "metadata": {},
     "output_type": "display_data"
    },
    {
     "data": {
      "text/plain": "'chase_t90mo'"
     },
     "metadata": {},
     "output_type": "display_data"
    },
    {
     "data": {
      "text/plain": "                                                mean     median  count\npercents_till_stop_perc target_level year                             \n<p10                    4            2025  42.578565 -52.896470      8\n<p30                    4            2024  46.185425 -66.372176     23\n                        5            2025  28.684606 -50.314474     97\n>=p90                   4            2024  16.691876 -53.902747     26",
      "text/html": "<div>\n<style scoped>\n    .dataframe tbody tr th:only-of-type {\n        vertical-align: middle;\n    }\n\n    .dataframe tbody tr th {\n        vertical-align: top;\n    }\n\n    .dataframe thead th {\n        text-align: right;\n    }\n</style>\n<table border=\"1\" class=\"dataframe\">\n  <thead>\n    <tr style=\"text-align: right;\">\n      <th></th>\n      <th></th>\n      <th></th>\n      <th>mean</th>\n      <th>median</th>\n      <th>count</th>\n    </tr>\n    <tr>\n      <th>percents_till_stop_perc</th>\n      <th>target_level</th>\n      <th>year</th>\n      <th></th>\n      <th></th>\n      <th></th>\n    </tr>\n  </thead>\n  <tbody>\n    <tr>\n      <th>&lt;p10</th>\n      <th>4</th>\n      <th>2025</th>\n      <td>42.578565</td>\n      <td>-52.896470</td>\n      <td>8</td>\n    </tr>\n    <tr>\n      <th rowspan=\"2\" valign=\"top\">&lt;p30</th>\n      <th>4</th>\n      <th>2024</th>\n      <td>46.185425</td>\n      <td>-66.372176</td>\n      <td>23</td>\n    </tr>\n    <tr>\n      <th>5</th>\n      <th>2025</th>\n      <td>28.684606</td>\n      <td>-50.314474</td>\n      <td>97</td>\n    </tr>\n    <tr>\n      <th>&gt;=p90</th>\n      <th>4</th>\n      <th>2024</th>\n      <td>16.691876</td>\n      <td>-53.902747</td>\n      <td>26</td>\n    </tr>\n  </tbody>\n</table>\n</div>"
     },
     "metadata": {},
     "output_type": "display_data"
    },
    {
     "data": {
      "text/plain": "'market all [0.15, 0.33, 0.81, 1.42]'"
     },
     "metadata": {},
     "output_type": "display_data"
    },
    {
     "data": {
      "text/plain": "'limit all [0.14, 0.31, 0.78, 1.38]'"
     },
     "metadata": {},
     "output_type": "display_data"
    },
    {
     "data": {
      "text/plain": "'chase_median_rr [0.13, 0.29, 0.74, 1.3]'"
     },
     "metadata": {},
     "output_type": "display_data"
    },
    {
     "data": {
      "text/plain": "'chase_mean_rr [0.1, 0.26, 0.66, 1.17]'"
     },
     "metadata": {},
     "output_type": "display_data"
    },
    {
     "data": {
      "text/plain": "'chase_absent_two [0.36, 0.6, 1.42, 2.06]'"
     },
     "metadata": {},
     "output_type": "display_data"
    },
    {
     "data": {
      "text/plain": "'chase_absent_tdo [0.28, 0.46, 1.1, 1.86]'"
     },
     "metadata": {},
     "output_type": "display_data"
    },
    {
     "data": {
      "text/plain": "'chase_absent_t90mo [0.22, 0.45, 1.03, 1.78]'"
     },
     "metadata": {},
     "output_type": "display_data"
    },
    {
     "data": {
      "text/plain": "'chase_tyo [0.2, 0.33, 0.81, 1.03]'"
     },
     "metadata": {},
     "output_type": "display_data"
    },
    {
     "data": {
      "text/plain": "'chase_tmo [0.2, 0.44, 1.11, 1.62]'"
     },
     "metadata": {},
     "output_type": "display_data"
    },
    {
     "data": {
      "text/plain": "'chase_two [0.2, 0.42, 0.93, 1.76]'"
     },
     "metadata": {},
     "output_type": "display_data"
    },
    {
     "data": {
      "text/plain": "'chase_tdo [0.19, 0.39, 0.85, 1.52]'"
     },
     "metadata": {},
     "output_type": "display_data"
    },
    {
     "data": {
      "text/plain": "'chase_t90mo [0.18, 0.35, 0.81, 1.43]'"
     },
     "metadata": {},
     "output_type": "display_data"
    },
    {
     "data": {
      "text/plain": "                                            market all                    \\\n                                                  mean      median count   \npercents_till_stop_perc target_level year                                  \n<p10                    4            2024   -19.74/0.2  -100.0/0.0    46   \n                                     2025  191.89/0.29  -100.0/0.0    31   \n                        5            2024   21.32/0.15  -100.0/0.0   328   \n                                     2025  -17.64/0.15  -100.0/0.0   221   \n<p30                    4            2024   10.39/0.25  -100.0/0.0    73   \n                                     2025   50.25/0.28  -81.62/0.0    58   \n                        5            2024     8.1/0.27  -95.09/0.0   649   \n                                     2025   13.55/0.27  -76.63/0.0   436   \n<p70                    4            2024    15.2/0.26  -62.06/0.0   189   \n                                     2025   -17.4/0.26  -72.02/0.0   142   \n                        5            2024    0.08/0.31  -60.05/0.0  1334   \n                                     2025   -0.45/0.31  -64.19/0.0   904   \n<p90                    4            2024   11.13/0.34  -60.05/0.0   110   \n                                     2025  -20.65/0.32   -57.6/0.0    69   \n                        5            2024    2.96/0.41  -45.11/0.0   637   \n                                     2025   -8.98/0.34  -58.22/0.0   458   \n>=p90                   4            2024    2.31/0.44  -37.13/0.0    66   \n                                     2025  -19.59/0.29  -68.99/0.0    51   \n                        5            2024   -0.73/0.46  -18.23/0.0   310   \n                                     2025  -10.57/0.42  -50.24/0.0   209   \n\n                                             limit all                    \\\n                                                  mean      median count   \npercents_till_stop_perc target_level year                                  \n<p10                    4            2024  -39.57/0.11  -100.0/0.0    97   \n                                     2025  229.12/0.29  -100.0/0.0    68   \n                        5            2024   -12.7/0.11  -100.0/0.0   664   \n                                     2025   -7.39/0.12  -100.0/0.0   438   \n<p30                    4            2024     4.7/0.21  -100.0/0.0   156   \n                                     2025    69.06/0.3  -80.23/0.0   131   \n                        5            2024     3.4/0.23  -100.0/0.0  1403   \n                                     2025   34.76/0.26  -100.0/0.0   940   \n<p70                    4            2024    5.87/0.25  -65.09/0.0   404   \n                                     2025   -8.18/0.24  -83.43/0.0   309   \n                        5            2024    0.07/0.28  -67.07/0.0  2676   \n                                     2025    1.13/0.27  -67.73/0.0  1808   \n<p90                    4            2024    1.92/0.27  -68.18/0.0   255   \n                                     2025    6.49/0.23  -86.35/0.0   144   \n                        5            2024    2.15/0.36  -51.09/0.0  1337   \n                                     2025   -7.93/0.29  -61.46/0.0   955   \n>=p90                   4            2024    3.89/0.35  -51.25/0.0   159   \n                                     2025  -57.32/0.16  -75.46/0.0   100   \n                        5            2024   -2.57/0.42  -45.82/0.0   618   \n                                     2025   -8.74/0.36  -50.88/0.0   435   \n\n                                          chase_median_rr                    \\\n                                                     mean      median count   \npercents_till_stop_perc target_level year                                     \n<p10                    4            2024       2.48/0.17  -100.0/0.0    42   \n                                     2025     260.21/0.27  -100.0/0.0    26   \n                        5            2024      -24.18/0.1  -100.0/0.0   276   \n                                     2025     -15.93/0.11  -100.0/0.0   187   \n<p30                    4            2024      23.45/0.22  -100.0/0.0    59   \n                                     2025      70.22/0.32  -76.73/0.0    50   \n                        5            2024       7.46/0.22  -100.0/0.0   548   \n                                     2025      30.62/0.26  -100.0/0.0   379   \n<p70                    4            2024      19.34/0.22  -60.75/0.0   153   \n                                     2025      -9.41/0.24  -83.43/0.0   119   \n                        5            2024       1.55/0.26  -67.37/0.0   986   \n                                     2025       -5.1/0.24  -71.38/0.0   689   \n<p90                    4            2024       0.33/0.23  -63.85/0.0    88   \n                                     2025     -31.15/0.21  -82.65/0.0    53   \n                        5            2024       2.61/0.34  -53.75/0.0   488   \n                                     2025     -11.26/0.25   -65.9/0.0   352   \n>=p90                   4            2024      30.18/0.39  -46.24/0.0    51   \n                                     2025      -55.7/0.15  -77.07/0.0    34   \n                        5            2024       -4.41/0.4  -47.19/0.0   203   \n                                     2025     -16.78/0.31   -55.8/0.0   148   \n\n                                          chase_mean_rr  ... chase_tmo  \\\n                                                   mean  ...     count   \npercents_till_stop_perc target_level year                ...             \n<p10                    4            2024   -83.04/0.03  ...      <NA>   \n                                     2025   177.92/0.17  ...         2   \n                        5            2024    -2.64/0.08  ...         3   \n                                     2025      3.17/0.1  ...         3   \n<p30                    4            2024   -26.15/0.14  ...         1   \n                                     2025    97.76/0.26  ...         1   \n                        5            2024    -0.21/0.17  ...         9   \n                                     2025    54.43/0.22  ...         9   \n<p70                    4            2024    -4.52/0.18  ...         1   \n                                     2025     8.52/0.18  ...         5   \n                        5            2024    -4.31/0.21  ...        17   \n                                     2025    -8.04/0.19  ...        32   \n<p90                    4            2024    34.62/0.24  ...         3   \n                                     2025   -27.15/0.17  ...         3   \n                        5            2024    -0.28/0.21  ...        16   \n                                     2025   -16.91/0.19  ...        15   \n>=p90                   4            2024   -22.54/0.23  ...         2   \n                                     2025   -71.78/0.08  ...         4   \n                        5            2024     1.49/0.27  ...        14   \n                                     2025   -22.03/0.17  ...        12   \n\n                                             chase_two                    \\\n                                                  mean      median count   \npercents_till_stop_perc target_level year                                  \n<p10                    4            2024   -54.97/0.0   -53.0/0.0     4   \n                                     2025  949.39/0.75  135.93/1.0     4   \n                        5            2024   -89.59/0.0  -100.0/0.0     8   \n                                     2025   -99.49/0.0  -100.0/0.0     4   \n<p30                    4            2024    91.04/0.5   91.04/0.5     2   \n                                     2025   64.93/0.43  -22.88/0.0     7   \n                        5            2024   21.81/0.32  -55.23/0.0    25   \n                                     2025  -36.09/0.23  -100.0/0.0    22   \n<p70                    4            2024    22.39/0.5  -15.12/0.5    14   \n                                     2025  -36.31/0.25  -100.0/0.0     8   \n                        5            2024   -9.21/0.32  -66.56/0.0    87   \n                                     2025  144.46/0.41  -43.17/0.0    46   \n<p90                    4            2024    -5.78/0.4   -37.6/0.0    10   \n                                     2025  -16.86/0.25  -69.82/0.0     4   \n                        5            2024   17.07/0.44  -12.14/0.0    50   \n                                     2025  -10.64/0.49  -29.41/0.0    35   \n>=p90                   4            2024    47.63/1.0   21.56/1.0     5   \n                                     2025   -100.0/0.0  -100.0/0.0     1   \n                        5            2024    7.93/0.68   16.46/1.0    31   \n                                     2025     7.69/0.4  -51.31/0.0    20   \n\n                                             chase_tdo                    \\\n                                                  mean      median count   \npercents_till_stop_perc target_level year                                  \n<p10                    4            2024    -75.4/0.2  -100.0/0.0     5   \n                                     2025   -100.0/0.0  -100.0/0.0     1   \n                        5            2024  -30.57/0.14  -100.0/0.0    35   \n                                     2025   33.17/0.24  -100.0/0.0    25   \n<p30                    4            2024      3.6/0.2  -100.0/0.0    10   \n                                     2025   96.95/0.27  -48.15/0.0    11   \n                        5            2024     1.29/0.4  -49.92/0.0   101   \n                                     2025    9.92/0.35  -62.75/0.0    79   \n<p70                    4            2024   -8.94/0.29   -70.1/0.0    38   \n                                     2025  -31.29/0.26  -64.39/0.0    19   \n                        5            2024     -8.3/0.4  -43.55/0.0   257   \n                                     2025    5.75/0.41  -36.68/0.0   196   \n<p90                    4            2024   -18.68/0.3  -64.06/0.0    20   \n                                     2025  -47.06/0.11  -100.0/0.0     9   \n                        5            2024   -6.68/0.51    3.01/1.0   146   \n                                     2025   11.47/0.48   -3.28/0.0   100   \n>=p90                   4            2024  -42.93/0.25  -57.13/0.0    12   \n                                     2025  -50.49/0.21   -64.0/0.0    14   \n                        5            2024   -1.75/0.52    2.56/1.0    75   \n                                     2025    5.39/0.58   13.37/1.0    48   \n\n                                           chase_t90mo                    \n                                                  mean      median count  \npercents_till_stop_perc target_level year                                 \n<p10                    4            2024  -26.15/0.25  -34.77/0.0     8  \n                                     2025   42.58/0.38   -52.9/0.0     8  \n                        5            2024  -20.34/0.16  -100.0/0.0    62  \n                                     2025   -9.99/0.16  -100.0/0.0    31  \n<p30                    4            2024    46.19/0.3  -66.37/0.0    23  \n                                     2025    2.92/0.29  -90.64/0.0    17  \n                        5            2024     4.36/0.3  -76.26/0.0   174  \n                                     2025   28.68/0.28  -50.31/0.0    97  \n<p70                    4            2024     9.5/0.34  -64.62/0.0    62  \n                                     2025   -23.88/0.3  -55.91/0.0    40  \n                        5            2024     4.67/0.3  -61.93/0.0   375  \n                                     2025     3.4/0.29  -59.77/0.0   214  \n<p90                    4            2024   -4.75/0.31  -74.62/0.0    45  \n                                     2025  -40.99/0.24  -90.82/0.0    21  \n                        5            2024    4.08/0.39  -53.39/0.0   161  \n                                     2025    -1.74/0.3  -53.71/0.0   136  \n>=p90                   4            2024   16.69/0.42   -53.9/0.0    26  \n                                     2025  -57.39/0.09  -57.29/0.0    11  \n                        5            2024   -3.22/0.47   -30.7/0.0    91  \n                                     2025  -10.43/0.37   -50.0/0.0    59  \n\n[20 rows x 36 columns]",
      "text/html": "<div>\n<style scoped>\n    .dataframe tbody tr th:only-of-type {\n        vertical-align: middle;\n    }\n\n    .dataframe tbody tr th {\n        vertical-align: top;\n    }\n\n    .dataframe thead tr th {\n        text-align: left;\n    }\n\n    .dataframe thead tr:last-of-type th {\n        text-align: right;\n    }\n</style>\n<table border=\"1\" class=\"dataframe\">\n  <thead>\n    <tr>\n      <th></th>\n      <th></th>\n      <th></th>\n      <th colspan=\"3\" halign=\"left\">market all</th>\n      <th colspan=\"3\" halign=\"left\">limit all</th>\n      <th colspan=\"3\" halign=\"left\">chase_median_rr</th>\n      <th>chase_mean_rr</th>\n      <th>...</th>\n      <th>chase_tmo</th>\n      <th colspan=\"3\" halign=\"left\">chase_two</th>\n      <th colspan=\"3\" halign=\"left\">chase_tdo</th>\n      <th colspan=\"3\" halign=\"left\">chase_t90mo</th>\n    </tr>\n    <tr>\n      <th></th>\n      <th></th>\n      <th></th>\n      <th>mean</th>\n      <th>median</th>\n      <th>count</th>\n      <th>mean</th>\n      <th>median</th>\n      <th>count</th>\n      <th>mean</th>\n      <th>median</th>\n      <th>count</th>\n      <th>mean</th>\n      <th>...</th>\n      <th>count</th>\n      <th>mean</th>\n      <th>median</th>\n      <th>count</th>\n      <th>mean</th>\n      <th>median</th>\n      <th>count</th>\n      <th>mean</th>\n      <th>median</th>\n      <th>count</th>\n    </tr>\n    <tr>\n      <th>percents_till_stop_perc</th>\n      <th>target_level</th>\n      <th>year</th>\n      <th></th>\n      <th></th>\n      <th></th>\n      <th></th>\n      <th></th>\n      <th></th>\n      <th></th>\n      <th></th>\n      <th></th>\n      <th></th>\n      <th></th>\n      <th></th>\n      <th></th>\n      <th></th>\n      <th></th>\n      <th></th>\n      <th></th>\n      <th></th>\n      <th></th>\n      <th></th>\n      <th></th>\n    </tr>\n  </thead>\n  <tbody>\n    <tr>\n      <th rowspan=\"4\" valign=\"top\">&lt;p10</th>\n      <th rowspan=\"2\" valign=\"top\">4</th>\n      <th>2024</th>\n      <td>-19.74/0.2</td>\n      <td>-100.0/0.0</td>\n      <td>46</td>\n      <td>-39.57/0.11</td>\n      <td>-100.0/0.0</td>\n      <td>97</td>\n      <td>2.48/0.17</td>\n      <td>-100.0/0.0</td>\n      <td>42</td>\n      <td>-83.04/0.03</td>\n      <td>...</td>\n      <td>&lt;NA&gt;</td>\n      <td>-54.97/0.0</td>\n      <td>-53.0/0.0</td>\n      <td>4</td>\n      <td>-75.4/0.2</td>\n      <td>-100.0/0.0</td>\n      <td>5</td>\n      <td>-26.15/0.25</td>\n      <td>-34.77/0.0</td>\n      <td>8</td>\n    </tr>\n    <tr>\n      <th>2025</th>\n      <td>191.89/0.29</td>\n      <td>-100.0/0.0</td>\n      <td>31</td>\n      <td>229.12/0.29</td>\n      <td>-100.0/0.0</td>\n      <td>68</td>\n      <td>260.21/0.27</td>\n      <td>-100.0/0.0</td>\n      <td>26</td>\n      <td>177.92/0.17</td>\n      <td>...</td>\n      <td>2</td>\n      <td>949.39/0.75</td>\n      <td>135.93/1.0</td>\n      <td>4</td>\n      <td>-100.0/0.0</td>\n      <td>-100.0/0.0</td>\n      <td>1</td>\n      <td>42.58/0.38</td>\n      <td>-52.9/0.0</td>\n      <td>8</td>\n    </tr>\n    <tr>\n      <th rowspan=\"2\" valign=\"top\">5</th>\n      <th>2024</th>\n      <td>21.32/0.15</td>\n      <td>-100.0/0.0</td>\n      <td>328</td>\n      <td>-12.7/0.11</td>\n      <td>-100.0/0.0</td>\n      <td>664</td>\n      <td>-24.18/0.1</td>\n      <td>-100.0/0.0</td>\n      <td>276</td>\n      <td>-2.64/0.08</td>\n      <td>...</td>\n      <td>3</td>\n      <td>-89.59/0.0</td>\n      <td>-100.0/0.0</td>\n      <td>8</td>\n      <td>-30.57/0.14</td>\n      <td>-100.0/0.0</td>\n      <td>35</td>\n      <td>-20.34/0.16</td>\n      <td>-100.0/0.0</td>\n      <td>62</td>\n    </tr>\n    <tr>\n      <th>2025</th>\n      <td>-17.64/0.15</td>\n      <td>-100.0/0.0</td>\n      <td>221</td>\n      <td>-7.39/0.12</td>\n      <td>-100.0/0.0</td>\n      <td>438</td>\n      <td>-15.93/0.11</td>\n      <td>-100.0/0.0</td>\n      <td>187</td>\n      <td>3.17/0.1</td>\n      <td>...</td>\n      <td>3</td>\n      <td>-99.49/0.0</td>\n      <td>-100.0/0.0</td>\n      <td>4</td>\n      <td>33.17/0.24</td>\n      <td>-100.0/0.0</td>\n      <td>25</td>\n      <td>-9.99/0.16</td>\n      <td>-100.0/0.0</td>\n      <td>31</td>\n    </tr>\n    <tr>\n      <th rowspan=\"4\" valign=\"top\">&lt;p30</th>\n      <th rowspan=\"2\" valign=\"top\">4</th>\n      <th>2024</th>\n      <td>10.39/0.25</td>\n      <td>-100.0/0.0</td>\n      <td>73</td>\n      <td>4.7/0.21</td>\n      <td>-100.0/0.0</td>\n      <td>156</td>\n      <td>23.45/0.22</td>\n      <td>-100.0/0.0</td>\n      <td>59</td>\n      <td>-26.15/0.14</td>\n      <td>...</td>\n      <td>1</td>\n      <td>91.04/0.5</td>\n      <td>91.04/0.5</td>\n      <td>2</td>\n      <td>3.6/0.2</td>\n      <td>-100.0/0.0</td>\n      <td>10</td>\n      <td>46.19/0.3</td>\n      <td>-66.37/0.0</td>\n      <td>23</td>\n    </tr>\n    <tr>\n      <th>2025</th>\n      <td>50.25/0.28</td>\n      <td>-81.62/0.0</td>\n      <td>58</td>\n      <td>69.06/0.3</td>\n      <td>-80.23/0.0</td>\n      <td>131</td>\n      <td>70.22/0.32</td>\n      <td>-76.73/0.0</td>\n      <td>50</td>\n      <td>97.76/0.26</td>\n      <td>...</td>\n      <td>1</td>\n      <td>64.93/0.43</td>\n      <td>-22.88/0.0</td>\n      <td>7</td>\n      <td>96.95/0.27</td>\n      <td>-48.15/0.0</td>\n      <td>11</td>\n      <td>2.92/0.29</td>\n      <td>-90.64/0.0</td>\n      <td>17</td>\n    </tr>\n    <tr>\n      <th rowspan=\"2\" valign=\"top\">5</th>\n      <th>2024</th>\n      <td>8.1/0.27</td>\n      <td>-95.09/0.0</td>\n      <td>649</td>\n      <td>3.4/0.23</td>\n      <td>-100.0/0.0</td>\n      <td>1403</td>\n      <td>7.46/0.22</td>\n      <td>-100.0/0.0</td>\n      <td>548</td>\n      <td>-0.21/0.17</td>\n      <td>...</td>\n      <td>9</td>\n      <td>21.81/0.32</td>\n      <td>-55.23/0.0</td>\n      <td>25</td>\n      <td>1.29/0.4</td>\n      <td>-49.92/0.0</td>\n      <td>101</td>\n      <td>4.36/0.3</td>\n      <td>-76.26/0.0</td>\n      <td>174</td>\n    </tr>\n    <tr>\n      <th>2025</th>\n      <td>13.55/0.27</td>\n      <td>-76.63/0.0</td>\n      <td>436</td>\n      <td>34.76/0.26</td>\n      <td>-100.0/0.0</td>\n      <td>940</td>\n      <td>30.62/0.26</td>\n      <td>-100.0/0.0</td>\n      <td>379</td>\n      <td>54.43/0.22</td>\n      <td>...</td>\n      <td>9</td>\n      <td>-36.09/0.23</td>\n      <td>-100.0/0.0</td>\n      <td>22</td>\n      <td>9.92/0.35</td>\n      <td>-62.75/0.0</td>\n      <td>79</td>\n      <td>28.68/0.28</td>\n      <td>-50.31/0.0</td>\n      <td>97</td>\n    </tr>\n    <tr>\n      <th rowspan=\"4\" valign=\"top\">&lt;p70</th>\n      <th rowspan=\"2\" valign=\"top\">4</th>\n      <th>2024</th>\n      <td>15.2/0.26</td>\n      <td>-62.06/0.0</td>\n      <td>189</td>\n      <td>5.87/0.25</td>\n      <td>-65.09/0.0</td>\n      <td>404</td>\n      <td>19.34/0.22</td>\n      <td>-60.75/0.0</td>\n      <td>153</td>\n      <td>-4.52/0.18</td>\n      <td>...</td>\n      <td>1</td>\n      <td>22.39/0.5</td>\n      <td>-15.12/0.5</td>\n      <td>14</td>\n      <td>-8.94/0.29</td>\n      <td>-70.1/0.0</td>\n      <td>38</td>\n      <td>9.5/0.34</td>\n      <td>-64.62/0.0</td>\n      <td>62</td>\n    </tr>\n    <tr>\n      <th>2025</th>\n      <td>-17.4/0.26</td>\n      <td>-72.02/0.0</td>\n      <td>142</td>\n      <td>-8.18/0.24</td>\n      <td>-83.43/0.0</td>\n      <td>309</td>\n      <td>-9.41/0.24</td>\n      <td>-83.43/0.0</td>\n      <td>119</td>\n      <td>8.52/0.18</td>\n      <td>...</td>\n      <td>5</td>\n      <td>-36.31/0.25</td>\n      <td>-100.0/0.0</td>\n      <td>8</td>\n      <td>-31.29/0.26</td>\n      <td>-64.39/0.0</td>\n      <td>19</td>\n      <td>-23.88/0.3</td>\n      <td>-55.91/0.0</td>\n      <td>40</td>\n    </tr>\n    <tr>\n      <th rowspan=\"2\" valign=\"top\">5</th>\n      <th>2024</th>\n      <td>0.08/0.31</td>\n      <td>-60.05/0.0</td>\n      <td>1334</td>\n      <td>0.07/0.28</td>\n      <td>-67.07/0.0</td>\n      <td>2676</td>\n      <td>1.55/0.26</td>\n      <td>-67.37/0.0</td>\n      <td>986</td>\n      <td>-4.31/0.21</td>\n      <td>...</td>\n      <td>17</td>\n      <td>-9.21/0.32</td>\n      <td>-66.56/0.0</td>\n      <td>87</td>\n      <td>-8.3/0.4</td>\n      <td>-43.55/0.0</td>\n      <td>257</td>\n      <td>4.67/0.3</td>\n      <td>-61.93/0.0</td>\n      <td>375</td>\n    </tr>\n    <tr>\n      <th>2025</th>\n      <td>-0.45/0.31</td>\n      <td>-64.19/0.0</td>\n      <td>904</td>\n      <td>1.13/0.27</td>\n      <td>-67.73/0.0</td>\n      <td>1808</td>\n      <td>-5.1/0.24</td>\n      <td>-71.38/0.0</td>\n      <td>689</td>\n      <td>-8.04/0.19</td>\n      <td>...</td>\n      <td>32</td>\n      <td>144.46/0.41</td>\n      <td>-43.17/0.0</td>\n      <td>46</td>\n      <td>5.75/0.41</td>\n      <td>-36.68/0.0</td>\n      <td>196</td>\n      <td>3.4/0.29</td>\n      <td>-59.77/0.0</td>\n      <td>214</td>\n    </tr>\n    <tr>\n      <th rowspan=\"4\" valign=\"top\">&lt;p90</th>\n      <th rowspan=\"2\" valign=\"top\">4</th>\n      <th>2024</th>\n      <td>11.13/0.34</td>\n      <td>-60.05/0.0</td>\n      <td>110</td>\n      <td>1.92/0.27</td>\n      <td>-68.18/0.0</td>\n      <td>255</td>\n      <td>0.33/0.23</td>\n      <td>-63.85/0.0</td>\n      <td>88</td>\n      <td>34.62/0.24</td>\n      <td>...</td>\n      <td>3</td>\n      <td>-5.78/0.4</td>\n      <td>-37.6/0.0</td>\n      <td>10</td>\n      <td>-18.68/0.3</td>\n      <td>-64.06/0.0</td>\n      <td>20</td>\n      <td>-4.75/0.31</td>\n      <td>-74.62/0.0</td>\n      <td>45</td>\n    </tr>\n    <tr>\n      <th>2025</th>\n      <td>-20.65/0.32</td>\n      <td>-57.6/0.0</td>\n      <td>69</td>\n      <td>6.49/0.23</td>\n      <td>-86.35/0.0</td>\n      <td>144</td>\n      <td>-31.15/0.21</td>\n      <td>-82.65/0.0</td>\n      <td>53</td>\n      <td>-27.15/0.17</td>\n      <td>...</td>\n      <td>3</td>\n      <td>-16.86/0.25</td>\n      <td>-69.82/0.0</td>\n      <td>4</td>\n      <td>-47.06/0.11</td>\n      <td>-100.0/0.0</td>\n      <td>9</td>\n      <td>-40.99/0.24</td>\n      <td>-90.82/0.0</td>\n      <td>21</td>\n    </tr>\n    <tr>\n      <th rowspan=\"2\" valign=\"top\">5</th>\n      <th>2024</th>\n      <td>2.96/0.41</td>\n      <td>-45.11/0.0</td>\n      <td>637</td>\n      <td>2.15/0.36</td>\n      <td>-51.09/0.0</td>\n      <td>1337</td>\n      <td>2.61/0.34</td>\n      <td>-53.75/0.0</td>\n      <td>488</td>\n      <td>-0.28/0.21</td>\n      <td>...</td>\n      <td>16</td>\n      <td>17.07/0.44</td>\n      <td>-12.14/0.0</td>\n      <td>50</td>\n      <td>-6.68/0.51</td>\n      <td>3.01/1.0</td>\n      <td>146</td>\n      <td>4.08/0.39</td>\n      <td>-53.39/0.0</td>\n      <td>161</td>\n    </tr>\n    <tr>\n      <th>2025</th>\n      <td>-8.98/0.34</td>\n      <td>-58.22/0.0</td>\n      <td>458</td>\n      <td>-7.93/0.29</td>\n      <td>-61.46/0.0</td>\n      <td>955</td>\n      <td>-11.26/0.25</td>\n      <td>-65.9/0.0</td>\n      <td>352</td>\n      <td>-16.91/0.19</td>\n      <td>...</td>\n      <td>15</td>\n      <td>-10.64/0.49</td>\n      <td>-29.41/0.0</td>\n      <td>35</td>\n      <td>11.47/0.48</td>\n      <td>-3.28/0.0</td>\n      <td>100</td>\n      <td>-1.74/0.3</td>\n      <td>-53.71/0.0</td>\n      <td>136</td>\n    </tr>\n    <tr>\n      <th rowspan=\"4\" valign=\"top\">&gt;=p90</th>\n      <th rowspan=\"2\" valign=\"top\">4</th>\n      <th>2024</th>\n      <td>2.31/0.44</td>\n      <td>-37.13/0.0</td>\n      <td>66</td>\n      <td>3.89/0.35</td>\n      <td>-51.25/0.0</td>\n      <td>159</td>\n      <td>30.18/0.39</td>\n      <td>-46.24/0.0</td>\n      <td>51</td>\n      <td>-22.54/0.23</td>\n      <td>...</td>\n      <td>2</td>\n      <td>47.63/1.0</td>\n      <td>21.56/1.0</td>\n      <td>5</td>\n      <td>-42.93/0.25</td>\n      <td>-57.13/0.0</td>\n      <td>12</td>\n      <td>16.69/0.42</td>\n      <td>-53.9/0.0</td>\n      <td>26</td>\n    </tr>\n    <tr>\n      <th>2025</th>\n      <td>-19.59/0.29</td>\n      <td>-68.99/0.0</td>\n      <td>51</td>\n      <td>-57.32/0.16</td>\n      <td>-75.46/0.0</td>\n      <td>100</td>\n      <td>-55.7/0.15</td>\n      <td>-77.07/0.0</td>\n      <td>34</td>\n      <td>-71.78/0.08</td>\n      <td>...</td>\n      <td>4</td>\n      <td>-100.0/0.0</td>\n      <td>-100.0/0.0</td>\n      <td>1</td>\n      <td>-50.49/0.21</td>\n      <td>-64.0/0.0</td>\n      <td>14</td>\n      <td>-57.39/0.09</td>\n      <td>-57.29/0.0</td>\n      <td>11</td>\n    </tr>\n    <tr>\n      <th rowspan=\"2\" valign=\"top\">5</th>\n      <th>2024</th>\n      <td>-0.73/0.46</td>\n      <td>-18.23/0.0</td>\n      <td>310</td>\n      <td>-2.57/0.42</td>\n      <td>-45.82/0.0</td>\n      <td>618</td>\n      <td>-4.41/0.4</td>\n      <td>-47.19/0.0</td>\n      <td>203</td>\n      <td>1.49/0.27</td>\n      <td>...</td>\n      <td>14</td>\n      <td>7.93/0.68</td>\n      <td>16.46/1.0</td>\n      <td>31</td>\n      <td>-1.75/0.52</td>\n      <td>2.56/1.0</td>\n      <td>75</td>\n      <td>-3.22/0.47</td>\n      <td>-30.7/0.0</td>\n      <td>91</td>\n    </tr>\n    <tr>\n      <th>2025</th>\n      <td>-10.57/0.42</td>\n      <td>-50.24/0.0</td>\n      <td>209</td>\n      <td>-8.74/0.36</td>\n      <td>-50.88/0.0</td>\n      <td>435</td>\n      <td>-16.78/0.31</td>\n      <td>-55.8/0.0</td>\n      <td>148</td>\n      <td>-22.03/0.17</td>\n      <td>...</td>\n      <td>12</td>\n      <td>7.69/0.4</td>\n      <td>-51.31/0.0</td>\n      <td>20</td>\n      <td>5.39/0.58</td>\n      <td>13.37/1.0</td>\n      <td>48</td>\n      <td>-10.43/0.37</td>\n      <td>-50.0/0.0</td>\n      <td>59</td>\n    </tr>\n  </tbody>\n</table>\n<p>20 rows × 36 columns</p>\n</div>"
     },
     "execution_count": 18,
     "metadata": {},
     "output_type": "execute_result"
    }
   ],
   "source": [
    "df_group = group_display(trade_dfs, [\"percents_till_stop_perc\", \"target_level\", \"year\"], True, \"percents_till_stop\")\n",
    "df_group"
   ],
   "metadata": {
    "collapsed": false,
    "ExecuteTime": {
     "end_time": "2025-09-03T15:38:11.568813Z",
     "start_time": "2025-09-03T15:38:11.085383Z"
    }
   },
   "id": "7a52177675c1a758",
   "execution_count": 18
  },
  {
   "cell_type": "code",
   "outputs": [
    {
     "data": {
      "text/plain": "'market all'"
     },
     "metadata": {},
     "output_type": "display_data"
    },
    {
     "data": {
      "text/plain": "                                               mean      median  count\ntarget_level psp_key entry_rr_perc year                               \n4            1h      <p10          2025   28.567749   41.006149      8\n                     <p30          2024   20.567260  -34.959350     19\n                     <p70          2024   32.423892  -48.375984     90\n                     >=p90         2025  186.351668 -100.000000     40\n             2h      <p10          2025   35.464110   63.885874      5\n                     <p30          2024   20.783533   49.827727      7\n                     <p70          2024   39.410739   21.990035     20\n                     <p90          2024   22.190212  -94.063927     14\n             4h      <p90          2024   24.594863  -60.692351     47\n                                   2025   20.891877  -63.118395     18\n                     >=p90         2024   18.835225 -100.000000     30\n5            1h      >=p90         2024   38.479654 -100.000000    191\n             2h      >=p90         2024   23.028666 -100.000000     57\n             4h      <p90          2025  111.958864  -54.545455     59\n                     >=p90         2025  107.274264 -100.000000     16",
      "text/html": "<div>\n<style scoped>\n    .dataframe tbody tr th:only-of-type {\n        vertical-align: middle;\n    }\n\n    .dataframe tbody tr th {\n        vertical-align: top;\n    }\n\n    .dataframe thead th {\n        text-align: right;\n    }\n</style>\n<table border=\"1\" class=\"dataframe\">\n  <thead>\n    <tr style=\"text-align: right;\">\n      <th></th>\n      <th></th>\n      <th></th>\n      <th></th>\n      <th>mean</th>\n      <th>median</th>\n      <th>count</th>\n    </tr>\n    <tr>\n      <th>target_level</th>\n      <th>psp_key</th>\n      <th>entry_rr_perc</th>\n      <th>year</th>\n      <th></th>\n      <th></th>\n      <th></th>\n    </tr>\n  </thead>\n  <tbody>\n    <tr>\n      <th rowspan=\"11\" valign=\"top\">4</th>\n      <th rowspan=\"4\" valign=\"top\">1h</th>\n      <th>&lt;p10</th>\n      <th>2025</th>\n      <td>28.567749</td>\n      <td>41.006149</td>\n      <td>8</td>\n    </tr>\n    <tr>\n      <th>&lt;p30</th>\n      <th>2024</th>\n      <td>20.567260</td>\n      <td>-34.959350</td>\n      <td>19</td>\n    </tr>\n    <tr>\n      <th>&lt;p70</th>\n      <th>2024</th>\n      <td>32.423892</td>\n      <td>-48.375984</td>\n      <td>90</td>\n    </tr>\n    <tr>\n      <th>&gt;=p90</th>\n      <th>2025</th>\n      <td>186.351668</td>\n      <td>-100.000000</td>\n      <td>40</td>\n    </tr>\n    <tr>\n      <th rowspan=\"4\" valign=\"top\">2h</th>\n      <th>&lt;p10</th>\n      <th>2025</th>\n      <td>35.464110</td>\n      <td>63.885874</td>\n      <td>5</td>\n    </tr>\n    <tr>\n      <th>&lt;p30</th>\n      <th>2024</th>\n      <td>20.783533</td>\n      <td>49.827727</td>\n      <td>7</td>\n    </tr>\n    <tr>\n      <th>&lt;p70</th>\n      <th>2024</th>\n      <td>39.410739</td>\n      <td>21.990035</td>\n      <td>20</td>\n    </tr>\n    <tr>\n      <th>&lt;p90</th>\n      <th>2024</th>\n      <td>22.190212</td>\n      <td>-94.063927</td>\n      <td>14</td>\n    </tr>\n    <tr>\n      <th rowspan=\"3\" valign=\"top\">4h</th>\n      <th rowspan=\"2\" valign=\"top\">&lt;p90</th>\n      <th>2024</th>\n      <td>24.594863</td>\n      <td>-60.692351</td>\n      <td>47</td>\n    </tr>\n    <tr>\n      <th>2025</th>\n      <td>20.891877</td>\n      <td>-63.118395</td>\n      <td>18</td>\n    </tr>\n    <tr>\n      <th>&gt;=p90</th>\n      <th>2024</th>\n      <td>18.835225</td>\n      <td>-100.000000</td>\n      <td>30</td>\n    </tr>\n    <tr>\n      <th rowspan=\"4\" valign=\"top\">5</th>\n      <th>1h</th>\n      <th>&gt;=p90</th>\n      <th>2024</th>\n      <td>38.479654</td>\n      <td>-100.000000</td>\n      <td>191</td>\n    </tr>\n    <tr>\n      <th>2h</th>\n      <th>&gt;=p90</th>\n      <th>2024</th>\n      <td>23.028666</td>\n      <td>-100.000000</td>\n      <td>57</td>\n    </tr>\n    <tr>\n      <th rowspan=\"2\" valign=\"top\">4h</th>\n      <th>&lt;p90</th>\n      <th>2025</th>\n      <td>111.958864</td>\n      <td>-54.545455</td>\n      <td>59</td>\n    </tr>\n    <tr>\n      <th>&gt;=p90</th>\n      <th>2025</th>\n      <td>107.274264</td>\n      <td>-100.000000</td>\n      <td>16</td>\n    </tr>\n  </tbody>\n</table>\n</div>"
     },
     "metadata": {},
     "output_type": "display_data"
    },
    {
     "data": {
      "text/plain": "'limit all'"
     },
     "metadata": {},
     "output_type": "display_data"
    },
    {
     "data": {
      "text/plain": "                                               mean      median  count\ntarget_level psp_key entry_rr_perc year                               \n4            1h      <p10          2024   44.441209   56.002311     16\n                     <p70          2024   21.736988  -60.751443    175\n                                   2025   26.772886  -63.137195    144\n                     <p90          2025   15.691941 -100.000000    100\n                     >=p90         2025  226.957700 -100.000000     78\n             2h      <p30          2024   27.654425   19.608280     19\n                     <p70          2024   41.616806  -34.723952     49\n                     >=p90         2025   75.702534 -100.000000     19\n             4h      <p90          2024   45.094789  -81.172601    103\n                     >=p90         2025  231.367339 -100.000000     12\n5            2h      <p90          2024   16.735291 -100.000000    275\n             4h      <p70          2025   30.939065  -68.431746    477\n                     <p90          2025  164.949989 -100.000000    109\n                     >=p90         2025  354.166458 -100.000000     45",
      "text/html": "<div>\n<style scoped>\n    .dataframe tbody tr th:only-of-type {\n        vertical-align: middle;\n    }\n\n    .dataframe tbody tr th {\n        vertical-align: top;\n    }\n\n    .dataframe thead th {\n        text-align: right;\n    }\n</style>\n<table border=\"1\" class=\"dataframe\">\n  <thead>\n    <tr style=\"text-align: right;\">\n      <th></th>\n      <th></th>\n      <th></th>\n      <th></th>\n      <th>mean</th>\n      <th>median</th>\n      <th>count</th>\n    </tr>\n    <tr>\n      <th>target_level</th>\n      <th>psp_key</th>\n      <th>entry_rr_perc</th>\n      <th>year</th>\n      <th></th>\n      <th></th>\n      <th></th>\n    </tr>\n  </thead>\n  <tbody>\n    <tr>\n      <th rowspan=\"10\" valign=\"top\">4</th>\n      <th rowspan=\"5\" valign=\"top\">1h</th>\n      <th>&lt;p10</th>\n      <th>2024</th>\n      <td>44.441209</td>\n      <td>56.002311</td>\n      <td>16</td>\n    </tr>\n    <tr>\n      <th rowspan=\"2\" valign=\"top\">&lt;p70</th>\n      <th>2024</th>\n      <td>21.736988</td>\n      <td>-60.751443</td>\n      <td>175</td>\n    </tr>\n    <tr>\n      <th>2025</th>\n      <td>26.772886</td>\n      <td>-63.137195</td>\n      <td>144</td>\n    </tr>\n    <tr>\n      <th>&lt;p90</th>\n      <th>2025</th>\n      <td>15.691941</td>\n      <td>-100.000000</td>\n      <td>100</td>\n    </tr>\n    <tr>\n      <th>&gt;=p90</th>\n      <th>2025</th>\n      <td>226.957700</td>\n      <td>-100.000000</td>\n      <td>78</td>\n    </tr>\n    <tr>\n      <th rowspan=\"3\" valign=\"top\">2h</th>\n      <th>&lt;p30</th>\n      <th>2024</th>\n      <td>27.654425</td>\n      <td>19.608280</td>\n      <td>19</td>\n    </tr>\n    <tr>\n      <th>&lt;p70</th>\n      <th>2024</th>\n      <td>41.616806</td>\n      <td>-34.723952</td>\n      <td>49</td>\n    </tr>\n    <tr>\n      <th>&gt;=p90</th>\n      <th>2025</th>\n      <td>75.702534</td>\n      <td>-100.000000</td>\n      <td>19</td>\n    </tr>\n    <tr>\n      <th rowspan=\"2\" valign=\"top\">4h</th>\n      <th>&lt;p90</th>\n      <th>2024</th>\n      <td>45.094789</td>\n      <td>-81.172601</td>\n      <td>103</td>\n    </tr>\n    <tr>\n      <th>&gt;=p90</th>\n      <th>2025</th>\n      <td>231.367339</td>\n      <td>-100.000000</td>\n      <td>12</td>\n    </tr>\n    <tr>\n      <th rowspan=\"4\" valign=\"top\">5</th>\n      <th>2h</th>\n      <th>&lt;p90</th>\n      <th>2024</th>\n      <td>16.735291</td>\n      <td>-100.000000</td>\n      <td>275</td>\n    </tr>\n    <tr>\n      <th rowspan=\"3\" valign=\"top\">4h</th>\n      <th>&lt;p70</th>\n      <th>2025</th>\n      <td>30.939065</td>\n      <td>-68.431746</td>\n      <td>477</td>\n    </tr>\n    <tr>\n      <th>&lt;p90</th>\n      <th>2025</th>\n      <td>164.949989</td>\n      <td>-100.000000</td>\n      <td>109</td>\n    </tr>\n    <tr>\n      <th>&gt;=p90</th>\n      <th>2025</th>\n      <td>354.166458</td>\n      <td>-100.000000</td>\n      <td>45</td>\n    </tr>\n  </tbody>\n</table>\n</div>"
     },
     "metadata": {},
     "output_type": "display_data"
    },
    {
     "data": {
      "text/plain": "'chase_median_rr'"
     },
     "metadata": {},
     "output_type": "display_data"
    },
    {
     "data": {
      "text/plain": "                                               mean      median  count\ntarget_level psp_key entry_rr_perc year                               \n4            1h      <p70          2024   37.127523  -60.751443     85\n                                   2025   17.894859  -55.608492     73\n                     >=p90         2025  292.475870 -100.000000     27\n             2h      <p70          2024   46.458761  -24.956609     19\n                     >=p90         2024   53.228177  -79.697494     12\n             4h      <p70          2024   34.003921  -59.974868     62\n                     <p90          2024   73.343421  -71.339121     33\n5            4h      <p70          2025   25.733293  -71.669358    184\n                     <p90          2025  174.798324 -100.000000     42\n                     >=p90         2025  187.844599 -100.000000     14",
      "text/html": "<div>\n<style scoped>\n    .dataframe tbody tr th:only-of-type {\n        vertical-align: middle;\n    }\n\n    .dataframe tbody tr th {\n        vertical-align: top;\n    }\n\n    .dataframe thead th {\n        text-align: right;\n    }\n</style>\n<table border=\"1\" class=\"dataframe\">\n  <thead>\n    <tr style=\"text-align: right;\">\n      <th></th>\n      <th></th>\n      <th></th>\n      <th></th>\n      <th>mean</th>\n      <th>median</th>\n      <th>count</th>\n    </tr>\n    <tr>\n      <th>target_level</th>\n      <th>psp_key</th>\n      <th>entry_rr_perc</th>\n      <th>year</th>\n      <th></th>\n      <th></th>\n      <th></th>\n    </tr>\n  </thead>\n  <tbody>\n    <tr>\n      <th rowspan=\"7\" valign=\"top\">4</th>\n      <th rowspan=\"3\" valign=\"top\">1h</th>\n      <th rowspan=\"2\" valign=\"top\">&lt;p70</th>\n      <th>2024</th>\n      <td>37.127523</td>\n      <td>-60.751443</td>\n      <td>85</td>\n    </tr>\n    <tr>\n      <th>2025</th>\n      <td>17.894859</td>\n      <td>-55.608492</td>\n      <td>73</td>\n    </tr>\n    <tr>\n      <th>&gt;=p90</th>\n      <th>2025</th>\n      <td>292.475870</td>\n      <td>-100.000000</td>\n      <td>27</td>\n    </tr>\n    <tr>\n      <th rowspan=\"2\" valign=\"top\">2h</th>\n      <th>&lt;p70</th>\n      <th>2024</th>\n      <td>46.458761</td>\n      <td>-24.956609</td>\n      <td>19</td>\n    </tr>\n    <tr>\n      <th>&gt;=p90</th>\n      <th>2024</th>\n      <td>53.228177</td>\n      <td>-79.697494</td>\n      <td>12</td>\n    </tr>\n    <tr>\n      <th rowspan=\"2\" valign=\"top\">4h</th>\n      <th>&lt;p70</th>\n      <th>2024</th>\n      <td>34.003921</td>\n      <td>-59.974868</td>\n      <td>62</td>\n    </tr>\n    <tr>\n      <th>&lt;p90</th>\n      <th>2024</th>\n      <td>73.343421</td>\n      <td>-71.339121</td>\n      <td>33</td>\n    </tr>\n    <tr>\n      <th rowspan=\"3\" valign=\"top\">5</th>\n      <th rowspan=\"3\" valign=\"top\">4h</th>\n      <th>&lt;p70</th>\n      <th>2025</th>\n      <td>25.733293</td>\n      <td>-71.669358</td>\n      <td>184</td>\n    </tr>\n    <tr>\n      <th>&lt;p90</th>\n      <th>2025</th>\n      <td>174.798324</td>\n      <td>-100.000000</td>\n      <td>42</td>\n    </tr>\n    <tr>\n      <th>&gt;=p90</th>\n      <th>2025</th>\n      <td>187.844599</td>\n      <td>-100.000000</td>\n      <td>14</td>\n    </tr>\n  </tbody>\n</table>\n</div>"
     },
     "metadata": {},
     "output_type": "display_data"
    },
    {
     "data": {
      "text/plain": "'chase_mean_rr'"
     },
     "metadata": {},
     "output_type": "display_data"
    },
    {
     "data": {
      "text/plain": "                                               mean      median  count\ntarget_level psp_key entry_rr_perc year                               \n4            1h      <p70          2025   57.096443  -76.788216     30\n                     >=p90         2025  177.997978 -100.000000     40\n             2h      <p70          2024  146.738657  -49.784471      9\n             4h      <p90          2024   56.994427  -71.791719     40\n                                   2025   25.851650 -100.000000     18\n5            1h      <p30          2024   49.034009   43.938416     33\n                     >=p90         2024   16.097459 -100.000000    228\n             2h      <p90          2024   26.139591 -100.000000    147\n                                   2025   17.527208 -100.000000     99\n             4h      <p10          2025   28.606194   20.639104     10\n                     <p70          2025   29.895617  -71.402503    167\n                     <p90          2025  142.445603 -100.000000     56\n                     >=p90         2025  286.010216 -100.000000     26",
      "text/html": "<div>\n<style scoped>\n    .dataframe tbody tr th:only-of-type {\n        vertical-align: middle;\n    }\n\n    .dataframe tbody tr th {\n        vertical-align: top;\n    }\n\n    .dataframe thead th {\n        text-align: right;\n    }\n</style>\n<table border=\"1\" class=\"dataframe\">\n  <thead>\n    <tr style=\"text-align: right;\">\n      <th></th>\n      <th></th>\n      <th></th>\n      <th></th>\n      <th>mean</th>\n      <th>median</th>\n      <th>count</th>\n    </tr>\n    <tr>\n      <th>target_level</th>\n      <th>psp_key</th>\n      <th>entry_rr_perc</th>\n      <th>year</th>\n      <th></th>\n      <th></th>\n      <th></th>\n    </tr>\n  </thead>\n  <tbody>\n    <tr>\n      <th rowspan=\"5\" valign=\"top\">4</th>\n      <th rowspan=\"2\" valign=\"top\">1h</th>\n      <th>&lt;p70</th>\n      <th>2025</th>\n      <td>57.096443</td>\n      <td>-76.788216</td>\n      <td>30</td>\n    </tr>\n    <tr>\n      <th>&gt;=p90</th>\n      <th>2025</th>\n      <td>177.997978</td>\n      <td>-100.000000</td>\n      <td>40</td>\n    </tr>\n    <tr>\n      <th>2h</th>\n      <th>&lt;p70</th>\n      <th>2024</th>\n      <td>146.738657</td>\n      <td>-49.784471</td>\n      <td>9</td>\n    </tr>\n    <tr>\n      <th rowspan=\"2\" valign=\"top\">4h</th>\n      <th rowspan=\"2\" valign=\"top\">&lt;p90</th>\n      <th>2024</th>\n      <td>56.994427</td>\n      <td>-71.791719</td>\n      <td>40</td>\n    </tr>\n    <tr>\n      <th>2025</th>\n      <td>25.851650</td>\n      <td>-100.000000</td>\n      <td>18</td>\n    </tr>\n    <tr>\n      <th rowspan=\"8\" valign=\"top\">5</th>\n      <th rowspan=\"2\" valign=\"top\">1h</th>\n      <th>&lt;p30</th>\n      <th>2024</th>\n      <td>49.034009</td>\n      <td>43.938416</td>\n      <td>33</td>\n    </tr>\n    <tr>\n      <th>&gt;=p90</th>\n      <th>2024</th>\n      <td>16.097459</td>\n      <td>-100.000000</td>\n      <td>228</td>\n    </tr>\n    <tr>\n      <th rowspan=\"2\" valign=\"top\">2h</th>\n      <th rowspan=\"2\" valign=\"top\">&lt;p90</th>\n      <th>2024</th>\n      <td>26.139591</td>\n      <td>-100.000000</td>\n      <td>147</td>\n    </tr>\n    <tr>\n      <th>2025</th>\n      <td>17.527208</td>\n      <td>-100.000000</td>\n      <td>99</td>\n    </tr>\n    <tr>\n      <th rowspan=\"4\" valign=\"top\">4h</th>\n      <th>&lt;p10</th>\n      <th>2025</th>\n      <td>28.606194</td>\n      <td>20.639104</td>\n      <td>10</td>\n    </tr>\n    <tr>\n      <th>&lt;p70</th>\n      <th>2025</th>\n      <td>29.895617</td>\n      <td>-71.402503</td>\n      <td>167</td>\n    </tr>\n    <tr>\n      <th>&lt;p90</th>\n      <th>2025</th>\n      <td>142.445603</td>\n      <td>-100.000000</td>\n      <td>56</td>\n    </tr>\n    <tr>\n      <th>&gt;=p90</th>\n      <th>2025</th>\n      <td>286.010216</td>\n      <td>-100.000000</td>\n      <td>26</td>\n    </tr>\n  </tbody>\n</table>\n</div>"
     },
     "metadata": {},
     "output_type": "display_data"
    },
    {
     "data": {
      "text/plain": "'chase_absent_tdo'"
     },
     "metadata": {},
     "output_type": "display_data"
    },
    {
     "data": {
      "text/plain": "                                               mean      median  count\ntarget_level psp_key entry_rr_perc year                               \n4            1h      <p30          2025   73.380863   96.890624      7\n                     <p70          2024   32.778747  -70.332282      7\n                                   2025   88.880830  -57.228493      5\n             4h      <p30          2024   48.638232   64.961743      7\n5            1h      <p10          2025   77.692073   64.944431      7\n                     <p30          2024   35.369289  -61.964585     28\n                                   2025   51.547903   39.542812     12\n                     <p70          2025  127.205971  -74.573513      8\n             2h      <p70          2024  198.253201  157.869000      7\n             4h      <p10          2025   42.039367   32.131050      8\n                     <p70          2024   42.304474  -50.003389     14",
      "text/html": "<div>\n<style scoped>\n    .dataframe tbody tr th:only-of-type {\n        vertical-align: middle;\n    }\n\n    .dataframe tbody tr th {\n        vertical-align: top;\n    }\n\n    .dataframe thead th {\n        text-align: right;\n    }\n</style>\n<table border=\"1\" class=\"dataframe\">\n  <thead>\n    <tr style=\"text-align: right;\">\n      <th></th>\n      <th></th>\n      <th></th>\n      <th></th>\n      <th>mean</th>\n      <th>median</th>\n      <th>count</th>\n    </tr>\n    <tr>\n      <th>target_level</th>\n      <th>psp_key</th>\n      <th>entry_rr_perc</th>\n      <th>year</th>\n      <th></th>\n      <th></th>\n      <th></th>\n    </tr>\n  </thead>\n  <tbody>\n    <tr>\n      <th rowspan=\"4\" valign=\"top\">4</th>\n      <th rowspan=\"3\" valign=\"top\">1h</th>\n      <th>&lt;p30</th>\n      <th>2025</th>\n      <td>73.380863</td>\n      <td>96.890624</td>\n      <td>7</td>\n    </tr>\n    <tr>\n      <th rowspan=\"2\" valign=\"top\">&lt;p70</th>\n      <th>2024</th>\n      <td>32.778747</td>\n      <td>-70.332282</td>\n      <td>7</td>\n    </tr>\n    <tr>\n      <th>2025</th>\n      <td>88.880830</td>\n      <td>-57.228493</td>\n      <td>5</td>\n    </tr>\n    <tr>\n      <th>4h</th>\n      <th>&lt;p30</th>\n      <th>2024</th>\n      <td>48.638232</td>\n      <td>64.961743</td>\n      <td>7</td>\n    </tr>\n    <tr>\n      <th rowspan=\"7\" valign=\"top\">5</th>\n      <th rowspan=\"4\" valign=\"top\">1h</th>\n      <th>&lt;p10</th>\n      <th>2025</th>\n      <td>77.692073</td>\n      <td>64.944431</td>\n      <td>7</td>\n    </tr>\n    <tr>\n      <th rowspan=\"2\" valign=\"top\">&lt;p30</th>\n      <th>2024</th>\n      <td>35.369289</td>\n      <td>-61.964585</td>\n      <td>28</td>\n    </tr>\n    <tr>\n      <th>2025</th>\n      <td>51.547903</td>\n      <td>39.542812</td>\n      <td>12</td>\n    </tr>\n    <tr>\n      <th>&lt;p70</th>\n      <th>2025</th>\n      <td>127.205971</td>\n      <td>-74.573513</td>\n      <td>8</td>\n    </tr>\n    <tr>\n      <th>2h</th>\n      <th>&lt;p70</th>\n      <th>2024</th>\n      <td>198.253201</td>\n      <td>157.869000</td>\n      <td>7</td>\n    </tr>\n    <tr>\n      <th rowspan=\"2\" valign=\"top\">4h</th>\n      <th>&lt;p10</th>\n      <th>2025</th>\n      <td>42.039367</td>\n      <td>32.131050</td>\n      <td>8</td>\n    </tr>\n    <tr>\n      <th>&lt;p70</th>\n      <th>2024</th>\n      <td>42.304474</td>\n      <td>-50.003389</td>\n      <td>14</td>\n    </tr>\n  </tbody>\n</table>\n</div>"
     },
     "metadata": {},
     "output_type": "display_data"
    },
    {
     "data": {
      "text/plain": "'chase_absent_t90mo'"
     },
     "metadata": {},
     "output_type": "display_data"
    },
    {
     "data": {
      "text/plain": "                                              mean      median  count\ntarget_level psp_key entry_rr_perc year                              \n4            4h      <p30          2025  24.171267 -100.000000      6\n5            2h      <p70          2025  42.903431  -55.220036     24\n             4h      <p70          2025  82.343719  -73.798429     13",
      "text/html": "<div>\n<style scoped>\n    .dataframe tbody tr th:only-of-type {\n        vertical-align: middle;\n    }\n\n    .dataframe tbody tr th {\n        vertical-align: top;\n    }\n\n    .dataframe thead th {\n        text-align: right;\n    }\n</style>\n<table border=\"1\" class=\"dataframe\">\n  <thead>\n    <tr style=\"text-align: right;\">\n      <th></th>\n      <th></th>\n      <th></th>\n      <th></th>\n      <th>mean</th>\n      <th>median</th>\n      <th>count</th>\n    </tr>\n    <tr>\n      <th>target_level</th>\n      <th>psp_key</th>\n      <th>entry_rr_perc</th>\n      <th>year</th>\n      <th></th>\n      <th></th>\n      <th></th>\n    </tr>\n  </thead>\n  <tbody>\n    <tr>\n      <th>4</th>\n      <th>4h</th>\n      <th>&lt;p30</th>\n      <th>2025</th>\n      <td>24.171267</td>\n      <td>-100.000000</td>\n      <td>6</td>\n    </tr>\n    <tr>\n      <th rowspan=\"2\" valign=\"top\">5</th>\n      <th>2h</th>\n      <th>&lt;p70</th>\n      <th>2025</th>\n      <td>42.903431</td>\n      <td>-55.220036</td>\n      <td>24</td>\n    </tr>\n    <tr>\n      <th>4h</th>\n      <th>&lt;p70</th>\n      <th>2025</th>\n      <td>82.343719</td>\n      <td>-73.798429</td>\n      <td>13</td>\n    </tr>\n  </tbody>\n</table>\n</div>"
     },
     "metadata": {},
     "output_type": "display_data"
    },
    {
     "data": {
      "text/plain": "'chase_tyo'"
     },
     "metadata": {},
     "output_type": "display_data"
    },
    {
     "data": {
      "text/plain": "                                              mean     median  count\ntarget_level psp_key entry_rr_perc year                             \n5            1h      <p70          2024  97.897298 -62.637786      6",
      "text/html": "<div>\n<style scoped>\n    .dataframe tbody tr th:only-of-type {\n        vertical-align: middle;\n    }\n\n    .dataframe tbody tr th {\n        vertical-align: top;\n    }\n\n    .dataframe thead th {\n        text-align: right;\n    }\n</style>\n<table border=\"1\" class=\"dataframe\">\n  <thead>\n    <tr style=\"text-align: right;\">\n      <th></th>\n      <th></th>\n      <th></th>\n      <th></th>\n      <th>mean</th>\n      <th>median</th>\n      <th>count</th>\n    </tr>\n    <tr>\n      <th>target_level</th>\n      <th>psp_key</th>\n      <th>entry_rr_perc</th>\n      <th>year</th>\n      <th></th>\n      <th></th>\n      <th></th>\n    </tr>\n  </thead>\n  <tbody>\n    <tr>\n      <th>5</th>\n      <th>1h</th>\n      <th>&lt;p70</th>\n      <th>2024</th>\n      <td>97.897298</td>\n      <td>-62.637786</td>\n      <td>6</td>\n    </tr>\n  </tbody>\n</table>\n</div>"
     },
     "metadata": {},
     "output_type": "display_data"
    },
    {
     "data": {
      "text/plain": "'chase_tmo'"
     },
     "metadata": {},
     "output_type": "display_data"
    },
    {
     "data": {
      "text/plain": "                                               mean      median  count\ntarget_level psp_key entry_rr_perc year                               \n5            1h      <p10          2024   31.013570   44.240646     10\n                     <p30          2024  106.758448  135.210438      5\n                     <p70          2024  205.795930  206.594217      6\n             2h      <p30          2024   73.024624  135.210438      7\n             4h      <p30          2024   36.716014   16.008926      8\n                                   2025   33.771673    5.984875      8",
      "text/html": "<div>\n<style scoped>\n    .dataframe tbody tr th:only-of-type {\n        vertical-align: middle;\n    }\n\n    .dataframe tbody tr th {\n        vertical-align: top;\n    }\n\n    .dataframe thead th {\n        text-align: right;\n    }\n</style>\n<table border=\"1\" class=\"dataframe\">\n  <thead>\n    <tr style=\"text-align: right;\">\n      <th></th>\n      <th></th>\n      <th></th>\n      <th></th>\n      <th>mean</th>\n      <th>median</th>\n      <th>count</th>\n    </tr>\n    <tr>\n      <th>target_level</th>\n      <th>psp_key</th>\n      <th>entry_rr_perc</th>\n      <th>year</th>\n      <th></th>\n      <th></th>\n      <th></th>\n    </tr>\n  </thead>\n  <tbody>\n    <tr>\n      <th rowspan=\"6\" valign=\"top\">5</th>\n      <th rowspan=\"3\" valign=\"top\">1h</th>\n      <th>&lt;p10</th>\n      <th>2024</th>\n      <td>31.013570</td>\n      <td>44.240646</td>\n      <td>10</td>\n    </tr>\n    <tr>\n      <th>&lt;p30</th>\n      <th>2024</th>\n      <td>106.758448</td>\n      <td>135.210438</td>\n      <td>5</td>\n    </tr>\n    <tr>\n      <th>&lt;p70</th>\n      <th>2024</th>\n      <td>205.795930</td>\n      <td>206.594217</td>\n      <td>6</td>\n    </tr>\n    <tr>\n      <th>2h</th>\n      <th>&lt;p30</th>\n      <th>2024</th>\n      <td>73.024624</td>\n      <td>135.210438</td>\n      <td>7</td>\n    </tr>\n    <tr>\n      <th rowspan=\"2\" valign=\"top\">4h</th>\n      <th rowspan=\"2\" valign=\"top\">&lt;p30</th>\n      <th>2024</th>\n      <td>36.716014</td>\n      <td>16.008926</td>\n      <td>8</td>\n    </tr>\n    <tr>\n      <th>2025</th>\n      <td>33.771673</td>\n      <td>5.984875</td>\n      <td>8</td>\n    </tr>\n  </tbody>\n</table>\n</div>"
     },
     "metadata": {},
     "output_type": "display_data"
    },
    {
     "data": {
      "text/plain": "'chase_two'"
     },
     "metadata": {},
     "output_type": "display_data"
    },
    {
     "data": {
      "text/plain": "                                               mean      median  count\ntarget_level psp_key entry_rr_perc year                               \n4            1h      <p70          2025  102.055031   66.927038      6\n             4h      <p30          2024   64.807986   95.528272      6\n5            1h      <p70          2024   31.700848  -79.238005     26\n             2h      <p30          2024   15.131350   21.132611     17\n                     <p70          2024   44.579370  -66.563752     13\n                     <p90          2024   93.406231 -100.000000      8\n             4h      <p30          2025   40.887335  -48.807047     15\n                     <p70          2024   40.359009 -100.000000      7\n                                   2025   30.651224 -100.000000     11",
      "text/html": "<div>\n<style scoped>\n    .dataframe tbody tr th:only-of-type {\n        vertical-align: middle;\n    }\n\n    .dataframe tbody tr th {\n        vertical-align: top;\n    }\n\n    .dataframe thead th {\n        text-align: right;\n    }\n</style>\n<table border=\"1\" class=\"dataframe\">\n  <thead>\n    <tr style=\"text-align: right;\">\n      <th></th>\n      <th></th>\n      <th></th>\n      <th></th>\n      <th>mean</th>\n      <th>median</th>\n      <th>count</th>\n    </tr>\n    <tr>\n      <th>target_level</th>\n      <th>psp_key</th>\n      <th>entry_rr_perc</th>\n      <th>year</th>\n      <th></th>\n      <th></th>\n      <th></th>\n    </tr>\n  </thead>\n  <tbody>\n    <tr>\n      <th rowspan=\"2\" valign=\"top\">4</th>\n      <th>1h</th>\n      <th>&lt;p70</th>\n      <th>2025</th>\n      <td>102.055031</td>\n      <td>66.927038</td>\n      <td>6</td>\n    </tr>\n    <tr>\n      <th>4h</th>\n      <th>&lt;p30</th>\n      <th>2024</th>\n      <td>64.807986</td>\n      <td>95.528272</td>\n      <td>6</td>\n    </tr>\n    <tr>\n      <th rowspan=\"7\" valign=\"top\">5</th>\n      <th>1h</th>\n      <th>&lt;p70</th>\n      <th>2024</th>\n      <td>31.700848</td>\n      <td>-79.238005</td>\n      <td>26</td>\n    </tr>\n    <tr>\n      <th rowspan=\"3\" valign=\"top\">2h</th>\n      <th>&lt;p30</th>\n      <th>2024</th>\n      <td>15.131350</td>\n      <td>21.132611</td>\n      <td>17</td>\n    </tr>\n    <tr>\n      <th>&lt;p70</th>\n      <th>2024</th>\n      <td>44.579370</td>\n      <td>-66.563752</td>\n      <td>13</td>\n    </tr>\n    <tr>\n      <th>&lt;p90</th>\n      <th>2024</th>\n      <td>93.406231</td>\n      <td>-100.000000</td>\n      <td>8</td>\n    </tr>\n    <tr>\n      <th rowspan=\"3\" valign=\"top\">4h</th>\n      <th>&lt;p30</th>\n      <th>2025</th>\n      <td>40.887335</td>\n      <td>-48.807047</td>\n      <td>15</td>\n    </tr>\n    <tr>\n      <th rowspan=\"2\" valign=\"top\">&lt;p70</th>\n      <th>2024</th>\n      <td>40.359009</td>\n      <td>-100.000000</td>\n      <td>7</td>\n    </tr>\n    <tr>\n      <th>2025</th>\n      <td>30.651224</td>\n      <td>-100.000000</td>\n      <td>11</td>\n    </tr>\n  </tbody>\n</table>\n</div>"
     },
     "metadata": {},
     "output_type": "display_data"
    },
    {
     "data": {
      "text/plain": "'chase_tdo'"
     },
     "metadata": {},
     "output_type": "display_data"
    },
    {
     "data": {
      "text/plain": "                                               mean      median  count\ntarget_level psp_key entry_rr_perc year                               \n4            2h      <p70          2024   16.474393    4.970909      6\n             4h      <p70          2025   78.520255  -15.336291      6\n5            1h      <p30          2024   20.901107   -4.042606     77\n                     <p90          2024   69.408015 -100.000000     12\n             2h      <p70          2025   63.499267  -40.003791     25\n             4h      <p70          2025  139.032069   44.998084     34\n                     <p90          2025  148.354549 -100.000000      6",
      "text/html": "<div>\n<style scoped>\n    .dataframe tbody tr th:only-of-type {\n        vertical-align: middle;\n    }\n\n    .dataframe tbody tr th {\n        vertical-align: top;\n    }\n\n    .dataframe thead th {\n        text-align: right;\n    }\n</style>\n<table border=\"1\" class=\"dataframe\">\n  <thead>\n    <tr style=\"text-align: right;\">\n      <th></th>\n      <th></th>\n      <th></th>\n      <th></th>\n      <th>mean</th>\n      <th>median</th>\n      <th>count</th>\n    </tr>\n    <tr>\n      <th>target_level</th>\n      <th>psp_key</th>\n      <th>entry_rr_perc</th>\n      <th>year</th>\n      <th></th>\n      <th></th>\n      <th></th>\n    </tr>\n  </thead>\n  <tbody>\n    <tr>\n      <th rowspan=\"2\" valign=\"top\">4</th>\n      <th>2h</th>\n      <th>&lt;p70</th>\n      <th>2024</th>\n      <td>16.474393</td>\n      <td>4.970909</td>\n      <td>6</td>\n    </tr>\n    <tr>\n      <th>4h</th>\n      <th>&lt;p70</th>\n      <th>2025</th>\n      <td>78.520255</td>\n      <td>-15.336291</td>\n      <td>6</td>\n    </tr>\n    <tr>\n      <th rowspan=\"5\" valign=\"top\">5</th>\n      <th rowspan=\"2\" valign=\"top\">1h</th>\n      <th>&lt;p30</th>\n      <th>2024</th>\n      <td>20.901107</td>\n      <td>-4.042606</td>\n      <td>77</td>\n    </tr>\n    <tr>\n      <th>&lt;p90</th>\n      <th>2024</th>\n      <td>69.408015</td>\n      <td>-100.000000</td>\n      <td>12</td>\n    </tr>\n    <tr>\n      <th>2h</th>\n      <th>&lt;p70</th>\n      <th>2025</th>\n      <td>63.499267</td>\n      <td>-40.003791</td>\n      <td>25</td>\n    </tr>\n    <tr>\n      <th rowspan=\"2\" valign=\"top\">4h</th>\n      <th>&lt;p70</th>\n      <th>2025</th>\n      <td>139.032069</td>\n      <td>44.998084</td>\n      <td>34</td>\n    </tr>\n    <tr>\n      <th>&lt;p90</th>\n      <th>2025</th>\n      <td>148.354549</td>\n      <td>-100.000000</td>\n      <td>6</td>\n    </tr>\n  </tbody>\n</table>\n</div>"
     },
     "metadata": {},
     "output_type": "display_data"
    },
    {
     "data": {
      "text/plain": "'chase_t90mo'"
     },
     "metadata": {},
     "output_type": "display_data"
    },
    {
     "data": {
      "text/plain": "                                               mean      median  count\ntarget_level psp_key entry_rr_perc year                               \n4            1h      <p10          2024   38.914473   74.120346      6\n                                   2025   17.528686   38.112150      5\n                     <p70          2025   34.847195  -76.456143     16\n             2h      <p30          2025   20.039753   13.964928      8\n             4h      <p30          2024   20.098853  -24.886082     27\n                     <p90          2024   57.713710  -86.364313     11\n5            1h      <p10          2024   17.931982   26.046947     47\n                     <p90          2025  101.205580  -54.169215     24\n                     >=p90         2025   61.911804 -100.000000      9\n             2h      <p10          2024   23.631352   34.710878     24\n                     <p70          2024   31.763471  -77.171623    105\n                                   2025   24.112902  -73.506108     53\n                     <p90          2024   34.407620 -100.000000     21\n                                   2025  253.257588 -100.000000      7",
      "text/html": "<div>\n<style scoped>\n    .dataframe tbody tr th:only-of-type {\n        vertical-align: middle;\n    }\n\n    .dataframe tbody tr th {\n        vertical-align: top;\n    }\n\n    .dataframe thead th {\n        text-align: right;\n    }\n</style>\n<table border=\"1\" class=\"dataframe\">\n  <thead>\n    <tr style=\"text-align: right;\">\n      <th></th>\n      <th></th>\n      <th></th>\n      <th></th>\n      <th>mean</th>\n      <th>median</th>\n      <th>count</th>\n    </tr>\n    <tr>\n      <th>target_level</th>\n      <th>psp_key</th>\n      <th>entry_rr_perc</th>\n      <th>year</th>\n      <th></th>\n      <th></th>\n      <th></th>\n    </tr>\n  </thead>\n  <tbody>\n    <tr>\n      <th rowspan=\"6\" valign=\"top\">4</th>\n      <th rowspan=\"3\" valign=\"top\">1h</th>\n      <th rowspan=\"2\" valign=\"top\">&lt;p10</th>\n      <th>2024</th>\n      <td>38.914473</td>\n      <td>74.120346</td>\n      <td>6</td>\n    </tr>\n    <tr>\n      <th>2025</th>\n      <td>17.528686</td>\n      <td>38.112150</td>\n      <td>5</td>\n    </tr>\n    <tr>\n      <th>&lt;p70</th>\n      <th>2025</th>\n      <td>34.847195</td>\n      <td>-76.456143</td>\n      <td>16</td>\n    </tr>\n    <tr>\n      <th>2h</th>\n      <th>&lt;p30</th>\n      <th>2025</th>\n      <td>20.039753</td>\n      <td>13.964928</td>\n      <td>8</td>\n    </tr>\n    <tr>\n      <th rowspan=\"2\" valign=\"top\">4h</th>\n      <th>&lt;p30</th>\n      <th>2024</th>\n      <td>20.098853</td>\n      <td>-24.886082</td>\n      <td>27</td>\n    </tr>\n    <tr>\n      <th>&lt;p90</th>\n      <th>2024</th>\n      <td>57.713710</td>\n      <td>-86.364313</td>\n      <td>11</td>\n    </tr>\n    <tr>\n      <th rowspan=\"8\" valign=\"top\">5</th>\n      <th rowspan=\"3\" valign=\"top\">1h</th>\n      <th>&lt;p10</th>\n      <th>2024</th>\n      <td>17.931982</td>\n      <td>26.046947</td>\n      <td>47</td>\n    </tr>\n    <tr>\n      <th>&lt;p90</th>\n      <th>2025</th>\n      <td>101.205580</td>\n      <td>-54.169215</td>\n      <td>24</td>\n    </tr>\n    <tr>\n      <th>&gt;=p90</th>\n      <th>2025</th>\n      <td>61.911804</td>\n      <td>-100.000000</td>\n      <td>9</td>\n    </tr>\n    <tr>\n      <th rowspan=\"5\" valign=\"top\">2h</th>\n      <th>&lt;p10</th>\n      <th>2024</th>\n      <td>23.631352</td>\n      <td>34.710878</td>\n      <td>24</td>\n    </tr>\n    <tr>\n      <th rowspan=\"2\" valign=\"top\">&lt;p70</th>\n      <th>2024</th>\n      <td>31.763471</td>\n      <td>-77.171623</td>\n      <td>105</td>\n    </tr>\n    <tr>\n      <th>2025</th>\n      <td>24.112902</td>\n      <td>-73.506108</td>\n      <td>53</td>\n    </tr>\n    <tr>\n      <th rowspan=\"2\" valign=\"top\">&lt;p90</th>\n      <th>2024</th>\n      <td>34.407620</td>\n      <td>-100.000000</td>\n      <td>21</td>\n    </tr>\n    <tr>\n      <th>2025</th>\n      <td>253.257588</td>\n      <td>-100.000000</td>\n      <td>7</td>\n    </tr>\n  </tbody>\n</table>\n</div>"
     },
     "metadata": {},
     "output_type": "display_data"
    },
    {
     "data": {
      "text/plain": "'market all [0.93, 2.23, 6.6, 15.96]'"
     },
     "metadata": {},
     "output_type": "display_data"
    },
    {
     "data": {
      "text/plain": "'limit all [1.17, 3.13, 9.96, 24.65]'"
     },
     "metadata": {},
     "output_type": "display_data"
    },
    {
     "data": {
      "text/plain": "'chase_median_rr [1.8, 3.78, 9.76, 23.71]'"
     },
     "metadata": {},
     "output_type": "display_data"
    },
    {
     "data": {
      "text/plain": "'chase_mean_rr [4.01, 7.3, 17.4, 44.96]'"
     },
     "metadata": {},
     "output_type": "display_data"
    },
    {
     "data": {
      "text/plain": "'chase_absent_two [0.65, 1.63, 4.7, 6.72]'"
     },
     "metadata": {},
     "output_type": "display_data"
    },
    {
     "data": {
      "text/plain": "'chase_absent_tdo [0.65, 1.73, 4.31, 10.03]'"
     },
     "metadata": {},
     "output_type": "display_data"
    },
    {
     "data": {
      "text/plain": "'chase_absent_t90mo [0.55, 1.29, 3.76, 8.39]'"
     },
     "metadata": {},
     "output_type": "display_data"
    },
    {
     "data": {
      "text/plain": "'chase_tyo [0.8, 1.47, 4.19, 18.28]'"
     },
     "metadata": {},
     "output_type": "display_data"
    },
    {
     "data": {
      "text/plain": "'chase_tmo [0.4, 1.36, 3.47, 11.15]'"
     },
     "metadata": {},
     "output_type": "display_data"
    },
    {
     "data": {
      "text/plain": "'chase_two [0.39, 1.16, 5.03, 12.75]'"
     },
     "metadata": {},
     "output_type": "display_data"
    },
    {
     "data": {
      "text/plain": "'chase_tdo [0.45, 1.14, 3.51, 8.2]'"
     },
     "metadata": {},
     "output_type": "display_data"
    },
    {
     "data": {
      "text/plain": "'chase_t90mo [1.16, 2.29, 5.66, 11.52]'"
     },
     "metadata": {},
     "output_type": "display_data"
    },
    {
     "data": {
      "text/plain": "                                          market all                    \\\n                                                mean      median count   \ntarget_level psp_key entry_rr_perc year                                  \n4            1h      <p10          2024    15.59/1.0   15.59/1.0     1   \n                                   2025   28.57/0.75   41.01/1.0     8   \n                     <p30          2024   20.57/0.42  -34.96/0.0    19   \n                                   2025   -30.16/0.4  -49.76/0.0    10   \n                     <p70          2024   32.42/0.37  -48.38/0.0    90   \n                                   2025    12.6/0.32  -54.88/0.0    75   \n                     <p90          2024    -4.6/0.17  -67.22/0.0    69   \n                                   2025   -0.52/0.17  -79.08/0.0    41   \n                     >=p90         2024   -26.6/0.18  -100.0/0.0    56   \n                                   2025  186.35/0.28  -100.0/0.0    40   \n             2h      <p10          2024   -1.76/0.67   21.37/1.0     3   \n                                   2025    35.46/0.8   63.89/1.0     5   \n                     <p30          2024   20.78/0.57   49.83/1.0     7   \n                                   2025  -18.48/0.39  -50.31/0.0    18   \n                     <p70          2024   39.41/0.55   21.99/1.0    20   \n                                   2025   -37.8/0.26  -73.91/0.0    42   \n                     <p90          2024   22.19/0.21  -94.06/0.0    14   \n                                   2025  -29.39/0.29  -85.31/0.0    14   \n                     >=p90         2024   -7.89/0.19  -100.0/0.0    16   \n                                   2025  -62.97/0.09  -100.0/0.0    11   \n             4h      <p10          2024  -11.21/0.56   31.95/1.0     9   \n                                   2025  -19.13/0.38  -29.36/0.0     8   \n                     <p30          2024    -7.6/0.41  -27.33/0.0    34   \n                                   2025  -30.08/0.25  -77.55/0.0    20   \n                     <p70          2024    1.58/0.28  -63.04/0.0    69   \n                                   2025  -30.37/0.19  -100.0/0.0    37   \n                     <p90          2024   24.59/0.26  -60.69/0.0    47   \n                                   2025   20.89/0.22  -63.12/0.0    18   \n                     >=p90         2024   18.84/0.17  -100.0/0.0    30   \n                                   2025    3.33/0.25  -100.0/0.0     4   \n5            1h      <p10          2024    6.05/0.69   27.79/1.0   115   \n                                   2025     3.9/0.61   31.51/1.0    51   \n                     <p30          2024   -1.51/0.43  -38.32/0.0   276   \n                                   2025    -0.1/0.39  -44.43/0.0   177   \n                     <p70          2024     8.11/0.3  -58.06/0.0   657   \n                                   2025    -4.6/0.24  -66.34/0.0   498   \n                     <p90          2024    5.35/0.19  -100.0/0.0   417   \n                                   2025    12.81/0.2  -100.0/0.0   298   \n                     >=p90         2024   38.48/0.13  -100.0/0.0   191   \n                                   2025  -68.68/0.08  -100.0/0.0   146   \n             2h      <p10          2024    -4.3/0.61   23.86/1.0    89   \n                                   2025  -28.51/0.44  -58.18/0.0    52   \n                     <p30          2024    6.38/0.44  -28.87/0.0   176   \n                                   2025  -13.98/0.36  -54.79/0.0   104   \n                     <p70          2024    4.51/0.28  -69.99/0.0   364   \n                                   2025  -10.44/0.25  -71.58/0.0   175   \n                     <p90          2024   -0.19/0.17  -100.0/0.0   121   \n                                   2025  -19.32/0.12  -100.0/0.0    86   \n                     >=p90         2024   23.03/0.12  -100.0/0.0    57   \n                                   2025  -18.57/0.17  -100.0/0.0    41   \n             4h      <p10          2024   -0.98/0.62   14.79/1.0   158   \n                                   2025   -1.43/0.63   19.43/1.0   134   \n                     <p30          2024   -5.04/0.39  -56.15/0.0   236   \n                                   2025    7.85/0.45   -26.5/0.0   187   \n                     <p70          2024   -2.68/0.27  -67.63/0.0   296   \n                                   2025    5.84/0.29  -68.86/0.0   204   \n                     <p90          2024   -8.51/0.16  -100.0/0.0    80   \n                                   2025  111.96/0.39  -54.55/0.0    59   \n                     >=p90         2024  -80.79/0.08  -100.0/0.0    25   \n                                   2025  107.27/0.19  -100.0/0.0    16   \n\n                                           limit all                    \\\n                                                mean      median count   \ntarget_level psp_key entry_rr_perc year                                  \n4            1h      <p10          2024   44.44/0.94    56.0/1.0    16   \n                                   2025   12.79/0.62   27.36/1.0    16   \n                     <p30          2024   -10.09/0.3  -59.74/0.0    50   \n                                   2025   -9.28/0.32  -70.16/0.0    34   \n                     <p70          2024   21.74/0.27  -60.75/0.0   175   \n                                   2025   26.77/0.31  -63.14/0.0   144   \n                     <p90          2024    1.98/0.19   -80.6/0.0   146   \n                                   2025   15.69/0.19  -100.0/0.0   100   \n                     >=p90         2024  -63.49/0.12  -100.0/0.0   103   \n                                   2025  226.96/0.21  -100.0/0.0    78   \n             2h      <p10          2024    6.83/0.57   17.98/1.0     7   \n                                   2025   -48.65/0.3  -71.57/0.0    10   \n                     <p30          2024   27.65/0.58   19.61/1.0    19   \n                                   2025    3.83/0.42  -14.35/0.0    40   \n                     <p70          2024   41.62/0.37  -34.72/0.0    49   \n                                   2025  -37.46/0.22  -84.41/0.0    78   \n                     <p90          2024  -83.84/0.04  -100.0/0.0    27   \n                                   2025  -78.75/0.05  -100.0/0.0    38   \n                     >=p90         2024   -9.36/0.13  -100.0/0.0    31   \n                                   2025    75.7/0.21  -100.0/0.0    19   \n             4h      <p10          2024    8.02/0.67   32.32/1.0    15   \n                                   2025  -51.08/0.25  -84.18/0.0    12   \n                     <p30          2024    9.07/0.46  -53.79/0.0    94   \n                                   2025  -25.71/0.27  -92.69/0.0    48   \n                     <p70          2024   -3.23/0.17  -64.49/0.0   186   \n                                   2025  -20.83/0.16  -90.47/0.0    90   \n                     <p90          2024   45.09/0.22  -81.17/0.0   103   \n                                   2025    1.21/0.12  -100.0/0.0    33   \n                     >=p90         2024   -49.27/0.1  -100.0/0.0    50   \n                                   2025  231.37/0.33  -100.0/0.0    12   \n5            1h      <p10          2024    8.51/0.69   22.47/1.0   257   \n                                   2025   -3.11/0.55   13.88/1.0   148   \n                     <p30          2024   12.55/0.42  -39.23/0.0   529   \n                                   2025   -3.96/0.35  -52.66/0.0   373   \n                     <p70          2024    3.91/0.25  -65.63/0.0  1326   \n                                   2025     -9.6/0.2  -71.43/0.0   951   \n                     <p90          2024   -5.32/0.16  -100.0/0.0   813   \n                                   2025   11.15/0.16  -100.0/0.0   589   \n                     >=p90         2024     5.01/0.1  -100.0/0.0   401   \n                                   2025  -48.74/0.06  -100.0/0.0   288   \n             2h      <p10          2024   -0.75/0.59   15.89/1.0   191   \n                                   2025  -22.19/0.45  -45.59/0.0    96   \n                     <p30          2024   -0.28/0.37  -61.05/0.0   379   \n                                   2025  -11.78/0.31  -52.52/0.0   220   \n                     <p70          2024    9.68/0.23  -76.77/0.0   716   \n                                   2025     2.6/0.23  -70.53/0.0   390   \n                     <p90          2024   16.74/0.13  -100.0/0.0   275   \n                                   2025    2.32/0.17  -100.0/0.0   197   \n                     >=p90         2024  -84.88/0.03  -100.0/0.0   123   \n                                   2025  -64.91/0.09  -100.0/0.0    91   \n             4h      <p10          2024    -5.95/0.6    9.19/1.0   291   \n                                   2025   -1.31/0.63   14.25/1.0   251   \n                     <p30          2024   -3.19/0.37  -55.43/0.0   483   \n                                   2025    -1.6/0.36  -55.86/0.0   351   \n                     <p70          2024   -3.41/0.21  -77.85/0.0   655   \n                                   2025   30.94/0.28  -68.43/0.0   477   \n                     <p90          2024  -22.92/0.12  -100.0/0.0   190   \n                                   2025  164.95/0.28  -100.0/0.0   109   \n                     >=p90         2024   -70.53/0.1  -100.0/0.0    69   \n                                   2025  354.17/0.22  -100.0/0.0    45   \n\n                                        chase_median_rr                    \\\n                                                   mean      median count   \ntarget_level psp_key entry_rr_perc year                                     \n4            1h      <p10          2024             NaN         NaN  <NA>   \n                                   2025       28.02/1.0   28.02/1.0     1   \n                     <p30          2024     -26.85/0.09  -50.76/0.0    11   \n                                   2025     -31.89/0.22   -64.2/0.0     9   \n                     <p70          2024      37.13/0.29  -60.75/0.0    85   \n                                   2025      17.89/0.29  -55.61/0.0    73   \n                     <p90          2024       7.97/0.19  -77.45/0.0    58   \n                                   2025      10.99/0.18  -100.0/0.0    38   \n                     >=p90         2024      -46.5/0.12  -100.0/0.0    41   \n                                   2025      292.48/0.3  -100.0/0.0    27   \n             2h      <p10          2024      -13.52/0.5  -13.52/0.5     2   \n                                   2025       19.37/1.0   19.37/1.0     1   \n                     <p30          2024     -10.46/0.33  -41.35/0.0     3   \n                                   2025      -3.85/0.35   -41.5/0.0    17   \n                     <p70          2024      46.46/0.42  -24.96/0.0    19   \n                                   2025     -42.55/0.22  -82.08/0.0    36   \n                     <p90          2024      -75.1/0.07  -100.0/0.0    14   \n                                   2025     -85.67/0.08  -100.0/0.0    12   \n                     >=p90         2024      53.23/0.25   -79.7/0.0    12   \n                                   2025     -24.58/0.29  -100.0/0.0     7   \n             4h      <p10          2024      -21.67/0.5  -21.67/0.5     2   \n                                   2025             NaN         NaN  <NA>   \n                     <p30          2024       2.76/0.43  -53.79/0.0    28   \n                                   2025     -62.18/0.13  -94.43/0.0    15   \n                     <p70          2024       34.0/0.24  -59.97/0.0    62   \n                                   2025      -8.57/0.15  -100.0/0.0    34   \n                     <p90          2024      73.34/0.21  -71.34/0.0    33   \n                                   2025       2.02/0.22  -52.85/0.0     9   \n                     >=p90         2024     -16.35/0.13  -100.0/0.0    23   \n                                   2025      77.86/0.33  -100.0/0.0     3   \n5            1h      <p10          2024       4.57/0.67   27.75/1.0    49   \n                                   2025       -5.8/0.56   23.23/1.0    25   \n                     <p30          2024      11.33/0.42  -43.43/0.0   196   \n                                   2025      -4.29/0.33  -55.63/0.0   121   \n                     <p70          2024        6.4/0.26  -64.32/0.0   614   \n                                   2025        -1.3/0.2  -70.89/0.0   457   \n                     <p90          2024      -3.23/0.16  -100.0/0.0   305   \n                                   2025      11.23/0.17  -100.0/0.0   246   \n                     >=p90         2024       -0.9/0.08  -100.0/0.0   148   \n                                   2025     -85.38/0.04  -100.0/0.0   100   \n             2h      <p10          2024      -13.07/0.5   -12.8/0.5    36   \n                                   2025     -39.78/0.32  -65.54/0.0    31   \n                     <p30          2024       4.03/0.36  -50.92/0.0   131   \n                                   2025      -8.18/0.33  -52.52/0.0    84   \n                     <p70          2024      13.12/0.25  -73.04/0.0   314   \n                                   2025      -13.42/0.2  -72.72/0.0   161   \n                     <p90          2024     -11.03/0.11  -100.0/0.0    83   \n                                   2025     -34.73/0.14  -100.0/0.0    74   \n                     >=p90         2024     -86.87/0.02  -100.0/0.0    44   \n                                   2025     -67.52/0.13  -100.0/0.0    30   \n             4h      <p10          2024       -7.96/0.6    7.75/1.0    68   \n                                   2025     -10.65/0.54     4.8/1.0    46   \n                     <p30          2024      -5.83/0.34  -57.02/0.0   170   \n                                   2025       1.13/0.37  -57.16/0.0   140   \n                     <p70          2024      -2.09/0.23  -81.44/0.0   261   \n                                   2025      25.73/0.27  -71.67/0.0   184   \n                     <p90          2024     -29.95/0.08  -100.0/0.0    62   \n                                   2025      174.8/0.33  -100.0/0.0    42   \n                     >=p90         2024      -72.07/0.1  -100.0/0.0    20   \n                                   2025     187.84/0.21  -100.0/0.0    14   \n\n                                        chase_mean_rr  ... chase_tmo  \\\n                                                 mean  ...     count   \ntarget_level psp_key entry_rr_perc year                ...             \n4            1h      <p10          2024           NaN  ...      <NA>   \n                                   2025           NaN  ...         1   \n                     <p30          2024           NaN  ...         1   \n                                   2025           NaN  ...         1   \n                     <p70          2024     5.89/0.27  ...         2   \n                                   2025     57.1/0.33  ...      <NA>   \n                     <p90          2024    11.75/0.19  ...      <NA>   \n                                   2025      5.88/0.2  ...         3   \n                     >=p90         2024    -77.62/0.1  ...      <NA>   \n                                   2025    178.0/0.18  ...         1   \n             2h      <p10          2024           NaN  ...      <NA>   \n                                   2025     39.88/1.0  ...         1   \n                     <p30          2024    -43.92/0.0  ...         1   \n                                   2025           NaN  ...         2   \n                     <p70          2024   146.74/0.44  ...         1   \n                                   2025   -15.97/0.25  ...      <NA>   \n                     <p90          2024    -89.04/0.0  ...      <NA>   \n                                   2025   -76.34/0.05  ...      <NA>   \n                     >=p90         2024   -41.04/0.06  ...      <NA>   \n                                   2025   -72.24/0.09  ...      <NA>   \n             4h      <p10          2024           NaN  ...         1   \n                                   2025           NaN  ...         1   \n                     <p30          2024      8.33/0.5  ...         1   \n                                   2025    -90.95/0.0  ...         5   \n                     <p70          2024    -3.68/0.21  ...      <NA>   \n                                   2025   -45.82/0.08  ...      <NA>   \n                     <p90          2024    56.99/0.22  ...      <NA>   \n                                   2025    25.85/0.11  ...      <NA>   \n                     >=p90         2024   -87.32/0.04  ...      <NA>   \n                                   2025   103.54/0.25  ...      <NA>   \n5            1h      <p10          2024   -18.13/0.44  ...        10   \n                                   2025    -63.08/0.2  ...         7   \n                     <p30          2024    49.03/0.55  ...         5   \n                                   2025   -27.56/0.23  ...         9   \n                     <p70          2024      0.5/0.23  ...         6   \n                                   2025   -27.73/0.17  ...        10   \n                     <p90          2024    -5.85/0.16  ...         4   \n                                   2025    12.29/0.17  ...         1   \n                     >=p90         2024     16.1/0.11  ...         1   \n                                   2025   -30.43/0.07  ...         3   \n             2h      <p10          2024   -26.89/0.36  ...         4   \n                                   2025   -14.79/0.44  ...         3   \n                     <p30          2024     7.16/0.36  ...         7   \n                                   2025   -33.21/0.18  ...        11   \n                     <p70          2024      2.48/0.2  ...         8   \n                                   2025    -1.47/0.21  ...         2   \n                     <p90          2024    26.14/0.14  ...         1   \n                                   2025    17.53/0.17  ...         2   \n                     >=p90         2024   -84.03/0.03  ...      <NA>   \n                                   2025   -88.07/0.06  ...         2   \n             4h      <p10          2024    -24.07/0.5  ...         3   \n                                   2025     28.61/0.8  ...        10   \n                     <p30          2024     -5.45/0.3  ...         8   \n                                   2025   -34.04/0.19  ...         8   \n                     <p70          2024    -7.36/0.19  ...         2   \n                                   2025     29.9/0.26  ...         3   \n                     <p90          2024    -0.63/0.18  ...      <NA>   \n                                   2025   142.45/0.21  ...      <NA>   \n                     >=p90         2024     -66.5/0.1  ...      <NA>   \n                                   2025   286.01/0.23  ...      <NA>   \n\n                                            chase_two                     \\\n                                                 mean       median count   \ntarget_level psp_key entry_rr_perc year                                    \n4            1h      <p10          2024     44.93/1.0    29.91/1.0     4   \n                                   2025    48.96/0.75    60.35/1.0     4   \n                     <p30          2024    -78.75/0.0   -91.94/0.0     4   \n                                   2025     55.47/0.5    55.47/0.5     2   \n                     <p70          2024     10.29/0.2    -13.9/0.0     5   \n                                   2025    102.06/0.5    66.93/0.5     6   \n                     <p90          2024     29.39/0.5    15.22/0.5     4   \n                                   2025    -100.0/0.0   -100.0/0.0     2   \n                     >=p90         2024    -100.0/0.0   -100.0/0.0     2   \n                                   2025  1141.91/0.33   -100.0/0.0     3   \n             2h      <p10          2024     17.98/1.0    17.98/1.0     1   \n                                   2025           NaN          NaN  <NA>   \n                     <p30          2024    -74.86/0.0   -74.86/0.0     1   \n                                   2025    -100.0/0.0   -100.0/0.0     2   \n                     <p70          2024    158.16/1.0   158.16/1.0     1   \n                                   2025    -22.88/0.0   -22.88/0.0     1   \n                     <p90          2024           NaN          NaN  <NA>   \n                                   2025           NaN          NaN  <NA>   \n                     >=p90         2024    -100.0/0.0   -100.0/0.0     1   \n                                   2025           NaN          NaN  <NA>   \n             4h      <p10          2024     37.27/1.0    37.27/1.0     2   \n                                   2025           NaN          NaN  <NA>   \n                     <p30          2024    64.81/0.67    95.53/1.0     6   \n                                   2025    -9.26/0.33   -100.0/0.0     3   \n                     <p70          2024      39.4/0.5   -16.28/0.5     4   \n                                   2025    -100.0/0.0   -100.0/0.0     1   \n                     <p90          2024           NaN          NaN  <NA>   \n                                   2025           NaN          NaN  <NA>   \n                     >=p90         2024           NaN          NaN  <NA>   \n                                   2025           NaN          NaN  <NA>   \n5            1h      <p10          2024    -3.42/0.57     1.34/1.0    21   \n                                   2025   -14.21/0.57     3.08/1.0    14   \n                     <p30          2024   -40.71/0.21   -71.11/0.0    19   \n                                   2025    -9.56/0.32   -60.22/0.0    19   \n                     <p70          2024     31.7/0.23   -79.24/0.0    26   \n                                   2025   -21.36/0.21   -97.18/0.0    14   \n                     <p90          2024   -67.62/0.07   -100.0/0.0    15   \n                                   2025    -79.43/0.0   -100.0/0.0     8   \n                     >=p90         2024    -100.0/0.0   -100.0/0.0     4   \n                                   2025    -95.34/0.0   -100.0/0.0     3   \n             2h      <p10          2024      2.54/0.7    17.99/1.0    20   \n                                   2025   -16.52/0.57    13.29/1.0     7   \n                     <p30          2024    15.13/0.53    21.13/1.0    17   \n                                   2025   -22.73/0.25    -57.4/0.0     8   \n                     <p70          2024    44.58/0.31   -66.56/0.0    13   \n                                   2025    -5.75/0.29   -56.82/0.0     7   \n                     <p90          2024    93.41/0.12   -100.0/0.0     8   \n                                   2025    -100.0/0.0   -100.0/0.0     1   \n                     >=p90         2024    -100.0/0.0   -100.0/0.0     1   \n                                   2025    -100.0/0.0   -100.0/0.0     1   \n             4h      <p10          2024     3.34/0.68    13.29/1.0    25   \n                                   2025    11.22/0.78    15.83/1.0    18   \n                     <p30          2024    -1.77/0.41   -53.03/0.0    22   \n                                   2025    40.89/0.47   -48.81/0.0    15   \n                     <p70          2024    40.36/0.29   -100.0/0.0     7   \n                                   2025    30.65/0.18   -100.0/0.0    11   \n                     <p90          2024    -100.0/0.0   -100.0/0.0     3   \n                                   2025           NaN          NaN  <NA>   \n                     >=p90         2024           NaN          NaN  <NA>   \n                                   2025   6221.42/1.0  6221.42/1.0     1   \n\n                                           chase_tdo                    \\\n                                                mean      median count   \ntarget_level psp_key entry_rr_perc year                                  \n4            1h      <p10          2024    47.52/1.0   58.41/1.0     3   \n                                   2025          NaN         NaN  <NA>   \n                     <p30          2024  -11.15/0.38  -78.34/0.0     8   \n                                   2025   -30.73/0.2  -80.23/0.0     5   \n                     <p70          2024   11.66/0.33  -41.12/0.0     9   \n                                   2025   -65.86/0.0  -75.33/0.0     7   \n                     <p90          2024  -55.67/0.22  -100.0/0.0     9   \n                                   2025  286.51/0.33  -14.29/0.0     3   \n                     >=p90         2024   -100.0/0.0  -100.0/0.0     2   \n                                   2025   -100.0/0.0  -100.0/0.0     2   \n             2h      <p10          2024    11.89/0.5   11.89/0.5     2   \n                                   2025   -53.74/0.0  -53.74/0.0     1   \n                     <p30          2024    -8.24/0.6    5.96/1.0     5   \n                                   2025    4.38/0.43   -6.52/0.0     7   \n                     <p70          2024    16.47/0.5    4.97/0.5     6   \n                                   2025   -69.75/0.2  -100.0/0.0     5   \n                     <p90          2024   -100.0/0.0  -100.0/0.0     2   \n                                   2025   -74.08/0.0  -74.08/0.0     2   \n                     >=p90         2024          NaN         NaN  <NA>   \n                                   2025          NaN         NaN  <NA>   \n             4h      <p10          2024          NaN         NaN  <NA>   \n                                   2025    -55.7/0.2  -89.39/0.0     5   \n                     <p30          2024  -49.61/0.15  -83.91/0.0    13   \n                                   2025   -27.0/0.25  -84.06/0.0     8   \n                     <p70          2024  -24.49/0.09  -68.41/0.0    23   \n                                   2025    78.52/0.5  -15.34/0.5     6   \n                     <p90          2024   99.95/0.33  -65.68/0.0     3   \n                                   2025   -79.94/0.0  -79.94/0.0     2   \n                     >=p90         2024          NaN         NaN  <NA>   \n                                   2025   -100.0/0.0  -100.0/0.0     1   \n5            1h      <p10          2024   11.09/0.72    18.5/1.0    61   \n                                   2025   -2.41/0.55   11.98/1.0    42   \n                     <p30          2024    20.9/0.49   -4.04/0.0    77   \n                                   2025   -3.97/0.34  -45.37/0.0    67   \n                     <p70          2024   -19.78/0.2  -61.16/0.0    80   \n                                   2025  -30.36/0.19  -100.0/0.0    57   \n                     <p90          2024   69.41/0.25  -100.0/0.0    12   \n                                   2025  -55.99/0.14  -100.0/0.0    14   \n                     >=p90         2024  -76.64/0.17  -100.0/0.0     6   \n                                   2025  -49.09/0.25  -100.0/0.0     4   \n             2h      <p10          2024   -3.45/0.58   13.79/1.0    64   \n                                   2025    -8.43/0.5    -3.0/0.5    24   \n                     <p30          2024  -22.59/0.31  -75.46/0.0    61   \n                                   2025    9.19/0.43   -31.5/0.0    30   \n                     <p70          2024   -46.7/0.15  -100.0/0.0    39   \n                                   2025    63.5/0.36   -40.0/0.0    25   \n                     <p90          2024   -100.0/0.0  -100.0/0.0     4   \n                                   2025  -62.83/0.25  -100.0/0.0     8   \n                     >=p90         2024  -50.67/0.33  -100.0/0.0     3   \n                                   2025   -100.0/0.0  -100.0/0.0     3   \n             4h      <p10          2024   -8.72/0.57    7.26/1.0    92   \n                                   2025    0.73/0.62   15.89/1.0    82   \n                     <p30          2024     3.0/0.44  -43.27/0.0    78   \n                                   2025   13.21/0.44  -13.89/0.0    52   \n                     <p70          2024    -0.54/0.3  -60.49/0.0    30   \n                                   2025  139.03/0.56    45.0/1.0    34   \n                     <p90          2024   -100.0/0.0  -100.0/0.0     4   \n                                   2025  148.35/0.33  -100.0/0.0     6   \n                     >=p90         2024   -100.0/0.0  -100.0/0.0     3   \n                                   2025          NaN         NaN  <NA>   \n\n                                         chase_t90mo                    \n                                                mean      median count  \ntarget_level psp_key entry_rr_perc year                                 \n4            1h      <p10          2024   38.91/0.83   74.12/1.0     6  \n                                   2025    17.53/0.8   38.11/1.0     5  \n                     <p30          2024   14.46/0.42  -42.36/0.0    19  \n                                   2025   -41.04/0.2  -95.41/0.0    10  \n                     <p70          2024   11.19/0.25  -72.82/0.0    32  \n                                   2025   34.85/0.44  -76.46/0.0    16  \n                     <p90          2024  -17.28/0.14  -89.21/0.0    14  \n                                   2025   13.37/0.14  -32.68/0.0     7  \n                     >=p90         2024     0.79/0.5   -13.2/0.5     4  \n                                   2025   -87.96/0.0  -100.0/0.0     5  \n             2h      <p10          2024          NaN         NaN  <NA>  \n                                   2025   -94.93/0.0  -94.93/0.0     2  \n                     <p30          2024  101.16/0.75   97.03/1.0     4  \n                                   2025    20.04/0.5   13.96/0.5     8  \n                     <p70          2024    -33.1/0.2  -73.03/0.0     5  \n                                   2025  -50.96/0.17  -95.32/0.0    12  \n                     <p90          2024   -100.0/0.0  -100.0/0.0     2  \n                                   2025    -81.6/0.0   -81.6/0.0     2  \n                     >=p90         2024   -86.17/0.0  -86.17/0.0     2  \n                                   2025          NaN         NaN  <NA>  \n             4h      <p10          2024   13.03/0.67   31.79/1.0     6  \n                                   2025  -20.74/0.33  -40.22/0.0     3  \n                     <p30          2024    20.1/0.48  -24.89/0.0    27  \n                                   2025   -30.9/0.22  -57.29/0.0     9  \n                     <p70          2024   -8.73/0.16  -68.49/0.0    31  \n                                   2025  -41.61/0.15  -57.33/0.0    13  \n                     <p90          2024   57.71/0.27  -86.36/0.0    11  \n                                   2025   -70.92/0.0  -72.56/0.0     4  \n                     >=p90         2024    182.9/1.0   182.9/1.0     1  \n                                   2025    23.59/1.0   23.59/1.0     1  \n5            1h      <p10          2024   17.93/0.72   26.05/1.0    47  \n                                   2025   -8.26/0.43  -30.59/0.0    23  \n                     <p30          2024    5.93/0.36  -49.37/0.0   107  \n                                   2025   -3.93/0.38  -52.21/0.0    86  \n                     <p70          2024    2.14/0.25  -63.12/0.0   187  \n                                   2025  -10.89/0.22   -58.6/0.0   124  \n                     <p90          2024  -26.33/0.15  -100.0/0.0    54  \n                                   2025  101.21/0.25  -54.17/0.0    24  \n                     >=p90         2024  -72.98/0.12  -100.0/0.0     8  \n                                   2025   61.91/0.11  -100.0/0.0     9  \n             2h      <p10          2024   23.63/0.71   34.71/1.0    24  \n                                   2025  -48.22/0.27  -89.73/0.0    11  \n                     <p30          2024    7.86/0.44  -53.47/0.0    81  \n                                   2025  -28.04/0.27  -55.13/0.0    37  \n                     <p70          2024   31.76/0.26  -77.17/0.0   105  \n                                   2025   24.11/0.28  -73.51/0.0    53  \n                     <p90          2024   34.41/0.19  -100.0/0.0    21  \n                                   2025  253.26/0.29  -100.0/0.0     7  \n                     >=p90         2024   -100.0/0.0  -100.0/0.0     2  \n                                   2025   -83.34/0.0  -83.34/0.0     1  \n             4h      <p10          2024   -1.48/0.55   31.36/1.0    33  \n                                   2025   -2.81/0.55   21.75/1.0    22  \n                     <p30          2024   -5.83/0.38  -62.87/0.0    85  \n                                   2025   -6.82/0.34  -52.15/0.0    73  \n                     <p70          2024  -12.09/0.19  -89.94/0.0    89  \n                                   2025   -20.85/0.2  -71.67/0.0    61  \n                     <p90          2024   -89.63/0.0  -100.0/0.0    16  \n                                   2025   467.73/0.5  395.52/0.5     4  \n                     >=p90         2024  -66.33/0.25  -100.0/0.0     4  \n                                   2025   -100.0/0.0  -100.0/0.0     2  \n\n[60 rows x 36 columns]",
      "text/html": "<div>\n<style scoped>\n    .dataframe tbody tr th:only-of-type {\n        vertical-align: middle;\n    }\n\n    .dataframe tbody tr th {\n        vertical-align: top;\n    }\n\n    .dataframe thead tr th {\n        text-align: left;\n    }\n\n    .dataframe thead tr:last-of-type th {\n        text-align: right;\n    }\n</style>\n<table border=\"1\" class=\"dataframe\">\n  <thead>\n    <tr>\n      <th></th>\n      <th></th>\n      <th></th>\n      <th></th>\n      <th colspan=\"3\" halign=\"left\">market all</th>\n      <th colspan=\"3\" halign=\"left\">limit all</th>\n      <th colspan=\"3\" halign=\"left\">chase_median_rr</th>\n      <th>chase_mean_rr</th>\n      <th>...</th>\n      <th>chase_tmo</th>\n      <th colspan=\"3\" halign=\"left\">chase_two</th>\n      <th colspan=\"3\" halign=\"left\">chase_tdo</th>\n      <th colspan=\"3\" halign=\"left\">chase_t90mo</th>\n    </tr>\n    <tr>\n      <th></th>\n      <th></th>\n      <th></th>\n      <th></th>\n      <th>mean</th>\n      <th>median</th>\n      <th>count</th>\n      <th>mean</th>\n      <th>median</th>\n      <th>count</th>\n      <th>mean</th>\n      <th>median</th>\n      <th>count</th>\n      <th>mean</th>\n      <th>...</th>\n      <th>count</th>\n      <th>mean</th>\n      <th>median</th>\n      <th>count</th>\n      <th>mean</th>\n      <th>median</th>\n      <th>count</th>\n      <th>mean</th>\n      <th>median</th>\n      <th>count</th>\n    </tr>\n    <tr>\n      <th>target_level</th>\n      <th>psp_key</th>\n      <th>entry_rr_perc</th>\n      <th>year</th>\n      <th></th>\n      <th></th>\n      <th></th>\n      <th></th>\n      <th></th>\n      <th></th>\n      <th></th>\n      <th></th>\n      <th></th>\n      <th></th>\n      <th></th>\n      <th></th>\n      <th></th>\n      <th></th>\n      <th></th>\n      <th></th>\n      <th></th>\n      <th></th>\n      <th></th>\n      <th></th>\n      <th></th>\n    </tr>\n  </thead>\n  <tbody>\n    <tr>\n      <th rowspan=\"30\" valign=\"top\">4</th>\n      <th rowspan=\"10\" valign=\"top\">1h</th>\n      <th rowspan=\"2\" valign=\"top\">&lt;p10</th>\n      <th>2024</th>\n      <td>15.59/1.0</td>\n      <td>15.59/1.0</td>\n      <td>1</td>\n      <td>44.44/0.94</td>\n      <td>56.0/1.0</td>\n      <td>16</td>\n      <td>NaN</td>\n      <td>NaN</td>\n      <td>&lt;NA&gt;</td>\n      <td>NaN</td>\n      <td>...</td>\n      <td>&lt;NA&gt;</td>\n      <td>44.93/1.0</td>\n      <td>29.91/1.0</td>\n      <td>4</td>\n      <td>47.52/1.0</td>\n      <td>58.41/1.0</td>\n      <td>3</td>\n      <td>38.91/0.83</td>\n      <td>74.12/1.0</td>\n      <td>6</td>\n    </tr>\n    <tr>\n      <th>2025</th>\n      <td>28.57/0.75</td>\n      <td>41.01/1.0</td>\n      <td>8</td>\n      <td>12.79/0.62</td>\n      <td>27.36/1.0</td>\n      <td>16</td>\n      <td>28.02/1.0</td>\n      <td>28.02/1.0</td>\n      <td>1</td>\n      <td>NaN</td>\n      <td>...</td>\n      <td>1</td>\n      <td>48.96/0.75</td>\n      <td>60.35/1.0</td>\n      <td>4</td>\n      <td>NaN</td>\n      <td>NaN</td>\n      <td>&lt;NA&gt;</td>\n      <td>17.53/0.8</td>\n      <td>38.11/1.0</td>\n      <td>5</td>\n    </tr>\n    <tr>\n      <th rowspan=\"2\" valign=\"top\">&lt;p30</th>\n      <th>2024</th>\n      <td>20.57/0.42</td>\n      <td>-34.96/0.0</td>\n      <td>19</td>\n      <td>-10.09/0.3</td>\n      <td>-59.74/0.0</td>\n      <td>50</td>\n      <td>-26.85/0.09</td>\n      <td>-50.76/0.0</td>\n      <td>11</td>\n      <td>NaN</td>\n      <td>...</td>\n      <td>1</td>\n      <td>-78.75/0.0</td>\n      <td>-91.94/0.0</td>\n      <td>4</td>\n      <td>-11.15/0.38</td>\n      <td>-78.34/0.0</td>\n      <td>8</td>\n      <td>14.46/0.42</td>\n      <td>-42.36/0.0</td>\n      <td>19</td>\n    </tr>\n    <tr>\n      <th>2025</th>\n      <td>-30.16/0.4</td>\n      <td>-49.76/0.0</td>\n      <td>10</td>\n      <td>-9.28/0.32</td>\n      <td>-70.16/0.0</td>\n      <td>34</td>\n      <td>-31.89/0.22</td>\n      <td>-64.2/0.0</td>\n      <td>9</td>\n      <td>NaN</td>\n      <td>...</td>\n      <td>1</td>\n      <td>55.47/0.5</td>\n      <td>55.47/0.5</td>\n      <td>2</td>\n      <td>-30.73/0.2</td>\n      <td>-80.23/0.0</td>\n      <td>5</td>\n      <td>-41.04/0.2</td>\n      <td>-95.41/0.0</td>\n      <td>10</td>\n    </tr>\n    <tr>\n      <th rowspan=\"2\" valign=\"top\">&lt;p70</th>\n      <th>2024</th>\n      <td>32.42/0.37</td>\n      <td>-48.38/0.0</td>\n      <td>90</td>\n      <td>21.74/0.27</td>\n      <td>-60.75/0.0</td>\n      <td>175</td>\n      <td>37.13/0.29</td>\n      <td>-60.75/0.0</td>\n      <td>85</td>\n      <td>5.89/0.27</td>\n      <td>...</td>\n      <td>2</td>\n      <td>10.29/0.2</td>\n      <td>-13.9/0.0</td>\n      <td>5</td>\n      <td>11.66/0.33</td>\n      <td>-41.12/0.0</td>\n      <td>9</td>\n      <td>11.19/0.25</td>\n      <td>-72.82/0.0</td>\n      <td>32</td>\n    </tr>\n    <tr>\n      <th>2025</th>\n      <td>12.6/0.32</td>\n      <td>-54.88/0.0</td>\n      <td>75</td>\n      <td>26.77/0.31</td>\n      <td>-63.14/0.0</td>\n      <td>144</td>\n      <td>17.89/0.29</td>\n      <td>-55.61/0.0</td>\n      <td>73</td>\n      <td>57.1/0.33</td>\n      <td>...</td>\n      <td>&lt;NA&gt;</td>\n      <td>102.06/0.5</td>\n      <td>66.93/0.5</td>\n      <td>6</td>\n      <td>-65.86/0.0</td>\n      <td>-75.33/0.0</td>\n      <td>7</td>\n      <td>34.85/0.44</td>\n      <td>-76.46/0.0</td>\n      <td>16</td>\n    </tr>\n    <tr>\n      <th rowspan=\"2\" valign=\"top\">&lt;p90</th>\n      <th>2024</th>\n      <td>-4.6/0.17</td>\n      <td>-67.22/0.0</td>\n      <td>69</td>\n      <td>1.98/0.19</td>\n      <td>-80.6/0.0</td>\n      <td>146</td>\n      <td>7.97/0.19</td>\n      <td>-77.45/0.0</td>\n      <td>58</td>\n      <td>11.75/0.19</td>\n      <td>...</td>\n      <td>&lt;NA&gt;</td>\n      <td>29.39/0.5</td>\n      <td>15.22/0.5</td>\n      <td>4</td>\n      <td>-55.67/0.22</td>\n      <td>-100.0/0.0</td>\n      <td>9</td>\n      <td>-17.28/0.14</td>\n      <td>-89.21/0.0</td>\n      <td>14</td>\n    </tr>\n    <tr>\n      <th>2025</th>\n      <td>-0.52/0.17</td>\n      <td>-79.08/0.0</td>\n      <td>41</td>\n      <td>15.69/0.19</td>\n      <td>-100.0/0.0</td>\n      <td>100</td>\n      <td>10.99/0.18</td>\n      <td>-100.0/0.0</td>\n      <td>38</td>\n      <td>5.88/0.2</td>\n      <td>...</td>\n      <td>3</td>\n      <td>-100.0/0.0</td>\n      <td>-100.0/0.0</td>\n      <td>2</td>\n      <td>286.51/0.33</td>\n      <td>-14.29/0.0</td>\n      <td>3</td>\n      <td>13.37/0.14</td>\n      <td>-32.68/0.0</td>\n      <td>7</td>\n    </tr>\n    <tr>\n      <th rowspan=\"2\" valign=\"top\">&gt;=p90</th>\n      <th>2024</th>\n      <td>-26.6/0.18</td>\n      <td>-100.0/0.0</td>\n      <td>56</td>\n      <td>-63.49/0.12</td>\n      <td>-100.0/0.0</td>\n      <td>103</td>\n      <td>-46.5/0.12</td>\n      <td>-100.0/0.0</td>\n      <td>41</td>\n      <td>-77.62/0.1</td>\n      <td>...</td>\n      <td>&lt;NA&gt;</td>\n      <td>-100.0/0.0</td>\n      <td>-100.0/0.0</td>\n      <td>2</td>\n      <td>-100.0/0.0</td>\n      <td>-100.0/0.0</td>\n      <td>2</td>\n      <td>0.79/0.5</td>\n      <td>-13.2/0.5</td>\n      <td>4</td>\n    </tr>\n    <tr>\n      <th>2025</th>\n      <td>186.35/0.28</td>\n      <td>-100.0/0.0</td>\n      <td>40</td>\n      <td>226.96/0.21</td>\n      <td>-100.0/0.0</td>\n      <td>78</td>\n      <td>292.48/0.3</td>\n      <td>-100.0/0.0</td>\n      <td>27</td>\n      <td>178.0/0.18</td>\n      <td>...</td>\n      <td>1</td>\n      <td>1141.91/0.33</td>\n      <td>-100.0/0.0</td>\n      <td>3</td>\n      <td>-100.0/0.0</td>\n      <td>-100.0/0.0</td>\n      <td>2</td>\n      <td>-87.96/0.0</td>\n      <td>-100.0/0.0</td>\n      <td>5</td>\n    </tr>\n    <tr>\n      <th rowspan=\"10\" valign=\"top\">2h</th>\n      <th rowspan=\"2\" valign=\"top\">&lt;p10</th>\n      <th>2024</th>\n      <td>-1.76/0.67</td>\n      <td>21.37/1.0</td>\n      <td>3</td>\n      <td>6.83/0.57</td>\n      <td>17.98/1.0</td>\n      <td>7</td>\n      <td>-13.52/0.5</td>\n      <td>-13.52/0.5</td>\n      <td>2</td>\n      <td>NaN</td>\n      <td>...</td>\n      <td>&lt;NA&gt;</td>\n      <td>17.98/1.0</td>\n      <td>17.98/1.0</td>\n      <td>1</td>\n      <td>11.89/0.5</td>\n      <td>11.89/0.5</td>\n      <td>2</td>\n      <td>NaN</td>\n      <td>NaN</td>\n      <td>&lt;NA&gt;</td>\n    </tr>\n    <tr>\n      <th>2025</th>\n      <td>35.46/0.8</td>\n      <td>63.89/1.0</td>\n      <td>5</td>\n      <td>-48.65/0.3</td>\n      <td>-71.57/0.0</td>\n      <td>10</td>\n      <td>19.37/1.0</td>\n      <td>19.37/1.0</td>\n      <td>1</td>\n      <td>39.88/1.0</td>\n      <td>...</td>\n      <td>1</td>\n      <td>NaN</td>\n      <td>NaN</td>\n      <td>&lt;NA&gt;</td>\n      <td>-53.74/0.0</td>\n      <td>-53.74/0.0</td>\n      <td>1</td>\n      <td>-94.93/0.0</td>\n      <td>-94.93/0.0</td>\n      <td>2</td>\n    </tr>\n    <tr>\n      <th rowspan=\"2\" valign=\"top\">&lt;p30</th>\n      <th>2024</th>\n      <td>20.78/0.57</td>\n      <td>49.83/1.0</td>\n      <td>7</td>\n      <td>27.65/0.58</td>\n      <td>19.61/1.0</td>\n      <td>19</td>\n      <td>-10.46/0.33</td>\n      <td>-41.35/0.0</td>\n      <td>3</td>\n      <td>-43.92/0.0</td>\n      <td>...</td>\n      <td>1</td>\n      <td>-74.86/0.0</td>\n      <td>-74.86/0.0</td>\n      <td>1</td>\n      <td>-8.24/0.6</td>\n      <td>5.96/1.0</td>\n      <td>5</td>\n      <td>101.16/0.75</td>\n      <td>97.03/1.0</td>\n      <td>4</td>\n    </tr>\n    <tr>\n      <th>2025</th>\n      <td>-18.48/0.39</td>\n      <td>-50.31/0.0</td>\n      <td>18</td>\n      <td>3.83/0.42</td>\n      <td>-14.35/0.0</td>\n      <td>40</td>\n      <td>-3.85/0.35</td>\n      <td>-41.5/0.0</td>\n      <td>17</td>\n      <td>NaN</td>\n      <td>...</td>\n      <td>2</td>\n      <td>-100.0/0.0</td>\n      <td>-100.0/0.0</td>\n      <td>2</td>\n      <td>4.38/0.43</td>\n      <td>-6.52/0.0</td>\n      <td>7</td>\n      <td>20.04/0.5</td>\n      <td>13.96/0.5</td>\n      <td>8</td>\n    </tr>\n    <tr>\n      <th rowspan=\"2\" valign=\"top\">&lt;p70</th>\n      <th>2024</th>\n      <td>39.41/0.55</td>\n      <td>21.99/1.0</td>\n      <td>20</td>\n      <td>41.62/0.37</td>\n      <td>-34.72/0.0</td>\n      <td>49</td>\n      <td>46.46/0.42</td>\n      <td>-24.96/0.0</td>\n      <td>19</td>\n      <td>146.74/0.44</td>\n      <td>...</td>\n      <td>1</td>\n      <td>158.16/1.0</td>\n      <td>158.16/1.0</td>\n      <td>1</td>\n      <td>16.47/0.5</td>\n      <td>4.97/0.5</td>\n      <td>6</td>\n      <td>-33.1/0.2</td>\n      <td>-73.03/0.0</td>\n      <td>5</td>\n    </tr>\n    <tr>\n      <th>2025</th>\n      <td>-37.8/0.26</td>\n      <td>-73.91/0.0</td>\n      <td>42</td>\n      <td>-37.46/0.22</td>\n      <td>-84.41/0.0</td>\n      <td>78</td>\n      <td>-42.55/0.22</td>\n      <td>-82.08/0.0</td>\n      <td>36</td>\n      <td>-15.97/0.25</td>\n      <td>...</td>\n      <td>&lt;NA&gt;</td>\n      <td>-22.88/0.0</td>\n      <td>-22.88/0.0</td>\n      <td>1</td>\n      <td>-69.75/0.2</td>\n      <td>-100.0/0.0</td>\n      <td>5</td>\n      <td>-50.96/0.17</td>\n      <td>-95.32/0.0</td>\n      <td>12</td>\n    </tr>\n    <tr>\n      <th rowspan=\"2\" valign=\"top\">&lt;p90</th>\n      <th>2024</th>\n      <td>22.19/0.21</td>\n      <td>-94.06/0.0</td>\n      <td>14</td>\n      <td>-83.84/0.04</td>\n      <td>-100.0/0.0</td>\n      <td>27</td>\n      <td>-75.1/0.07</td>\n      <td>-100.0/0.0</td>\n      <td>14</td>\n      <td>-89.04/0.0</td>\n      <td>...</td>\n      <td>&lt;NA&gt;</td>\n      <td>NaN</td>\n      <td>NaN</td>\n      <td>&lt;NA&gt;</td>\n      <td>-100.0/0.0</td>\n      <td>-100.0/0.0</td>\n      <td>2</td>\n      <td>-100.0/0.0</td>\n      <td>-100.0/0.0</td>\n      <td>2</td>\n    </tr>\n    <tr>\n      <th>2025</th>\n      <td>-29.39/0.29</td>\n      <td>-85.31/0.0</td>\n      <td>14</td>\n      <td>-78.75/0.05</td>\n      <td>-100.0/0.0</td>\n      <td>38</td>\n      <td>-85.67/0.08</td>\n      <td>-100.0/0.0</td>\n      <td>12</td>\n      <td>-76.34/0.05</td>\n      <td>...</td>\n      <td>&lt;NA&gt;</td>\n      <td>NaN</td>\n      <td>NaN</td>\n      <td>&lt;NA&gt;</td>\n      <td>-74.08/0.0</td>\n      <td>-74.08/0.0</td>\n      <td>2</td>\n      <td>-81.6/0.0</td>\n      <td>-81.6/0.0</td>\n      <td>2</td>\n    </tr>\n    <tr>\n      <th rowspan=\"2\" valign=\"top\">&gt;=p90</th>\n      <th>2024</th>\n      <td>-7.89/0.19</td>\n      <td>-100.0/0.0</td>\n      <td>16</td>\n      <td>-9.36/0.13</td>\n      <td>-100.0/0.0</td>\n      <td>31</td>\n      <td>53.23/0.25</td>\n      <td>-79.7/0.0</td>\n      <td>12</td>\n      <td>-41.04/0.06</td>\n      <td>...</td>\n      <td>&lt;NA&gt;</td>\n      <td>-100.0/0.0</td>\n      <td>-100.0/0.0</td>\n      <td>1</td>\n      <td>NaN</td>\n      <td>NaN</td>\n      <td>&lt;NA&gt;</td>\n      <td>-86.17/0.0</td>\n      <td>-86.17/0.0</td>\n      <td>2</td>\n    </tr>\n    <tr>\n      <th>2025</th>\n      <td>-62.97/0.09</td>\n      <td>-100.0/0.0</td>\n      <td>11</td>\n      <td>75.7/0.21</td>\n      <td>-100.0/0.0</td>\n      <td>19</td>\n      <td>-24.58/0.29</td>\n      <td>-100.0/0.0</td>\n      <td>7</td>\n      <td>-72.24/0.09</td>\n      <td>...</td>\n      <td>&lt;NA&gt;</td>\n      <td>NaN</td>\n      <td>NaN</td>\n      <td>&lt;NA&gt;</td>\n      <td>NaN</td>\n      <td>NaN</td>\n      <td>&lt;NA&gt;</td>\n      <td>NaN</td>\n      <td>NaN</td>\n      <td>&lt;NA&gt;</td>\n    </tr>\n    <tr>\n      <th rowspan=\"10\" valign=\"top\">4h</th>\n      <th rowspan=\"2\" valign=\"top\">&lt;p10</th>\n      <th>2024</th>\n      <td>-11.21/0.56</td>\n      <td>31.95/1.0</td>\n      <td>9</td>\n      <td>8.02/0.67</td>\n      <td>32.32/1.0</td>\n      <td>15</td>\n      <td>-21.67/0.5</td>\n      <td>-21.67/0.5</td>\n      <td>2</td>\n      <td>NaN</td>\n      <td>...</td>\n      <td>1</td>\n      <td>37.27/1.0</td>\n      <td>37.27/1.0</td>\n      <td>2</td>\n      <td>NaN</td>\n      <td>NaN</td>\n      <td>&lt;NA&gt;</td>\n      <td>13.03/0.67</td>\n      <td>31.79/1.0</td>\n      <td>6</td>\n    </tr>\n    <tr>\n      <th>2025</th>\n      <td>-19.13/0.38</td>\n      <td>-29.36/0.0</td>\n      <td>8</td>\n      <td>-51.08/0.25</td>\n      <td>-84.18/0.0</td>\n      <td>12</td>\n      <td>NaN</td>\n      <td>NaN</td>\n      <td>&lt;NA&gt;</td>\n      <td>NaN</td>\n      <td>...</td>\n      <td>1</td>\n      <td>NaN</td>\n      <td>NaN</td>\n      <td>&lt;NA&gt;</td>\n      <td>-55.7/0.2</td>\n      <td>-89.39/0.0</td>\n      <td>5</td>\n      <td>-20.74/0.33</td>\n      <td>-40.22/0.0</td>\n      <td>3</td>\n    </tr>\n    <tr>\n      <th rowspan=\"2\" valign=\"top\">&lt;p30</th>\n      <th>2024</th>\n      <td>-7.6/0.41</td>\n      <td>-27.33/0.0</td>\n      <td>34</td>\n      <td>9.07/0.46</td>\n      <td>-53.79/0.0</td>\n      <td>94</td>\n      <td>2.76/0.43</td>\n      <td>-53.79/0.0</td>\n      <td>28</td>\n      <td>8.33/0.5</td>\n      <td>...</td>\n      <td>1</td>\n      <td>64.81/0.67</td>\n      <td>95.53/1.0</td>\n      <td>6</td>\n      <td>-49.61/0.15</td>\n      <td>-83.91/0.0</td>\n      <td>13</td>\n      <td>20.1/0.48</td>\n      <td>-24.89/0.0</td>\n      <td>27</td>\n    </tr>\n    <tr>\n      <th>2025</th>\n      <td>-30.08/0.25</td>\n      <td>-77.55/0.0</td>\n      <td>20</td>\n      <td>-25.71/0.27</td>\n      <td>-92.69/0.0</td>\n      <td>48</td>\n      <td>-62.18/0.13</td>\n      <td>-94.43/0.0</td>\n      <td>15</td>\n      <td>-90.95/0.0</td>\n      <td>...</td>\n      <td>5</td>\n      <td>-9.26/0.33</td>\n      <td>-100.0/0.0</td>\n      <td>3</td>\n      <td>-27.0/0.25</td>\n      <td>-84.06/0.0</td>\n      <td>8</td>\n      <td>-30.9/0.22</td>\n      <td>-57.29/0.0</td>\n      <td>9</td>\n    </tr>\n    <tr>\n      <th rowspan=\"2\" valign=\"top\">&lt;p70</th>\n      <th>2024</th>\n      <td>1.58/0.28</td>\n      <td>-63.04/0.0</td>\n      <td>69</td>\n      <td>-3.23/0.17</td>\n      <td>-64.49/0.0</td>\n      <td>186</td>\n      <td>34.0/0.24</td>\n      <td>-59.97/0.0</td>\n      <td>62</td>\n      <td>-3.68/0.21</td>\n      <td>...</td>\n      <td>&lt;NA&gt;</td>\n      <td>39.4/0.5</td>\n      <td>-16.28/0.5</td>\n      <td>4</td>\n      <td>-24.49/0.09</td>\n      <td>-68.41/0.0</td>\n      <td>23</td>\n      <td>-8.73/0.16</td>\n      <td>-68.49/0.0</td>\n      <td>31</td>\n    </tr>\n    <tr>\n      <th>2025</th>\n      <td>-30.37/0.19</td>\n      <td>-100.0/0.0</td>\n      <td>37</td>\n      <td>-20.83/0.16</td>\n      <td>-90.47/0.0</td>\n      <td>90</td>\n      <td>-8.57/0.15</td>\n      <td>-100.0/0.0</td>\n      <td>34</td>\n      <td>-45.82/0.08</td>\n      <td>...</td>\n      <td>&lt;NA&gt;</td>\n      <td>-100.0/0.0</td>\n      <td>-100.0/0.0</td>\n      <td>1</td>\n      <td>78.52/0.5</td>\n      <td>-15.34/0.5</td>\n      <td>6</td>\n      <td>-41.61/0.15</td>\n      <td>-57.33/0.0</td>\n      <td>13</td>\n    </tr>\n    <tr>\n      <th rowspan=\"2\" valign=\"top\">&lt;p90</th>\n      <th>2024</th>\n      <td>24.59/0.26</td>\n      <td>-60.69/0.0</td>\n      <td>47</td>\n      <td>45.09/0.22</td>\n      <td>-81.17/0.0</td>\n      <td>103</td>\n      <td>73.34/0.21</td>\n      <td>-71.34/0.0</td>\n      <td>33</td>\n      <td>56.99/0.22</td>\n      <td>...</td>\n      <td>&lt;NA&gt;</td>\n      <td>NaN</td>\n      <td>NaN</td>\n      <td>&lt;NA&gt;</td>\n      <td>99.95/0.33</td>\n      <td>-65.68/0.0</td>\n      <td>3</td>\n      <td>57.71/0.27</td>\n      <td>-86.36/0.0</td>\n      <td>11</td>\n    </tr>\n    <tr>\n      <th>2025</th>\n      <td>20.89/0.22</td>\n      <td>-63.12/0.0</td>\n      <td>18</td>\n      <td>1.21/0.12</td>\n      <td>-100.0/0.0</td>\n      <td>33</td>\n      <td>2.02/0.22</td>\n      <td>-52.85/0.0</td>\n      <td>9</td>\n      <td>25.85/0.11</td>\n      <td>...</td>\n      <td>&lt;NA&gt;</td>\n      <td>NaN</td>\n      <td>NaN</td>\n      <td>&lt;NA&gt;</td>\n      <td>-79.94/0.0</td>\n      <td>-79.94/0.0</td>\n      <td>2</td>\n      <td>-70.92/0.0</td>\n      <td>-72.56/0.0</td>\n      <td>4</td>\n    </tr>\n    <tr>\n      <th rowspan=\"2\" valign=\"top\">&gt;=p90</th>\n      <th>2024</th>\n      <td>18.84/0.17</td>\n      <td>-100.0/0.0</td>\n      <td>30</td>\n      <td>-49.27/0.1</td>\n      <td>-100.0/0.0</td>\n      <td>50</td>\n      <td>-16.35/0.13</td>\n      <td>-100.0/0.0</td>\n      <td>23</td>\n      <td>-87.32/0.04</td>\n      <td>...</td>\n      <td>&lt;NA&gt;</td>\n      <td>NaN</td>\n      <td>NaN</td>\n      <td>&lt;NA&gt;</td>\n      <td>NaN</td>\n      <td>NaN</td>\n      <td>&lt;NA&gt;</td>\n      <td>182.9/1.0</td>\n      <td>182.9/1.0</td>\n      <td>1</td>\n    </tr>\n    <tr>\n      <th>2025</th>\n      <td>3.33/0.25</td>\n      <td>-100.0/0.0</td>\n      <td>4</td>\n      <td>231.37/0.33</td>\n      <td>-100.0/0.0</td>\n      <td>12</td>\n      <td>77.86/0.33</td>\n      <td>-100.0/0.0</td>\n      <td>3</td>\n      <td>103.54/0.25</td>\n      <td>...</td>\n      <td>&lt;NA&gt;</td>\n      <td>NaN</td>\n      <td>NaN</td>\n      <td>&lt;NA&gt;</td>\n      <td>-100.0/0.0</td>\n      <td>-100.0/0.0</td>\n      <td>1</td>\n      <td>23.59/1.0</td>\n      <td>23.59/1.0</td>\n      <td>1</td>\n    </tr>\n    <tr>\n      <th rowspan=\"30\" valign=\"top\">5</th>\n      <th rowspan=\"10\" valign=\"top\">1h</th>\n      <th rowspan=\"2\" valign=\"top\">&lt;p10</th>\n      <th>2024</th>\n      <td>6.05/0.69</td>\n      <td>27.79/1.0</td>\n      <td>115</td>\n      <td>8.51/0.69</td>\n      <td>22.47/1.0</td>\n      <td>257</td>\n      <td>4.57/0.67</td>\n      <td>27.75/1.0</td>\n      <td>49</td>\n      <td>-18.13/0.44</td>\n      <td>...</td>\n      <td>10</td>\n      <td>-3.42/0.57</td>\n      <td>1.34/1.0</td>\n      <td>21</td>\n      <td>11.09/0.72</td>\n      <td>18.5/1.0</td>\n      <td>61</td>\n      <td>17.93/0.72</td>\n      <td>26.05/1.0</td>\n      <td>47</td>\n    </tr>\n    <tr>\n      <th>2025</th>\n      <td>3.9/0.61</td>\n      <td>31.51/1.0</td>\n      <td>51</td>\n      <td>-3.11/0.55</td>\n      <td>13.88/1.0</td>\n      <td>148</td>\n      <td>-5.8/0.56</td>\n      <td>23.23/1.0</td>\n      <td>25</td>\n      <td>-63.08/0.2</td>\n      <td>...</td>\n      <td>7</td>\n      <td>-14.21/0.57</td>\n      <td>3.08/1.0</td>\n      <td>14</td>\n      <td>-2.41/0.55</td>\n      <td>11.98/1.0</td>\n      <td>42</td>\n      <td>-8.26/0.43</td>\n      <td>-30.59/0.0</td>\n      <td>23</td>\n    </tr>\n    <tr>\n      <th rowspan=\"2\" valign=\"top\">&lt;p30</th>\n      <th>2024</th>\n      <td>-1.51/0.43</td>\n      <td>-38.32/0.0</td>\n      <td>276</td>\n      <td>12.55/0.42</td>\n      <td>-39.23/0.0</td>\n      <td>529</td>\n      <td>11.33/0.42</td>\n      <td>-43.43/0.0</td>\n      <td>196</td>\n      <td>49.03/0.55</td>\n      <td>...</td>\n      <td>5</td>\n      <td>-40.71/0.21</td>\n      <td>-71.11/0.0</td>\n      <td>19</td>\n      <td>20.9/0.49</td>\n      <td>-4.04/0.0</td>\n      <td>77</td>\n      <td>5.93/0.36</td>\n      <td>-49.37/0.0</td>\n      <td>107</td>\n    </tr>\n    <tr>\n      <th>2025</th>\n      <td>-0.1/0.39</td>\n      <td>-44.43/0.0</td>\n      <td>177</td>\n      <td>-3.96/0.35</td>\n      <td>-52.66/0.0</td>\n      <td>373</td>\n      <td>-4.29/0.33</td>\n      <td>-55.63/0.0</td>\n      <td>121</td>\n      <td>-27.56/0.23</td>\n      <td>...</td>\n      <td>9</td>\n      <td>-9.56/0.32</td>\n      <td>-60.22/0.0</td>\n      <td>19</td>\n      <td>-3.97/0.34</td>\n      <td>-45.37/0.0</td>\n      <td>67</td>\n      <td>-3.93/0.38</td>\n      <td>-52.21/0.0</td>\n      <td>86</td>\n    </tr>\n    <tr>\n      <th rowspan=\"2\" valign=\"top\">&lt;p70</th>\n      <th>2024</th>\n      <td>8.11/0.3</td>\n      <td>-58.06/0.0</td>\n      <td>657</td>\n      <td>3.91/0.25</td>\n      <td>-65.63/0.0</td>\n      <td>1326</td>\n      <td>6.4/0.26</td>\n      <td>-64.32/0.0</td>\n      <td>614</td>\n      <td>0.5/0.23</td>\n      <td>...</td>\n      <td>6</td>\n      <td>31.7/0.23</td>\n      <td>-79.24/0.0</td>\n      <td>26</td>\n      <td>-19.78/0.2</td>\n      <td>-61.16/0.0</td>\n      <td>80</td>\n      <td>2.14/0.25</td>\n      <td>-63.12/0.0</td>\n      <td>187</td>\n    </tr>\n    <tr>\n      <th>2025</th>\n      <td>-4.6/0.24</td>\n      <td>-66.34/0.0</td>\n      <td>498</td>\n      <td>-9.6/0.2</td>\n      <td>-71.43/0.0</td>\n      <td>951</td>\n      <td>-1.3/0.2</td>\n      <td>-70.89/0.0</td>\n      <td>457</td>\n      <td>-27.73/0.17</td>\n      <td>...</td>\n      <td>10</td>\n      <td>-21.36/0.21</td>\n      <td>-97.18/0.0</td>\n      <td>14</td>\n      <td>-30.36/0.19</td>\n      <td>-100.0/0.0</td>\n      <td>57</td>\n      <td>-10.89/0.22</td>\n      <td>-58.6/0.0</td>\n      <td>124</td>\n    </tr>\n    <tr>\n      <th rowspan=\"2\" valign=\"top\">&lt;p90</th>\n      <th>2024</th>\n      <td>5.35/0.19</td>\n      <td>-100.0/0.0</td>\n      <td>417</td>\n      <td>-5.32/0.16</td>\n      <td>-100.0/0.0</td>\n      <td>813</td>\n      <td>-3.23/0.16</td>\n      <td>-100.0/0.0</td>\n      <td>305</td>\n      <td>-5.85/0.16</td>\n      <td>...</td>\n      <td>4</td>\n      <td>-67.62/0.07</td>\n      <td>-100.0/0.0</td>\n      <td>15</td>\n      <td>69.41/0.25</td>\n      <td>-100.0/0.0</td>\n      <td>12</td>\n      <td>-26.33/0.15</td>\n      <td>-100.0/0.0</td>\n      <td>54</td>\n    </tr>\n    <tr>\n      <th>2025</th>\n      <td>12.81/0.2</td>\n      <td>-100.0/0.0</td>\n      <td>298</td>\n      <td>11.15/0.16</td>\n      <td>-100.0/0.0</td>\n      <td>589</td>\n      <td>11.23/0.17</td>\n      <td>-100.0/0.0</td>\n      <td>246</td>\n      <td>12.29/0.17</td>\n      <td>...</td>\n      <td>1</td>\n      <td>-79.43/0.0</td>\n      <td>-100.0/0.0</td>\n      <td>8</td>\n      <td>-55.99/0.14</td>\n      <td>-100.0/0.0</td>\n      <td>14</td>\n      <td>101.21/0.25</td>\n      <td>-54.17/0.0</td>\n      <td>24</td>\n    </tr>\n    <tr>\n      <th rowspan=\"2\" valign=\"top\">&gt;=p90</th>\n      <th>2024</th>\n      <td>38.48/0.13</td>\n      <td>-100.0/0.0</td>\n      <td>191</td>\n      <td>5.01/0.1</td>\n      <td>-100.0/0.0</td>\n      <td>401</td>\n      <td>-0.9/0.08</td>\n      <td>-100.0/0.0</td>\n      <td>148</td>\n      <td>16.1/0.11</td>\n      <td>...</td>\n      <td>1</td>\n      <td>-100.0/0.0</td>\n      <td>-100.0/0.0</td>\n      <td>4</td>\n      <td>-76.64/0.17</td>\n      <td>-100.0/0.0</td>\n      <td>6</td>\n      <td>-72.98/0.12</td>\n      <td>-100.0/0.0</td>\n      <td>8</td>\n    </tr>\n    <tr>\n      <th>2025</th>\n      <td>-68.68/0.08</td>\n      <td>-100.0/0.0</td>\n      <td>146</td>\n      <td>-48.74/0.06</td>\n      <td>-100.0/0.0</td>\n      <td>288</td>\n      <td>-85.38/0.04</td>\n      <td>-100.0/0.0</td>\n      <td>100</td>\n      <td>-30.43/0.07</td>\n      <td>...</td>\n      <td>3</td>\n      <td>-95.34/0.0</td>\n      <td>-100.0/0.0</td>\n      <td>3</td>\n      <td>-49.09/0.25</td>\n      <td>-100.0/0.0</td>\n      <td>4</td>\n      <td>61.91/0.11</td>\n      <td>-100.0/0.0</td>\n      <td>9</td>\n    </tr>\n    <tr>\n      <th rowspan=\"10\" valign=\"top\">2h</th>\n      <th rowspan=\"2\" valign=\"top\">&lt;p10</th>\n      <th>2024</th>\n      <td>-4.3/0.61</td>\n      <td>23.86/1.0</td>\n      <td>89</td>\n      <td>-0.75/0.59</td>\n      <td>15.89/1.0</td>\n      <td>191</td>\n      <td>-13.07/0.5</td>\n      <td>-12.8/0.5</td>\n      <td>36</td>\n      <td>-26.89/0.36</td>\n      <td>...</td>\n      <td>4</td>\n      <td>2.54/0.7</td>\n      <td>17.99/1.0</td>\n      <td>20</td>\n      <td>-3.45/0.58</td>\n      <td>13.79/1.0</td>\n      <td>64</td>\n      <td>23.63/0.71</td>\n      <td>34.71/1.0</td>\n      <td>24</td>\n    </tr>\n    <tr>\n      <th>2025</th>\n      <td>-28.51/0.44</td>\n      <td>-58.18/0.0</td>\n      <td>52</td>\n      <td>-22.19/0.45</td>\n      <td>-45.59/0.0</td>\n      <td>96</td>\n      <td>-39.78/0.32</td>\n      <td>-65.54/0.0</td>\n      <td>31</td>\n      <td>-14.79/0.44</td>\n      <td>...</td>\n      <td>3</td>\n      <td>-16.52/0.57</td>\n      <td>13.29/1.0</td>\n      <td>7</td>\n      <td>-8.43/0.5</td>\n      <td>-3.0/0.5</td>\n      <td>24</td>\n      <td>-48.22/0.27</td>\n      <td>-89.73/0.0</td>\n      <td>11</td>\n    </tr>\n    <tr>\n      <th rowspan=\"2\" valign=\"top\">&lt;p30</th>\n      <th>2024</th>\n      <td>6.38/0.44</td>\n      <td>-28.87/0.0</td>\n      <td>176</td>\n      <td>-0.28/0.37</td>\n      <td>-61.05/0.0</td>\n      <td>379</td>\n      <td>4.03/0.36</td>\n      <td>-50.92/0.0</td>\n      <td>131</td>\n      <td>7.16/0.36</td>\n      <td>...</td>\n      <td>7</td>\n      <td>15.13/0.53</td>\n      <td>21.13/1.0</td>\n      <td>17</td>\n      <td>-22.59/0.31</td>\n      <td>-75.46/0.0</td>\n      <td>61</td>\n      <td>7.86/0.44</td>\n      <td>-53.47/0.0</td>\n      <td>81</td>\n    </tr>\n    <tr>\n      <th>2025</th>\n      <td>-13.98/0.36</td>\n      <td>-54.79/0.0</td>\n      <td>104</td>\n      <td>-11.78/0.31</td>\n      <td>-52.52/0.0</td>\n      <td>220</td>\n      <td>-8.18/0.33</td>\n      <td>-52.52/0.0</td>\n      <td>84</td>\n      <td>-33.21/0.18</td>\n      <td>...</td>\n      <td>11</td>\n      <td>-22.73/0.25</td>\n      <td>-57.4/0.0</td>\n      <td>8</td>\n      <td>9.19/0.43</td>\n      <td>-31.5/0.0</td>\n      <td>30</td>\n      <td>-28.04/0.27</td>\n      <td>-55.13/0.0</td>\n      <td>37</td>\n    </tr>\n    <tr>\n      <th rowspan=\"2\" valign=\"top\">&lt;p70</th>\n      <th>2024</th>\n      <td>4.51/0.28</td>\n      <td>-69.99/0.0</td>\n      <td>364</td>\n      <td>9.68/0.23</td>\n      <td>-76.77/0.0</td>\n      <td>716</td>\n      <td>13.12/0.25</td>\n      <td>-73.04/0.0</td>\n      <td>314</td>\n      <td>2.48/0.2</td>\n      <td>...</td>\n      <td>8</td>\n      <td>44.58/0.31</td>\n      <td>-66.56/0.0</td>\n      <td>13</td>\n      <td>-46.7/0.15</td>\n      <td>-100.0/0.0</td>\n      <td>39</td>\n      <td>31.76/0.26</td>\n      <td>-77.17/0.0</td>\n      <td>105</td>\n    </tr>\n    <tr>\n      <th>2025</th>\n      <td>-10.44/0.25</td>\n      <td>-71.58/0.0</td>\n      <td>175</td>\n      <td>2.6/0.23</td>\n      <td>-70.53/0.0</td>\n      <td>390</td>\n      <td>-13.42/0.2</td>\n      <td>-72.72/0.0</td>\n      <td>161</td>\n      <td>-1.47/0.21</td>\n      <td>...</td>\n      <td>2</td>\n      <td>-5.75/0.29</td>\n      <td>-56.82/0.0</td>\n      <td>7</td>\n      <td>63.5/0.36</td>\n      <td>-40.0/0.0</td>\n      <td>25</td>\n      <td>24.11/0.28</td>\n      <td>-73.51/0.0</td>\n      <td>53</td>\n    </tr>\n    <tr>\n      <th rowspan=\"2\" valign=\"top\">&lt;p90</th>\n      <th>2024</th>\n      <td>-0.19/0.17</td>\n      <td>-100.0/0.0</td>\n      <td>121</td>\n      <td>16.74/0.13</td>\n      <td>-100.0/0.0</td>\n      <td>275</td>\n      <td>-11.03/0.11</td>\n      <td>-100.0/0.0</td>\n      <td>83</td>\n      <td>26.14/0.14</td>\n      <td>...</td>\n      <td>1</td>\n      <td>93.41/0.12</td>\n      <td>-100.0/0.0</td>\n      <td>8</td>\n      <td>-100.0/0.0</td>\n      <td>-100.0/0.0</td>\n      <td>4</td>\n      <td>34.41/0.19</td>\n      <td>-100.0/0.0</td>\n      <td>21</td>\n    </tr>\n    <tr>\n      <th>2025</th>\n      <td>-19.32/0.12</td>\n      <td>-100.0/0.0</td>\n      <td>86</td>\n      <td>2.32/0.17</td>\n      <td>-100.0/0.0</td>\n      <td>197</td>\n      <td>-34.73/0.14</td>\n      <td>-100.0/0.0</td>\n      <td>74</td>\n      <td>17.53/0.17</td>\n      <td>...</td>\n      <td>2</td>\n      <td>-100.0/0.0</td>\n      <td>-100.0/0.0</td>\n      <td>1</td>\n      <td>-62.83/0.25</td>\n      <td>-100.0/0.0</td>\n      <td>8</td>\n      <td>253.26/0.29</td>\n      <td>-100.0/0.0</td>\n      <td>7</td>\n    </tr>\n    <tr>\n      <th rowspan=\"2\" valign=\"top\">&gt;=p90</th>\n      <th>2024</th>\n      <td>23.03/0.12</td>\n      <td>-100.0/0.0</td>\n      <td>57</td>\n      <td>-84.88/0.03</td>\n      <td>-100.0/0.0</td>\n      <td>123</td>\n      <td>-86.87/0.02</td>\n      <td>-100.0/0.0</td>\n      <td>44</td>\n      <td>-84.03/0.03</td>\n      <td>...</td>\n      <td>&lt;NA&gt;</td>\n      <td>-100.0/0.0</td>\n      <td>-100.0/0.0</td>\n      <td>1</td>\n      <td>-50.67/0.33</td>\n      <td>-100.0/0.0</td>\n      <td>3</td>\n      <td>-100.0/0.0</td>\n      <td>-100.0/0.0</td>\n      <td>2</td>\n    </tr>\n    <tr>\n      <th>2025</th>\n      <td>-18.57/0.17</td>\n      <td>-100.0/0.0</td>\n      <td>41</td>\n      <td>-64.91/0.09</td>\n      <td>-100.0/0.0</td>\n      <td>91</td>\n      <td>-67.52/0.13</td>\n      <td>-100.0/0.0</td>\n      <td>30</td>\n      <td>-88.07/0.06</td>\n      <td>...</td>\n      <td>2</td>\n      <td>-100.0/0.0</td>\n      <td>-100.0/0.0</td>\n      <td>1</td>\n      <td>-100.0/0.0</td>\n      <td>-100.0/0.0</td>\n      <td>3</td>\n      <td>-83.34/0.0</td>\n      <td>-83.34/0.0</td>\n      <td>1</td>\n    </tr>\n    <tr>\n      <th rowspan=\"10\" valign=\"top\">4h</th>\n      <th rowspan=\"2\" valign=\"top\">&lt;p10</th>\n      <th>2024</th>\n      <td>-0.98/0.62</td>\n      <td>14.79/1.0</td>\n      <td>158</td>\n      <td>-5.95/0.6</td>\n      <td>9.19/1.0</td>\n      <td>291</td>\n      <td>-7.96/0.6</td>\n      <td>7.75/1.0</td>\n      <td>68</td>\n      <td>-24.07/0.5</td>\n      <td>...</td>\n      <td>3</td>\n      <td>3.34/0.68</td>\n      <td>13.29/1.0</td>\n      <td>25</td>\n      <td>-8.72/0.57</td>\n      <td>7.26/1.0</td>\n      <td>92</td>\n      <td>-1.48/0.55</td>\n      <td>31.36/1.0</td>\n      <td>33</td>\n    </tr>\n    <tr>\n      <th>2025</th>\n      <td>-1.43/0.63</td>\n      <td>19.43/1.0</td>\n      <td>134</td>\n      <td>-1.31/0.63</td>\n      <td>14.25/1.0</td>\n      <td>251</td>\n      <td>-10.65/0.54</td>\n      <td>4.8/1.0</td>\n      <td>46</td>\n      <td>28.61/0.8</td>\n      <td>...</td>\n      <td>10</td>\n      <td>11.22/0.78</td>\n      <td>15.83/1.0</td>\n      <td>18</td>\n      <td>0.73/0.62</td>\n      <td>15.89/1.0</td>\n      <td>82</td>\n      <td>-2.81/0.55</td>\n      <td>21.75/1.0</td>\n      <td>22</td>\n    </tr>\n    <tr>\n      <th rowspan=\"2\" valign=\"top\">&lt;p30</th>\n      <th>2024</th>\n      <td>-5.04/0.39</td>\n      <td>-56.15/0.0</td>\n      <td>236</td>\n      <td>-3.19/0.37</td>\n      <td>-55.43/0.0</td>\n      <td>483</td>\n      <td>-5.83/0.34</td>\n      <td>-57.02/0.0</td>\n      <td>170</td>\n      <td>-5.45/0.3</td>\n      <td>...</td>\n      <td>8</td>\n      <td>-1.77/0.41</td>\n      <td>-53.03/0.0</td>\n      <td>22</td>\n      <td>3.0/0.44</td>\n      <td>-43.27/0.0</td>\n      <td>78</td>\n      <td>-5.83/0.38</td>\n      <td>-62.87/0.0</td>\n      <td>85</td>\n    </tr>\n    <tr>\n      <th>2025</th>\n      <td>7.85/0.45</td>\n      <td>-26.5/0.0</td>\n      <td>187</td>\n      <td>-1.6/0.36</td>\n      <td>-55.86/0.0</td>\n      <td>351</td>\n      <td>1.13/0.37</td>\n      <td>-57.16/0.0</td>\n      <td>140</td>\n      <td>-34.04/0.19</td>\n      <td>...</td>\n      <td>8</td>\n      <td>40.89/0.47</td>\n      <td>-48.81/0.0</td>\n      <td>15</td>\n      <td>13.21/0.44</td>\n      <td>-13.89/0.0</td>\n      <td>52</td>\n      <td>-6.82/0.34</td>\n      <td>-52.15/0.0</td>\n      <td>73</td>\n    </tr>\n    <tr>\n      <th rowspan=\"2\" valign=\"top\">&lt;p70</th>\n      <th>2024</th>\n      <td>-2.68/0.27</td>\n      <td>-67.63/0.0</td>\n      <td>296</td>\n      <td>-3.41/0.21</td>\n      <td>-77.85/0.0</td>\n      <td>655</td>\n      <td>-2.09/0.23</td>\n      <td>-81.44/0.0</td>\n      <td>261</td>\n      <td>-7.36/0.19</td>\n      <td>...</td>\n      <td>2</td>\n      <td>40.36/0.29</td>\n      <td>-100.0/0.0</td>\n      <td>7</td>\n      <td>-0.54/0.3</td>\n      <td>-60.49/0.0</td>\n      <td>30</td>\n      <td>-12.09/0.19</td>\n      <td>-89.94/0.0</td>\n      <td>89</td>\n    </tr>\n    <tr>\n      <th>2025</th>\n      <td>5.84/0.29</td>\n      <td>-68.86/0.0</td>\n      <td>204</td>\n      <td>30.94/0.28</td>\n      <td>-68.43/0.0</td>\n      <td>477</td>\n      <td>25.73/0.27</td>\n      <td>-71.67/0.0</td>\n      <td>184</td>\n      <td>29.9/0.26</td>\n      <td>...</td>\n      <td>3</td>\n      <td>30.65/0.18</td>\n      <td>-100.0/0.0</td>\n      <td>11</td>\n      <td>139.03/0.56</td>\n      <td>45.0/1.0</td>\n      <td>34</td>\n      <td>-20.85/0.2</td>\n      <td>-71.67/0.0</td>\n      <td>61</td>\n    </tr>\n    <tr>\n      <th rowspan=\"2\" valign=\"top\">&lt;p90</th>\n      <th>2024</th>\n      <td>-8.51/0.16</td>\n      <td>-100.0/0.0</td>\n      <td>80</td>\n      <td>-22.92/0.12</td>\n      <td>-100.0/0.0</td>\n      <td>190</td>\n      <td>-29.95/0.08</td>\n      <td>-100.0/0.0</td>\n      <td>62</td>\n      <td>-0.63/0.18</td>\n      <td>...</td>\n      <td>&lt;NA&gt;</td>\n      <td>-100.0/0.0</td>\n      <td>-100.0/0.0</td>\n      <td>3</td>\n      <td>-100.0/0.0</td>\n      <td>-100.0/0.0</td>\n      <td>4</td>\n      <td>-89.63/0.0</td>\n      <td>-100.0/0.0</td>\n      <td>16</td>\n    </tr>\n    <tr>\n      <th>2025</th>\n      <td>111.96/0.39</td>\n      <td>-54.55/0.0</td>\n      <td>59</td>\n      <td>164.95/0.28</td>\n      <td>-100.0/0.0</td>\n      <td>109</td>\n      <td>174.8/0.33</td>\n      <td>-100.0/0.0</td>\n      <td>42</td>\n      <td>142.45/0.21</td>\n      <td>...</td>\n      <td>&lt;NA&gt;</td>\n      <td>NaN</td>\n      <td>NaN</td>\n      <td>&lt;NA&gt;</td>\n      <td>148.35/0.33</td>\n      <td>-100.0/0.0</td>\n      <td>6</td>\n      <td>467.73/0.5</td>\n      <td>395.52/0.5</td>\n      <td>4</td>\n    </tr>\n    <tr>\n      <th rowspan=\"2\" valign=\"top\">&gt;=p90</th>\n      <th>2024</th>\n      <td>-80.79/0.08</td>\n      <td>-100.0/0.0</td>\n      <td>25</td>\n      <td>-70.53/0.1</td>\n      <td>-100.0/0.0</td>\n      <td>69</td>\n      <td>-72.07/0.1</td>\n      <td>-100.0/0.0</td>\n      <td>20</td>\n      <td>-66.5/0.1</td>\n      <td>...</td>\n      <td>&lt;NA&gt;</td>\n      <td>NaN</td>\n      <td>NaN</td>\n      <td>&lt;NA&gt;</td>\n      <td>-100.0/0.0</td>\n      <td>-100.0/0.0</td>\n      <td>3</td>\n      <td>-66.33/0.25</td>\n      <td>-100.0/0.0</td>\n      <td>4</td>\n    </tr>\n    <tr>\n      <th>2025</th>\n      <td>107.27/0.19</td>\n      <td>-100.0/0.0</td>\n      <td>16</td>\n      <td>354.17/0.22</td>\n      <td>-100.0/0.0</td>\n      <td>45</td>\n      <td>187.84/0.21</td>\n      <td>-100.0/0.0</td>\n      <td>14</td>\n      <td>286.01/0.23</td>\n      <td>...</td>\n      <td>&lt;NA&gt;</td>\n      <td>6221.42/1.0</td>\n      <td>6221.42/1.0</td>\n      <td>1</td>\n      <td>NaN</td>\n      <td>NaN</td>\n      <td>&lt;NA&gt;</td>\n      <td>-100.0/0.0</td>\n      <td>-100.0/0.0</td>\n      <td>2</td>\n    </tr>\n  </tbody>\n</table>\n<p>60 rows × 36 columns</p>\n</div>"
     },
     "execution_count": 19,
     "metadata": {},
     "output_type": "execute_result"
    }
   ],
   "source": [
    "df_group = group_display(trade_dfs, [\"target_level\", \"psp_key\", \"entry_rr_perc\", \"year\"], True, \"entry_rr\")\n",
    "df_group"
   ],
   "metadata": {
    "collapsed": false,
    "ExecuteTime": {
     "end_time": "2025-09-03T15:38:12.102344Z",
     "start_time": "2025-09-03T15:38:11.574528Z"
    }
   },
   "id": "d6a74a6bde7c5e83",
   "execution_count": 19
  },
  {
   "cell_type": "code",
   "execution_count": 20,
   "id": "b5617f2e69a35666",
   "metadata": {
    "collapsed": false,
    "ExecuteTime": {
     "end_time": "2025-09-03T15:38:12.108602Z",
     "start_time": "2025-09-03T15:38:12.104459Z"
    }
   },
   "outputs": [],
   "source": [
    "# group([\"psp_key\", \"direction\", \"entry_yq\"])\n",
    "# group([\"psp_key\", \"direction\", \"entry_mw\"])\n",
    "# group([\"psp_key\", \"direction\", \"entry_wd\"])\n",
    "# group([\"psp_key\", \"direction\", \"entry_wd\"])\n",
    "# group([\"psp_key\", \"direction\", \"entry_dq\"])\n",
    "# group([\"psp_key\", \"direction\", \"entry_q90m\"])\n",
    "# group([\"entry_yq\"])\n",
    "# group([\"entry_mw\"])\n",
    "# group([\"entry_wd\"])\n",
    "# group([\"entry_dq\"])\n",
    "# group([\"entry_q90m\"])"
   ]
  },
  {
   "cell_type": "code",
   "execution_count": 20,
   "id": "ff8c325b4d14bf3e",
   "metadata": {
    "collapsed": false,
    "ExecuteTime": {
     "end_time": "2025-09-03T15:38:12.113522Z",
     "start_time": "2025-09-03T15:38:12.110476Z"
    }
   },
   "outputs": [],
   "source": []
  },
  {
   "cell_type": "code",
   "execution_count": 21,
   "id": "7c6fc9a68cdfa4b1",
   "metadata": {
    "collapsed": false,
    "ExecuteTime": {
     "end_time": "2025-09-03T15:38:12.138816Z",
     "start_time": "2025-09-03T15:38:12.115440Z"
    }
   },
   "outputs": [],
   "source": [
    "# (trades_df_2024.groupby([\"smt_label\", \"psp_key\", \"direction\"])[\"pnl_usd\"]\n",
    "#  .agg([\"mean\", \"median\", \"count\"])\n",
    "#  .reset_index())\n",
    "# (trades_df_2025.groupby([\"smt_label\", \"psp_key\", \"direction\"])[\"pnl_usd\"]\n",
    "#  .agg([\"mean\", \"median\", \"count\"])\n",
    "#  .reset_index())"
   ]
  },
  {
   "cell_type": "code",
   "execution_count": 22,
   "id": "c26f779155e01a1d",
   "metadata": {
    "collapsed": false,
    "ExecuteTime": {
     "end_time": "2025-09-03T15:38:12.152834Z",
     "start_time": "2025-09-03T15:38:12.141564Z"
    }
   },
   "outputs": [],
   "source": [
    "# display([round(float(x), 4) for x in np.percentile(trades_df_2024['entry_rr'], [10, 30, 70, 90])])\n",
    "# display([round(float(x), 4) for x in np.percentile(trades_df_2025['entry_rr'], [10, 30, 70, 90])])\n",
    "# \n",
    "# display(trades_df_2024.groupby(\"entry_rr_perc\")[\"pnl_usd\"].agg([\"mean\", \"median\", \"count\"]))\n",
    "# display(trades_df_2025.groupby(\"entry_rr_perc\")[\"pnl_usd\"].agg([\"mean\", \"median\", \"count\"]))\n",
    "# \n",
    "# display(trades_df_2024.query(\"14 < entry_rr < 17\")[\"pnl_usd\"].agg([\"mean\", \"median\", \"count\"]))\n",
    "# display(trades_df_2025.query(\"14 < entry_rr < 17\")[\"pnl_usd\"].agg([\"mean\", \"median\", \"count\"]))\n",
    "# display(trades_df_2024.query(\"14 < entry_rr < 17\")[\"won\"].agg([\"mean\", \"median\", \"count\"]))\n",
    "# display(trades_df_2025.query(\"14 < entry_rr < 17\")[\"won\"].agg([\"mean\", \"median\", \"count\"]))"
   ]
  },
  {
   "cell_type": "code",
   "outputs": [],
   "source": [
    "# df_rr_change_2024 = trades_df_2024.query(\"won\")[[\"entry_rr\", \"entry_rr_perc\", \"best_entry_rr\"]]\n",
    "# df_rr_change_2024[\"multiplier\"] = df_rr_change_2024[\"best_entry_rr\"] / df_rr_change_2024[\"entry_rr\"]\n",
    "# display([round(float(x), 4) for x in np.percentile(df_rr_change_2024['entry_rr'], [10, 30, 70, 90])])\n",
    "# display(df_rr_change_2024.groupby(\"entry_rr_perc\")[\"multiplier\"].agg([\"mean\", \"median\", \"count\"]))\n",
    "# \n",
    "# df_rr_change_2025 = trades_df_2025.query(\"won\")[[\"entry_rr\", \"entry_rr_perc\", \"best_entry_rr\"]]\n",
    "# df_rr_change_2025[\"multiplier\"] = df_rr_change_2025[\"best_entry_rr\"] / df_rr_change_2025[\"entry_rr\"]\n",
    "# display([round(float(x), 4) for x in np.percentile(df_rr_change_2025['entry_rr'], [10, 30, 70, 90])])\n",
    "# display(df_rr_change_2025.groupby(\"entry_rr_perc\")[\"multiplier\"].agg([\"mean\", \"median\", \"count\"]))"
   ],
   "metadata": {
    "collapsed": false,
    "ExecuteTime": {
     "end_time": "2025-09-03T15:38:12.165732Z",
     "start_time": "2025-09-03T15:38:12.154286Z"
    }
   },
   "id": "7947ce3bea8d6633",
   "execution_count": 23
  }
 ],
 "metadata": {
  "kernelspec": {
   "display_name": "Python 3 (ipykernel)",
   "language": "python",
   "name": "python3"
  },
  "language_info": {
   "codemirror_mode": {
    "name": "ipython",
    "version": 3
   },
   "file_extension": ".py",
   "mimetype": "text/x-python",
   "name": "python",
   "nbconvert_exporter": "python",
   "pygments_lexer": "ipython3",
   "version": "3.11.11"
  }
 },
 "nbformat": 4,
 "nbformat_minor": 5
}
