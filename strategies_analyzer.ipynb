{
 "cells": [
  {
   "cell_type": "code",
   "execution_count": 23,
   "id": "initial_id",
   "metadata": {
    "collapsed": true,
    "ExecuteTime": {
     "end_time": "2025-08-28T23:52:48.547565Z",
     "start_time": "2025-08-28T23:52:48.404108Z"
    }
   },
   "outputs": [],
   "source": [
    "from stock_market_research_kit.smt_psp_trade import smt_psp_trades_from_json\n",
    "from scripts.run_smt_strategies_analyzer import strategy24_2025_snapshot, to_trade_df\n",
    "\n",
    "with open(strategy24_2025_snapshot, \"r\", encoding=\"utf-8\") as f:\n",
    "    json_str = f.read()\n",
    "    trades_list = smt_psp_trades_from_json(json_str)\n",
    "    trades_df = to_trade_df(trades_list)"
   ]
  },
  {
   "cell_type": "code",
   "outputs": [
    {
     "name": "stdout",
     "output_type": "stream",
     "text": [
      "strategy_24: 18 trades with cum_pnl 267.36 (minus fees is 48.13)\n"
     ]
    },
    {
     "data": {
      "text/plain": "                mean     median  count\ndirection                             \nUP         14.853205  21.955172     18",
      "text/html": "<div>\n<style scoped>\n    .dataframe tbody tr th:only-of-type {\n        vertical-align: middle;\n    }\n\n    .dataframe tbody tr th {\n        vertical-align: top;\n    }\n\n    .dataframe thead th {\n        text-align: right;\n    }\n</style>\n<table border=\"1\" class=\"dataframe\">\n  <thead>\n    <tr style=\"text-align: right;\">\n      <th></th>\n      <th>mean</th>\n      <th>median</th>\n      <th>count</th>\n    </tr>\n    <tr>\n      <th>direction</th>\n      <th></th>\n      <th></th>\n      <th></th>\n    </tr>\n  </thead>\n  <tbody>\n    <tr>\n      <th>UP</th>\n      <td>14.853205</td>\n      <td>21.955172</td>\n      <td>18</td>\n    </tr>\n  </tbody>\n</table>\n</div>"
     },
     "metadata": {},
     "output_type": "display_data"
    },
    {
     "data": {
      "text/plain": "              mean     median  count\nasset                               \nBTCUSDT   6.521089  19.987492      6\nETHUSDT   7.936389  22.723074      6\nSOLUSDT  30.102135  31.786423      6",
      "text/html": "<div>\n<style scoped>\n    .dataframe tbody tr th:only-of-type {\n        vertical-align: middle;\n    }\n\n    .dataframe tbody tr th {\n        vertical-align: top;\n    }\n\n    .dataframe thead th {\n        text-align: right;\n    }\n</style>\n<table border=\"1\" class=\"dataframe\">\n  <thead>\n    <tr style=\"text-align: right;\">\n      <th></th>\n      <th>mean</th>\n      <th>median</th>\n      <th>count</th>\n    </tr>\n    <tr>\n      <th>asset</th>\n      <th></th>\n      <th></th>\n      <th></th>\n    </tr>\n  </thead>\n  <tbody>\n    <tr>\n      <th>BTCUSDT</th>\n      <td>6.521089</td>\n      <td>19.987492</td>\n      <td>6</td>\n    </tr>\n    <tr>\n      <th>ETHUSDT</th>\n      <td>7.936389</td>\n      <td>22.723074</td>\n      <td>6</td>\n    </tr>\n    <tr>\n      <th>SOLUSDT</th>\n      <td>30.102135</td>\n      <td>31.786423</td>\n      <td>6</td>\n    </tr>\n  </tbody>\n</table>\n</div>"
     },
     "metadata": {},
     "output_type": "display_data"
    },
    {
     "data": {
      "text/plain": "               mean     median  count\nsmt_type                             \nhalf_low  30.822336  23.841954     12\nlow      -17.085059 -35.183364      6",
      "text/html": "<div>\n<style scoped>\n    .dataframe tbody tr th:only-of-type {\n        vertical-align: middle;\n    }\n\n    .dataframe tbody tr th {\n        vertical-align: top;\n    }\n\n    .dataframe thead th {\n        text-align: right;\n    }\n</style>\n<table border=\"1\" class=\"dataframe\">\n  <thead>\n    <tr style=\"text-align: right;\">\n      <th></th>\n      <th>mean</th>\n      <th>median</th>\n      <th>count</th>\n    </tr>\n    <tr>\n      <th>smt_type</th>\n      <th></th>\n      <th></th>\n      <th></th>\n    </tr>\n  </thead>\n  <tbody>\n    <tr>\n      <th>half_low</th>\n      <td>30.822336</td>\n      <td>23.841954</td>\n      <td>12</td>\n    </tr>\n    <tr>\n      <th>low</th>\n      <td>-17.085059</td>\n      <td>-35.183364</td>\n      <td>6</td>\n    </tr>\n  </tbody>\n</table>\n</div>"
     },
     "metadata": {},
     "output_type": "display_data"
    },
    {
     "data": {
      "text/plain": "                mean     median  count\nsmt_label                             \nweek1 SMT  41.346993  36.859739      9\nweek3 SMT -11.640584   7.991161      9",
      "text/html": "<div>\n<style scoped>\n    .dataframe tbody tr th:only-of-type {\n        vertical-align: middle;\n    }\n\n    .dataframe tbody tr th {\n        vertical-align: top;\n    }\n\n    .dataframe thead th {\n        text-align: right;\n    }\n</style>\n<table border=\"1\" class=\"dataframe\">\n  <thead>\n    <tr style=\"text-align: right;\">\n      <th></th>\n      <th>mean</th>\n      <th>median</th>\n      <th>count</th>\n    </tr>\n    <tr>\n      <th>smt_label</th>\n      <th></th>\n      <th></th>\n      <th></th>\n    </tr>\n  </thead>\n  <tbody>\n    <tr>\n      <th>week1 SMT</th>\n      <td>41.346993</td>\n      <td>36.859739</td>\n      <td>9</td>\n    </tr>\n    <tr>\n      <th>week3 SMT</th>\n      <td>-11.640584</td>\n      <td>7.991161</td>\n      <td>9</td>\n    </tr>\n  </tbody>\n</table>\n</div>"
     },
     "metadata": {},
     "output_type": "display_data"
    },
    {
     "data": {
      "text/plain": "                 mean      median  count\nsmt_flags                               \nbEs       -100.000000 -100.000000      3\nbeS         37.823846   33.406836     15",
      "text/html": "<div>\n<style scoped>\n    .dataframe tbody tr th:only-of-type {\n        vertical-align: middle;\n    }\n\n    .dataframe tbody tr th {\n        vertical-align: top;\n    }\n\n    .dataframe thead th {\n        text-align: right;\n    }\n</style>\n<table border=\"1\" class=\"dataframe\">\n  <thead>\n    <tr style=\"text-align: right;\">\n      <th></th>\n      <th>mean</th>\n      <th>median</th>\n      <th>count</th>\n    </tr>\n    <tr>\n      <th>smt_flags</th>\n      <th></th>\n      <th></th>\n      <th></th>\n    </tr>\n  </thead>\n  <tbody>\n    <tr>\n      <th>bEs</th>\n      <td>-100.000000</td>\n      <td>-100.000000</td>\n      <td>3</td>\n    </tr>\n    <tr>\n      <th>beS</th>\n      <td>37.823846</td>\n      <td>33.406836</td>\n      <td>15</td>\n    </tr>\n  </tbody>\n</table>\n</div>"
     },
     "metadata": {},
     "output_type": "display_data"
    },
    {
     "data": {
      "text/plain": "[0.0963654777841044,\n 0.12263088034412821,\n 0.39092613435840473,\n 0.6906443108320849]"
     },
     "metadata": {},
     "output_type": "display_data"
    },
    {
     "data": {
      "text/plain": "                     mean      median  count\nentry_rr_perc                               \n<p10             4.758939    4.758939      2\n<p30           -16.768474   10.443396      4\n<p70           -14.303847   21.955172      6\n<p90            48.805884   50.557727      4\n>=p90          107.756624  107.756624      2",
      "text/html": "<div>\n<style scoped>\n    .dataframe tbody tr th:only-of-type {\n        vertical-align: middle;\n    }\n\n    .dataframe tbody tr th {\n        vertical-align: top;\n    }\n\n    .dataframe thead th {\n        text-align: right;\n    }\n</style>\n<table border=\"1\" class=\"dataframe\">\n  <thead>\n    <tr style=\"text-align: right;\">\n      <th></th>\n      <th>mean</th>\n      <th>median</th>\n      <th>count</th>\n    </tr>\n    <tr>\n      <th>entry_rr_perc</th>\n      <th></th>\n      <th></th>\n      <th></th>\n    </tr>\n  </thead>\n  <tbody>\n    <tr>\n      <th>&lt;p10</th>\n      <td>4.758939</td>\n      <td>4.758939</td>\n      <td>2</td>\n    </tr>\n    <tr>\n      <th>&lt;p30</th>\n      <td>-16.768474</td>\n      <td>10.443396</td>\n      <td>4</td>\n    </tr>\n    <tr>\n      <th>&lt;p70</th>\n      <td>-14.303847</td>\n      <td>21.955172</td>\n      <td>6</td>\n    </tr>\n    <tr>\n      <th>&lt;p90</th>\n      <td>48.805884</td>\n      <td>50.557727</td>\n      <td>4</td>\n    </tr>\n    <tr>\n      <th>&gt;=p90</th>\n      <td>107.756624</td>\n      <td>107.756624</td>\n      <td>2</td>\n    </tr>\n  </tbody>\n</table>\n</div>"
     },
     "metadata": {},
     "output_type": "display_data"
    },
    {
     "data": {
      "text/plain": "  psp_key_used direction       mean     median  count\n0           1d        UP  14.853205  21.955172     18",
      "text/html": "<div>\n<style scoped>\n    .dataframe tbody tr th:only-of-type {\n        vertical-align: middle;\n    }\n\n    .dataframe tbody tr th {\n        vertical-align: top;\n    }\n\n    .dataframe thead th {\n        text-align: right;\n    }\n</style>\n<table border=\"1\" class=\"dataframe\">\n  <thead>\n    <tr style=\"text-align: right;\">\n      <th></th>\n      <th>psp_key_used</th>\n      <th>direction</th>\n      <th>mean</th>\n      <th>median</th>\n      <th>count</th>\n    </tr>\n  </thead>\n  <tbody>\n    <tr>\n      <th>0</th>\n      <td>1d</td>\n      <td>UP</td>\n      <td>14.853205</td>\n      <td>21.955172</td>\n      <td>18</td>\n    </tr>\n  </tbody>\n</table>\n</div>"
     },
     "metadata": {},
     "output_type": "display_data"
    },
    {
     "data": {
      "text/plain": "  psp_key_used direction entry_yq       mean     median  count\n0           1d        UP      YQ2  12.614775  29.633271     15\n1           1d        UP      YQ3  26.045355  14.277072      3",
      "text/html": "<div>\n<style scoped>\n    .dataframe tbody tr th:only-of-type {\n        vertical-align: middle;\n    }\n\n    .dataframe tbody tr th {\n        vertical-align: top;\n    }\n\n    .dataframe thead th {\n        text-align: right;\n    }\n</style>\n<table border=\"1\" class=\"dataframe\">\n  <thead>\n    <tr style=\"text-align: right;\">\n      <th></th>\n      <th>psp_key_used</th>\n      <th>direction</th>\n      <th>entry_yq</th>\n      <th>mean</th>\n      <th>median</th>\n      <th>count</th>\n    </tr>\n  </thead>\n  <tbody>\n    <tr>\n      <th>0</th>\n      <td>1d</td>\n      <td>UP</td>\n      <td>YQ2</td>\n      <td>12.614775</td>\n      <td>29.633271</td>\n      <td>15</td>\n    </tr>\n    <tr>\n      <th>1</th>\n      <td>1d</td>\n      <td>UP</td>\n      <td>YQ3</td>\n      <td>26.045355</td>\n      <td>14.277072</td>\n      <td>3</td>\n    </tr>\n  </tbody>\n</table>\n</div>"
     },
     "metadata": {},
     "output_type": "display_data"
    },
    {
     "data": {
      "text/plain": "  psp_key_used direction entry_mw        mean      median  count\n0           1d        UP      MW2   45.937618   40.726476      6\n1           1d        UP      MW3   32.165742   36.859739      3\n2           1d        UP      MW4   32.539124   21.975957      6\n3           1d        UP      MW5 -100.000000 -100.000000      3",
      "text/html": "<div>\n<style scoped>\n    .dataframe tbody tr th:only-of-type {\n        vertical-align: middle;\n    }\n\n    .dataframe tbody tr th {\n        vertical-align: top;\n    }\n\n    .dataframe thead th {\n        text-align: right;\n    }\n</style>\n<table border=\"1\" class=\"dataframe\">\n  <thead>\n    <tr style=\"text-align: right;\">\n      <th></th>\n      <th>psp_key_used</th>\n      <th>direction</th>\n      <th>entry_mw</th>\n      <th>mean</th>\n      <th>median</th>\n      <th>count</th>\n    </tr>\n  </thead>\n  <tbody>\n    <tr>\n      <th>0</th>\n      <td>1d</td>\n      <td>UP</td>\n      <td>MW2</td>\n      <td>45.937618</td>\n      <td>40.726476</td>\n      <td>6</td>\n    </tr>\n    <tr>\n      <th>1</th>\n      <td>1d</td>\n      <td>UP</td>\n      <td>MW3</td>\n      <td>32.165742</td>\n      <td>36.859739</td>\n      <td>3</td>\n    </tr>\n    <tr>\n      <th>2</th>\n      <td>1d</td>\n      <td>UP</td>\n      <td>MW4</td>\n      <td>32.539124</td>\n      <td>21.975957</td>\n      <td>6</td>\n    </tr>\n    <tr>\n      <th>3</th>\n      <td>1d</td>\n      <td>UP</td>\n      <td>MW5</td>\n      <td>-100.000000</td>\n      <td>-100.000000</td>\n      <td>3</td>\n    </tr>\n  </tbody>\n</table>\n</div>"
     },
     "metadata": {},
     "output_type": "display_data"
    },
    {
     "data": {
      "text/plain": "  psp_key_used direction entry_wd        mean      median  count\n0           1d        UP      Fri    6.687653    7.991161      3\n1           1d        UP      Sat -100.000000 -100.000000      3\n2           1d        UP      Sun   65.829882   54.767369      3\n3           1d        UP      Thu   26.045355   14.277072      3\n4           1d        UP      Wed   45.278169   38.100225      6",
      "text/html": "<div>\n<style scoped>\n    .dataframe tbody tr th:only-of-type {\n        vertical-align: middle;\n    }\n\n    .dataframe tbody tr th {\n        vertical-align: top;\n    }\n\n    .dataframe thead th {\n        text-align: right;\n    }\n</style>\n<table border=\"1\" class=\"dataframe\">\n  <thead>\n    <tr style=\"text-align: right;\">\n      <th></th>\n      <th>psp_key_used</th>\n      <th>direction</th>\n      <th>entry_wd</th>\n      <th>mean</th>\n      <th>median</th>\n      <th>count</th>\n    </tr>\n  </thead>\n  <tbody>\n    <tr>\n      <th>0</th>\n      <td>1d</td>\n      <td>UP</td>\n      <td>Fri</td>\n      <td>6.687653</td>\n      <td>7.991161</td>\n      <td>3</td>\n    </tr>\n    <tr>\n      <th>1</th>\n      <td>1d</td>\n      <td>UP</td>\n      <td>Sat</td>\n      <td>-100.000000</td>\n      <td>-100.000000</td>\n      <td>3</td>\n    </tr>\n    <tr>\n      <th>2</th>\n      <td>1d</td>\n      <td>UP</td>\n      <td>Sun</td>\n      <td>65.829882</td>\n      <td>54.767369</td>\n      <td>3</td>\n    </tr>\n    <tr>\n      <th>3</th>\n      <td>1d</td>\n      <td>UP</td>\n      <td>Thu</td>\n      <td>26.045355</td>\n      <td>14.277072</td>\n      <td>3</td>\n    </tr>\n    <tr>\n      <th>4</th>\n      <td>1d</td>\n      <td>UP</td>\n      <td>Wed</td>\n      <td>45.278169</td>\n      <td>38.100225</td>\n      <td>6</td>\n    </tr>\n  </tbody>\n</table>\n</div>"
     },
     "metadata": {},
     "output_type": "display_data"
    },
    {
     "data": {
      "text/plain": "  psp_key_used direction  entry_dq       mean     median  count\n0           1d        UP  DQ1_Asia  14.853205  21.955172     18",
      "text/html": "<div>\n<style scoped>\n    .dataframe tbody tr th:only-of-type {\n        vertical-align: middle;\n    }\n\n    .dataframe tbody tr th {\n        vertical-align: top;\n    }\n\n    .dataframe thead th {\n        text-align: right;\n    }\n</style>\n<table border=\"1\" class=\"dataframe\">\n  <thead>\n    <tr style=\"text-align: right;\">\n      <th></th>\n      <th>psp_key_used</th>\n      <th>direction</th>\n      <th>entry_dq</th>\n      <th>mean</th>\n      <th>median</th>\n      <th>count</th>\n    </tr>\n  </thead>\n  <tbody>\n    <tr>\n      <th>0</th>\n      <td>1d</td>\n      <td>UP</td>\n      <td>DQ1_Asia</td>\n      <td>14.853205</td>\n      <td>21.955172</td>\n      <td>18</td>\n    </tr>\n  </tbody>\n</table>\n</div>"
     },
     "metadata": {},
     "output_type": "display_data"
    },
    {
     "data": {
      "text/plain": "  psp_key_used direction entry_q90m       mean     median  count\n0           1d        UP     Q2_90m  14.853205  21.955172     18",
      "text/html": "<div>\n<style scoped>\n    .dataframe tbody tr th:only-of-type {\n        vertical-align: middle;\n    }\n\n    .dataframe tbody tr th {\n        vertical-align: top;\n    }\n\n    .dataframe thead th {\n        text-align: right;\n    }\n</style>\n<table border=\"1\" class=\"dataframe\">\n  <thead>\n    <tr style=\"text-align: right;\">\n      <th></th>\n      <th>psp_key_used</th>\n      <th>direction</th>\n      <th>entry_q90m</th>\n      <th>mean</th>\n      <th>median</th>\n      <th>count</th>\n    </tr>\n  </thead>\n  <tbody>\n    <tr>\n      <th>0</th>\n      <td>1d</td>\n      <td>UP</td>\n      <td>Q2_90m</td>\n      <td>14.853205</td>\n      <td>21.955172</td>\n      <td>18</td>\n    </tr>\n  </tbody>\n</table>\n</div>"
     },
     "metadata": {},
     "output_type": "display_data"
    },
    {
     "data": {
      "text/plain": "               mean     median  count\nentry_yq                             \nYQ2       12.614775  29.633271     15\nYQ3       26.045355  14.277072      3",
      "text/html": "<div>\n<style scoped>\n    .dataframe tbody tr th:only-of-type {\n        vertical-align: middle;\n    }\n\n    .dataframe tbody tr th {\n        vertical-align: top;\n    }\n\n    .dataframe thead th {\n        text-align: right;\n    }\n</style>\n<table border=\"1\" class=\"dataframe\">\n  <thead>\n    <tr style=\"text-align: right;\">\n      <th></th>\n      <th>mean</th>\n      <th>median</th>\n      <th>count</th>\n    </tr>\n    <tr>\n      <th>entry_yq</th>\n      <th></th>\n      <th></th>\n      <th></th>\n    </tr>\n  </thead>\n  <tbody>\n    <tr>\n      <th>YQ2</th>\n      <td>12.614775</td>\n      <td>29.633271</td>\n      <td>15</td>\n    </tr>\n    <tr>\n      <th>YQ3</th>\n      <td>26.045355</td>\n      <td>14.277072</td>\n      <td>3</td>\n    </tr>\n  </tbody>\n</table>\n</div>"
     },
     "metadata": {},
     "output_type": "display_data"
    },
    {
     "data": {
      "text/plain": "                mean      median  count\nentry_mw                               \nMW2        45.937618   40.726476      6\nMW3        32.165742   36.859739      3\nMW4        32.539124   21.975957      6\nMW5      -100.000000 -100.000000      3",
      "text/html": "<div>\n<style scoped>\n    .dataframe tbody tr th:only-of-type {\n        vertical-align: middle;\n    }\n\n    .dataframe tbody tr th {\n        vertical-align: top;\n    }\n\n    .dataframe thead th {\n        text-align: right;\n    }\n</style>\n<table border=\"1\" class=\"dataframe\">\n  <thead>\n    <tr style=\"text-align: right;\">\n      <th></th>\n      <th>mean</th>\n      <th>median</th>\n      <th>count</th>\n    </tr>\n    <tr>\n      <th>entry_mw</th>\n      <th></th>\n      <th></th>\n      <th></th>\n    </tr>\n  </thead>\n  <tbody>\n    <tr>\n      <th>MW2</th>\n      <td>45.937618</td>\n      <td>40.726476</td>\n      <td>6</td>\n    </tr>\n    <tr>\n      <th>MW3</th>\n      <td>32.165742</td>\n      <td>36.859739</td>\n      <td>3</td>\n    </tr>\n    <tr>\n      <th>MW4</th>\n      <td>32.539124</td>\n      <td>21.975957</td>\n      <td>6</td>\n    </tr>\n    <tr>\n      <th>MW5</th>\n      <td>-100.000000</td>\n      <td>-100.000000</td>\n      <td>3</td>\n    </tr>\n  </tbody>\n</table>\n</div>"
     },
     "metadata": {},
     "output_type": "display_data"
    },
    {
     "data": {
      "text/plain": "                mean      median  count\nentry_wd                               \nFri         6.687653    7.991161      3\nSat      -100.000000 -100.000000      3\nSun        65.829882   54.767369      3\nThu        26.045355   14.277072      3\nWed        45.278169   38.100225      6",
      "text/html": "<div>\n<style scoped>\n    .dataframe tbody tr th:only-of-type {\n        vertical-align: middle;\n    }\n\n    .dataframe tbody tr th {\n        vertical-align: top;\n    }\n\n    .dataframe thead th {\n        text-align: right;\n    }\n</style>\n<table border=\"1\" class=\"dataframe\">\n  <thead>\n    <tr style=\"text-align: right;\">\n      <th></th>\n      <th>mean</th>\n      <th>median</th>\n      <th>count</th>\n    </tr>\n    <tr>\n      <th>entry_wd</th>\n      <th></th>\n      <th></th>\n      <th></th>\n    </tr>\n  </thead>\n  <tbody>\n    <tr>\n      <th>Fri</th>\n      <td>6.687653</td>\n      <td>7.991161</td>\n      <td>3</td>\n    </tr>\n    <tr>\n      <th>Sat</th>\n      <td>-100.000000</td>\n      <td>-100.000000</td>\n      <td>3</td>\n    </tr>\n    <tr>\n      <th>Sun</th>\n      <td>65.829882</td>\n      <td>54.767369</td>\n      <td>3</td>\n    </tr>\n    <tr>\n      <th>Thu</th>\n      <td>26.045355</td>\n      <td>14.277072</td>\n      <td>3</td>\n    </tr>\n    <tr>\n      <th>Wed</th>\n      <td>45.278169</td>\n      <td>38.100225</td>\n      <td>6</td>\n    </tr>\n  </tbody>\n</table>\n</div>"
     },
     "metadata": {},
     "output_type": "display_data"
    },
    {
     "data": {
      "text/plain": "               mean     median  count\nentry_dq                             \nDQ1_Asia  14.853205  21.955172     18",
      "text/html": "<div>\n<style scoped>\n    .dataframe tbody tr th:only-of-type {\n        vertical-align: middle;\n    }\n\n    .dataframe tbody tr th {\n        vertical-align: top;\n    }\n\n    .dataframe thead th {\n        text-align: right;\n    }\n</style>\n<table border=\"1\" class=\"dataframe\">\n  <thead>\n    <tr style=\"text-align: right;\">\n      <th></th>\n      <th>mean</th>\n      <th>median</th>\n      <th>count</th>\n    </tr>\n    <tr>\n      <th>entry_dq</th>\n      <th></th>\n      <th></th>\n      <th></th>\n    </tr>\n  </thead>\n  <tbody>\n    <tr>\n      <th>DQ1_Asia</th>\n      <td>14.853205</td>\n      <td>21.955172</td>\n      <td>18</td>\n    </tr>\n  </tbody>\n</table>\n</div>"
     },
     "metadata": {},
     "output_type": "display_data"
    },
    {
     "data": {
      "text/plain": "                 mean     median  count\nentry_q90m                             \nQ2_90m      14.853205  21.955172     18",
      "text/html": "<div>\n<style scoped>\n    .dataframe tbody tr th:only-of-type {\n        vertical-align: middle;\n    }\n\n    .dataframe tbody tr th {\n        vertical-align: top;\n    }\n\n    .dataframe thead th {\n        text-align: right;\n    }\n</style>\n<table border=\"1\" class=\"dataframe\">\n  <thead>\n    <tr style=\"text-align: right;\">\n      <th></th>\n      <th>mean</th>\n      <th>median</th>\n      <th>count</th>\n    </tr>\n    <tr>\n      <th>entry_q90m</th>\n      <th></th>\n      <th></th>\n      <th></th>\n    </tr>\n  </thead>\n  <tbody>\n    <tr>\n      <th>Q2_90m</th>\n      <td>14.853205</td>\n      <td>21.955172</td>\n      <td>18</td>\n    </tr>\n  </tbody>\n</table>\n</div>"
     },
     "metadata": {},
     "output_type": "display_data"
    }
   ],
   "source": [
    "import numpy as np\n",
    "from IPython.display import display\n",
    "\n",
    "print(f\"{f.name[23:34]}: {len(trades_df)} trades with cum_pnl {round(trades_df['cum_pnl_usd'].iloc[-1], 2)} (minus fees is {round(trades_df['pnl_minus_fees'].iloc[-1], 2)})\")\n",
    "display(trades_df.groupby(\"direction\")[\"pnl_usd\"].agg([\"mean\", \"median\", \"count\"]))\n",
    "display(trades_df.groupby(\"asset\")[\"pnl_usd\"].agg([\"mean\", \"median\", \"count\"]))\n",
    "display(trades_df.groupby(\"smt_type\")[\"pnl_usd\"].agg([\"mean\", \"median\", \"count\"]))\n",
    "display(trades_df.groupby(\"smt_label\")[\"pnl_usd\"].agg([\"mean\", \"median\", \"count\"]))\n",
    "display(trades_df.groupby(\"smt_flags\")[\"pnl_usd\"].agg([\"mean\", \"median\", \"count\"]))\n",
    "display([float(x) for x in np.percentile(trades_df['entry_rr'], [10, 30, 70, 90])])\n",
    "display(trades_df.groupby(\"entry_rr_perc\")[\"pnl_usd\"].agg([\"mean\", \"median\", \"count\"]))\n",
    "display(\n",
    "    trades_df.groupby([\"psp_key_used\", \"direction\"])[\"pnl_usd\"]\n",
    "    .agg([\"mean\", \"median\", \"count\"])\n",
    "    .reset_index()\n",
    ")\n",
    "display(\n",
    "    trades_df.groupby([\"psp_key_used\", \"direction\", \"entry_yq\"])[\"pnl_usd\"]\n",
    "    .agg([\"mean\", \"median\", \"count\"])\n",
    "    .reset_index()\n",
    ")\n",
    "display(\n",
    "    trades_df.groupby([\"psp_key_used\", \"direction\", \"entry_mw\"])[\"pnl_usd\"]\n",
    "    .agg([\"mean\", \"median\", \"count\"])\n",
    "    .reset_index()\n",
    ")\n",
    "display(\n",
    "    trades_df.groupby([\"psp_key_used\", \"direction\", \"entry_wd\"])[\"pnl_usd\"]\n",
    "    .agg([\"mean\", \"median\", \"count\"])\n",
    "    .reset_index()\n",
    ")\n",
    "display(\n",
    "    trades_df.groupby([\"psp_key_used\", \"direction\", \"entry_dq\"])[\"pnl_usd\"]\n",
    "    .agg([\"mean\", \"median\", \"count\"])\n",
    "    .reset_index()\n",
    ")\n",
    "display(\n",
    "    trades_df.groupby([\"psp_key_used\", \"direction\", \"entry_q90m\"])[\"pnl_usd\"]\n",
    "    .agg([\"mean\", \"median\", \"count\"])\n",
    "    .reset_index()\n",
    ")\n",
    "display(trades_df.groupby(\"entry_yq\")[\"pnl_usd\"].agg([\"mean\", \"median\", \"count\"]))\n",
    "display(trades_df.groupby(\"entry_mw\")[\"pnl_usd\"].agg([\"mean\", \"median\", \"count\"]))\n",
    "display(trades_df.groupby(\"entry_wd\")[\"pnl_usd\"].agg([\"mean\", \"median\", \"count\"]))\n",
    "display(trades_df.groupby(\"entry_dq\")[\"pnl_usd\"].agg([\"mean\", \"median\", \"count\"]))\n",
    "display(trades_df.groupby(\"entry_q90m\")[\"pnl_usd\"].agg([\"mean\", \"median\", \"count\"]))"
   ],
   "metadata": {
    "collapsed": false,
    "ExecuteTime": {
     "end_time": "2025-08-29T10:58:46.100282Z",
     "start_time": "2025-08-29T10:58:45.860916Z"
    }
   },
   "id": "635b22294b2d4d73",
   "execution_count": 26
  },
  {
   "cell_type": "code",
   "outputs": [
    {
     "data": {
      "text/plain": "   smt_type  smt_label psp_key_used entry_wd        mean      median  count\n0  half_low  week1 SMT           1d      Sun  -55.986381 -100.000000      3\n1  half_low  week3 SMT           1d      Thu   45.606551   37.497987      3\n2  half_low  week3 SMT           1d      Tue   -8.318603   26.875275      3\n3       low  week1 SMT           1d      Sat   38.447918   55.145887      3\n4       low  week2 SMT           1d      Tue  -23.918778  -44.412942      6\n5       low  week3 SMT           1d      Fri -100.000000 -100.000000      3\n6       low  week3 SMT           1d      Mon   38.445258 -100.000000      3\n7       low  week3 SMT           1d      Thu   42.562572   47.923708      3\n8       low  week3 SMT           1d      Tue  117.058329  106.391355      3",
      "text/html": "<div>\n<style scoped>\n    .dataframe tbody tr th:only-of-type {\n        vertical-align: middle;\n    }\n\n    .dataframe tbody tr th {\n        vertical-align: top;\n    }\n\n    .dataframe thead th {\n        text-align: right;\n    }\n</style>\n<table border=\"1\" class=\"dataframe\">\n  <thead>\n    <tr style=\"text-align: right;\">\n      <th></th>\n      <th>smt_type</th>\n      <th>smt_label</th>\n      <th>psp_key_used</th>\n      <th>entry_wd</th>\n      <th>mean</th>\n      <th>median</th>\n      <th>count</th>\n    </tr>\n  </thead>\n  <tbody>\n    <tr>\n      <th>0</th>\n      <td>half_low</td>\n      <td>week1 SMT</td>\n      <td>1d</td>\n      <td>Sun</td>\n      <td>-55.986381</td>\n      <td>-100.000000</td>\n      <td>3</td>\n    </tr>\n    <tr>\n      <th>1</th>\n      <td>half_low</td>\n      <td>week3 SMT</td>\n      <td>1d</td>\n      <td>Thu</td>\n      <td>45.606551</td>\n      <td>37.497987</td>\n      <td>3</td>\n    </tr>\n    <tr>\n      <th>2</th>\n      <td>half_low</td>\n      <td>week3 SMT</td>\n      <td>1d</td>\n      <td>Tue</td>\n      <td>-8.318603</td>\n      <td>26.875275</td>\n      <td>3</td>\n    </tr>\n    <tr>\n      <th>3</th>\n      <td>low</td>\n      <td>week1 SMT</td>\n      <td>1d</td>\n      <td>Sat</td>\n      <td>38.447918</td>\n      <td>55.145887</td>\n      <td>3</td>\n    </tr>\n    <tr>\n      <th>4</th>\n      <td>low</td>\n      <td>week2 SMT</td>\n      <td>1d</td>\n      <td>Tue</td>\n      <td>-23.918778</td>\n      <td>-44.412942</td>\n      <td>6</td>\n    </tr>\n    <tr>\n      <th>5</th>\n      <td>low</td>\n      <td>week3 SMT</td>\n      <td>1d</td>\n      <td>Fri</td>\n      <td>-100.000000</td>\n      <td>-100.000000</td>\n      <td>3</td>\n    </tr>\n    <tr>\n      <th>6</th>\n      <td>low</td>\n      <td>week3 SMT</td>\n      <td>1d</td>\n      <td>Mon</td>\n      <td>38.445258</td>\n      <td>-100.000000</td>\n      <td>3</td>\n    </tr>\n    <tr>\n      <th>7</th>\n      <td>low</td>\n      <td>week3 SMT</td>\n      <td>1d</td>\n      <td>Thu</td>\n      <td>42.562572</td>\n      <td>47.923708</td>\n      <td>3</td>\n    </tr>\n    <tr>\n      <th>8</th>\n      <td>low</td>\n      <td>week3 SMT</td>\n      <td>1d</td>\n      <td>Tue</td>\n      <td>117.058329</td>\n      <td>106.391355</td>\n      <td>3</td>\n    </tr>\n  </tbody>\n</table>\n</div>"
     },
     "execution_count": 14,
     "metadata": {},
     "output_type": "execute_result"
    }
   ],
   "source": [
    "(trades_df.groupby([\"smt_type\", \"smt_label\", \"psp_key_used\", \"entry_wd\"])[\"pnl_usd\"]\n",
    " .agg([\"mean\", \"median\", \"count\"])\n",
    " .reset_index())"
   ],
   "metadata": {
    "collapsed": false,
    "ExecuteTime": {
     "end_time": "2025-08-28T23:47:03.126816Z",
     "start_time": "2025-08-28T23:47:03.095972Z"
    }
   },
   "id": "ff8c325b4d14bf3e",
   "execution_count": 14
  },
  {
   "cell_type": "code",
   "outputs": [
    {
     "data": {
      "text/plain": "          entry_time    asset     pnl_usd  cum_pnl_usd  pnl_minus_fees  \\\n0   2025-02-18 00:00  SOLUSDT -100.000000  -100.000000     -105.424966   \n1   2025-02-18 00:00  BTCUSDT -100.000000  -200.000000     -114.495817   \n2   2025-02-18 00:00  ETHUSDT -100.000000  -300.000000     -102.195403   \n3   2025-03-31 00:00  BTCUSDT -100.000000  -400.000000     -108.660370   \n4   2025-03-31 00:00  SOLUSDT -100.000000  -500.000000     -105.801719   \n5   2025-04-01 00:00  ETHUSDT   69.520473  -430.479527       65.899456   \n6   2025-04-01 00:00  BTCUSDT  106.391355  -324.088172      100.610885   \n7   2025-04-01 00:00  SOLUSDT  175.263158  -148.825014      169.287868   \n8   2025-03-31 00:00  ETHUSDT  315.335775   166.510761      311.222468   \n9   2025-04-04 00:00  ETHUSDT -100.000000    66.510761     -102.323978   \n10  2025-04-04 00:00  BTCUSDT -100.000000   -33.489239     -103.680842   \n11  2025-04-04 00:00  SOLUSDT -100.000000  -133.489239     -102.101069   \n12  2025-04-29 00:00  ETHUSDT   48.168915   -85.320324       45.309850   \n13  2025-04-29 00:00  SOLUSDT -100.000000  -185.320324     -104.072152   \n14  2025-05-01 00:00  SOLUSDT   16.204986  -169.115338       14.359425   \n15  2025-05-01 00:00  ETHUSDT   37.497987  -131.617350       34.883401   \n16  2025-05-01 00:00  BTCUSDT   83.116680   -48.500670       76.445558   \n17  2025-04-29 00:00  BTCUSDT   26.875275   -21.625395       23.096231   \n18  2025-05-20 00:00  ETHUSDT   11.174116   -10.451279        9.904810   \n19  2025-05-20 00:00  BTCUSDT   45.313216    34.861937       42.573561   \n20  2025-05-20 00:00  SOLUSDT  100.000000   134.861937       97.948529   \n21  2025-06-01 00:00  SOLUSDT -100.000000    34.861937     -103.235070   \n22  2025-06-01 00:00  ETHUSDT -100.000000   -65.138063     -104.239800   \n23  2025-06-01 00:00  BTCUSDT   32.040857   -33.097206       25.806008   \n24  2025-06-14 00:00  SOLUSDT   55.697823    22.600617       53.961031   \n25  2025-06-14 00:00  BTCUSDT    4.500044    27.100661        1.702350   \n26  2025-06-14 00:00  ETHUSDT   55.145887    82.246548       53.513003   \n27  2025-07-31 00:00  ETHUSDT   17.264008    99.510556       14.784325   \n28  2025-07-31 00:00  BTCUSDT   47.923708   147.434264       42.784137   \n29  2025-07-31 00:00  SOLUSDT   62.500000   209.934264       60.389687   \n\n    3d_pnl_cumsum 3d_window_start_date  3d_pnl_cumsum_last_in_window  \\\n0     -100.000000           2025-02-18                   -300.000000   \n1     -200.000000           2025-02-18                   -300.000000   \n2     -300.000000           2025-02-18                   -300.000000   \n3     -100.000000           2025-03-29                    115.335775   \n4     -200.000000           2025-03-29                    115.335775   \n5       69.520473           2025-04-01                    351.174986   \n6      175.911828           2025-04-01                    351.174986   \n7      351.174986           2025-04-01                    351.174986   \n8      115.335775           2025-03-29                    115.335775   \n9     -100.000000           2025-04-04                   -300.000000   \n10    -200.000000           2025-04-04                   -300.000000   \n11    -300.000000           2025-04-04                   -300.000000   \n12      48.168915           2025-04-28                    -24.955809   \n13     -51.831085           2025-04-28                    -24.955809   \n14      16.204986           2025-05-01                    136.819653   \n15      53.702974           2025-05-01                    136.819653   \n16     136.819653           2025-05-01                    136.819653   \n17     -24.955809           2025-04-28                    -24.955809   \n18      11.174116           2025-05-19                    156.487332   \n19      56.487332           2025-05-19                    156.487332   \n20     156.487332           2025-05-19                    156.487332   \n21    -100.000000           2025-05-31                   -167.959143   \n22    -200.000000           2025-05-31                   -167.959143   \n23    -167.959143           2025-05-31                   -167.959143   \n24      55.697823           2025-06-12                    115.343754   \n25      60.197867           2025-06-12                    115.343754   \n26     115.343754           2025-06-12                    115.343754   \n27      17.264008           2025-07-30                    127.687716   \n28      65.187716           2025-07-30                    127.687716   \n29     127.687716           2025-07-30                    127.687716   \n\n    stagnation_trades_count  stagnation_days  ... entry_mw  entry_wd  \\\n0                         1                0  ...      MW3       Tue   \n1                         2                0  ...      MW3       Tue   \n2                         3                0  ...      MW3       Tue   \n3                         4               41  ...      MW5       Mon   \n4                         5               41  ...      MW5       Mon   \n5                         0                0  ...      MW5       Tue   \n6                         0                0  ...      MW5       Tue   \n7                         0                0  ...      MW5       Tue   \n8                         1                0  ...      MW5       Mon   \n9                         2                4  ...      MW5       Fri   \n10                        3                4  ...      MW5       Fri   \n11                        4                4  ...      MW5       Fri   \n12                        5               29  ...      MW4       Tue   \n13                        6               29  ...      MW4       Tue   \n14                        0                0  ...      MW4       Thu   \n15                        0                0  ...      MW4       Thu   \n16                        0                0  ...      MW4       Thu   \n17                        1                0  ...      MW4       Tue   \n18                        0                0  ...      MW3       Tue   \n19                        0                0  ...      MW3       Tue   \n20                        0                0  ...      MW3       Tue   \n21                        1                0  ...      MW4       Sun   \n22                        2                0  ...      MW4       Sun   \n23                        3                0  ...      MW4       Sun   \n24                        0                0  ...      MW2       Sat   \n25                        0                0  ...      MW2       Sat   \n26                        0                0  ...      MW2       Sat   \n27                        0                0  ...      MW4       Thu   \n28                        0                0  ...      MW4       Thu   \n29                        0                0  ...      MW4       Thu   \n\n    entry_dq entry_q90m entry_rr_perc minutes_in_market_perc  \\\n0   DQ1_Asia     Q1_90m         >=p90                   <p30   \n1   DQ1_Asia     Q1_90m          <p90                   <p70   \n2   DQ1_Asia     Q1_90m          <p70                   <p70   \n3   DQ1_Asia     Q2_90m         >=p90                   <p30   \n4   DQ1_Asia     Q2_90m         >=p90                   <p30   \n5   DQ1_Asia     Q2_90m          <p70                   <p30   \n6   DQ1_Asia     Q2_90m          <p70                   <p70   \n7   DQ1_Asia     Q2_90m          <p90                   <p70   \n8   DQ1_Asia     Q2_90m          <p90                  >=p90   \n9   DQ1_Asia     Q2_90m          <p70                   <p90   \n10  DQ1_Asia     Q2_90m          <p70                  >=p90   \n11  DQ1_Asia     Q2_90m          <p90                  >=p90   \n12  DQ1_Asia     Q2_90m          <p70                   <p70   \n13  DQ1_Asia     Q2_90m          <p90                   <p70   \n14  DQ1_Asia     Q2_90m          <p10                   <p30   \n15  DQ1_Asia     Q2_90m          <p30                   <p30   \n16  DQ1_Asia     Q2_90m          <p70                   <p70   \n17  DQ1_Asia     Q2_90m          <p30                   <p90   \n18  DQ1_Asia     Q2_90m          <p10                   <p10   \n19  DQ1_Asia     Q2_90m          <p30                   <p70   \n20  DQ1_Asia     Q2_90m          <p70                   <p90   \n21  DQ1_Asia     Q2_90m          <p90                   <p70   \n22  DQ1_Asia     Q2_90m          <p70                   <p70   \n23  DQ1_Asia     Q2_90m          <p30                   <p70   \n24  DQ1_Asia     Q2_90m          <p70                   <p90   \n25  DQ1_Asia     Q2_90m          <p10                   <p90   \n26  DQ1_Asia     Q2_90m          <p70                  >=p90   \n27  DQ1_Asia     Q2_90m          <p30                   <p30   \n28  DQ1_Asia     Q2_90m          <p30                   <p30   \n29  DQ1_Asia     Q2_90m          <p70                   <p70   \n\n   entry_position_usd_perc                  entry_tos  \\\n0                     <p90            tmo-two-SOLUSDT   \n1                    >=p90            two-tmo-BTCUSDT   \n2                     <p30            ETHUSDT-two-tmo   \n3                    >=p90          BTCUSDT-t90mo-tmo   \n4                     <p90          tmo-SOLUSDT-t90mo   \n5                     <p70      tmo-two-t90mo-ETHUSDT   \n6                     <p90      two-BTCUSDT-t90mo-tmo   \n7                     <p90      tmo-two-t90mo-SOLUSDT   \n8                     <p70          tmo-ETHUSDT-t90mo   \n9                     <p30  tmo-tyo-two-ETHUSDT-t90mo   \n10                    <p70  BTCUSDT-tyo-t90mo-two-tmo   \n11                    <p30  tmo-tyo-two-SOLUSDT-t90mo   \n12                    <p70  tyo-ETHUSDT-t90mo-two-tmo   \n13                    <p70  SOLUSDT-two-t90mo-tmo-tyo   \n14                    <p30  t90mo-two-SOLUSDT-tmo-tyo   \n15                    <p70  tyo-t90mo-two-ETHUSDT-tmo   \n16                   >=p90  two-t90mo-BTCUSDT-tmo-tyo   \n17                    <p70  t90mo-BTCUSDT-two-tmo-tyo   \n18                    <p10  ETHUSDT-two-t90mo-tmo-tyo   \n19                    <p70  BTCUSDT-t90mo-two-tmo-tyo   \n20                    <p30  tmo-SOLUSDT-two-t90mo-tyo   \n21                    <p70  two-tmo-t90mo-SOLUSDT-tyo   \n22                    <p70  two-t90mo-ETHUSDT-tmo-tyo   \n23                    <p90  two-t90mo-BTCUSDT-tmo-tyo   \n24                    <p10  two-tmo-SOLUSDT-t90mo-tyo   \n25                    <p70  two-tmo-BTCUSDT-t90mo-tyo   \n26                    <p10  two-ETHUSDT-t90mo-tmo-tyo   \n27                    <p70  ETHUSDT-two-t90mo-tmo-tyo   \n28                    <p90  tmo-two-BTCUSDT-t90mo-tyo   \n29                    <p30  two-SOLUSDT-t90mo-tmo-tyo   \n\n                   best_entry_tos  entry_date  \n0             tmo-two-tdo-SOLUSDT  2025-02-18  \n1       tdo-two-tmo-t90mo-BTCUSDT  2025-02-18  \n2       two-tdo-t90mo-ETHUSDT-tmo  2025-02-18  \n3               t90mo-BTCUSDT-tmo  2025-03-31  \n4               tmo-SOLUSDT-t90mo  2025-03-31  \n5   tmo-t90mo-tyo-tdo-two-ETHUSDT  2025-04-01  \n6   t90mo-tdo-tyo-two-BTCUSDT-tmo  2025-04-01  \n7   tmo-t90mo-tdo-tyo-two-SOLUSDT  2025-04-01  \n8   tmo-t90mo-tdo-tyo-two-ETHUSDT  2025-03-31  \n9   tmo-tyo-two-tdo-t90mo-ETHUSDT  2025-04-04  \n10  tdo-tyo-two-tmo-t90mo-BTCUSDT  2025-04-04  \n11  tmo-tyo-two-tdo-t90mo-SOLUSDT  2025-04-04  \n12  tyo-tdo-two-t90mo-ETHUSDT-tmo  2025-04-29  \n13  tdo-t90mo-two-SOLUSDT-tmo-tyo  2025-04-29  \n14      t90mo-two-SOLUSDT-tmo-tyo  2025-05-01  \n15      tyo-t90mo-two-ETHUSDT-tmo  2025-05-01  \n16  t90mo-tdo-two-BTCUSDT-tmo-tyo  2025-05-01  \n17  t90mo-tdo-two-BTCUSDT-tmo-tyo  2025-04-29  \n18      ETHUSDT-two-t90mo-tmo-tyo  2025-05-20  \n19  t90mo-tdo-two-tmo-BTCUSDT-tyo  2025-05-20  \n20        tmo-tdo-two-SOLUSDT-tyo  2025-05-20  \n21  two-tmo-t90mo-tdo-SOLUSDT-tyo  2025-06-01  \n22  two-tmo-tdo-t90mo-ETHUSDT-tyo  2025-06-01  \n23        two-tdo-tmo-BTCUSDT-tyo  2025-06-01  \n24  two-tmo-tdo-t90mo-SOLUSDT-tyo  2025-06-14  \n25            tmo-tdo-BTCUSDT-tyo  2025-06-14  \n26      t90mo-tdo-tmo-ETHUSDT-tyo  2025-06-14  \n27      ETHUSDT-two-t90mo-tmo-tyo  2025-07-31  \n28  tmo-tdo-t90mo-two-BTCUSDT-tyo  2025-07-31  \n29  two-t90mo-tdo-SOLUSDT-tmo-tyo  2025-07-31  \n\n[30 rows x 37 columns]",
      "text/html": "<div>\n<style scoped>\n    .dataframe tbody tr th:only-of-type {\n        vertical-align: middle;\n    }\n\n    .dataframe tbody tr th {\n        vertical-align: top;\n    }\n\n    .dataframe thead th {\n        text-align: right;\n    }\n</style>\n<table border=\"1\" class=\"dataframe\">\n  <thead>\n    <tr style=\"text-align: right;\">\n      <th></th>\n      <th>entry_time</th>\n      <th>asset</th>\n      <th>pnl_usd</th>\n      <th>cum_pnl_usd</th>\n      <th>pnl_minus_fees</th>\n      <th>3d_pnl_cumsum</th>\n      <th>3d_window_start_date</th>\n      <th>3d_pnl_cumsum_last_in_window</th>\n      <th>stagnation_trades_count</th>\n      <th>stagnation_days</th>\n      <th>...</th>\n      <th>entry_mw</th>\n      <th>entry_wd</th>\n      <th>entry_dq</th>\n      <th>entry_q90m</th>\n      <th>entry_rr_perc</th>\n      <th>minutes_in_market_perc</th>\n      <th>entry_position_usd_perc</th>\n      <th>entry_tos</th>\n      <th>best_entry_tos</th>\n      <th>entry_date</th>\n    </tr>\n  </thead>\n  <tbody>\n    <tr>\n      <th>0</th>\n      <td>2025-02-18 00:00</td>\n      <td>SOLUSDT</td>\n      <td>-100.000000</td>\n      <td>-100.000000</td>\n      <td>-105.424966</td>\n      <td>-100.000000</td>\n      <td>2025-02-18</td>\n      <td>-300.000000</td>\n      <td>1</td>\n      <td>0</td>\n      <td>...</td>\n      <td>MW3</td>\n      <td>Tue</td>\n      <td>DQ1_Asia</td>\n      <td>Q1_90m</td>\n      <td>&gt;=p90</td>\n      <td>&lt;p30</td>\n      <td>&lt;p90</td>\n      <td>tmo-two-SOLUSDT</td>\n      <td>tmo-two-tdo-SOLUSDT</td>\n      <td>2025-02-18</td>\n    </tr>\n    <tr>\n      <th>1</th>\n      <td>2025-02-18 00:00</td>\n      <td>BTCUSDT</td>\n      <td>-100.000000</td>\n      <td>-200.000000</td>\n      <td>-114.495817</td>\n      <td>-200.000000</td>\n      <td>2025-02-18</td>\n      <td>-300.000000</td>\n      <td>2</td>\n      <td>0</td>\n      <td>...</td>\n      <td>MW3</td>\n      <td>Tue</td>\n      <td>DQ1_Asia</td>\n      <td>Q1_90m</td>\n      <td>&lt;p90</td>\n      <td>&lt;p70</td>\n      <td>&gt;=p90</td>\n      <td>two-tmo-BTCUSDT</td>\n      <td>tdo-two-tmo-t90mo-BTCUSDT</td>\n      <td>2025-02-18</td>\n    </tr>\n    <tr>\n      <th>2</th>\n      <td>2025-02-18 00:00</td>\n      <td>ETHUSDT</td>\n      <td>-100.000000</td>\n      <td>-300.000000</td>\n      <td>-102.195403</td>\n      <td>-300.000000</td>\n      <td>2025-02-18</td>\n      <td>-300.000000</td>\n      <td>3</td>\n      <td>0</td>\n      <td>...</td>\n      <td>MW3</td>\n      <td>Tue</td>\n      <td>DQ1_Asia</td>\n      <td>Q1_90m</td>\n      <td>&lt;p70</td>\n      <td>&lt;p70</td>\n      <td>&lt;p30</td>\n      <td>ETHUSDT-two-tmo</td>\n      <td>two-tdo-t90mo-ETHUSDT-tmo</td>\n      <td>2025-02-18</td>\n    </tr>\n    <tr>\n      <th>3</th>\n      <td>2025-03-31 00:00</td>\n      <td>BTCUSDT</td>\n      <td>-100.000000</td>\n      <td>-400.000000</td>\n      <td>-108.660370</td>\n      <td>-100.000000</td>\n      <td>2025-03-29</td>\n      <td>115.335775</td>\n      <td>4</td>\n      <td>41</td>\n      <td>...</td>\n      <td>MW5</td>\n      <td>Mon</td>\n      <td>DQ1_Asia</td>\n      <td>Q2_90m</td>\n      <td>&gt;=p90</td>\n      <td>&lt;p30</td>\n      <td>&gt;=p90</td>\n      <td>BTCUSDT-t90mo-tmo</td>\n      <td>t90mo-BTCUSDT-tmo</td>\n      <td>2025-03-31</td>\n    </tr>\n    <tr>\n      <th>4</th>\n      <td>2025-03-31 00:00</td>\n      <td>SOLUSDT</td>\n      <td>-100.000000</td>\n      <td>-500.000000</td>\n      <td>-105.801719</td>\n      <td>-200.000000</td>\n      <td>2025-03-29</td>\n      <td>115.335775</td>\n      <td>5</td>\n      <td>41</td>\n      <td>...</td>\n      <td>MW5</td>\n      <td>Mon</td>\n      <td>DQ1_Asia</td>\n      <td>Q2_90m</td>\n      <td>&gt;=p90</td>\n      <td>&lt;p30</td>\n      <td>&lt;p90</td>\n      <td>tmo-SOLUSDT-t90mo</td>\n      <td>tmo-SOLUSDT-t90mo</td>\n      <td>2025-03-31</td>\n    </tr>\n    <tr>\n      <th>5</th>\n      <td>2025-04-01 00:00</td>\n      <td>ETHUSDT</td>\n      <td>69.520473</td>\n      <td>-430.479527</td>\n      <td>65.899456</td>\n      <td>69.520473</td>\n      <td>2025-04-01</td>\n      <td>351.174986</td>\n      <td>0</td>\n      <td>0</td>\n      <td>...</td>\n      <td>MW5</td>\n      <td>Tue</td>\n      <td>DQ1_Asia</td>\n      <td>Q2_90m</td>\n      <td>&lt;p70</td>\n      <td>&lt;p30</td>\n      <td>&lt;p70</td>\n      <td>tmo-two-t90mo-ETHUSDT</td>\n      <td>tmo-t90mo-tyo-tdo-two-ETHUSDT</td>\n      <td>2025-04-01</td>\n    </tr>\n    <tr>\n      <th>6</th>\n      <td>2025-04-01 00:00</td>\n      <td>BTCUSDT</td>\n      <td>106.391355</td>\n      <td>-324.088172</td>\n      <td>100.610885</td>\n      <td>175.911828</td>\n      <td>2025-04-01</td>\n      <td>351.174986</td>\n      <td>0</td>\n      <td>0</td>\n      <td>...</td>\n      <td>MW5</td>\n      <td>Tue</td>\n      <td>DQ1_Asia</td>\n      <td>Q2_90m</td>\n      <td>&lt;p70</td>\n      <td>&lt;p70</td>\n      <td>&lt;p90</td>\n      <td>two-BTCUSDT-t90mo-tmo</td>\n      <td>t90mo-tdo-tyo-two-BTCUSDT-tmo</td>\n      <td>2025-04-01</td>\n    </tr>\n    <tr>\n      <th>7</th>\n      <td>2025-04-01 00:00</td>\n      <td>SOLUSDT</td>\n      <td>175.263158</td>\n      <td>-148.825014</td>\n      <td>169.287868</td>\n      <td>351.174986</td>\n      <td>2025-04-01</td>\n      <td>351.174986</td>\n      <td>0</td>\n      <td>0</td>\n      <td>...</td>\n      <td>MW5</td>\n      <td>Tue</td>\n      <td>DQ1_Asia</td>\n      <td>Q2_90m</td>\n      <td>&lt;p90</td>\n      <td>&lt;p70</td>\n      <td>&lt;p90</td>\n      <td>tmo-two-t90mo-SOLUSDT</td>\n      <td>tmo-t90mo-tdo-tyo-two-SOLUSDT</td>\n      <td>2025-04-01</td>\n    </tr>\n    <tr>\n      <th>8</th>\n      <td>2025-03-31 00:00</td>\n      <td>ETHUSDT</td>\n      <td>315.335775</td>\n      <td>166.510761</td>\n      <td>311.222468</td>\n      <td>115.335775</td>\n      <td>2025-03-29</td>\n      <td>115.335775</td>\n      <td>1</td>\n      <td>0</td>\n      <td>...</td>\n      <td>MW5</td>\n      <td>Mon</td>\n      <td>DQ1_Asia</td>\n      <td>Q2_90m</td>\n      <td>&lt;p90</td>\n      <td>&gt;=p90</td>\n      <td>&lt;p70</td>\n      <td>tmo-ETHUSDT-t90mo</td>\n      <td>tmo-t90mo-tdo-tyo-two-ETHUSDT</td>\n      <td>2025-03-31</td>\n    </tr>\n    <tr>\n      <th>9</th>\n      <td>2025-04-04 00:00</td>\n      <td>ETHUSDT</td>\n      <td>-100.000000</td>\n      <td>66.510761</td>\n      <td>-102.323978</td>\n      <td>-100.000000</td>\n      <td>2025-04-04</td>\n      <td>-300.000000</td>\n      <td>2</td>\n      <td>4</td>\n      <td>...</td>\n      <td>MW5</td>\n      <td>Fri</td>\n      <td>DQ1_Asia</td>\n      <td>Q2_90m</td>\n      <td>&lt;p70</td>\n      <td>&lt;p90</td>\n      <td>&lt;p30</td>\n      <td>tmo-tyo-two-ETHUSDT-t90mo</td>\n      <td>tmo-tyo-two-tdo-t90mo-ETHUSDT</td>\n      <td>2025-04-04</td>\n    </tr>\n    <tr>\n      <th>10</th>\n      <td>2025-04-04 00:00</td>\n      <td>BTCUSDT</td>\n      <td>-100.000000</td>\n      <td>-33.489239</td>\n      <td>-103.680842</td>\n      <td>-200.000000</td>\n      <td>2025-04-04</td>\n      <td>-300.000000</td>\n      <td>3</td>\n      <td>4</td>\n      <td>...</td>\n      <td>MW5</td>\n      <td>Fri</td>\n      <td>DQ1_Asia</td>\n      <td>Q2_90m</td>\n      <td>&lt;p70</td>\n      <td>&gt;=p90</td>\n      <td>&lt;p70</td>\n      <td>BTCUSDT-tyo-t90mo-two-tmo</td>\n      <td>tdo-tyo-two-tmo-t90mo-BTCUSDT</td>\n      <td>2025-04-04</td>\n    </tr>\n    <tr>\n      <th>11</th>\n      <td>2025-04-04 00:00</td>\n      <td>SOLUSDT</td>\n      <td>-100.000000</td>\n      <td>-133.489239</td>\n      <td>-102.101069</td>\n      <td>-300.000000</td>\n      <td>2025-04-04</td>\n      <td>-300.000000</td>\n      <td>4</td>\n      <td>4</td>\n      <td>...</td>\n      <td>MW5</td>\n      <td>Fri</td>\n      <td>DQ1_Asia</td>\n      <td>Q2_90m</td>\n      <td>&lt;p90</td>\n      <td>&gt;=p90</td>\n      <td>&lt;p30</td>\n      <td>tmo-tyo-two-SOLUSDT-t90mo</td>\n      <td>tmo-tyo-two-tdo-t90mo-SOLUSDT</td>\n      <td>2025-04-04</td>\n    </tr>\n    <tr>\n      <th>12</th>\n      <td>2025-04-29 00:00</td>\n      <td>ETHUSDT</td>\n      <td>48.168915</td>\n      <td>-85.320324</td>\n      <td>45.309850</td>\n      <td>48.168915</td>\n      <td>2025-04-28</td>\n      <td>-24.955809</td>\n      <td>5</td>\n      <td>29</td>\n      <td>...</td>\n      <td>MW4</td>\n      <td>Tue</td>\n      <td>DQ1_Asia</td>\n      <td>Q2_90m</td>\n      <td>&lt;p70</td>\n      <td>&lt;p70</td>\n      <td>&lt;p70</td>\n      <td>tyo-ETHUSDT-t90mo-two-tmo</td>\n      <td>tyo-tdo-two-t90mo-ETHUSDT-tmo</td>\n      <td>2025-04-29</td>\n    </tr>\n    <tr>\n      <th>13</th>\n      <td>2025-04-29 00:00</td>\n      <td>SOLUSDT</td>\n      <td>-100.000000</td>\n      <td>-185.320324</td>\n      <td>-104.072152</td>\n      <td>-51.831085</td>\n      <td>2025-04-28</td>\n      <td>-24.955809</td>\n      <td>6</td>\n      <td>29</td>\n      <td>...</td>\n      <td>MW4</td>\n      <td>Tue</td>\n      <td>DQ1_Asia</td>\n      <td>Q2_90m</td>\n      <td>&lt;p90</td>\n      <td>&lt;p70</td>\n      <td>&lt;p70</td>\n      <td>SOLUSDT-two-t90mo-tmo-tyo</td>\n      <td>tdo-t90mo-two-SOLUSDT-tmo-tyo</td>\n      <td>2025-04-29</td>\n    </tr>\n    <tr>\n      <th>14</th>\n      <td>2025-05-01 00:00</td>\n      <td>SOLUSDT</td>\n      <td>16.204986</td>\n      <td>-169.115338</td>\n      <td>14.359425</td>\n      <td>16.204986</td>\n      <td>2025-05-01</td>\n      <td>136.819653</td>\n      <td>0</td>\n      <td>0</td>\n      <td>...</td>\n      <td>MW4</td>\n      <td>Thu</td>\n      <td>DQ1_Asia</td>\n      <td>Q2_90m</td>\n      <td>&lt;p10</td>\n      <td>&lt;p30</td>\n      <td>&lt;p30</td>\n      <td>t90mo-two-SOLUSDT-tmo-tyo</td>\n      <td>t90mo-two-SOLUSDT-tmo-tyo</td>\n      <td>2025-05-01</td>\n    </tr>\n    <tr>\n      <th>15</th>\n      <td>2025-05-01 00:00</td>\n      <td>ETHUSDT</td>\n      <td>37.497987</td>\n      <td>-131.617350</td>\n      <td>34.883401</td>\n      <td>53.702974</td>\n      <td>2025-05-01</td>\n      <td>136.819653</td>\n      <td>0</td>\n      <td>0</td>\n      <td>...</td>\n      <td>MW4</td>\n      <td>Thu</td>\n      <td>DQ1_Asia</td>\n      <td>Q2_90m</td>\n      <td>&lt;p30</td>\n      <td>&lt;p30</td>\n      <td>&lt;p70</td>\n      <td>tyo-t90mo-two-ETHUSDT-tmo</td>\n      <td>tyo-t90mo-two-ETHUSDT-tmo</td>\n      <td>2025-05-01</td>\n    </tr>\n    <tr>\n      <th>16</th>\n      <td>2025-05-01 00:00</td>\n      <td>BTCUSDT</td>\n      <td>83.116680</td>\n      <td>-48.500670</td>\n      <td>76.445558</td>\n      <td>136.819653</td>\n      <td>2025-05-01</td>\n      <td>136.819653</td>\n      <td>0</td>\n      <td>0</td>\n      <td>...</td>\n      <td>MW4</td>\n      <td>Thu</td>\n      <td>DQ1_Asia</td>\n      <td>Q2_90m</td>\n      <td>&lt;p70</td>\n      <td>&lt;p70</td>\n      <td>&gt;=p90</td>\n      <td>two-t90mo-BTCUSDT-tmo-tyo</td>\n      <td>t90mo-tdo-two-BTCUSDT-tmo-tyo</td>\n      <td>2025-05-01</td>\n    </tr>\n    <tr>\n      <th>17</th>\n      <td>2025-04-29 00:00</td>\n      <td>BTCUSDT</td>\n      <td>26.875275</td>\n      <td>-21.625395</td>\n      <td>23.096231</td>\n      <td>-24.955809</td>\n      <td>2025-04-28</td>\n      <td>-24.955809</td>\n      <td>1</td>\n      <td>0</td>\n      <td>...</td>\n      <td>MW4</td>\n      <td>Tue</td>\n      <td>DQ1_Asia</td>\n      <td>Q2_90m</td>\n      <td>&lt;p30</td>\n      <td>&lt;p90</td>\n      <td>&lt;p70</td>\n      <td>t90mo-BTCUSDT-two-tmo-tyo</td>\n      <td>t90mo-tdo-two-BTCUSDT-tmo-tyo</td>\n      <td>2025-04-29</td>\n    </tr>\n    <tr>\n      <th>18</th>\n      <td>2025-05-20 00:00</td>\n      <td>ETHUSDT</td>\n      <td>11.174116</td>\n      <td>-10.451279</td>\n      <td>9.904810</td>\n      <td>11.174116</td>\n      <td>2025-05-19</td>\n      <td>156.487332</td>\n      <td>0</td>\n      <td>0</td>\n      <td>...</td>\n      <td>MW3</td>\n      <td>Tue</td>\n      <td>DQ1_Asia</td>\n      <td>Q2_90m</td>\n      <td>&lt;p10</td>\n      <td>&lt;p10</td>\n      <td>&lt;p10</td>\n      <td>ETHUSDT-two-t90mo-tmo-tyo</td>\n      <td>ETHUSDT-two-t90mo-tmo-tyo</td>\n      <td>2025-05-20</td>\n    </tr>\n    <tr>\n      <th>19</th>\n      <td>2025-05-20 00:00</td>\n      <td>BTCUSDT</td>\n      <td>45.313216</td>\n      <td>34.861937</td>\n      <td>42.573561</td>\n      <td>56.487332</td>\n      <td>2025-05-19</td>\n      <td>156.487332</td>\n      <td>0</td>\n      <td>0</td>\n      <td>...</td>\n      <td>MW3</td>\n      <td>Tue</td>\n      <td>DQ1_Asia</td>\n      <td>Q2_90m</td>\n      <td>&lt;p30</td>\n      <td>&lt;p70</td>\n      <td>&lt;p70</td>\n      <td>BTCUSDT-t90mo-two-tmo-tyo</td>\n      <td>t90mo-tdo-two-tmo-BTCUSDT-tyo</td>\n      <td>2025-05-20</td>\n    </tr>\n    <tr>\n      <th>20</th>\n      <td>2025-05-20 00:00</td>\n      <td>SOLUSDT</td>\n      <td>100.000000</td>\n      <td>134.861937</td>\n      <td>97.948529</td>\n      <td>156.487332</td>\n      <td>2025-05-19</td>\n      <td>156.487332</td>\n      <td>0</td>\n      <td>0</td>\n      <td>...</td>\n      <td>MW3</td>\n      <td>Tue</td>\n      <td>DQ1_Asia</td>\n      <td>Q2_90m</td>\n      <td>&lt;p70</td>\n      <td>&lt;p90</td>\n      <td>&lt;p30</td>\n      <td>tmo-SOLUSDT-two-t90mo-tyo</td>\n      <td>tmo-tdo-two-SOLUSDT-tyo</td>\n      <td>2025-05-20</td>\n    </tr>\n    <tr>\n      <th>21</th>\n      <td>2025-06-01 00:00</td>\n      <td>SOLUSDT</td>\n      <td>-100.000000</td>\n      <td>34.861937</td>\n      <td>-103.235070</td>\n      <td>-100.000000</td>\n      <td>2025-05-31</td>\n      <td>-167.959143</td>\n      <td>1</td>\n      <td>0</td>\n      <td>...</td>\n      <td>MW4</td>\n      <td>Sun</td>\n      <td>DQ1_Asia</td>\n      <td>Q2_90m</td>\n      <td>&lt;p90</td>\n      <td>&lt;p70</td>\n      <td>&lt;p70</td>\n      <td>two-tmo-t90mo-SOLUSDT-tyo</td>\n      <td>two-tmo-t90mo-tdo-SOLUSDT-tyo</td>\n      <td>2025-06-01</td>\n    </tr>\n    <tr>\n      <th>22</th>\n      <td>2025-06-01 00:00</td>\n      <td>ETHUSDT</td>\n      <td>-100.000000</td>\n      <td>-65.138063</td>\n      <td>-104.239800</td>\n      <td>-200.000000</td>\n      <td>2025-05-31</td>\n      <td>-167.959143</td>\n      <td>2</td>\n      <td>0</td>\n      <td>...</td>\n      <td>MW4</td>\n      <td>Sun</td>\n      <td>DQ1_Asia</td>\n      <td>Q2_90m</td>\n      <td>&lt;p70</td>\n      <td>&lt;p70</td>\n      <td>&lt;p70</td>\n      <td>two-t90mo-ETHUSDT-tmo-tyo</td>\n      <td>two-tmo-tdo-t90mo-ETHUSDT-tyo</td>\n      <td>2025-06-01</td>\n    </tr>\n    <tr>\n      <th>23</th>\n      <td>2025-06-01 00:00</td>\n      <td>BTCUSDT</td>\n      <td>32.040857</td>\n      <td>-33.097206</td>\n      <td>25.806008</td>\n      <td>-167.959143</td>\n      <td>2025-05-31</td>\n      <td>-167.959143</td>\n      <td>3</td>\n      <td>0</td>\n      <td>...</td>\n      <td>MW4</td>\n      <td>Sun</td>\n      <td>DQ1_Asia</td>\n      <td>Q2_90m</td>\n      <td>&lt;p30</td>\n      <td>&lt;p70</td>\n      <td>&lt;p90</td>\n      <td>two-t90mo-BTCUSDT-tmo-tyo</td>\n      <td>two-tdo-tmo-BTCUSDT-tyo</td>\n      <td>2025-06-01</td>\n    </tr>\n    <tr>\n      <th>24</th>\n      <td>2025-06-14 00:00</td>\n      <td>SOLUSDT</td>\n      <td>55.697823</td>\n      <td>22.600617</td>\n      <td>53.961031</td>\n      <td>55.697823</td>\n      <td>2025-06-12</td>\n      <td>115.343754</td>\n      <td>0</td>\n      <td>0</td>\n      <td>...</td>\n      <td>MW2</td>\n      <td>Sat</td>\n      <td>DQ1_Asia</td>\n      <td>Q2_90m</td>\n      <td>&lt;p70</td>\n      <td>&lt;p90</td>\n      <td>&lt;p10</td>\n      <td>two-tmo-SOLUSDT-t90mo-tyo</td>\n      <td>two-tmo-tdo-t90mo-SOLUSDT-tyo</td>\n      <td>2025-06-14</td>\n    </tr>\n    <tr>\n      <th>25</th>\n      <td>2025-06-14 00:00</td>\n      <td>BTCUSDT</td>\n      <td>4.500044</td>\n      <td>27.100661</td>\n      <td>1.702350</td>\n      <td>60.197867</td>\n      <td>2025-06-12</td>\n      <td>115.343754</td>\n      <td>0</td>\n      <td>0</td>\n      <td>...</td>\n      <td>MW2</td>\n      <td>Sat</td>\n      <td>DQ1_Asia</td>\n      <td>Q2_90m</td>\n      <td>&lt;p10</td>\n      <td>&lt;p90</td>\n      <td>&lt;p70</td>\n      <td>two-tmo-BTCUSDT-t90mo-tyo</td>\n      <td>tmo-tdo-BTCUSDT-tyo</td>\n      <td>2025-06-14</td>\n    </tr>\n    <tr>\n      <th>26</th>\n      <td>2025-06-14 00:00</td>\n      <td>ETHUSDT</td>\n      <td>55.145887</td>\n      <td>82.246548</td>\n      <td>53.513003</td>\n      <td>115.343754</td>\n      <td>2025-06-12</td>\n      <td>115.343754</td>\n      <td>0</td>\n      <td>0</td>\n      <td>...</td>\n      <td>MW2</td>\n      <td>Sat</td>\n      <td>DQ1_Asia</td>\n      <td>Q2_90m</td>\n      <td>&lt;p70</td>\n      <td>&gt;=p90</td>\n      <td>&lt;p10</td>\n      <td>two-ETHUSDT-t90mo-tmo-tyo</td>\n      <td>t90mo-tdo-tmo-ETHUSDT-tyo</td>\n      <td>2025-06-14</td>\n    </tr>\n    <tr>\n      <th>27</th>\n      <td>2025-07-31 00:00</td>\n      <td>ETHUSDT</td>\n      <td>17.264008</td>\n      <td>99.510556</td>\n      <td>14.784325</td>\n      <td>17.264008</td>\n      <td>2025-07-30</td>\n      <td>127.687716</td>\n      <td>0</td>\n      <td>0</td>\n      <td>...</td>\n      <td>MW4</td>\n      <td>Thu</td>\n      <td>DQ1_Asia</td>\n      <td>Q2_90m</td>\n      <td>&lt;p30</td>\n      <td>&lt;p30</td>\n      <td>&lt;p70</td>\n      <td>ETHUSDT-two-t90mo-tmo-tyo</td>\n      <td>ETHUSDT-two-t90mo-tmo-tyo</td>\n      <td>2025-07-31</td>\n    </tr>\n    <tr>\n      <th>28</th>\n      <td>2025-07-31 00:00</td>\n      <td>BTCUSDT</td>\n      <td>47.923708</td>\n      <td>147.434264</td>\n      <td>42.784137</td>\n      <td>65.187716</td>\n      <td>2025-07-30</td>\n      <td>127.687716</td>\n      <td>0</td>\n      <td>0</td>\n      <td>...</td>\n      <td>MW4</td>\n      <td>Thu</td>\n      <td>DQ1_Asia</td>\n      <td>Q2_90m</td>\n      <td>&lt;p30</td>\n      <td>&lt;p30</td>\n      <td>&lt;p90</td>\n      <td>tmo-two-BTCUSDT-t90mo-tyo</td>\n      <td>tmo-tdo-t90mo-two-BTCUSDT-tyo</td>\n      <td>2025-07-31</td>\n    </tr>\n    <tr>\n      <th>29</th>\n      <td>2025-07-31 00:00</td>\n      <td>SOLUSDT</td>\n      <td>62.500000</td>\n      <td>209.934264</td>\n      <td>60.389687</td>\n      <td>127.687716</td>\n      <td>2025-07-30</td>\n      <td>127.687716</td>\n      <td>0</td>\n      <td>0</td>\n      <td>...</td>\n      <td>MW4</td>\n      <td>Thu</td>\n      <td>DQ1_Asia</td>\n      <td>Q2_90m</td>\n      <td>&lt;p70</td>\n      <td>&lt;p70</td>\n      <td>&lt;p30</td>\n      <td>two-SOLUSDT-t90mo-tmo-tyo</td>\n      <td>two-t90mo-tdo-SOLUSDT-tmo-tyo</td>\n      <td>2025-07-31</td>\n    </tr>\n  </tbody>\n</table>\n<p>30 rows × 37 columns</p>\n</div>"
     },
     "execution_count": 15,
     "metadata": {},
     "output_type": "execute_result"
    }
   ],
   "source": [
    "trades_df"
   ],
   "metadata": {
    "collapsed": false,
    "ExecuteTime": {
     "end_time": "2025-08-28T23:47:05.146667Z",
     "start_time": "2025-08-28T23:47:05.064260Z"
    }
   },
   "id": "7c6fc9a68cdfa4b1",
   "execution_count": 15
  }
 ],
 "metadata": {
  "kernelspec": {
   "display_name": "Python 3",
   "language": "python",
   "name": "python3"
  },
  "language_info": {
   "codemirror_mode": {
    "name": "ipython",
    "version": 2
   },
   "file_extension": ".py",
   "mimetype": "text/x-python",
   "name": "python",
   "nbconvert_exporter": "python",
   "pygments_lexer": "ipython2",
   "version": "2.7.6"
  }
 },
 "nbformat": 4,
 "nbformat_minor": 5
}
