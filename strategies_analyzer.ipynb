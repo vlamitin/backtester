{
 "cells": [
  {
   "cell_type": "code",
   "execution_count": 107,
   "id": "initial_id",
   "metadata": {
    "ExecuteTime": {
     "end_time": "2025-08-30T14:22:11.252878Z",
     "start_time": "2025-08-30T14:22:10.961254Z"
    }
   },
   "outputs": [],
   "source": [
    "from IPython.display import display, HTML\n",
    "import numpy as np\n",
    "\n",
    "from stock_market_research_kit.smt_psp_trade import smt_psp_trades_from_json\n",
    "from scripts.run_smt_strategies_analyzer import strategy23_2024_snapshot, strategy23_2025_snapshot, to_trade_df\n",
    "\n",
    "with open(strategy23_2024_snapshot, \"r\", encoding=\"utf-8\") as f_2024:\n",
    "    trades_list_2024 = smt_psp_trades_from_json(f_2024.read())\n",
    "    trades_df_2024 = to_trade_df(trades_list_2024)\n",
    "\n",
    "with open(strategy23_2025_snapshot, \"r\", encoding=\"utf-8\") as f_2025:\n",
    "    trades_list_2025 = smt_psp_trades_from_json(f_2025.read())\n",
    "    trades_df_2025 = to_trade_df(trades_list_2025)\n",
    "\n",
    "def display_side_by_side(df_rows):\n",
    "    html_str1 = \"\"\n",
    "    html_str2 = \"\"\n",
    "    for df in df_rows[0]:\n",
    "        html_str1 += df.to_html()\n",
    "    for df in df_rows[1]:\n",
    "        html_str2 += df.to_html()\n",
    "    display(HTML(f\"\"\"<div style='font-size:20px; display:flex; gap:170px'><p>2024<p/><p>2025<p/></div>\n",
    "                     <div style='font-size:20px; display:flex; gap:20px'>{html_str1}</div>\n",
    "                     <div style='font-size:20px; display:flex; gap:20px'>{html_str2}</div>\"\"\"))\n",
    "\n",
    "def group_by_display(fields):\n",
    "    display_side_by_side([\n",
    "        [\n",
    "            trades_df_2024.groupby(fields)[\"pnl_usd\"].agg([\"mean\", \"median\", \"count\"]).round({\"mean\": 3, \"median\": 3}),\n",
    "            trades_df_2025.groupby(fields)[\"pnl_usd\"].agg([\"mean\", \"median\", \"count\"]).round({\"mean\": 3, \"median\": 3}),\n",
    "        ],\n",
    "        [\n",
    "            trades_df_2024.groupby(fields)[\"won\"].agg([\"mean\", \"median\", \"count\"]).round({\"mean\": 3, \"median\": 3}),\n",
    "            trades_df_2025.groupby(fields)[\"won\"].agg([\"mean\", \"median\", \"count\"]).round({\"mean\": 3, \"median\": 3})\n",
    "        ]\n",
    "    ])"
   ]
  },
  {
   "cell_type": "code",
   "execution_count": 108,
   "id": "635b22294b2d4d73",
   "metadata": {
    "collapsed": false,
    "ExecuteTime": {
     "end_time": "2025-08-30T14:22:11.499734Z",
     "start_time": "2025-08-30T14:22:11.256093Z"
    }
   },
   "outputs": [
    {
     "name": "stdout",
     "output_type": "stream",
     "text": [
      "strategy_23: 24 trades with cum_pnl 291.68 (minus fees is 245.31) and winrate 0.708\n",
      "strategy_23: 18 trades with cum_pnl 331.08 (minus fees is 283.34) and winrate 0.833\n"
     ]
    },
    {
     "data": {
      "text/plain": "<IPython.core.display.HTML object>",
      "text/html": "<div style='font-size:20px; display:flex; gap:170px'><p>2024<p/><p>2025<p/></div>\n                     <div style='font-size:20px; display:flex; gap:20px'><table border=\"1\" class=\"dataframe\">\n  <thead>\n    <tr style=\"text-align: right;\">\n      <th></th>\n      <th>mean</th>\n      <th>median</th>\n      <th>count</th>\n    </tr>\n    <tr>\n      <th>direction</th>\n      <th></th>\n      <th></th>\n      <th></th>\n    </tr>\n  </thead>\n  <tbody>\n    <tr>\n      <th>UP</th>\n      <td>12.153</td>\n      <td>9.081</td>\n      <td>24</td>\n    </tr>\n  </tbody>\n</table><table border=\"1\" class=\"dataframe\">\n  <thead>\n    <tr style=\"text-align: right;\">\n      <th></th>\n      <th>mean</th>\n      <th>median</th>\n      <th>count</th>\n    </tr>\n    <tr>\n      <th>direction</th>\n      <th></th>\n      <th></th>\n      <th></th>\n    </tr>\n  </thead>\n  <tbody>\n    <tr>\n      <th>UP</th>\n      <td>18.393</td>\n      <td>21.955</td>\n      <td>18</td>\n    </tr>\n  </tbody>\n</table></div>\n                     <div style='font-size:20px; display:flex; gap:20px'><table border=\"1\" class=\"dataframe\">\n  <thead>\n    <tr style=\"text-align: right;\">\n      <th></th>\n      <th>mean</th>\n      <th>median</th>\n      <th>count</th>\n    </tr>\n    <tr>\n      <th>direction</th>\n      <th></th>\n      <th></th>\n      <th></th>\n    </tr>\n  </thead>\n  <tbody>\n    <tr>\n      <th>UP</th>\n      <td>0.708</td>\n      <td>1.0</td>\n      <td>24</td>\n    </tr>\n  </tbody>\n</table><table border=\"1\" class=\"dataframe\">\n  <thead>\n    <tr style=\"text-align: right;\">\n      <th></th>\n      <th>mean</th>\n      <th>median</th>\n      <th>count</th>\n    </tr>\n    <tr>\n      <th>direction</th>\n      <th></th>\n      <th></th>\n      <th></th>\n    </tr>\n  </thead>\n  <tbody>\n    <tr>\n      <th>UP</th>\n      <td>0.833</td>\n      <td>1.0</td>\n      <td>18</td>\n    </tr>\n  </tbody>\n</table></div>"
     },
     "metadata": {},
     "output_type": "display_data"
    },
    {
     "data": {
      "text/plain": "<IPython.core.display.HTML object>",
      "text/html": "<div style='font-size:20px; display:flex; gap:170px'><p>2024<p/><p>2025<p/></div>\n                     <div style='font-size:20px; display:flex; gap:20px'><table border=\"1\" class=\"dataframe\">\n  <thead>\n    <tr style=\"text-align: right;\">\n      <th></th>\n      <th>mean</th>\n      <th>median</th>\n      <th>count</th>\n    </tr>\n    <tr>\n      <th>asset</th>\n      <th></th>\n      <th></th>\n      <th></th>\n    </tr>\n  </thead>\n  <tbody>\n    <tr>\n      <th>BTCUSDT</th>\n      <td>8.677</td>\n      <td>9.265</td>\n      <td>8</td>\n    </tr>\n    <tr>\n      <th>ETHUSDT</th>\n      <td>24.828</td>\n      <td>10.381</td>\n      <td>8</td>\n    </tr>\n    <tr>\n      <th>SOLUSDT</th>\n      <td>2.955</td>\n      <td>7.567</td>\n      <td>8</td>\n    </tr>\n  </tbody>\n</table><table border=\"1\" class=\"dataframe\">\n  <thead>\n    <tr style=\"text-align: right;\">\n      <th></th>\n      <th>mean</th>\n      <th>median</th>\n      <th>count</th>\n    </tr>\n    <tr>\n      <th>asset</th>\n      <th></th>\n      <th></th>\n      <th></th>\n    </tr>\n  </thead>\n  <tbody>\n    <tr>\n      <th>BTCUSDT</th>\n      <td>13.240</td>\n      <td>19.987</td>\n      <td>6</td>\n    </tr>\n    <tr>\n      <th>ETHUSDT</th>\n      <td>7.936</td>\n      <td>22.723</td>\n      <td>6</td>\n    </tr>\n    <tr>\n      <th>SOLUSDT</th>\n      <td>34.004</td>\n      <td>31.786</td>\n      <td>6</td>\n    </tr>\n  </tbody>\n</table></div>\n                     <div style='font-size:20px; display:flex; gap:20px'><table border=\"1\" class=\"dataframe\">\n  <thead>\n    <tr style=\"text-align: right;\">\n      <th></th>\n      <th>mean</th>\n      <th>median</th>\n      <th>count</th>\n    </tr>\n    <tr>\n      <th>asset</th>\n      <th></th>\n      <th></th>\n      <th></th>\n    </tr>\n  </thead>\n  <tbody>\n    <tr>\n      <th>BTCUSDT</th>\n      <td>0.750</td>\n      <td>1.0</td>\n      <td>8</td>\n    </tr>\n    <tr>\n      <th>ETHUSDT</th>\n      <td>0.625</td>\n      <td>1.0</td>\n      <td>8</td>\n    </tr>\n    <tr>\n      <th>SOLUSDT</th>\n      <td>0.750</td>\n      <td>1.0</td>\n      <td>8</td>\n    </tr>\n  </tbody>\n</table><table border=\"1\" class=\"dataframe\">\n  <thead>\n    <tr style=\"text-align: right;\">\n      <th></th>\n      <th>mean</th>\n      <th>median</th>\n      <th>count</th>\n    </tr>\n    <tr>\n      <th>asset</th>\n      <th></th>\n      <th></th>\n      <th></th>\n    </tr>\n  </thead>\n  <tbody>\n    <tr>\n      <th>BTCUSDT</th>\n      <td>0.833</td>\n      <td>1.0</td>\n      <td>6</td>\n    </tr>\n    <tr>\n      <th>ETHUSDT</th>\n      <td>0.833</td>\n      <td>1.0</td>\n      <td>6</td>\n    </tr>\n    <tr>\n      <th>SOLUSDT</th>\n      <td>0.833</td>\n      <td>1.0</td>\n      <td>6</td>\n    </tr>\n  </tbody>\n</table></div>"
     },
     "metadata": {},
     "output_type": "display_data"
    },
    {
     "data": {
      "text/plain": "<IPython.core.display.HTML object>",
      "text/html": "<div style='font-size:20px; display:flex; gap:170px'><p>2024<p/><p>2025<p/></div>\n                     <div style='font-size:20px; display:flex; gap:20px'><table border=\"1\" class=\"dataframe\">\n  <thead>\n    <tr style=\"text-align: right;\">\n      <th></th>\n      <th>mean</th>\n      <th>median</th>\n      <th>count</th>\n    </tr>\n    <tr>\n      <th>smt_type</th>\n      <th></th>\n      <th></th>\n      <th></th>\n    </tr>\n  </thead>\n  <tbody>\n    <tr>\n      <th>half_low</th>\n      <td>30.945</td>\n      <td>27.409</td>\n      <td>3</td>\n    </tr>\n    <tr>\n      <th>low</th>\n      <td>9.469</td>\n      <td>8.492</td>\n      <td>21</td>\n    </tr>\n  </tbody>\n</table><table border=\"1\" class=\"dataframe\">\n  <thead>\n    <tr style=\"text-align: right;\">\n      <th></th>\n      <th>mean</th>\n      <th>median</th>\n      <th>count</th>\n    </tr>\n    <tr>\n      <th>smt_type</th>\n      <th></th>\n      <th></th>\n      <th></th>\n    </tr>\n  </thead>\n  <tbody>\n    <tr>\n      <th>half_low</th>\n      <td>30.822</td>\n      <td>23.842</td>\n      <td>12</td>\n    </tr>\n    <tr>\n      <th>low</th>\n      <td>-6.465</td>\n      <td>-15.028</td>\n      <td>6</td>\n    </tr>\n  </tbody>\n</table></div>\n                     <div style='font-size:20px; display:flex; gap:20px'><table border=\"1\" class=\"dataframe\">\n  <thead>\n    <tr style=\"text-align: right;\">\n      <th></th>\n      <th>mean</th>\n      <th>median</th>\n      <th>count</th>\n    </tr>\n    <tr>\n      <th>smt_type</th>\n      <th></th>\n      <th></th>\n      <th></th>\n    </tr>\n  </thead>\n  <tbody>\n    <tr>\n      <th>half_low</th>\n      <td>1.000</td>\n      <td>1.0</td>\n      <td>3</td>\n    </tr>\n    <tr>\n      <th>low</th>\n      <td>0.667</td>\n      <td>1.0</td>\n      <td>21</td>\n    </tr>\n  </tbody>\n</table><table border=\"1\" class=\"dataframe\">\n  <thead>\n    <tr style=\"text-align: right;\">\n      <th></th>\n      <th>mean</th>\n      <th>median</th>\n      <th>count</th>\n    </tr>\n    <tr>\n      <th>smt_type</th>\n      <th></th>\n      <th></th>\n      <th></th>\n    </tr>\n  </thead>\n  <tbody>\n    <tr>\n      <th>half_low</th>\n      <td>1.0</td>\n      <td>1.0</td>\n      <td>12</td>\n    </tr>\n    <tr>\n      <th>low</th>\n      <td>0.5</td>\n      <td>0.5</td>\n      <td>6</td>\n    </tr>\n  </tbody>\n</table></div>"
     },
     "metadata": {},
     "output_type": "display_data"
    },
    {
     "data": {
      "text/plain": "<IPython.core.display.HTML object>",
      "text/html": "<div style='font-size:20px; display:flex; gap:170px'><p>2024<p/><p>2025<p/></div>\n                     <div style='font-size:20px; display:flex; gap:20px'><table border=\"1\" class=\"dataframe\">\n  <thead>\n    <tr style=\"text-align: right;\">\n      <th></th>\n      <th>mean</th>\n      <th>median</th>\n      <th>count</th>\n    </tr>\n    <tr>\n      <th>smt_label</th>\n      <th></th>\n      <th></th>\n      <th></th>\n    </tr>\n  </thead>\n  <tbody>\n    <tr>\n      <th>week1 SMT</th>\n      <td>38.836</td>\n      <td>27.409</td>\n      <td>9</td>\n    </tr>\n    <tr>\n      <th>week2 SMT</th>\n      <td>-28.282</td>\n      <td>-10.647</td>\n      <td>6</td>\n    </tr>\n    <tr>\n      <th>week4 SMT</th>\n      <td>13.141</td>\n      <td>9.081</td>\n      <td>6</td>\n    </tr>\n    <tr>\n      <th>week5 SMT</th>\n      <td>11.001</td>\n      <td>12.801</td>\n      <td>3</td>\n    </tr>\n  </tbody>\n</table><table border=\"1\" class=\"dataframe\">\n  <thead>\n    <tr style=\"text-align: right;\">\n      <th></th>\n      <th>mean</th>\n      <th>median</th>\n      <th>count</th>\n    </tr>\n    <tr>\n      <th>smt_label</th>\n      <th></th>\n      <th></th>\n      <th></th>\n    </tr>\n  </thead>\n  <tbody>\n    <tr>\n      <th>week1 SMT</th>\n      <td>41.347</td>\n      <td>36.860</td>\n      <td>9</td>\n    </tr>\n    <tr>\n      <th>week3 SMT</th>\n      <td>-4.560</td>\n      <td>7.991</td>\n      <td>9</td>\n    </tr>\n  </tbody>\n</table></div>\n                     <div style='font-size:20px; display:flex; gap:20px'><table border=\"1\" class=\"dataframe\">\n  <thead>\n    <tr style=\"text-align: right;\">\n      <th></th>\n      <th>mean</th>\n      <th>median</th>\n      <th>count</th>\n    </tr>\n    <tr>\n      <th>smt_label</th>\n      <th></th>\n      <th></th>\n      <th></th>\n    </tr>\n  </thead>\n  <tbody>\n    <tr>\n      <th>week1 SMT</th>\n      <td>0.667</td>\n      <td>1.0</td>\n      <td>9</td>\n    </tr>\n    <tr>\n      <th>week2 SMT</th>\n      <td>0.500</td>\n      <td>0.5</td>\n      <td>6</td>\n    </tr>\n    <tr>\n      <th>week4 SMT</th>\n      <td>0.833</td>\n      <td>1.0</td>\n      <td>6</td>\n    </tr>\n    <tr>\n      <th>week5 SMT</th>\n      <td>1.000</td>\n      <td>1.0</td>\n      <td>3</td>\n    </tr>\n  </tbody>\n</table><table border=\"1\" class=\"dataframe\">\n  <thead>\n    <tr style=\"text-align: right;\">\n      <th></th>\n      <th>mean</th>\n      <th>median</th>\n      <th>count</th>\n    </tr>\n    <tr>\n      <th>smt_label</th>\n      <th></th>\n      <th></th>\n      <th></th>\n    </tr>\n  </thead>\n  <tbody>\n    <tr>\n      <th>week1 SMT</th>\n      <td>1.000</td>\n      <td>1.0</td>\n      <td>9</td>\n    </tr>\n    <tr>\n      <th>week3 SMT</th>\n      <td>0.667</td>\n      <td>1.0</td>\n      <td>9</td>\n    </tr>\n  </tbody>\n</table></div>"
     },
     "metadata": {},
     "output_type": "display_data"
    },
    {
     "data": {
      "text/plain": "<IPython.core.display.HTML object>",
      "text/html": "<div style='font-size:20px; display:flex; gap:170px'><p>2024<p/><p>2025<p/></div>\n                     <div style='font-size:20px; display:flex; gap:20px'><table border=\"1\" class=\"dataframe\">\n  <thead>\n    <tr style=\"text-align: right;\">\n      <th></th>\n      <th>mean</th>\n      <th>median</th>\n      <th>count</th>\n    </tr>\n    <tr>\n      <th>smt_flags</th>\n      <th></th>\n      <th></th>\n      <th></th>\n    </tr>\n  </thead>\n  <tbody>\n    <tr>\n      <th>BeS</th>\n      <td>76.033</td>\n      <td>20.945</td>\n      <td>6</td>\n    </tr>\n    <tr>\n      <th>Bes</th>\n      <td>-19.128</td>\n      <td>6.114</td>\n      <td>9</td>\n    </tr>\n    <tr>\n      <th>bEs</th>\n      <td>-63.739</td>\n      <td>-64.459</td>\n      <td>3</td>\n    </tr>\n    <tr>\n      <th>beS</th>\n      <td>33.142</td>\n      <td>21.122</td>\n      <td>6</td>\n    </tr>\n  </tbody>\n</table><table border=\"1\" class=\"dataframe\">\n  <thead>\n    <tr style=\"text-align: right;\">\n      <th></th>\n      <th>mean</th>\n      <th>median</th>\n      <th>count</th>\n    </tr>\n    <tr>\n      <th>smt_flags</th>\n      <th></th>\n      <th></th>\n      <th></th>\n    </tr>\n  </thead>\n  <tbody>\n    <tr>\n      <th>bEs</th>\n      <td>-78.759</td>\n      <td>-76.588</td>\n      <td>3</td>\n    </tr>\n    <tr>\n      <th>beS</th>\n      <td>37.824</td>\n      <td>33.407</td>\n      <td>15</td>\n    </tr>\n  </tbody>\n</table></div>\n                     <div style='font-size:20px; display:flex; gap:20px'><table border=\"1\" class=\"dataframe\">\n  <thead>\n    <tr style=\"text-align: right;\">\n      <th></th>\n      <th>mean</th>\n      <th>median</th>\n      <th>count</th>\n    </tr>\n    <tr>\n      <th>smt_flags</th>\n      <th></th>\n      <th></th>\n      <th></th>\n    </tr>\n  </thead>\n  <tbody>\n    <tr>\n      <th>BeS</th>\n      <td>0.833</td>\n      <td>1.0</td>\n      <td>6</td>\n    </tr>\n    <tr>\n      <th>Bes</th>\n      <td>0.667</td>\n      <td>1.0</td>\n      <td>9</td>\n    </tr>\n    <tr>\n      <th>bEs</th>\n      <td>0.000</td>\n      <td>0.0</td>\n      <td>3</td>\n    </tr>\n    <tr>\n      <th>beS</th>\n      <td>1.000</td>\n      <td>1.0</td>\n      <td>6</td>\n    </tr>\n  </tbody>\n</table><table border=\"1\" class=\"dataframe\">\n  <thead>\n    <tr style=\"text-align: right;\">\n      <th></th>\n      <th>mean</th>\n      <th>median</th>\n      <th>count</th>\n    </tr>\n    <tr>\n      <th>smt_flags</th>\n      <th></th>\n      <th></th>\n      <th></th>\n    </tr>\n  </thead>\n  <tbody>\n    <tr>\n      <th>bEs</th>\n      <td>0.0</td>\n      <td>0.0</td>\n      <td>3</td>\n    </tr>\n    <tr>\n      <th>beS</th>\n      <td>1.0</td>\n      <td>1.0</td>\n      <td>15</td>\n    </tr>\n  </tbody>\n</table></div>"
     },
     "metadata": {},
     "output_type": "display_data"
    },
    {
     "data": {
      "text/plain": "[0.0722, 0.0937, 0.3842, 0.9845]"
     },
     "metadata": {},
     "output_type": "display_data"
    },
    {
     "data": {
      "text/plain": "[0.0964, 0.1226, 0.3909, 0.6906]"
     },
     "metadata": {},
     "output_type": "display_data"
    },
    {
     "data": {
      "text/plain": "<IPython.core.display.HTML object>",
      "text/html": "<div style='font-size:20px; display:flex; gap:170px'><p>2024<p/><p>2025<p/></div>\n                     <div style='font-size:20px; display:flex; gap:20px'><table border=\"1\" class=\"dataframe\">\n  <thead>\n    <tr style=\"text-align: right;\">\n      <th></th>\n      <th>mean</th>\n      <th>median</th>\n      <th>count</th>\n    </tr>\n    <tr>\n      <th>entry_rr_perc</th>\n      <th></th>\n      <th></th>\n      <th></th>\n    </tr>\n  </thead>\n  <tbody>\n    <tr>\n      <th>&lt;p10</th>\n      <td>6.083</td>\n      <td>6.114</td>\n      <td>3</td>\n    </tr>\n    <tr>\n      <th>&lt;p30</th>\n      <td>-4.670</td>\n      <td>8.756</td>\n      <td>4</td>\n    </tr>\n    <tr>\n      <th>&lt;p70</th>\n      <td>-2.922</td>\n      <td>12.877</td>\n      <td>10</td>\n    </tr>\n    <tr>\n      <th>&lt;p90</th>\n      <td>-7.324</td>\n      <td>-5.992</td>\n      <td>4</td>\n    </tr>\n    <tr>\n      <th>&gt;=p90</th>\n      <td>116.874</td>\n      <td>105.210</td>\n      <td>3</td>\n    </tr>\n  </tbody>\n</table><table border=\"1\" class=\"dataframe\">\n  <thead>\n    <tr style=\"text-align: right;\">\n      <th></th>\n      <th>mean</th>\n      <th>median</th>\n      <th>count</th>\n    </tr>\n    <tr>\n      <th>entry_rr_perc</th>\n      <th></th>\n      <th></th>\n      <th></th>\n    </tr>\n  </thead>\n  <tbody>\n    <tr>\n      <th>&lt;p10</th>\n      <td>4.759</td>\n      <td>4.759</td>\n      <td>2</td>\n    </tr>\n    <tr>\n      <th>&lt;p30</th>\n      <td>-10.915</td>\n      <td>10.443</td>\n      <td>4</td>\n    </tr>\n    <tr>\n      <th>&lt;p70</th>\n      <td>-7.585</td>\n      <td>21.955</td>\n      <td>6</td>\n    </tr>\n    <tr>\n      <th>&lt;p90</th>\n      <td>48.806</td>\n      <td>50.558</td>\n      <td>4</td>\n    </tr>\n    <tr>\n      <th>&gt;=p90</th>\n      <td>107.757</td>\n      <td>107.757</td>\n      <td>2</td>\n    </tr>\n  </tbody>\n</table></div>\n                     <div style='font-size:20px; display:flex; gap:20px'><table border=\"1\" class=\"dataframe\">\n  <thead>\n    <tr style=\"text-align: right;\">\n      <th></th>\n      <th>mean</th>\n      <th>median</th>\n      <th>count</th>\n    </tr>\n    <tr>\n      <th>entry_rr_perc</th>\n      <th></th>\n      <th></th>\n      <th></th>\n    </tr>\n  </thead>\n  <tbody>\n    <tr>\n      <th>&lt;p10</th>\n      <td>1.000</td>\n      <td>1.0</td>\n      <td>3</td>\n    </tr>\n    <tr>\n      <th>&lt;p30</th>\n      <td>0.750</td>\n      <td>1.0</td>\n      <td>4</td>\n    </tr>\n    <tr>\n      <th>&lt;p70</th>\n      <td>0.700</td>\n      <td>1.0</td>\n      <td>10</td>\n    </tr>\n    <tr>\n      <th>&lt;p90</th>\n      <td>0.500</td>\n      <td>0.5</td>\n      <td>4</td>\n    </tr>\n    <tr>\n      <th>&gt;=p90</th>\n      <td>0.667</td>\n      <td>1.0</td>\n      <td>3</td>\n    </tr>\n  </tbody>\n</table><table border=\"1\" class=\"dataframe\">\n  <thead>\n    <tr style=\"text-align: right;\">\n      <th></th>\n      <th>mean</th>\n      <th>median</th>\n      <th>count</th>\n    </tr>\n    <tr>\n      <th>entry_rr_perc</th>\n      <th></th>\n      <th></th>\n      <th></th>\n    </tr>\n  </thead>\n  <tbody>\n    <tr>\n      <th>&lt;p10</th>\n      <td>1.000</td>\n      <td>1.0</td>\n      <td>2</td>\n    </tr>\n    <tr>\n      <th>&lt;p30</th>\n      <td>0.750</td>\n      <td>1.0</td>\n      <td>4</td>\n    </tr>\n    <tr>\n      <th>&lt;p70</th>\n      <td>0.667</td>\n      <td>1.0</td>\n      <td>6</td>\n    </tr>\n    <tr>\n      <th>&lt;p90</th>\n      <td>1.000</td>\n      <td>1.0</td>\n      <td>4</td>\n    </tr>\n    <tr>\n      <th>&gt;=p90</th>\n      <td>1.000</td>\n      <td>1.0</td>\n      <td>2</td>\n    </tr>\n  </tbody>\n</table></div>"
     },
     "metadata": {},
     "output_type": "display_data"
    },
    {
     "data": {
      "text/plain": "<IPython.core.display.HTML object>",
      "text/html": "<div style='font-size:20px; display:flex; gap:170px'><p>2024<p/><p>2025<p/></div>\n                     <div style='font-size:20px; display:flex; gap:20px'><table border=\"1\" class=\"dataframe\">\n  <thead>\n    <tr style=\"text-align: right;\">\n      <th></th>\n      <th></th>\n      <th>mean</th>\n      <th>median</th>\n      <th>count</th>\n    </tr>\n    <tr>\n      <th>psp_key</th>\n      <th>direction</th>\n      <th></th>\n      <th></th>\n      <th></th>\n    </tr>\n  </thead>\n  <tbody>\n    <tr>\n      <th>1d</th>\n      <th>UP</th>\n      <td>12.153</td>\n      <td>9.081</td>\n      <td>24</td>\n    </tr>\n  </tbody>\n</table><table border=\"1\" class=\"dataframe\">\n  <thead>\n    <tr style=\"text-align: right;\">\n      <th></th>\n      <th></th>\n      <th>mean</th>\n      <th>median</th>\n      <th>count</th>\n    </tr>\n    <tr>\n      <th>psp_key</th>\n      <th>direction</th>\n      <th></th>\n      <th></th>\n      <th></th>\n    </tr>\n  </thead>\n  <tbody>\n    <tr>\n      <th>1d</th>\n      <th>UP</th>\n      <td>18.393</td>\n      <td>21.955</td>\n      <td>18</td>\n    </tr>\n  </tbody>\n</table></div>\n                     <div style='font-size:20px; display:flex; gap:20px'><table border=\"1\" class=\"dataframe\">\n  <thead>\n    <tr style=\"text-align: right;\">\n      <th></th>\n      <th></th>\n      <th>mean</th>\n      <th>median</th>\n      <th>count</th>\n    </tr>\n    <tr>\n      <th>psp_key</th>\n      <th>direction</th>\n      <th></th>\n      <th></th>\n      <th></th>\n    </tr>\n  </thead>\n  <tbody>\n    <tr>\n      <th>1d</th>\n      <th>UP</th>\n      <td>0.708</td>\n      <td>1.0</td>\n      <td>24</td>\n    </tr>\n  </tbody>\n</table><table border=\"1\" class=\"dataframe\">\n  <thead>\n    <tr style=\"text-align: right;\">\n      <th></th>\n      <th></th>\n      <th>mean</th>\n      <th>median</th>\n      <th>count</th>\n    </tr>\n    <tr>\n      <th>psp_key</th>\n      <th>direction</th>\n      <th></th>\n      <th></th>\n      <th></th>\n    </tr>\n  </thead>\n  <tbody>\n    <tr>\n      <th>1d</th>\n      <th>UP</th>\n      <td>0.833</td>\n      <td>1.0</td>\n      <td>18</td>\n    </tr>\n  </tbody>\n</table></div>"
     },
     "metadata": {},
     "output_type": "display_data"
    }
   ],
   "source": [
    "print(f\"{f_2024.name[23:34]}: {len(trades_df_2024)} trades with cum_pnl {round(trades_df_2024['cum_pnl_usd'].iloc[-1], 2)} (minus fees is {round(trades_df_2024['cum_pnl_minus_fees'].iloc[-1], 2)}) and winrate {round(len(trades_df_2024.query('won')) / len(trades_df_2024), 3)}\")\n",
    "print(f\"{f_2025.name[23:34]}: {len(trades_df_2025)} trades with cum_pnl {round(trades_df_2025['cum_pnl_usd'].iloc[-1], 2)} (minus fees is {round(trades_df_2025['cum_pnl_minus_fees'].iloc[-1], 2)}) and winrate {round(len(trades_df_2025.query('won')) / len(trades_df_2025), 3)}\")\n",
    "\n",
    "group_by_display([\"direction\"])\n",
    "group_by_display([\"asset\"])\n",
    "group_by_display([\"smt_type\"])\n",
    "group_by_display([\"smt_label\"])\n",
    "group_by_display([\"smt_flags\"])\n",
    "\n",
    "display([round(float(x), 4) for x in np.percentile(trades_df_2024['entry_rr'], [10, 30, 70, 90])])\n",
    "display([round(float(x), 4) for x in np.percentile(trades_df_2025['entry_rr'], [10, 30, 70, 90])])\n",
    "\n",
    "group_by_display([\"entry_rr_perc\"])\n",
    "group_by_display([\"psp_key\", \"direction\"])\n"
   ]
  },
  {
   "cell_type": "code",
   "execution_count": 109,
   "id": "b5617f2e69a35666",
   "metadata": {
    "collapsed": false,
    "ExecuteTime": {
     "end_time": "2025-08-30T14:22:11.738586Z",
     "start_time": "2025-08-30T14:22:11.503468Z"
    }
   },
   "outputs": [
    {
     "data": {
      "text/plain": "<IPython.core.display.HTML object>",
      "text/html": "<div style='font-size:20px; display:flex; gap:170px'><p>2024<p/><p>2025<p/></div>\n                     <div style='font-size:20px; display:flex; gap:20px'><table border=\"1\" class=\"dataframe\">\n  <thead>\n    <tr style=\"text-align: right;\">\n      <th></th>\n      <th></th>\n      <th></th>\n      <th>mean</th>\n      <th>median</th>\n      <th>count</th>\n    </tr>\n    <tr>\n      <th>psp_key</th>\n      <th>direction</th>\n      <th>entry_yq</th>\n      <th></th>\n      <th></th>\n      <th></th>\n    </tr>\n  </thead>\n  <tbody>\n    <tr>\n      <th rowspan=\"4\" valign=\"top\">1d</th>\n      <th rowspan=\"4\" valign=\"top\">UP</th>\n      <th>YQ1</th>\n      <td>42.781</td>\n      <td>-14.532</td>\n      <td>6</td>\n    </tr>\n    <tr>\n      <th>YQ2</th>\n      <td>7.174</td>\n      <td>6.672</td>\n      <td>3</td>\n    </tr>\n    <tr>\n      <th>YQ3</th>\n      <td>-16.397</td>\n      <td>-6.902</td>\n      <td>6</td>\n    </tr>\n    <tr>\n      <th>YQ4</th>\n      <td>12.427</td>\n      <td>9.143</td>\n      <td>9</td>\n    </tr>\n  </tbody>\n</table><table border=\"1\" class=\"dataframe\">\n  <thead>\n    <tr style=\"text-align: right;\">\n      <th></th>\n      <th></th>\n      <th></th>\n      <th>mean</th>\n      <th>median</th>\n      <th>count</th>\n    </tr>\n    <tr>\n      <th>psp_key</th>\n      <th>direction</th>\n      <th>entry_yq</th>\n      <th></th>\n      <th></th>\n      <th></th>\n    </tr>\n  </thead>\n  <tbody>\n    <tr>\n      <th rowspan=\"2\" valign=\"top\">1d</th>\n      <th rowspan=\"2\" valign=\"top\">UP</th>\n      <th>YQ2</th>\n      <td>16.863</td>\n      <td>29.633</td>\n      <td>15</td>\n    </tr>\n    <tr>\n      <th>YQ3</th>\n      <td>26.045</td>\n      <td>14.277</td>\n      <td>3</td>\n    </tr>\n  </tbody>\n</table></div>\n                     <div style='font-size:20px; display:flex; gap:20px'><table border=\"1\" class=\"dataframe\">\n  <thead>\n    <tr style=\"text-align: right;\">\n      <th></th>\n      <th></th>\n      <th></th>\n      <th>mean</th>\n      <th>median</th>\n      <th>count</th>\n    </tr>\n    <tr>\n      <th>psp_key</th>\n      <th>direction</th>\n      <th>entry_yq</th>\n      <th></th>\n      <th></th>\n      <th></th>\n    </tr>\n  </thead>\n  <tbody>\n    <tr>\n      <th rowspan=\"4\" valign=\"top\">1d</th>\n      <th rowspan=\"4\" valign=\"top\">UP</th>\n      <th>YQ1</th>\n      <td>0.500</td>\n      <td>0.5</td>\n      <td>6</td>\n    </tr>\n    <tr>\n      <th>YQ2</th>\n      <td>1.000</td>\n      <td>1.0</td>\n      <td>3</td>\n    </tr>\n    <tr>\n      <th>YQ3</th>\n      <td>0.500</td>\n      <td>0.5</td>\n      <td>6</td>\n    </tr>\n    <tr>\n      <th>YQ4</th>\n      <td>0.889</td>\n      <td>1.0</td>\n      <td>9</td>\n    </tr>\n  </tbody>\n</table><table border=\"1\" class=\"dataframe\">\n  <thead>\n    <tr style=\"text-align: right;\">\n      <th></th>\n      <th></th>\n      <th></th>\n      <th>mean</th>\n      <th>median</th>\n      <th>count</th>\n    </tr>\n    <tr>\n      <th>psp_key</th>\n      <th>direction</th>\n      <th>entry_yq</th>\n      <th></th>\n      <th></th>\n      <th></th>\n    </tr>\n  </thead>\n  <tbody>\n    <tr>\n      <th rowspan=\"2\" valign=\"top\">1d</th>\n      <th rowspan=\"2\" valign=\"top\">UP</th>\n      <th>YQ2</th>\n      <td>0.8</td>\n      <td>1.0</td>\n      <td>15</td>\n    </tr>\n    <tr>\n      <th>YQ3</th>\n      <td>1.0</td>\n      <td>1.0</td>\n      <td>3</td>\n    </tr>\n  </tbody>\n</table></div>"
     },
     "metadata": {},
     "output_type": "display_data"
    },
    {
     "data": {
      "text/plain": "<IPython.core.display.HTML object>",
      "text/html": "<div style='font-size:20px; display:flex; gap:170px'><p>2024<p/><p>2025<p/></div>\n                     <div style='font-size:20px; display:flex; gap:20px'><table border=\"1\" class=\"dataframe\">\n  <thead>\n    <tr style=\"text-align: right;\">\n      <th></th>\n      <th></th>\n      <th></th>\n      <th>mean</th>\n      <th>median</th>\n      <th>count</th>\n    </tr>\n    <tr>\n      <th>psp_key</th>\n      <th>direction</th>\n      <th>entry_mw</th>\n      <th></th>\n      <th></th>\n      <th></th>\n    </tr>\n  </thead>\n  <tbody>\n    <tr>\n      <th rowspan=\"4\" valign=\"top\">1d</th>\n      <th rowspan=\"4\" valign=\"top\">UP</th>\n      <th>MW1</th>\n      <td>12.427</td>\n      <td>9.143</td>\n      <td>9</td>\n    </tr>\n    <tr>\n      <th>MW2</th>\n      <td>30.945</td>\n      <td>27.409</td>\n      <td>3</td>\n    </tr>\n    <tr>\n      <th>MW3</th>\n      <td>-44.042</td>\n      <td>-61.812</td>\n      <td>9</td>\n    </tr>\n    <tr>\n      <th>MW4</th>\n      <td>161.123</td>\n      <td>105.210</td>\n      <td>3</td>\n    </tr>\n  </tbody>\n</table><table border=\"1\" class=\"dataframe\">\n  <thead>\n    <tr style=\"text-align: right;\">\n      <th></th>\n      <th></th>\n      <th></th>\n      <th>mean</th>\n      <th>median</th>\n      <th>count</th>\n    </tr>\n    <tr>\n      <th>psp_key</th>\n      <th>direction</th>\n      <th>entry_mw</th>\n      <th></th>\n      <th></th>\n      <th></th>\n    </tr>\n  </thead>\n  <tbody>\n    <tr>\n      <th rowspan=\"4\" valign=\"top\">1d</th>\n      <th rowspan=\"4\" valign=\"top\">UP</th>\n      <th>MW2</th>\n      <td>45.938</td>\n      <td>40.726</td>\n      <td>6</td>\n    </tr>\n    <tr>\n      <th>MW3</th>\n      <td>32.166</td>\n      <td>36.860</td>\n      <td>3</td>\n    </tr>\n    <tr>\n      <th>MW4</th>\n      <td>32.539</td>\n      <td>21.976</td>\n      <td>6</td>\n    </tr>\n    <tr>\n      <th>MW5</th>\n      <td>-78.759</td>\n      <td>-76.588</td>\n      <td>3</td>\n    </tr>\n  </tbody>\n</table></div>\n                     <div style='font-size:20px; display:flex; gap:20px'><table border=\"1\" class=\"dataframe\">\n  <thead>\n    <tr style=\"text-align: right;\">\n      <th></th>\n      <th></th>\n      <th></th>\n      <th>mean</th>\n      <th>median</th>\n      <th>count</th>\n    </tr>\n    <tr>\n      <th>psp_key</th>\n      <th>direction</th>\n      <th>entry_mw</th>\n      <th></th>\n      <th></th>\n      <th></th>\n    </tr>\n  </thead>\n  <tbody>\n    <tr>\n      <th rowspan=\"4\" valign=\"top\">1d</th>\n      <th rowspan=\"4\" valign=\"top\">UP</th>\n      <th>MW1</th>\n      <td>0.889</td>\n      <td>1.0</td>\n      <td>9</td>\n    </tr>\n    <tr>\n      <th>MW2</th>\n      <td>1.000</td>\n      <td>1.0</td>\n      <td>3</td>\n    </tr>\n    <tr>\n      <th>MW3</th>\n      <td>0.333</td>\n      <td>0.0</td>\n      <td>9</td>\n    </tr>\n    <tr>\n      <th>MW4</th>\n      <td>1.000</td>\n      <td>1.0</td>\n      <td>3</td>\n    </tr>\n  </tbody>\n</table><table border=\"1\" class=\"dataframe\">\n  <thead>\n    <tr style=\"text-align: right;\">\n      <th></th>\n      <th></th>\n      <th></th>\n      <th>mean</th>\n      <th>median</th>\n      <th>count</th>\n    </tr>\n    <tr>\n      <th>psp_key</th>\n      <th>direction</th>\n      <th>entry_mw</th>\n      <th></th>\n      <th></th>\n      <th></th>\n    </tr>\n  </thead>\n  <tbody>\n    <tr>\n      <th rowspan=\"4\" valign=\"top\">1d</th>\n      <th rowspan=\"4\" valign=\"top\">UP</th>\n      <th>MW2</th>\n      <td>1.0</td>\n      <td>1.0</td>\n      <td>6</td>\n    </tr>\n    <tr>\n      <th>MW3</th>\n      <td>1.0</td>\n      <td>1.0</td>\n      <td>3</td>\n    </tr>\n    <tr>\n      <th>MW4</th>\n      <td>1.0</td>\n      <td>1.0</td>\n      <td>6</td>\n    </tr>\n    <tr>\n      <th>MW5</th>\n      <td>0.0</td>\n      <td>0.0</td>\n      <td>3</td>\n    </tr>\n  </tbody>\n</table></div>"
     },
     "metadata": {},
     "output_type": "display_data"
    },
    {
     "data": {
      "text/plain": "<IPython.core.display.HTML object>",
      "text/html": "<div style='font-size:20px; display:flex; gap:170px'><p>2024<p/><p>2025<p/></div>\n                     <div style='font-size:20px; display:flex; gap:20px'><table border=\"1\" class=\"dataframe\">\n  <thead>\n    <tr style=\"text-align: right;\">\n      <th></th>\n      <th></th>\n      <th></th>\n      <th>mean</th>\n      <th>median</th>\n      <th>count</th>\n    </tr>\n    <tr>\n      <th>psp_key</th>\n      <th>direction</th>\n      <th>entry_wd</th>\n      <th></th>\n      <th></th>\n      <th></th>\n    </tr>\n  </thead>\n  <tbody>\n    <tr>\n      <th rowspan=\"4\" valign=\"top\">1d</th>\n      <th rowspan=\"4\" valign=\"top\">UP</th>\n      <th>Sat</th>\n      <td>0.972</td>\n      <td>9.081</td>\n      <td>6</td>\n    </tr>\n    <tr>\n      <th>Sun</th>\n      <td>-12.480</td>\n      <td>6.672</td>\n      <td>9</td>\n    </tr>\n    <tr>\n      <th>Thu</th>\n      <td>98.230</td>\n      <td>57.718</td>\n      <td>6</td>\n    </tr>\n    <tr>\n      <th>Wed</th>\n      <td>-63.739</td>\n      <td>-64.459</td>\n      <td>3</td>\n    </tr>\n  </tbody>\n</table><table border=\"1\" class=\"dataframe\">\n  <thead>\n    <tr style=\"text-align: right;\">\n      <th></th>\n      <th></th>\n      <th></th>\n      <th>mean</th>\n      <th>median</th>\n      <th>count</th>\n    </tr>\n    <tr>\n      <th>psp_key</th>\n      <th>direction</th>\n      <th>entry_wd</th>\n      <th></th>\n      <th></th>\n      <th></th>\n    </tr>\n  </thead>\n  <tbody>\n    <tr>\n      <th rowspan=\"5\" valign=\"top\">1d</th>\n      <th rowspan=\"5\" valign=\"top\">UP</th>\n      <th>Fri</th>\n      <td>6.688</td>\n      <td>7.991</td>\n      <td>3</td>\n    </tr>\n    <tr>\n      <th>Sat</th>\n      <td>-78.759</td>\n      <td>-76.588</td>\n      <td>3</td>\n    </tr>\n    <tr>\n      <th>Sun</th>\n      <td>65.830</td>\n      <td>54.767</td>\n      <td>3</td>\n    </tr>\n    <tr>\n      <th>Thu</th>\n      <td>26.045</td>\n      <td>14.277</td>\n      <td>3</td>\n    </tr>\n    <tr>\n      <th>Wed</th>\n      <td>45.278</td>\n      <td>38.100</td>\n      <td>6</td>\n    </tr>\n  </tbody>\n</table></div>\n                     <div style='font-size:20px; display:flex; gap:20px'><table border=\"1\" class=\"dataframe\">\n  <thead>\n    <tr style=\"text-align: right;\">\n      <th></th>\n      <th></th>\n      <th></th>\n      <th>mean</th>\n      <th>median</th>\n      <th>count</th>\n    </tr>\n    <tr>\n      <th>psp_key</th>\n      <th>direction</th>\n      <th>entry_wd</th>\n      <th></th>\n      <th></th>\n      <th></th>\n    </tr>\n  </thead>\n  <tbody>\n    <tr>\n      <th rowspan=\"4\" valign=\"top\">1d</th>\n      <th rowspan=\"4\" valign=\"top\">UP</th>\n      <th>Sat</th>\n      <td>0.833</td>\n      <td>1.0</td>\n      <td>6</td>\n    </tr>\n    <tr>\n      <th>Sun</th>\n      <td>0.667</td>\n      <td>1.0</td>\n      <td>9</td>\n    </tr>\n    <tr>\n      <th>Thu</th>\n      <td>1.000</td>\n      <td>1.0</td>\n      <td>6</td>\n    </tr>\n    <tr>\n      <th>Wed</th>\n      <td>0.000</td>\n      <td>0.0</td>\n      <td>3</td>\n    </tr>\n  </tbody>\n</table><table border=\"1\" class=\"dataframe\">\n  <thead>\n    <tr style=\"text-align: right;\">\n      <th></th>\n      <th></th>\n      <th></th>\n      <th>mean</th>\n      <th>median</th>\n      <th>count</th>\n    </tr>\n    <tr>\n      <th>psp_key</th>\n      <th>direction</th>\n      <th>entry_wd</th>\n      <th></th>\n      <th></th>\n      <th></th>\n    </tr>\n  </thead>\n  <tbody>\n    <tr>\n      <th rowspan=\"5\" valign=\"top\">1d</th>\n      <th rowspan=\"5\" valign=\"top\">UP</th>\n      <th>Fri</th>\n      <td>1.0</td>\n      <td>1.0</td>\n      <td>3</td>\n    </tr>\n    <tr>\n      <th>Sat</th>\n      <td>0.0</td>\n      <td>0.0</td>\n      <td>3</td>\n    </tr>\n    <tr>\n      <th>Sun</th>\n      <td>1.0</td>\n      <td>1.0</td>\n      <td>3</td>\n    </tr>\n    <tr>\n      <th>Thu</th>\n      <td>1.0</td>\n      <td>1.0</td>\n      <td>3</td>\n    </tr>\n    <tr>\n      <th>Wed</th>\n      <td>1.0</td>\n      <td>1.0</td>\n      <td>6</td>\n    </tr>\n  </tbody>\n</table></div>"
     },
     "metadata": {},
     "output_type": "display_data"
    },
    {
     "data": {
      "text/plain": "<IPython.core.display.HTML object>",
      "text/html": "<div style='font-size:20px; display:flex; gap:170px'><p>2024<p/><p>2025<p/></div>\n                     <div style='font-size:20px; display:flex; gap:20px'><table border=\"1\" class=\"dataframe\">\n  <thead>\n    <tr style=\"text-align: right;\">\n      <th></th>\n      <th></th>\n      <th></th>\n      <th>mean</th>\n      <th>median</th>\n      <th>count</th>\n    </tr>\n    <tr>\n      <th>psp_key</th>\n      <th>direction</th>\n      <th>entry_wd</th>\n      <th></th>\n      <th></th>\n      <th></th>\n    </tr>\n  </thead>\n  <tbody>\n    <tr>\n      <th rowspan=\"4\" valign=\"top\">1d</th>\n      <th rowspan=\"4\" valign=\"top\">UP</th>\n      <th>Sat</th>\n      <td>0.972</td>\n      <td>9.081</td>\n      <td>6</td>\n    </tr>\n    <tr>\n      <th>Sun</th>\n      <td>-12.480</td>\n      <td>6.672</td>\n      <td>9</td>\n    </tr>\n    <tr>\n      <th>Thu</th>\n      <td>98.230</td>\n      <td>57.718</td>\n      <td>6</td>\n    </tr>\n    <tr>\n      <th>Wed</th>\n      <td>-63.739</td>\n      <td>-64.459</td>\n      <td>3</td>\n    </tr>\n  </tbody>\n</table><table border=\"1\" class=\"dataframe\">\n  <thead>\n    <tr style=\"text-align: right;\">\n      <th></th>\n      <th></th>\n      <th></th>\n      <th>mean</th>\n      <th>median</th>\n      <th>count</th>\n    </tr>\n    <tr>\n      <th>psp_key</th>\n      <th>direction</th>\n      <th>entry_wd</th>\n      <th></th>\n      <th></th>\n      <th></th>\n    </tr>\n  </thead>\n  <tbody>\n    <tr>\n      <th rowspan=\"5\" valign=\"top\">1d</th>\n      <th rowspan=\"5\" valign=\"top\">UP</th>\n      <th>Fri</th>\n      <td>6.688</td>\n      <td>7.991</td>\n      <td>3</td>\n    </tr>\n    <tr>\n      <th>Sat</th>\n      <td>-78.759</td>\n      <td>-76.588</td>\n      <td>3</td>\n    </tr>\n    <tr>\n      <th>Sun</th>\n      <td>65.830</td>\n      <td>54.767</td>\n      <td>3</td>\n    </tr>\n    <tr>\n      <th>Thu</th>\n      <td>26.045</td>\n      <td>14.277</td>\n      <td>3</td>\n    </tr>\n    <tr>\n      <th>Wed</th>\n      <td>45.278</td>\n      <td>38.100</td>\n      <td>6</td>\n    </tr>\n  </tbody>\n</table></div>\n                     <div style='font-size:20px; display:flex; gap:20px'><table border=\"1\" class=\"dataframe\">\n  <thead>\n    <tr style=\"text-align: right;\">\n      <th></th>\n      <th></th>\n      <th></th>\n      <th>mean</th>\n      <th>median</th>\n      <th>count</th>\n    </tr>\n    <tr>\n      <th>psp_key</th>\n      <th>direction</th>\n      <th>entry_wd</th>\n      <th></th>\n      <th></th>\n      <th></th>\n    </tr>\n  </thead>\n  <tbody>\n    <tr>\n      <th rowspan=\"4\" valign=\"top\">1d</th>\n      <th rowspan=\"4\" valign=\"top\">UP</th>\n      <th>Sat</th>\n      <td>0.833</td>\n      <td>1.0</td>\n      <td>6</td>\n    </tr>\n    <tr>\n      <th>Sun</th>\n      <td>0.667</td>\n      <td>1.0</td>\n      <td>9</td>\n    </tr>\n    <tr>\n      <th>Thu</th>\n      <td>1.000</td>\n      <td>1.0</td>\n      <td>6</td>\n    </tr>\n    <tr>\n      <th>Wed</th>\n      <td>0.000</td>\n      <td>0.0</td>\n      <td>3</td>\n    </tr>\n  </tbody>\n</table><table border=\"1\" class=\"dataframe\">\n  <thead>\n    <tr style=\"text-align: right;\">\n      <th></th>\n      <th></th>\n      <th></th>\n      <th>mean</th>\n      <th>median</th>\n      <th>count</th>\n    </tr>\n    <tr>\n      <th>psp_key</th>\n      <th>direction</th>\n      <th>entry_wd</th>\n      <th></th>\n      <th></th>\n      <th></th>\n    </tr>\n  </thead>\n  <tbody>\n    <tr>\n      <th rowspan=\"5\" valign=\"top\">1d</th>\n      <th rowspan=\"5\" valign=\"top\">UP</th>\n      <th>Fri</th>\n      <td>1.0</td>\n      <td>1.0</td>\n      <td>3</td>\n    </tr>\n    <tr>\n      <th>Sat</th>\n      <td>0.0</td>\n      <td>0.0</td>\n      <td>3</td>\n    </tr>\n    <tr>\n      <th>Sun</th>\n      <td>1.0</td>\n      <td>1.0</td>\n      <td>3</td>\n    </tr>\n    <tr>\n      <th>Thu</th>\n      <td>1.0</td>\n      <td>1.0</td>\n      <td>3</td>\n    </tr>\n    <tr>\n      <th>Wed</th>\n      <td>1.0</td>\n      <td>1.0</td>\n      <td>6</td>\n    </tr>\n  </tbody>\n</table></div>"
     },
     "metadata": {},
     "output_type": "display_data"
    },
    {
     "data": {
      "text/plain": "<IPython.core.display.HTML object>",
      "text/html": "<div style='font-size:20px; display:flex; gap:170px'><p>2024<p/><p>2025<p/></div>\n                     <div style='font-size:20px; display:flex; gap:20px'><table border=\"1\" class=\"dataframe\">\n  <thead>\n    <tr style=\"text-align: right;\">\n      <th></th>\n      <th></th>\n      <th></th>\n      <th>mean</th>\n      <th>median</th>\n      <th>count</th>\n    </tr>\n    <tr>\n      <th>psp_key</th>\n      <th>direction</th>\n      <th>entry_dq</th>\n      <th></th>\n      <th></th>\n      <th></th>\n    </tr>\n  </thead>\n  <tbody>\n    <tr>\n      <th>1d</th>\n      <th>UP</th>\n      <th>DQ1_Asia</th>\n      <td>12.153</td>\n      <td>9.081</td>\n      <td>24</td>\n    </tr>\n  </tbody>\n</table><table border=\"1\" class=\"dataframe\">\n  <thead>\n    <tr style=\"text-align: right;\">\n      <th></th>\n      <th></th>\n      <th></th>\n      <th>mean</th>\n      <th>median</th>\n      <th>count</th>\n    </tr>\n    <tr>\n      <th>psp_key</th>\n      <th>direction</th>\n      <th>entry_dq</th>\n      <th></th>\n      <th></th>\n      <th></th>\n    </tr>\n  </thead>\n  <tbody>\n    <tr>\n      <th>1d</th>\n      <th>UP</th>\n      <th>DQ1_Asia</th>\n      <td>18.393</td>\n      <td>21.955</td>\n      <td>18</td>\n    </tr>\n  </tbody>\n</table></div>\n                     <div style='font-size:20px; display:flex; gap:20px'><table border=\"1\" class=\"dataframe\">\n  <thead>\n    <tr style=\"text-align: right;\">\n      <th></th>\n      <th></th>\n      <th></th>\n      <th>mean</th>\n      <th>median</th>\n      <th>count</th>\n    </tr>\n    <tr>\n      <th>psp_key</th>\n      <th>direction</th>\n      <th>entry_dq</th>\n      <th></th>\n      <th></th>\n      <th></th>\n    </tr>\n  </thead>\n  <tbody>\n    <tr>\n      <th>1d</th>\n      <th>UP</th>\n      <th>DQ1_Asia</th>\n      <td>0.708</td>\n      <td>1.0</td>\n      <td>24</td>\n    </tr>\n  </tbody>\n</table><table border=\"1\" class=\"dataframe\">\n  <thead>\n    <tr style=\"text-align: right;\">\n      <th></th>\n      <th></th>\n      <th></th>\n      <th>mean</th>\n      <th>median</th>\n      <th>count</th>\n    </tr>\n    <tr>\n      <th>psp_key</th>\n      <th>direction</th>\n      <th>entry_dq</th>\n      <th></th>\n      <th></th>\n      <th></th>\n    </tr>\n  </thead>\n  <tbody>\n    <tr>\n      <th>1d</th>\n      <th>UP</th>\n      <th>DQ1_Asia</th>\n      <td>0.833</td>\n      <td>1.0</td>\n      <td>18</td>\n    </tr>\n  </tbody>\n</table></div>"
     },
     "metadata": {},
     "output_type": "display_data"
    },
    {
     "data": {
      "text/plain": "<IPython.core.display.HTML object>",
      "text/html": "<div style='font-size:20px; display:flex; gap:170px'><p>2024<p/><p>2025<p/></div>\n                     <div style='font-size:20px; display:flex; gap:20px'><table border=\"1\" class=\"dataframe\">\n  <thead>\n    <tr style=\"text-align: right;\">\n      <th></th>\n      <th></th>\n      <th></th>\n      <th>mean</th>\n      <th>median</th>\n      <th>count</th>\n    </tr>\n    <tr>\n      <th>psp_key</th>\n      <th>direction</th>\n      <th>entry_q90m</th>\n      <th></th>\n      <th></th>\n      <th></th>\n    </tr>\n  </thead>\n  <tbody>\n    <tr>\n      <th rowspan=\"2\" valign=\"top\">1d</th>\n      <th rowspan=\"2\" valign=\"top\">UP</th>\n      <th>Q1_90m</th>\n      <td>27.961</td>\n      <td>9.081</td>\n      <td>12</td>\n    </tr>\n    <tr>\n      <th>Q2_90m</th>\n      <td>-3.654</td>\n      <td>8.030</td>\n      <td>12</td>\n    </tr>\n  </tbody>\n</table><table border=\"1\" class=\"dataframe\">\n  <thead>\n    <tr style=\"text-align: right;\">\n      <th></th>\n      <th></th>\n      <th></th>\n      <th>mean</th>\n      <th>median</th>\n      <th>count</th>\n    </tr>\n    <tr>\n      <th>psp_key</th>\n      <th>direction</th>\n      <th>entry_q90m</th>\n      <th></th>\n      <th></th>\n      <th></th>\n    </tr>\n  </thead>\n  <tbody>\n    <tr>\n      <th>1d</th>\n      <th>UP</th>\n      <th>Q2_90m</th>\n      <td>18.393</td>\n      <td>21.955</td>\n      <td>18</td>\n    </tr>\n  </tbody>\n</table></div>\n                     <div style='font-size:20px; display:flex; gap:20px'><table border=\"1\" class=\"dataframe\">\n  <thead>\n    <tr style=\"text-align: right;\">\n      <th></th>\n      <th></th>\n      <th></th>\n      <th>mean</th>\n      <th>median</th>\n      <th>count</th>\n    </tr>\n    <tr>\n      <th>psp_key</th>\n      <th>direction</th>\n      <th>entry_q90m</th>\n      <th></th>\n      <th></th>\n      <th></th>\n    </tr>\n  </thead>\n  <tbody>\n    <tr>\n      <th rowspan=\"2\" valign=\"top\">1d</th>\n      <th rowspan=\"2\" valign=\"top\">UP</th>\n      <th>Q1_90m</th>\n      <td>0.667</td>\n      <td>1.0</td>\n      <td>12</td>\n    </tr>\n    <tr>\n      <th>Q2_90m</th>\n      <td>0.750</td>\n      <td>1.0</td>\n      <td>12</td>\n    </tr>\n  </tbody>\n</table><table border=\"1\" class=\"dataframe\">\n  <thead>\n    <tr style=\"text-align: right;\">\n      <th></th>\n      <th></th>\n      <th></th>\n      <th>mean</th>\n      <th>median</th>\n      <th>count</th>\n    </tr>\n    <tr>\n      <th>psp_key</th>\n      <th>direction</th>\n      <th>entry_q90m</th>\n      <th></th>\n      <th></th>\n      <th></th>\n    </tr>\n  </thead>\n  <tbody>\n    <tr>\n      <th>1d</th>\n      <th>UP</th>\n      <th>Q2_90m</th>\n      <td>0.833</td>\n      <td>1.0</td>\n      <td>18</td>\n    </tr>\n  </tbody>\n</table></div>"
     },
     "metadata": {},
     "output_type": "display_data"
    },
    {
     "data": {
      "text/plain": "<IPython.core.display.HTML object>",
      "text/html": "<div style='font-size:20px; display:flex; gap:170px'><p>2024<p/><p>2025<p/></div>\n                     <div style='font-size:20px; display:flex; gap:20px'><table border=\"1\" class=\"dataframe\">\n  <thead>\n    <tr style=\"text-align: right;\">\n      <th></th>\n      <th>mean</th>\n      <th>median</th>\n      <th>count</th>\n    </tr>\n    <tr>\n      <th>entry_yq</th>\n      <th></th>\n      <th></th>\n      <th></th>\n    </tr>\n  </thead>\n  <tbody>\n    <tr>\n      <th>YQ1</th>\n      <td>42.781</td>\n      <td>-14.532</td>\n      <td>6</td>\n    </tr>\n    <tr>\n      <th>YQ2</th>\n      <td>7.174</td>\n      <td>6.672</td>\n      <td>3</td>\n    </tr>\n    <tr>\n      <th>YQ3</th>\n      <td>-16.397</td>\n      <td>-6.902</td>\n      <td>6</td>\n    </tr>\n    <tr>\n      <th>YQ4</th>\n      <td>12.427</td>\n      <td>9.143</td>\n      <td>9</td>\n    </tr>\n  </tbody>\n</table><table border=\"1\" class=\"dataframe\">\n  <thead>\n    <tr style=\"text-align: right;\">\n      <th></th>\n      <th>mean</th>\n      <th>median</th>\n      <th>count</th>\n    </tr>\n    <tr>\n      <th>entry_yq</th>\n      <th></th>\n      <th></th>\n      <th></th>\n    </tr>\n  </thead>\n  <tbody>\n    <tr>\n      <th>YQ2</th>\n      <td>16.863</td>\n      <td>29.633</td>\n      <td>15</td>\n    </tr>\n    <tr>\n      <th>YQ3</th>\n      <td>26.045</td>\n      <td>14.277</td>\n      <td>3</td>\n    </tr>\n  </tbody>\n</table></div>\n                     <div style='font-size:20px; display:flex; gap:20px'><table border=\"1\" class=\"dataframe\">\n  <thead>\n    <tr style=\"text-align: right;\">\n      <th></th>\n      <th>mean</th>\n      <th>median</th>\n      <th>count</th>\n    </tr>\n    <tr>\n      <th>entry_yq</th>\n      <th></th>\n      <th></th>\n      <th></th>\n    </tr>\n  </thead>\n  <tbody>\n    <tr>\n      <th>YQ1</th>\n      <td>0.500</td>\n      <td>0.5</td>\n      <td>6</td>\n    </tr>\n    <tr>\n      <th>YQ2</th>\n      <td>1.000</td>\n      <td>1.0</td>\n      <td>3</td>\n    </tr>\n    <tr>\n      <th>YQ3</th>\n      <td>0.500</td>\n      <td>0.5</td>\n      <td>6</td>\n    </tr>\n    <tr>\n      <th>YQ4</th>\n      <td>0.889</td>\n      <td>1.0</td>\n      <td>9</td>\n    </tr>\n  </tbody>\n</table><table border=\"1\" class=\"dataframe\">\n  <thead>\n    <tr style=\"text-align: right;\">\n      <th></th>\n      <th>mean</th>\n      <th>median</th>\n      <th>count</th>\n    </tr>\n    <tr>\n      <th>entry_yq</th>\n      <th></th>\n      <th></th>\n      <th></th>\n    </tr>\n  </thead>\n  <tbody>\n    <tr>\n      <th>YQ2</th>\n      <td>0.8</td>\n      <td>1.0</td>\n      <td>15</td>\n    </tr>\n    <tr>\n      <th>YQ3</th>\n      <td>1.0</td>\n      <td>1.0</td>\n      <td>3</td>\n    </tr>\n  </tbody>\n</table></div>"
     },
     "metadata": {},
     "output_type": "display_data"
    },
    {
     "data": {
      "text/plain": "<IPython.core.display.HTML object>",
      "text/html": "<div style='font-size:20px; display:flex; gap:170px'><p>2024<p/><p>2025<p/></div>\n                     <div style='font-size:20px; display:flex; gap:20px'><table border=\"1\" class=\"dataframe\">\n  <thead>\n    <tr style=\"text-align: right;\">\n      <th></th>\n      <th>mean</th>\n      <th>median</th>\n      <th>count</th>\n    </tr>\n    <tr>\n      <th>entry_mw</th>\n      <th></th>\n      <th></th>\n      <th></th>\n    </tr>\n  </thead>\n  <tbody>\n    <tr>\n      <th>MW1</th>\n      <td>12.427</td>\n      <td>9.143</td>\n      <td>9</td>\n    </tr>\n    <tr>\n      <th>MW2</th>\n      <td>30.945</td>\n      <td>27.409</td>\n      <td>3</td>\n    </tr>\n    <tr>\n      <th>MW3</th>\n      <td>-44.042</td>\n      <td>-61.812</td>\n      <td>9</td>\n    </tr>\n    <tr>\n      <th>MW4</th>\n      <td>161.123</td>\n      <td>105.210</td>\n      <td>3</td>\n    </tr>\n  </tbody>\n</table><table border=\"1\" class=\"dataframe\">\n  <thead>\n    <tr style=\"text-align: right;\">\n      <th></th>\n      <th>mean</th>\n      <th>median</th>\n      <th>count</th>\n    </tr>\n    <tr>\n      <th>entry_mw</th>\n      <th></th>\n      <th></th>\n      <th></th>\n    </tr>\n  </thead>\n  <tbody>\n    <tr>\n      <th>MW2</th>\n      <td>45.938</td>\n      <td>40.726</td>\n      <td>6</td>\n    </tr>\n    <tr>\n      <th>MW3</th>\n      <td>32.166</td>\n      <td>36.860</td>\n      <td>3</td>\n    </tr>\n    <tr>\n      <th>MW4</th>\n      <td>32.539</td>\n      <td>21.976</td>\n      <td>6</td>\n    </tr>\n    <tr>\n      <th>MW5</th>\n      <td>-78.759</td>\n      <td>-76.588</td>\n      <td>3</td>\n    </tr>\n  </tbody>\n</table></div>\n                     <div style='font-size:20px; display:flex; gap:20px'><table border=\"1\" class=\"dataframe\">\n  <thead>\n    <tr style=\"text-align: right;\">\n      <th></th>\n      <th>mean</th>\n      <th>median</th>\n      <th>count</th>\n    </tr>\n    <tr>\n      <th>entry_mw</th>\n      <th></th>\n      <th></th>\n      <th></th>\n    </tr>\n  </thead>\n  <tbody>\n    <tr>\n      <th>MW1</th>\n      <td>0.889</td>\n      <td>1.0</td>\n      <td>9</td>\n    </tr>\n    <tr>\n      <th>MW2</th>\n      <td>1.000</td>\n      <td>1.0</td>\n      <td>3</td>\n    </tr>\n    <tr>\n      <th>MW3</th>\n      <td>0.333</td>\n      <td>0.0</td>\n      <td>9</td>\n    </tr>\n    <tr>\n      <th>MW4</th>\n      <td>1.000</td>\n      <td>1.0</td>\n      <td>3</td>\n    </tr>\n  </tbody>\n</table><table border=\"1\" class=\"dataframe\">\n  <thead>\n    <tr style=\"text-align: right;\">\n      <th></th>\n      <th>mean</th>\n      <th>median</th>\n      <th>count</th>\n    </tr>\n    <tr>\n      <th>entry_mw</th>\n      <th></th>\n      <th></th>\n      <th></th>\n    </tr>\n  </thead>\n  <tbody>\n    <tr>\n      <th>MW2</th>\n      <td>1.0</td>\n      <td>1.0</td>\n      <td>6</td>\n    </tr>\n    <tr>\n      <th>MW3</th>\n      <td>1.0</td>\n      <td>1.0</td>\n      <td>3</td>\n    </tr>\n    <tr>\n      <th>MW4</th>\n      <td>1.0</td>\n      <td>1.0</td>\n      <td>6</td>\n    </tr>\n    <tr>\n      <th>MW5</th>\n      <td>0.0</td>\n      <td>0.0</td>\n      <td>3</td>\n    </tr>\n  </tbody>\n</table></div>"
     },
     "metadata": {},
     "output_type": "display_data"
    },
    {
     "data": {
      "text/plain": "<IPython.core.display.HTML object>",
      "text/html": "<div style='font-size:20px; display:flex; gap:170px'><p>2024<p/><p>2025<p/></div>\n                     <div style='font-size:20px; display:flex; gap:20px'><table border=\"1\" class=\"dataframe\">\n  <thead>\n    <tr style=\"text-align: right;\">\n      <th></th>\n      <th>mean</th>\n      <th>median</th>\n      <th>count</th>\n    </tr>\n    <tr>\n      <th>entry_wd</th>\n      <th></th>\n      <th></th>\n      <th></th>\n    </tr>\n  </thead>\n  <tbody>\n    <tr>\n      <th>Sat</th>\n      <td>0.972</td>\n      <td>9.081</td>\n      <td>6</td>\n    </tr>\n    <tr>\n      <th>Sun</th>\n      <td>-12.480</td>\n      <td>6.672</td>\n      <td>9</td>\n    </tr>\n    <tr>\n      <th>Thu</th>\n      <td>98.230</td>\n      <td>57.718</td>\n      <td>6</td>\n    </tr>\n    <tr>\n      <th>Wed</th>\n      <td>-63.739</td>\n      <td>-64.459</td>\n      <td>3</td>\n    </tr>\n  </tbody>\n</table><table border=\"1\" class=\"dataframe\">\n  <thead>\n    <tr style=\"text-align: right;\">\n      <th></th>\n      <th>mean</th>\n      <th>median</th>\n      <th>count</th>\n    </tr>\n    <tr>\n      <th>entry_wd</th>\n      <th></th>\n      <th></th>\n      <th></th>\n    </tr>\n  </thead>\n  <tbody>\n    <tr>\n      <th>Fri</th>\n      <td>6.688</td>\n      <td>7.991</td>\n      <td>3</td>\n    </tr>\n    <tr>\n      <th>Sat</th>\n      <td>-78.759</td>\n      <td>-76.588</td>\n      <td>3</td>\n    </tr>\n    <tr>\n      <th>Sun</th>\n      <td>65.830</td>\n      <td>54.767</td>\n      <td>3</td>\n    </tr>\n    <tr>\n      <th>Thu</th>\n      <td>26.045</td>\n      <td>14.277</td>\n      <td>3</td>\n    </tr>\n    <tr>\n      <th>Wed</th>\n      <td>45.278</td>\n      <td>38.100</td>\n      <td>6</td>\n    </tr>\n  </tbody>\n</table></div>\n                     <div style='font-size:20px; display:flex; gap:20px'><table border=\"1\" class=\"dataframe\">\n  <thead>\n    <tr style=\"text-align: right;\">\n      <th></th>\n      <th>mean</th>\n      <th>median</th>\n      <th>count</th>\n    </tr>\n    <tr>\n      <th>entry_wd</th>\n      <th></th>\n      <th></th>\n      <th></th>\n    </tr>\n  </thead>\n  <tbody>\n    <tr>\n      <th>Sat</th>\n      <td>0.833</td>\n      <td>1.0</td>\n      <td>6</td>\n    </tr>\n    <tr>\n      <th>Sun</th>\n      <td>0.667</td>\n      <td>1.0</td>\n      <td>9</td>\n    </tr>\n    <tr>\n      <th>Thu</th>\n      <td>1.000</td>\n      <td>1.0</td>\n      <td>6</td>\n    </tr>\n    <tr>\n      <th>Wed</th>\n      <td>0.000</td>\n      <td>0.0</td>\n      <td>3</td>\n    </tr>\n  </tbody>\n</table><table border=\"1\" class=\"dataframe\">\n  <thead>\n    <tr style=\"text-align: right;\">\n      <th></th>\n      <th>mean</th>\n      <th>median</th>\n      <th>count</th>\n    </tr>\n    <tr>\n      <th>entry_wd</th>\n      <th></th>\n      <th></th>\n      <th></th>\n    </tr>\n  </thead>\n  <tbody>\n    <tr>\n      <th>Fri</th>\n      <td>1.0</td>\n      <td>1.0</td>\n      <td>3</td>\n    </tr>\n    <tr>\n      <th>Sat</th>\n      <td>0.0</td>\n      <td>0.0</td>\n      <td>3</td>\n    </tr>\n    <tr>\n      <th>Sun</th>\n      <td>1.0</td>\n      <td>1.0</td>\n      <td>3</td>\n    </tr>\n    <tr>\n      <th>Thu</th>\n      <td>1.0</td>\n      <td>1.0</td>\n      <td>3</td>\n    </tr>\n    <tr>\n      <th>Wed</th>\n      <td>1.0</td>\n      <td>1.0</td>\n      <td>6</td>\n    </tr>\n  </tbody>\n</table></div>"
     },
     "metadata": {},
     "output_type": "display_data"
    },
    {
     "data": {
      "text/plain": "<IPython.core.display.HTML object>",
      "text/html": "<div style='font-size:20px; display:flex; gap:170px'><p>2024<p/><p>2025<p/></div>\n                     <div style='font-size:20px; display:flex; gap:20px'><table border=\"1\" class=\"dataframe\">\n  <thead>\n    <tr style=\"text-align: right;\">\n      <th></th>\n      <th>mean</th>\n      <th>median</th>\n      <th>count</th>\n    </tr>\n    <tr>\n      <th>entry_dq</th>\n      <th></th>\n      <th></th>\n      <th></th>\n    </tr>\n  </thead>\n  <tbody>\n    <tr>\n      <th>DQ1_Asia</th>\n      <td>12.153</td>\n      <td>9.081</td>\n      <td>24</td>\n    </tr>\n  </tbody>\n</table><table border=\"1\" class=\"dataframe\">\n  <thead>\n    <tr style=\"text-align: right;\">\n      <th></th>\n      <th>mean</th>\n      <th>median</th>\n      <th>count</th>\n    </tr>\n    <tr>\n      <th>entry_dq</th>\n      <th></th>\n      <th></th>\n      <th></th>\n    </tr>\n  </thead>\n  <tbody>\n    <tr>\n      <th>DQ1_Asia</th>\n      <td>18.393</td>\n      <td>21.955</td>\n      <td>18</td>\n    </tr>\n  </tbody>\n</table></div>\n                     <div style='font-size:20px; display:flex; gap:20px'><table border=\"1\" class=\"dataframe\">\n  <thead>\n    <tr style=\"text-align: right;\">\n      <th></th>\n      <th>mean</th>\n      <th>median</th>\n      <th>count</th>\n    </tr>\n    <tr>\n      <th>entry_dq</th>\n      <th></th>\n      <th></th>\n      <th></th>\n    </tr>\n  </thead>\n  <tbody>\n    <tr>\n      <th>DQ1_Asia</th>\n      <td>0.708</td>\n      <td>1.0</td>\n      <td>24</td>\n    </tr>\n  </tbody>\n</table><table border=\"1\" class=\"dataframe\">\n  <thead>\n    <tr style=\"text-align: right;\">\n      <th></th>\n      <th>mean</th>\n      <th>median</th>\n      <th>count</th>\n    </tr>\n    <tr>\n      <th>entry_dq</th>\n      <th></th>\n      <th></th>\n      <th></th>\n    </tr>\n  </thead>\n  <tbody>\n    <tr>\n      <th>DQ1_Asia</th>\n      <td>0.833</td>\n      <td>1.0</td>\n      <td>18</td>\n    </tr>\n  </tbody>\n</table></div>"
     },
     "metadata": {},
     "output_type": "display_data"
    },
    {
     "data": {
      "text/plain": "<IPython.core.display.HTML object>",
      "text/html": "<div style='font-size:20px; display:flex; gap:170px'><p>2024<p/><p>2025<p/></div>\n                     <div style='font-size:20px; display:flex; gap:20px'><table border=\"1\" class=\"dataframe\">\n  <thead>\n    <tr style=\"text-align: right;\">\n      <th></th>\n      <th>mean</th>\n      <th>median</th>\n      <th>count</th>\n    </tr>\n    <tr>\n      <th>entry_q90m</th>\n      <th></th>\n      <th></th>\n      <th></th>\n    </tr>\n  </thead>\n  <tbody>\n    <tr>\n      <th>Q1_90m</th>\n      <td>27.961</td>\n      <td>9.081</td>\n      <td>12</td>\n    </tr>\n    <tr>\n      <th>Q2_90m</th>\n      <td>-3.654</td>\n      <td>8.030</td>\n      <td>12</td>\n    </tr>\n  </tbody>\n</table><table border=\"1\" class=\"dataframe\">\n  <thead>\n    <tr style=\"text-align: right;\">\n      <th></th>\n      <th>mean</th>\n      <th>median</th>\n      <th>count</th>\n    </tr>\n    <tr>\n      <th>entry_q90m</th>\n      <th></th>\n      <th></th>\n      <th></th>\n    </tr>\n  </thead>\n  <tbody>\n    <tr>\n      <th>Q2_90m</th>\n      <td>18.393</td>\n      <td>21.955</td>\n      <td>18</td>\n    </tr>\n  </tbody>\n</table></div>\n                     <div style='font-size:20px; display:flex; gap:20px'><table border=\"1\" class=\"dataframe\">\n  <thead>\n    <tr style=\"text-align: right;\">\n      <th></th>\n      <th>mean</th>\n      <th>median</th>\n      <th>count</th>\n    </tr>\n    <tr>\n      <th>entry_q90m</th>\n      <th></th>\n      <th></th>\n      <th></th>\n    </tr>\n  </thead>\n  <tbody>\n    <tr>\n      <th>Q1_90m</th>\n      <td>0.667</td>\n      <td>1.0</td>\n      <td>12</td>\n    </tr>\n    <tr>\n      <th>Q2_90m</th>\n      <td>0.750</td>\n      <td>1.0</td>\n      <td>12</td>\n    </tr>\n  </tbody>\n</table><table border=\"1\" class=\"dataframe\">\n  <thead>\n    <tr style=\"text-align: right;\">\n      <th></th>\n      <th>mean</th>\n      <th>median</th>\n      <th>count</th>\n    </tr>\n    <tr>\n      <th>entry_q90m</th>\n      <th></th>\n      <th></th>\n      <th></th>\n    </tr>\n  </thead>\n  <tbody>\n    <tr>\n      <th>Q2_90m</th>\n      <td>0.833</td>\n      <td>1.0</td>\n      <td>18</td>\n    </tr>\n  </tbody>\n</table></div>"
     },
     "metadata": {},
     "output_type": "display_data"
    }
   ],
   "source": [
    "group_by_display([\"psp_key\", \"direction\", \"entry_yq\"])\n",
    "group_by_display([\"psp_key\", \"direction\", \"entry_mw\"])\n",
    "group_by_display([\"psp_key\", \"direction\", \"entry_wd\"])\n",
    "group_by_display([\"psp_key\", \"direction\", \"entry_wd\"])\n",
    "group_by_display([\"psp_key\", \"direction\", \"entry_dq\"])\n",
    "group_by_display([\"psp_key\", \"direction\", \"entry_q90m\"])\n",
    "group_by_display([\"entry_yq\"])\n",
    "group_by_display([\"entry_mw\"])\n",
    "group_by_display([\"entry_wd\"])\n",
    "group_by_display([\"entry_dq\"])\n",
    "group_by_display([\"entry_q90m\"])"
   ]
  },
  {
   "cell_type": "code",
   "execution_count": 110,
   "id": "ff8c325b4d14bf3e",
   "metadata": {
    "collapsed": false,
    "ExecuteTime": {
     "end_time": "2025-08-30T14:22:11.967976Z",
     "start_time": "2025-08-30T14:22:11.947281Z"
    }
   },
   "outputs": [
    {
     "data": {
      "text/plain": "   smt_label psp_key direction       mean     median  count\n0  week1 SMT      1d        UP  38.835959  27.409027      9\n1  week2 SMT      1d        UP -28.282355 -10.647453      6\n2  week4 SMT      1d        UP  13.140527   9.081390      6\n3  week5 SMT      1d        UP  11.001400  12.801330      3",
      "text/html": "<div>\n<style scoped>\n    .dataframe tbody tr th:only-of-type {\n        vertical-align: middle;\n    }\n\n    .dataframe tbody tr th {\n        vertical-align: top;\n    }\n\n    .dataframe thead th {\n        text-align: right;\n    }\n</style>\n<table border=\"1\" class=\"dataframe\">\n  <thead>\n    <tr style=\"text-align: right;\">\n      <th></th>\n      <th>smt_label</th>\n      <th>psp_key</th>\n      <th>direction</th>\n      <th>mean</th>\n      <th>median</th>\n      <th>count</th>\n    </tr>\n  </thead>\n  <tbody>\n    <tr>\n      <th>0</th>\n      <td>week1 SMT</td>\n      <td>1d</td>\n      <td>UP</td>\n      <td>38.835959</td>\n      <td>27.409027</td>\n      <td>9</td>\n    </tr>\n    <tr>\n      <th>1</th>\n      <td>week2 SMT</td>\n      <td>1d</td>\n      <td>UP</td>\n      <td>-28.282355</td>\n      <td>-10.647453</td>\n      <td>6</td>\n    </tr>\n    <tr>\n      <th>2</th>\n      <td>week4 SMT</td>\n      <td>1d</td>\n      <td>UP</td>\n      <td>13.140527</td>\n      <td>9.081390</td>\n      <td>6</td>\n    </tr>\n    <tr>\n      <th>3</th>\n      <td>week5 SMT</td>\n      <td>1d</td>\n      <td>UP</td>\n      <td>11.001400</td>\n      <td>12.801330</td>\n      <td>3</td>\n    </tr>\n  </tbody>\n</table>\n</div>"
     },
     "execution_count": 110,
     "metadata": {},
     "output_type": "execute_result"
    }
   ],
   "source": [
    "(trades_df_2024.groupby([\"smt_label\", \"psp_key\", \"direction\"])[\"pnl_usd\"]\n",
    " .agg([\"mean\", \"median\", \"count\"])\n",
    " .reset_index())"
   ]
  },
  {
   "cell_type": "code",
   "execution_count": 111,
   "id": "7c6fc9a68cdfa4b1",
   "metadata": {
    "collapsed": false,
    "ExecuteTime": {
     "end_time": "2025-08-30T14:22:12.159770Z",
     "start_time": "2025-08-30T14:22:12.136702Z"
    }
   },
   "outputs": [
    {
     "data": {
      "text/plain": "   smt_label psp_key direction       mean     median  count\n0  week1 SMT      1d        UP  41.346993  36.859739      9\n1  week3 SMT      1d        UP  -4.560227   7.991161      9",
      "text/html": "<div>\n<style scoped>\n    .dataframe tbody tr th:only-of-type {\n        vertical-align: middle;\n    }\n\n    .dataframe tbody tr th {\n        vertical-align: top;\n    }\n\n    .dataframe thead th {\n        text-align: right;\n    }\n</style>\n<table border=\"1\" class=\"dataframe\">\n  <thead>\n    <tr style=\"text-align: right;\">\n      <th></th>\n      <th>smt_label</th>\n      <th>psp_key</th>\n      <th>direction</th>\n      <th>mean</th>\n      <th>median</th>\n      <th>count</th>\n    </tr>\n  </thead>\n  <tbody>\n    <tr>\n      <th>0</th>\n      <td>week1 SMT</td>\n      <td>1d</td>\n      <td>UP</td>\n      <td>41.346993</td>\n      <td>36.859739</td>\n      <td>9</td>\n    </tr>\n    <tr>\n      <th>1</th>\n      <td>week3 SMT</td>\n      <td>1d</td>\n      <td>UP</td>\n      <td>-4.560227</td>\n      <td>7.991161</td>\n      <td>9</td>\n    </tr>\n  </tbody>\n</table>\n</div>"
     },
     "execution_count": 111,
     "metadata": {},
     "output_type": "execute_result"
    }
   ],
   "source": [
    "(trades_df_2025.groupby([\"smt_label\", \"psp_key\", \"direction\"])[\"pnl_usd\"]\n",
    " .agg([\"mean\", \"median\", \"count\"])\n",
    " .reset_index())"
   ]
  },
  {
   "cell_type": "code",
   "execution_count": 112,
   "id": "c26f779155e01a1d",
   "metadata": {
    "collapsed": false,
    "ExecuteTime": {
     "end_time": "2025-08-30T14:22:12.457973Z",
     "start_time": "2025-08-30T14:22:12.321821Z"
    }
   },
   "outputs": [
    {
     "data": {
      "text/plain": "[0.0722, 0.0937, 0.3842, 0.9845]"
     },
     "metadata": {},
     "output_type": "display_data"
    },
    {
     "data": {
      "text/plain": "[0.0964, 0.1226, 0.3909, 0.6906]"
     },
     "metadata": {},
     "output_type": "display_data"
    },
    {
     "data": {
      "text/plain": "                     mean      median  count\nentry_rr_perc                               \n<p10             6.082950    6.113711      3\n<p30            -4.669868    8.755636      4\n<p70            -2.921680   12.877144     10\n<p90            -7.324136   -5.992396      4\n>=p90          116.873609  105.209624      3",
      "text/html": "<div>\n<style scoped>\n    .dataframe tbody tr th:only-of-type {\n        vertical-align: middle;\n    }\n\n    .dataframe tbody tr th {\n        vertical-align: top;\n    }\n\n    .dataframe thead th {\n        text-align: right;\n    }\n</style>\n<table border=\"1\" class=\"dataframe\">\n  <thead>\n    <tr style=\"text-align: right;\">\n      <th></th>\n      <th>mean</th>\n      <th>median</th>\n      <th>count</th>\n    </tr>\n    <tr>\n      <th>entry_rr_perc</th>\n      <th></th>\n      <th></th>\n      <th></th>\n    </tr>\n  </thead>\n  <tbody>\n    <tr>\n      <th>&lt;p10</th>\n      <td>6.082950</td>\n      <td>6.113711</td>\n      <td>3</td>\n    </tr>\n    <tr>\n      <th>&lt;p30</th>\n      <td>-4.669868</td>\n      <td>8.755636</td>\n      <td>4</td>\n    </tr>\n    <tr>\n      <th>&lt;p70</th>\n      <td>-2.921680</td>\n      <td>12.877144</td>\n      <td>10</td>\n    </tr>\n    <tr>\n      <th>&lt;p90</th>\n      <td>-7.324136</td>\n      <td>-5.992396</td>\n      <td>4</td>\n    </tr>\n    <tr>\n      <th>&gt;=p90</th>\n      <td>116.873609</td>\n      <td>105.209624</td>\n      <td>3</td>\n    </tr>\n  </tbody>\n</table>\n</div>"
     },
     "metadata": {},
     "output_type": "display_data"
    },
    {
     "data": {
      "text/plain": "                     mean      median  count\nentry_rr_perc                               \n<p10             4.758939    4.758939      2\n<p30           -10.915393   10.443396      4\n<p70            -7.585366   21.955172      6\n<p90            48.805884   50.557727      4\n>=p90          107.756624  107.756624      2",
      "text/html": "<div>\n<style scoped>\n    .dataframe tbody tr th:only-of-type {\n        vertical-align: middle;\n    }\n\n    .dataframe tbody tr th {\n        vertical-align: top;\n    }\n\n    .dataframe thead th {\n        text-align: right;\n    }\n</style>\n<table border=\"1\" class=\"dataframe\">\n  <thead>\n    <tr style=\"text-align: right;\">\n      <th></th>\n      <th>mean</th>\n      <th>median</th>\n      <th>count</th>\n    </tr>\n    <tr>\n      <th>entry_rr_perc</th>\n      <th></th>\n      <th></th>\n      <th></th>\n    </tr>\n  </thead>\n  <tbody>\n    <tr>\n      <th>&lt;p10</th>\n      <td>4.758939</td>\n      <td>4.758939</td>\n      <td>2</td>\n    </tr>\n    <tr>\n      <th>&lt;p30</th>\n      <td>-10.915393</td>\n      <td>10.443396</td>\n      <td>4</td>\n    </tr>\n    <tr>\n      <th>&lt;p70</th>\n      <td>-7.585366</td>\n      <td>21.955172</td>\n      <td>6</td>\n    </tr>\n    <tr>\n      <th>&lt;p90</th>\n      <td>48.805884</td>\n      <td>50.557727</td>\n      <td>4</td>\n    </tr>\n    <tr>\n      <th>&gt;=p90</th>\n      <td>107.756624</td>\n      <td>107.756624</td>\n      <td>2</td>\n    </tr>\n  </tbody>\n</table>\n</div>"
     },
     "metadata": {},
     "output_type": "display_data"
    },
    {
     "data": {
      "text/plain": "mean      NaN\nmedian    NaN\ncount     0.0\nName: pnl_usd, dtype: float64"
     },
     "metadata": {},
     "output_type": "display_data"
    },
    {
     "data": {
      "text/plain": "mean      NaN\nmedian    NaN\ncount     0.0\nName: pnl_usd, dtype: float64"
     },
     "metadata": {},
     "output_type": "display_data"
    },
    {
     "data": {
      "text/plain": "mean      NaN\nmedian    NaN\ncount     0.0\nName: won, dtype: float64"
     },
     "metadata": {},
     "output_type": "display_data"
    },
    {
     "data": {
      "text/plain": "mean      NaN\nmedian    NaN\ncount     0.0\nName: won, dtype: float64"
     },
     "metadata": {},
     "output_type": "display_data"
    }
   ],
   "source": [
    "display([round(float(x), 4) for x in np.percentile(trades_df_2024['entry_rr'], [10, 30, 70, 90])])\n",
    "display([round(float(x), 4) for x in np.percentile(trades_df_2025['entry_rr'], [10, 30, 70, 90])])\n",
    "\n",
    "display(trades_df_2024.groupby(\"entry_rr_perc\")[\"pnl_usd\"].agg([\"mean\", \"median\", \"count\"]))\n",
    "display(trades_df_2025.groupby(\"entry_rr_perc\")[\"pnl_usd\"].agg([\"mean\", \"median\", \"count\"]))\n",
    "\n",
    "display(trades_df_2024.query(\"14 < entry_rr < 17\")[\"pnl_usd\"].agg([\"mean\", \"median\", \"count\"]))\n",
    "display(trades_df_2025.query(\"14 < entry_rr < 17\")[\"pnl_usd\"].agg([\"mean\", \"median\", \"count\"]))\n",
    "display(trades_df_2024.query(\"14 < entry_rr < 17\")[\"won\"].agg([\"mean\", \"median\", \"count\"]))\n",
    "display(trades_df_2025.query(\"14 < entry_rr < 17\")[\"won\"].agg([\"mean\", \"median\", \"count\"]))"
   ]
  },
  {
   "cell_type": "code",
   "outputs": [
    {
     "data": {
      "text/plain": "          entry_time    asset     pnl_usd  pnl_minus_fees  cum_pnl_usd  \\\n0   2025-04-05 00:00  BTCUSDT  -59.689115      -62.468963   -59.689115   \n1   2025-04-05 00:00  ETHUSDT -100.000000     -102.340946  -159.689115   \n2   2025-04-05 00:00  SOLUSDT  -76.587678      -77.600114  -236.276793   \n3   2025-04-30 00:00  SOLUSDT  102.424242       94.404697  -133.852551   \n4   2025-04-30 00:00  BTCUSDT   39.340711       33.671378   -94.511840   \n5   2025-04-30 00:00  ETHUSDT   33.406836       30.420628   -61.105004   \n6   2025-05-02 00:00  SOLUSDT    1.526718        0.231594   -59.578287   \n7   2025-05-02 00:00  BTCUSDT    7.991161        5.560261   -51.587125   \n8   2025-05-02 00:00  ETHUSDT   10.545079        8.989090   -41.042046   \n9   2025-05-21 00:00  BTCUSDT   10.341713        8.318281   -30.700333   \n10  2025-05-21 00:00  ETHUSDT   36.859739       35.553668     6.159406   \n11  2025-05-21 00:00  SOLUSDT   49.295775       47.630482    55.455181   \n12  2025-06-15 00:00  SOLUSDT  113.089005      109.632487   168.544186   \n13  2025-06-15 00:00  BTCUSDT   29.633271       26.166646   198.177457   \n14  2025-06-15 00:00  ETHUSDT   54.767369       52.367704   252.944826   \n15  2025-07-17 00:00  ETHUSDT   12.039312       11.343774   264.984138   \n16  2025-07-17 00:00  SOLUSDT   14.277072       13.325239   279.261210   \n17  2025-07-17 00:00  BTCUSDT   51.819680       48.131882   331.080890   \n\n    cum_pnl_minus_fees  3d_pnl_cumsum 3d_window_start_date  \\\n0           -62.468963     -59.689115           2025-04-05   \n1          -164.809909    -159.689115           2025-04-05   \n2          -242.410022    -236.276793           2025-04-05   \n3          -148.005325     102.424242           2025-04-29   \n4          -114.333947     141.764953           2025-04-29   \n5           -83.913319     175.171789           2025-04-29   \n6           -83.681725       1.526718           2025-05-02   \n7           -78.121464       9.517879           2025-05-02   \n8           -69.132374      20.062958           2025-05-02   \n9           -60.814093      10.341713           2025-05-20   \n10          -25.260425      47.201452           2025-05-20   \n11           22.370058      96.497227           2025-05-20   \n12          132.002544     113.089005           2025-06-13   \n13          158.169190     142.722277           2025-06-13   \n14          210.536894     197.489646           2025-06-13   \n15          221.880668      12.039312           2025-07-16   \n16          235.205907      26.316384           2025-07-16   \n17          283.337788      78.136064           2025-07-16   \n\n    3d_pnl_cumsum_last_in_window  stagnation_trades_count  ...  entry_mw  \\\n0                    -236.276793                        1  ...       MW5   \n1                    -236.276793                        2  ...       MW5   \n2                    -236.276793                        3  ...       MW5   \n3                     175.171789                        0  ...       MW4   \n4                     175.171789                        0  ...       MW4   \n5                     175.171789                        0  ...       MW4   \n6                      20.062958                        1  ...       MW4   \n7                      20.062958                        2  ...       MW4   \n8                      20.062958                        3  ...       MW4   \n9                      96.497227                        0  ...       MW3   \n10                     96.497227                        0  ...       MW3   \n11                     96.497227                        0  ...       MW3   \n12                    197.489646                        0  ...       MW2   \n13                    197.489646                        0  ...       MW2   \n14                    197.489646                        0  ...       MW2   \n15                     78.136064                        0  ...       MW2   \n16                     78.136064                        0  ...       MW2   \n17                     78.136064                        0  ...       MW2   \n\n   entry_wd  entry_dq entry_q90m entry_rr_perc minutes_in_market_perc  \\\n0       Sat  DQ1_Asia     Q2_90m          <p70                  >=p90   \n1       Sat  DQ1_Asia     Q2_90m          <p70                  >=p90   \n2       Sat  DQ1_Asia     Q2_90m          <p30                  >=p90   \n3       Wed  DQ1_Asia     Q2_90m         >=p90                   <p30   \n4       Wed  DQ1_Asia     Q2_90m          <p90                   <p30   \n5       Wed  DQ1_Asia     Q2_90m          <p70                   <p70   \n6       Fri  DQ1_Asia     Q2_90m          <p10                   <p10   \n7       Fri  DQ1_Asia     Q2_90m          <p10                   <p10   \n8       Fri  DQ1_Asia     Q2_90m          <p30                   <p30   \n9       Wed  DQ1_Asia     Q2_90m          <p30                   <p30   \n10      Wed  DQ1_Asia     Q2_90m          <p70                   <p70   \n11      Wed  DQ1_Asia     Q2_90m          <p90                   <p70   \n12      Sun  DQ1_Asia     Q2_90m         >=p90                   <p70   \n13      Sun  DQ1_Asia     Q2_90m          <p70                   <p90   \n14      Sun  DQ1_Asia     Q2_90m          <p90                   <p90   \n15      Thu  DQ1_Asia     Q2_90m          <p30                   <p70   \n16      Thu  DQ1_Asia     Q2_90m          <p70                   <p70   \n17      Thu  DQ1_Asia     Q2_90m          <p90                   <p90   \n\n   entry_position_usd_perc                  entry_tos  \\\n0                     <p70  BTCUSDT-t90mo-tyo-two-tmo   \n1                     <p70  tmo-tyo-two-ETHUSDT-t90mo   \n2                     <p30  tmo-tyo-two-SOLUSDT-t90mo   \n3                    >=p90  two-SOLUSDT-t90mo-tmo-tyo   \n4                    >=p90  two-BTCUSDT-t90mo-tmo-tyo   \n5                     <p90  tyo-ETHUSDT-two-t90mo-tmo   \n6                     <p30  SOLUSDT-t90mo-two-tmo-tyo   \n7                     <p70  BTCUSDT-t90mo-two-tmo-tyo   \n8                     <p30  t90mo-ETHUSDT-tyo-two-tmo   \n9                     <p70  t90mo-BTCUSDT-two-tmo-tyo   \n10                    <p30  t90mo-ETHUSDT-two-tmo-tyo   \n11                    <p70  tmo-t90mo-SOLUSDT-two-tyo   \n12                    <p90  two-tmo-SOLUSDT-t90mo-tyo   \n13                    <p90  two-tmo-BTCUSDT-t90mo-tyo   \n14                    <p70  two-tmo-ETHUSDT-t90mo-tyo   \n15                    <p10  ETHUSDT-t90mo-two-tmo-tyo   \n16                    <p10  SOLUSDT-t90mo-two-tmo-tyo   \n17                    <p90  two-t90mo-tmo-BTCUSDT-tyo   \n\n                   best_entry_tos  entry_date  \n0   tdo-tyo-t90mo-two-BTCUSDT-tmo  2025-04-05  \n1   tmo-tyo-two-tdo-t90mo-ETHUSDT  2025-04-05  \n2   tmo-tyo-two-tdo-t90mo-SOLUSDT  2025-04-05  \n3       two-t90mo-SOLUSDT-tmo-tyo  2025-04-30  \n4       two-BTCUSDT-t90mo-tmo-tyo  2025-04-30  \n5   tyo-t90mo-tdo-two-ETHUSDT-tmo  2025-04-30  \n6       SOLUSDT-t90mo-two-tmo-tyo  2025-05-02  \n7       BTCUSDT-t90mo-two-tmo-tyo  2025-05-02  \n8       t90mo-tyo-ETHUSDT-two-tmo  2025-05-02  \n9         tdo-BTCUSDT-two-tmo-tyo  2025-05-21  \n10        tdo-two-tmo-ETHUSDT-tyo  2025-05-21  \n11  tmo-tdo-t90mo-SOLUSDT-two-tyo  2025-05-21  \n12  two-tmo-tdo-t90mo-SOLUSDT-tyo  2025-06-15  \n13            tmo-tdo-BTCUSDT-tyo  2025-06-15  \n14            tdo-tmo-ETHUSDT-tyo  2025-06-15  \n15  t90mo-tdo-ETHUSDT-two-tmo-tyo  2025-07-17  \n16  t90mo-tdo-SOLUSDT-two-tmo-tyo  2025-07-17  \n17  two-t90mo-tmo-tdo-BTCUSDT-tyo  2025-07-17  \n\n[18 rows x 39 columns]",
      "text/html": "<div>\n<style scoped>\n    .dataframe tbody tr th:only-of-type {\n        vertical-align: middle;\n    }\n\n    .dataframe tbody tr th {\n        vertical-align: top;\n    }\n\n    .dataframe thead th {\n        text-align: right;\n    }\n</style>\n<table border=\"1\" class=\"dataframe\">\n  <thead>\n    <tr style=\"text-align: right;\">\n      <th></th>\n      <th>entry_time</th>\n      <th>asset</th>\n      <th>pnl_usd</th>\n      <th>pnl_minus_fees</th>\n      <th>cum_pnl_usd</th>\n      <th>cum_pnl_minus_fees</th>\n      <th>3d_pnl_cumsum</th>\n      <th>3d_window_start_date</th>\n      <th>3d_pnl_cumsum_last_in_window</th>\n      <th>stagnation_trades_count</th>\n      <th>...</th>\n      <th>entry_mw</th>\n      <th>entry_wd</th>\n      <th>entry_dq</th>\n      <th>entry_q90m</th>\n      <th>entry_rr_perc</th>\n      <th>minutes_in_market_perc</th>\n      <th>entry_position_usd_perc</th>\n      <th>entry_tos</th>\n      <th>best_entry_tos</th>\n      <th>entry_date</th>\n    </tr>\n  </thead>\n  <tbody>\n    <tr>\n      <th>0</th>\n      <td>2025-04-05 00:00</td>\n      <td>BTCUSDT</td>\n      <td>-59.689115</td>\n      <td>-62.468963</td>\n      <td>-59.689115</td>\n      <td>-62.468963</td>\n      <td>-59.689115</td>\n      <td>2025-04-05</td>\n      <td>-236.276793</td>\n      <td>1</td>\n      <td>...</td>\n      <td>MW5</td>\n      <td>Sat</td>\n      <td>DQ1_Asia</td>\n      <td>Q2_90m</td>\n      <td>&lt;p70</td>\n      <td>&gt;=p90</td>\n      <td>&lt;p70</td>\n      <td>BTCUSDT-t90mo-tyo-two-tmo</td>\n      <td>tdo-tyo-t90mo-two-BTCUSDT-tmo</td>\n      <td>2025-04-05</td>\n    </tr>\n    <tr>\n      <th>1</th>\n      <td>2025-04-05 00:00</td>\n      <td>ETHUSDT</td>\n      <td>-100.000000</td>\n      <td>-102.340946</td>\n      <td>-159.689115</td>\n      <td>-164.809909</td>\n      <td>-159.689115</td>\n      <td>2025-04-05</td>\n      <td>-236.276793</td>\n      <td>2</td>\n      <td>...</td>\n      <td>MW5</td>\n      <td>Sat</td>\n      <td>DQ1_Asia</td>\n      <td>Q2_90m</td>\n      <td>&lt;p70</td>\n      <td>&gt;=p90</td>\n      <td>&lt;p70</td>\n      <td>tmo-tyo-two-ETHUSDT-t90mo</td>\n      <td>tmo-tyo-two-tdo-t90mo-ETHUSDT</td>\n      <td>2025-04-05</td>\n    </tr>\n    <tr>\n      <th>2</th>\n      <td>2025-04-05 00:00</td>\n      <td>SOLUSDT</td>\n      <td>-76.587678</td>\n      <td>-77.600114</td>\n      <td>-236.276793</td>\n      <td>-242.410022</td>\n      <td>-236.276793</td>\n      <td>2025-04-05</td>\n      <td>-236.276793</td>\n      <td>3</td>\n      <td>...</td>\n      <td>MW5</td>\n      <td>Sat</td>\n      <td>DQ1_Asia</td>\n      <td>Q2_90m</td>\n      <td>&lt;p30</td>\n      <td>&gt;=p90</td>\n      <td>&lt;p30</td>\n      <td>tmo-tyo-two-SOLUSDT-t90mo</td>\n      <td>tmo-tyo-two-tdo-t90mo-SOLUSDT</td>\n      <td>2025-04-05</td>\n    </tr>\n    <tr>\n      <th>3</th>\n      <td>2025-04-30 00:00</td>\n      <td>SOLUSDT</td>\n      <td>102.424242</td>\n      <td>94.404697</td>\n      <td>-133.852551</td>\n      <td>-148.005325</td>\n      <td>102.424242</td>\n      <td>2025-04-29</td>\n      <td>175.171789</td>\n      <td>0</td>\n      <td>...</td>\n      <td>MW4</td>\n      <td>Wed</td>\n      <td>DQ1_Asia</td>\n      <td>Q2_90m</td>\n      <td>&gt;=p90</td>\n      <td>&lt;p30</td>\n      <td>&gt;=p90</td>\n      <td>two-SOLUSDT-t90mo-tmo-tyo</td>\n      <td>two-t90mo-SOLUSDT-tmo-tyo</td>\n      <td>2025-04-30</td>\n    </tr>\n    <tr>\n      <th>4</th>\n      <td>2025-04-30 00:00</td>\n      <td>BTCUSDT</td>\n      <td>39.340711</td>\n      <td>33.671378</td>\n      <td>-94.511840</td>\n      <td>-114.333947</td>\n      <td>141.764953</td>\n      <td>2025-04-29</td>\n      <td>175.171789</td>\n      <td>0</td>\n      <td>...</td>\n      <td>MW4</td>\n      <td>Wed</td>\n      <td>DQ1_Asia</td>\n      <td>Q2_90m</td>\n      <td>&lt;p90</td>\n      <td>&lt;p30</td>\n      <td>&gt;=p90</td>\n      <td>two-BTCUSDT-t90mo-tmo-tyo</td>\n      <td>two-BTCUSDT-t90mo-tmo-tyo</td>\n      <td>2025-04-30</td>\n    </tr>\n    <tr>\n      <th>5</th>\n      <td>2025-04-30 00:00</td>\n      <td>ETHUSDT</td>\n      <td>33.406836</td>\n      <td>30.420628</td>\n      <td>-61.105004</td>\n      <td>-83.913319</td>\n      <td>175.171789</td>\n      <td>2025-04-29</td>\n      <td>175.171789</td>\n      <td>0</td>\n      <td>...</td>\n      <td>MW4</td>\n      <td>Wed</td>\n      <td>DQ1_Asia</td>\n      <td>Q2_90m</td>\n      <td>&lt;p70</td>\n      <td>&lt;p70</td>\n      <td>&lt;p90</td>\n      <td>tyo-ETHUSDT-two-t90mo-tmo</td>\n      <td>tyo-t90mo-tdo-two-ETHUSDT-tmo</td>\n      <td>2025-04-30</td>\n    </tr>\n    <tr>\n      <th>6</th>\n      <td>2025-05-02 00:00</td>\n      <td>SOLUSDT</td>\n      <td>1.526718</td>\n      <td>0.231594</td>\n      <td>-59.578287</td>\n      <td>-83.681725</td>\n      <td>1.526718</td>\n      <td>2025-05-02</td>\n      <td>20.062958</td>\n      <td>1</td>\n      <td>...</td>\n      <td>MW4</td>\n      <td>Fri</td>\n      <td>DQ1_Asia</td>\n      <td>Q2_90m</td>\n      <td>&lt;p10</td>\n      <td>&lt;p10</td>\n      <td>&lt;p30</td>\n      <td>SOLUSDT-t90mo-two-tmo-tyo</td>\n      <td>SOLUSDT-t90mo-two-tmo-tyo</td>\n      <td>2025-05-02</td>\n    </tr>\n    <tr>\n      <th>7</th>\n      <td>2025-05-02 00:00</td>\n      <td>BTCUSDT</td>\n      <td>7.991161</td>\n      <td>5.560261</td>\n      <td>-51.587125</td>\n      <td>-78.121464</td>\n      <td>9.517879</td>\n      <td>2025-05-02</td>\n      <td>20.062958</td>\n      <td>2</td>\n      <td>...</td>\n      <td>MW4</td>\n      <td>Fri</td>\n      <td>DQ1_Asia</td>\n      <td>Q2_90m</td>\n      <td>&lt;p10</td>\n      <td>&lt;p10</td>\n      <td>&lt;p70</td>\n      <td>BTCUSDT-t90mo-two-tmo-tyo</td>\n      <td>BTCUSDT-t90mo-two-tmo-tyo</td>\n      <td>2025-05-02</td>\n    </tr>\n    <tr>\n      <th>8</th>\n      <td>2025-05-02 00:00</td>\n      <td>ETHUSDT</td>\n      <td>10.545079</td>\n      <td>8.989090</td>\n      <td>-41.042046</td>\n      <td>-69.132374</td>\n      <td>20.062958</td>\n      <td>2025-05-02</td>\n      <td>20.062958</td>\n      <td>3</td>\n      <td>...</td>\n      <td>MW4</td>\n      <td>Fri</td>\n      <td>DQ1_Asia</td>\n      <td>Q2_90m</td>\n      <td>&lt;p30</td>\n      <td>&lt;p30</td>\n      <td>&lt;p30</td>\n      <td>t90mo-ETHUSDT-tyo-two-tmo</td>\n      <td>t90mo-tyo-ETHUSDT-two-tmo</td>\n      <td>2025-05-02</td>\n    </tr>\n    <tr>\n      <th>9</th>\n      <td>2025-05-21 00:00</td>\n      <td>BTCUSDT</td>\n      <td>10.341713</td>\n      <td>8.318281</td>\n      <td>-30.700333</td>\n      <td>-60.814093</td>\n      <td>10.341713</td>\n      <td>2025-05-20</td>\n      <td>96.497227</td>\n      <td>0</td>\n      <td>...</td>\n      <td>MW3</td>\n      <td>Wed</td>\n      <td>DQ1_Asia</td>\n      <td>Q2_90m</td>\n      <td>&lt;p30</td>\n      <td>&lt;p30</td>\n      <td>&lt;p70</td>\n      <td>t90mo-BTCUSDT-two-tmo-tyo</td>\n      <td>tdo-BTCUSDT-two-tmo-tyo</td>\n      <td>2025-05-21</td>\n    </tr>\n    <tr>\n      <th>10</th>\n      <td>2025-05-21 00:00</td>\n      <td>ETHUSDT</td>\n      <td>36.859739</td>\n      <td>35.553668</td>\n      <td>6.159406</td>\n      <td>-25.260425</td>\n      <td>47.201452</td>\n      <td>2025-05-20</td>\n      <td>96.497227</td>\n      <td>0</td>\n      <td>...</td>\n      <td>MW3</td>\n      <td>Wed</td>\n      <td>DQ1_Asia</td>\n      <td>Q2_90m</td>\n      <td>&lt;p70</td>\n      <td>&lt;p70</td>\n      <td>&lt;p30</td>\n      <td>t90mo-ETHUSDT-two-tmo-tyo</td>\n      <td>tdo-two-tmo-ETHUSDT-tyo</td>\n      <td>2025-05-21</td>\n    </tr>\n    <tr>\n      <th>11</th>\n      <td>2025-05-21 00:00</td>\n      <td>SOLUSDT</td>\n      <td>49.295775</td>\n      <td>47.630482</td>\n      <td>55.455181</td>\n      <td>22.370058</td>\n      <td>96.497227</td>\n      <td>2025-05-20</td>\n      <td>96.497227</td>\n      <td>0</td>\n      <td>...</td>\n      <td>MW3</td>\n      <td>Wed</td>\n      <td>DQ1_Asia</td>\n      <td>Q2_90m</td>\n      <td>&lt;p90</td>\n      <td>&lt;p70</td>\n      <td>&lt;p70</td>\n      <td>tmo-t90mo-SOLUSDT-two-tyo</td>\n      <td>tmo-tdo-t90mo-SOLUSDT-two-tyo</td>\n      <td>2025-05-21</td>\n    </tr>\n    <tr>\n      <th>12</th>\n      <td>2025-06-15 00:00</td>\n      <td>SOLUSDT</td>\n      <td>113.089005</td>\n      <td>109.632487</td>\n      <td>168.544186</td>\n      <td>132.002544</td>\n      <td>113.089005</td>\n      <td>2025-06-13</td>\n      <td>197.489646</td>\n      <td>0</td>\n      <td>...</td>\n      <td>MW2</td>\n      <td>Sun</td>\n      <td>DQ1_Asia</td>\n      <td>Q2_90m</td>\n      <td>&gt;=p90</td>\n      <td>&lt;p70</td>\n      <td>&lt;p90</td>\n      <td>two-tmo-SOLUSDT-t90mo-tyo</td>\n      <td>two-tmo-tdo-t90mo-SOLUSDT-tyo</td>\n      <td>2025-06-15</td>\n    </tr>\n    <tr>\n      <th>13</th>\n      <td>2025-06-15 00:00</td>\n      <td>BTCUSDT</td>\n      <td>29.633271</td>\n      <td>26.166646</td>\n      <td>198.177457</td>\n      <td>158.169190</td>\n      <td>142.722277</td>\n      <td>2025-06-13</td>\n      <td>197.489646</td>\n      <td>0</td>\n      <td>...</td>\n      <td>MW2</td>\n      <td>Sun</td>\n      <td>DQ1_Asia</td>\n      <td>Q2_90m</td>\n      <td>&lt;p70</td>\n      <td>&lt;p90</td>\n      <td>&lt;p90</td>\n      <td>two-tmo-BTCUSDT-t90mo-tyo</td>\n      <td>tmo-tdo-BTCUSDT-tyo</td>\n      <td>2025-06-15</td>\n    </tr>\n    <tr>\n      <th>14</th>\n      <td>2025-06-15 00:00</td>\n      <td>ETHUSDT</td>\n      <td>54.767369</td>\n      <td>52.367704</td>\n      <td>252.944826</td>\n      <td>210.536894</td>\n      <td>197.489646</td>\n      <td>2025-06-13</td>\n      <td>197.489646</td>\n      <td>0</td>\n      <td>...</td>\n      <td>MW2</td>\n      <td>Sun</td>\n      <td>DQ1_Asia</td>\n      <td>Q2_90m</td>\n      <td>&lt;p90</td>\n      <td>&lt;p90</td>\n      <td>&lt;p70</td>\n      <td>two-tmo-ETHUSDT-t90mo-tyo</td>\n      <td>tdo-tmo-ETHUSDT-tyo</td>\n      <td>2025-06-15</td>\n    </tr>\n    <tr>\n      <th>15</th>\n      <td>2025-07-17 00:00</td>\n      <td>ETHUSDT</td>\n      <td>12.039312</td>\n      <td>11.343774</td>\n      <td>264.984138</td>\n      <td>221.880668</td>\n      <td>12.039312</td>\n      <td>2025-07-16</td>\n      <td>78.136064</td>\n      <td>0</td>\n      <td>...</td>\n      <td>MW2</td>\n      <td>Thu</td>\n      <td>DQ1_Asia</td>\n      <td>Q2_90m</td>\n      <td>&lt;p30</td>\n      <td>&lt;p70</td>\n      <td>&lt;p10</td>\n      <td>ETHUSDT-t90mo-two-tmo-tyo</td>\n      <td>t90mo-tdo-ETHUSDT-two-tmo-tyo</td>\n      <td>2025-07-17</td>\n    </tr>\n    <tr>\n      <th>16</th>\n      <td>2025-07-17 00:00</td>\n      <td>SOLUSDT</td>\n      <td>14.277072</td>\n      <td>13.325239</td>\n      <td>279.261210</td>\n      <td>235.205907</td>\n      <td>26.316384</td>\n      <td>2025-07-16</td>\n      <td>78.136064</td>\n      <td>0</td>\n      <td>...</td>\n      <td>MW2</td>\n      <td>Thu</td>\n      <td>DQ1_Asia</td>\n      <td>Q2_90m</td>\n      <td>&lt;p70</td>\n      <td>&lt;p70</td>\n      <td>&lt;p10</td>\n      <td>SOLUSDT-t90mo-two-tmo-tyo</td>\n      <td>t90mo-tdo-SOLUSDT-two-tmo-tyo</td>\n      <td>2025-07-17</td>\n    </tr>\n    <tr>\n      <th>17</th>\n      <td>2025-07-17 00:00</td>\n      <td>BTCUSDT</td>\n      <td>51.819680</td>\n      <td>48.131882</td>\n      <td>331.080890</td>\n      <td>283.337788</td>\n      <td>78.136064</td>\n      <td>2025-07-16</td>\n      <td>78.136064</td>\n      <td>0</td>\n      <td>...</td>\n      <td>MW2</td>\n      <td>Thu</td>\n      <td>DQ1_Asia</td>\n      <td>Q2_90m</td>\n      <td>&lt;p90</td>\n      <td>&lt;p90</td>\n      <td>&lt;p90</td>\n      <td>two-t90mo-tmo-BTCUSDT-tyo</td>\n      <td>two-t90mo-tmo-tdo-BTCUSDT-tyo</td>\n      <td>2025-07-17</td>\n    </tr>\n  </tbody>\n</table>\n<p>18 rows × 39 columns</p>\n</div>"
     },
     "execution_count": 115,
     "metadata": {},
     "output_type": "execute_result"
    }
   ],
   "source": [
    "trades_df_2025.query(\"0.01 < entry_rr < 200\")"
   ],
   "metadata": {
    "collapsed": false,
    "ExecuteTime": {
     "end_time": "2025-08-30T14:29:37.894622Z",
     "start_time": "2025-08-30T14:29:37.796610Z"
    }
   },
   "id": "7947ce3bea8d6633",
   "execution_count": 115
  }
 ],
 "metadata": {
  "kernelspec": {
   "display_name": "Python 3 (ipykernel)",
   "language": "python",
   "name": "python3"
  },
  "language_info": {
   "codemirror_mode": {
    "name": "ipython",
    "version": 3
   },
   "file_extension": ".py",
   "mimetype": "text/x-python",
   "name": "python",
   "nbconvert_exporter": "python",
   "pygments_lexer": "ipython3",
   "version": "3.11.11"
  }
 },
 "nbformat": 4,
 "nbformat_minor": 5
}
