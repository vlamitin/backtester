{
 "cells": [
  {
   "cell_type": "code",
   "execution_count": 105,
   "id": "initial_id",
   "metadata": {
    "ExecuteTime": {
     "end_time": "2025-09-02T23:08:51.461156Z",
     "start_time": "2025-09-02T23:08:30.107154Z"
    }
   },
   "outputs": [
    {
     "name": "stdout",
     "output_type": "stream",
     "text": [
      "strategy_29:\n",
      "Trade stat:\n"
     ]
    },
    {
     "data": {
      "text/plain": "                  name  trades   cum_pnl  minus_fees  cum_final_close_pnl  \\\n0           market all    1702   1296.06   -21103.84             -2937.78   \n1            limit all    3593  15201.47   -36647.09            -11012.81   \n2      chase_median_rr    1191   4223.46   -11640.66             -5039.89   \n3        chase_mean_rr     766   3262.26   -14520.01             -8292.29   \n4     chase_absent_tyo       3   1703.84     1677.13              1283.81   \n5     chase_absent_tmo       3    140.30      130.40               140.30   \n6     chase_absent_two      12    223.34       75.40               241.19   \n7     chase_absent_tdo     169   4911.69     3118.39              4758.53   \n8   chase_absent_t90mo     298  -1447.72    -4489.21             -2724.08   \n9            chase_tyo       8    542.29      489.35               501.16   \n10           chase_tmo      40    708.31    -1010.01               731.10   \n11           chase_two     124   4209.08     3160.49              3442.40   \n12           chase_tdo     455  -1115.19    -5490.89             -1768.82   \n13         chase_t90mo     524  -2160.17    -8147.47             -4286.22   \n\n    cum_pre_final_closes_pnl  win_rate  \n0                    4233.84     0.400  \n1                   26214.28     0.350  \n2                    9263.36     0.340  \n3                   11554.55     0.255  \n4                     420.03     1.000  \n5                       0.00     1.000  \n6                     -17.85     0.333  \n7                     153.16     0.396  \n8                    1276.35     0.436  \n9                      41.13     0.625  \n10                    -22.79     0.500  \n11                    766.68     0.500  \n12                    653.63     0.455  \n13                   2126.05     0.298  ",
      "text/html": "<div>\n<style scoped>\n    .dataframe tbody tr th:only-of-type {\n        vertical-align: middle;\n    }\n\n    .dataframe tbody tr th {\n        vertical-align: top;\n    }\n\n    .dataframe thead th {\n        text-align: right;\n    }\n</style>\n<table border=\"1\" class=\"dataframe\">\n  <thead>\n    <tr style=\"text-align: right;\">\n      <th></th>\n      <th>name</th>\n      <th>trades</th>\n      <th>cum_pnl</th>\n      <th>minus_fees</th>\n      <th>cum_final_close_pnl</th>\n      <th>cum_pre_final_closes_pnl</th>\n      <th>win_rate</th>\n    </tr>\n  </thead>\n  <tbody>\n    <tr>\n      <th>0</th>\n      <td>market all</td>\n      <td>1702</td>\n      <td>1296.06</td>\n      <td>-21103.84</td>\n      <td>-2937.78</td>\n      <td>4233.84</td>\n      <td>0.400</td>\n    </tr>\n    <tr>\n      <th>1</th>\n      <td>limit all</td>\n      <td>3593</td>\n      <td>15201.47</td>\n      <td>-36647.09</td>\n      <td>-11012.81</td>\n      <td>26214.28</td>\n      <td>0.350</td>\n    </tr>\n    <tr>\n      <th>2</th>\n      <td>chase_median_rr</td>\n      <td>1191</td>\n      <td>4223.46</td>\n      <td>-11640.66</td>\n      <td>-5039.89</td>\n      <td>9263.36</td>\n      <td>0.340</td>\n    </tr>\n    <tr>\n      <th>3</th>\n      <td>chase_mean_rr</td>\n      <td>766</td>\n      <td>3262.26</td>\n      <td>-14520.01</td>\n      <td>-8292.29</td>\n      <td>11554.55</td>\n      <td>0.255</td>\n    </tr>\n    <tr>\n      <th>4</th>\n      <td>chase_absent_tyo</td>\n      <td>3</td>\n      <td>1703.84</td>\n      <td>1677.13</td>\n      <td>1283.81</td>\n      <td>420.03</td>\n      <td>1.000</td>\n    </tr>\n    <tr>\n      <th>5</th>\n      <td>chase_absent_tmo</td>\n      <td>3</td>\n      <td>140.30</td>\n      <td>130.40</td>\n      <td>140.30</td>\n      <td>0.00</td>\n      <td>1.000</td>\n    </tr>\n    <tr>\n      <th>6</th>\n      <td>chase_absent_two</td>\n      <td>12</td>\n      <td>223.34</td>\n      <td>75.40</td>\n      <td>241.19</td>\n      <td>-17.85</td>\n      <td>0.333</td>\n    </tr>\n    <tr>\n      <th>7</th>\n      <td>chase_absent_tdo</td>\n      <td>169</td>\n      <td>4911.69</td>\n      <td>3118.39</td>\n      <td>4758.53</td>\n      <td>153.16</td>\n      <td>0.396</td>\n    </tr>\n    <tr>\n      <th>8</th>\n      <td>chase_absent_t90mo</td>\n      <td>298</td>\n      <td>-1447.72</td>\n      <td>-4489.21</td>\n      <td>-2724.08</td>\n      <td>1276.35</td>\n      <td>0.436</td>\n    </tr>\n    <tr>\n      <th>9</th>\n      <td>chase_tyo</td>\n      <td>8</td>\n      <td>542.29</td>\n      <td>489.35</td>\n      <td>501.16</td>\n      <td>41.13</td>\n      <td>0.625</td>\n    </tr>\n    <tr>\n      <th>10</th>\n      <td>chase_tmo</td>\n      <td>40</td>\n      <td>708.31</td>\n      <td>-1010.01</td>\n      <td>731.10</td>\n      <td>-22.79</td>\n      <td>0.500</td>\n    </tr>\n    <tr>\n      <th>11</th>\n      <td>chase_two</td>\n      <td>124</td>\n      <td>4209.08</td>\n      <td>3160.49</td>\n      <td>3442.40</td>\n      <td>766.68</td>\n      <td>0.500</td>\n    </tr>\n    <tr>\n      <th>12</th>\n      <td>chase_tdo</td>\n      <td>455</td>\n      <td>-1115.19</td>\n      <td>-5490.89</td>\n      <td>-1768.82</td>\n      <td>653.63</td>\n      <td>0.455</td>\n    </tr>\n    <tr>\n      <th>13</th>\n      <td>chase_t90mo</td>\n      <td>524</td>\n      <td>-2160.17</td>\n      <td>-8147.47</td>\n      <td>-4286.22</td>\n      <td>2126.05</td>\n      <td>0.298</td>\n    </tr>\n  </tbody>\n</table>\n</div>"
     },
     "metadata": {},
     "output_type": "display_data"
    },
    {
     "name": "stdout",
     "output_type": "stream",
     "text": [
      "Limit orders stat:\n"
     ]
    },
    {
     "data": {
      "text/plain": "                  name  orders  trades  conversion\n0            limit all    7930    3593       45.31\n1      chase_median_rr    1702    1191       69.98\n2        chase_mean_rr    1703     766       44.98\n3     chase_absent_tyo     456       3        0.66\n4     chase_absent_tmo     348       3        0.86\n5     chase_absent_two     159      12        7.55\n6     chase_absent_tdo     471     169       35.88\n7   chase_absent_t90mo     562     298       53.02\n8            chase_tyo      52       8       15.38\n9            chase_tmo     160      40       25.00\n10           chase_two     500     124       24.80\n11           chase_tdo     975     455       46.67\n12         chase_t90mo     842     524       62.23",
      "text/html": "<div>\n<style scoped>\n    .dataframe tbody tr th:only-of-type {\n        vertical-align: middle;\n    }\n\n    .dataframe tbody tr th {\n        vertical-align: top;\n    }\n\n    .dataframe thead th {\n        text-align: right;\n    }\n</style>\n<table border=\"1\" class=\"dataframe\">\n  <thead>\n    <tr style=\"text-align: right;\">\n      <th></th>\n      <th>name</th>\n      <th>orders</th>\n      <th>trades</th>\n      <th>conversion</th>\n    </tr>\n  </thead>\n  <tbody>\n    <tr>\n      <th>0</th>\n      <td>limit all</td>\n      <td>7930</td>\n      <td>3593</td>\n      <td>45.31</td>\n    </tr>\n    <tr>\n      <th>1</th>\n      <td>chase_median_rr</td>\n      <td>1702</td>\n      <td>1191</td>\n      <td>69.98</td>\n    </tr>\n    <tr>\n      <th>2</th>\n      <td>chase_mean_rr</td>\n      <td>1703</td>\n      <td>766</td>\n      <td>44.98</td>\n    </tr>\n    <tr>\n      <th>3</th>\n      <td>chase_absent_tyo</td>\n      <td>456</td>\n      <td>3</td>\n      <td>0.66</td>\n    </tr>\n    <tr>\n      <th>4</th>\n      <td>chase_absent_tmo</td>\n      <td>348</td>\n      <td>3</td>\n      <td>0.86</td>\n    </tr>\n    <tr>\n      <th>5</th>\n      <td>chase_absent_two</td>\n      <td>159</td>\n      <td>12</td>\n      <td>7.55</td>\n    </tr>\n    <tr>\n      <th>6</th>\n      <td>chase_absent_tdo</td>\n      <td>471</td>\n      <td>169</td>\n      <td>35.88</td>\n    </tr>\n    <tr>\n      <th>7</th>\n      <td>chase_absent_t90mo</td>\n      <td>562</td>\n      <td>298</td>\n      <td>53.02</td>\n    </tr>\n    <tr>\n      <th>8</th>\n      <td>chase_tyo</td>\n      <td>52</td>\n      <td>8</td>\n      <td>15.38</td>\n    </tr>\n    <tr>\n      <th>9</th>\n      <td>chase_tmo</td>\n      <td>160</td>\n      <td>40</td>\n      <td>25.00</td>\n    </tr>\n    <tr>\n      <th>10</th>\n      <td>chase_two</td>\n      <td>500</td>\n      <td>124</td>\n      <td>24.80</td>\n    </tr>\n    <tr>\n      <th>11</th>\n      <td>chase_tdo</td>\n      <td>975</td>\n      <td>455</td>\n      <td>46.67</td>\n    </tr>\n    <tr>\n      <th>12</th>\n      <td>chase_t90mo</td>\n      <td>842</td>\n      <td>524</td>\n      <td>62.23</td>\n    </tr>\n  </tbody>\n</table>\n</div>"
     },
     "metadata": {},
     "output_type": "display_data"
    }
   ],
   "source": [
    "from typing import Tuple, List, Optional\n",
    "import pandas as pd\n",
    "from IPython.display import display\n",
    "import numpy as np\n",
    "\n",
    "from stock_market_research_kit.smt_psp_trade import smt_psp_trades_from_json\n",
    "from scripts.run_smt_strategies_analyzer import to_trade_dfs, \\\n",
    "    with_cum_and_stagnation, strategy29_2025_snapshot, strategy29_2024_snapshot\n",
    "\n",
    "# with open(strategy29_2025_snapshot, \"r\", encoding=\"utf-8\") as f:\n",
    "with open(strategy29_2024_snapshot, \"r\", encoding=\"utf-8\") as f:\n",
    "    json_str = f.read()\n",
    "df_m, df_l, df_lo = to_trade_dfs(smt_psp_trades_from_json(json_str))\n",
    "\n",
    "df_l_chase_median_rr = with_cum_and_stagnation(df_l.query('limit_reason == \"chase_median_rr\"'))\n",
    "df_l_chase_mean_rr = with_cum_and_stagnation(df_l.query('limit_reason == \"chase_mean_rr\"'))\n",
    "df_l_chase_absent_tyo = with_cum_and_stagnation(df_l.query('limit_reason == \"chase_absent_tyo\"'))\n",
    "df_l_chase_absent_tmo = with_cum_and_stagnation(df_l.query('limit_reason == \"chase_absent_tmo\"'))\n",
    "df_l_chase_absent_two = with_cum_and_stagnation(df_l.query('limit_reason == \"chase_absent_two\"'))\n",
    "df_l_chase_absent_tdo = with_cum_and_stagnation(df_l.query('limit_reason == \"chase_absent_tdo\"'))\n",
    "df_l_chase_absent_t90mo = with_cum_and_stagnation(df_l.query('limit_reason == \"chase_absent_t90mo\"'))\n",
    "df_l_chase_tyo = with_cum_and_stagnation(df_l.query('limit_reason == \"chase_tyo\"'))\n",
    "df_l_chase_tmo = with_cum_and_stagnation(df_l.query('limit_reason == \"chase_tmo\"'))\n",
    "df_l_chase_two = with_cum_and_stagnation(df_l.query('limit_reason == \"chase_two\"'))\n",
    "df_l_chase_tdo = with_cum_and_stagnation(df_l.query('limit_reason == \"chase_tdo\"'))\n",
    "df_l_chase_t90mo = with_cum_and_stagnation(df_l.query('limit_reason == \"chase_t90mo\"'))\n",
    "\n",
    "df_m = with_cum_and_stagnation(df_m)\n",
    "df_l = with_cum_and_stagnation(df_l)\n",
    "\n",
    "df_lo_chase_median_rr = df_lo.query('limit_reason == \"chase_median_rr\"')\n",
    "df_lo_chase_mean_rr = df_lo.query('limit_reason == \"chase_mean_rr\"')\n",
    "df_lo_chase_absent_tyo = df_lo.query('limit_reason == \"chase_absent_tyo\"')\n",
    "df_lo_chase_absent_tmo = df_lo.query('limit_reason == \"chase_absent_tmo\"')\n",
    "df_lo_chase_absent_two = df_lo.query('limit_reason == \"chase_absent_two\"')\n",
    "df_lo_chase_absent_tdo = df_lo.query('limit_reason == \"chase_absent_tdo\"')\n",
    "df_lo_chase_absent_t90mo = df_lo.query('limit_reason == \"chase_absent_t90mo\"')\n",
    "df_lo_chase_tyo = df_lo.query('limit_reason == \"chase_tyo\"')\n",
    "df_lo_chase_tmo = df_lo.query('limit_reason == \"chase_tmo\"')\n",
    "df_lo_chase_two = df_lo.query('limit_reason == \"chase_two\"')\n",
    "df_lo_chase_tdo = df_lo.query('limit_reason == \"chase_tdo\"')\n",
    "df_lo_chase_t90mo = df_lo.query('limit_reason == \"chase_t90mo\"')\n",
    "\n",
    "def basic_trade_stat(name, df) -> Tuple[str, int, float, float, float, float, float]:\n",
    "    if len(df) == 0:\n",
    "        return name, 0, 0, 0, 0, 0, 0\n",
    "    return (\n",
    "        name, len(df), round(df['cum_pnl_usd'].iloc[-1], 2),\n",
    "        round(df['cum_pnl_minus_fees'].iloc[-1], 2), \n",
    "        round(df['cum_final_close_pnl'].iloc[-1], 2), \n",
    "        round(df['cum_pre_final_closes_pnl'].iloc[-1], 2), \n",
    "        round(len(df.query('won')) / len(df), 3)\n",
    "    )\n",
    "\n",
    "def basic_lo_stat(name, df) -> Tuple[str, int, int, float]:\n",
    "    if len(df) == 0:\n",
    "        return name, 0, 0, 0\n",
    "    filled_orders = df.query('limit_status == \"FILLED\"')\n",
    "    return name, len(df), len(filled_orders), round(100 * len(filled_orders) / len(df), 2)\n",
    "\n",
    "df_trade_stat = pd.DataFrame([\n",
    "    basic_trade_stat('market all', df_m),\n",
    "    basic_trade_stat('limit all', df_l),\n",
    "    basic_trade_stat('chase_median_rr', df_l_chase_median_rr),\n",
    "    basic_trade_stat('chase_mean_rr', df_l_chase_mean_rr),\n",
    "    basic_trade_stat('chase_absent_tyo', df_l_chase_absent_tyo),\n",
    "    basic_trade_stat('chase_absent_tmo', df_l_chase_absent_tmo),\n",
    "    basic_trade_stat('chase_absent_two', df_l_chase_absent_two),\n",
    "    basic_trade_stat('chase_absent_tdo', df_l_chase_absent_tdo),\n",
    "    basic_trade_stat('chase_absent_t90mo', df_l_chase_absent_t90mo),\n",
    "    basic_trade_stat('chase_tyo', df_l_chase_tyo),\n",
    "    basic_trade_stat('chase_tmo', df_l_chase_tmo),\n",
    "    basic_trade_stat('chase_two', df_l_chase_two),\n",
    "    basic_trade_stat('chase_tdo', df_l_chase_tdo),\n",
    "    basic_trade_stat('chase_t90mo', df_l_chase_t90mo),\n",
    "], columns=[\n",
    "    'name',\n",
    "    'trades',\n",
    "    'cum_pnl',\n",
    "    'minus_fees',\n",
    "    'cum_final_close_pnl',\n",
    "    'cum_pre_final_closes_pnl',\n",
    "    'win_rate',\n",
    "])\n",
    "\n",
    "df_lo_stat = pd.DataFrame([\n",
    "    basic_lo_stat('limit all', df_lo),\n",
    "    basic_lo_stat('chase_median_rr', df_lo_chase_median_rr),\n",
    "    basic_lo_stat('chase_mean_rr', df_lo_chase_mean_rr),\n",
    "    basic_lo_stat('chase_absent_tyo', df_lo_chase_absent_tyo),\n",
    "    basic_lo_stat('chase_absent_tmo', df_lo_chase_absent_tmo),\n",
    "    basic_lo_stat('chase_absent_two', df_lo_chase_absent_two),\n",
    "    basic_lo_stat('chase_absent_tdo', df_lo_chase_absent_tdo),\n",
    "    basic_lo_stat('chase_absent_t90mo', df_lo_chase_absent_t90mo),\n",
    "    basic_lo_stat('chase_tyo', df_lo_chase_tyo),\n",
    "    basic_lo_stat('chase_tmo', df_lo_chase_tmo),\n",
    "    basic_lo_stat('chase_two', df_lo_chase_two),\n",
    "    basic_lo_stat('chase_tdo', df_lo_chase_tdo),\n",
    "    basic_lo_stat('chase_t90mo', df_lo_chase_t90mo),\n",
    "], columns=[\n",
    "    'name',\n",
    "    'orders',\n",
    "    'trades',\n",
    "    'conversion',\n",
    "])\n",
    "\n",
    "print(f\"{f.name[23:34]}:\")\n",
    "print(f\"Trade stat:\")\n",
    "display(df_trade_stat)\n",
    "print(f\"Limit orders stat:\")\n",
    "display(df_lo_stat)\n",
    "\n"
   ]
  },
  {
   "cell_type": "code",
   "outputs": [
    {
     "data": {
      "text/plain": "'market all'"
     },
     "metadata": {},
     "output_type": "display_data"
    },
    {
     "data": {
      "text/plain": "                            mean  median  count\npsp_key entry_rr_perc                          \n2h      >=p90          38.763532  -100.0     46",
      "text/html": "<div>\n<style scoped>\n    .dataframe tbody tr th:only-of-type {\n        vertical-align: middle;\n    }\n\n    .dataframe tbody tr th {\n        vertical-align: top;\n    }\n\n    .dataframe thead th {\n        text-align: right;\n    }\n</style>\n<table border=\"1\" class=\"dataframe\">\n  <thead>\n    <tr style=\"text-align: right;\">\n      <th></th>\n      <th></th>\n      <th>mean</th>\n      <th>median</th>\n      <th>count</th>\n    </tr>\n    <tr>\n      <th>psp_key</th>\n      <th>entry_rr_perc</th>\n      <th></th>\n      <th></th>\n      <th></th>\n    </tr>\n  </thead>\n  <tbody>\n    <tr>\n      <th>2h</th>\n      <th>&gt;=p90</th>\n      <td>38.763532</td>\n      <td>-100.0</td>\n      <td>46</td>\n    </tr>\n  </tbody>\n</table>\n</div>"
     },
     "metadata": {},
     "output_type": "display_data"
    },
    {
     "data": {
      "text/plain": "'limit all'"
     },
     "metadata": {},
     "output_type": "display_data"
    },
    {
     "data": {
      "text/plain": "                            mean     median  count\npsp_key entry_rr_perc                             \n2h      <p90           23.296578 -81.932037    231",
      "text/html": "<div>\n<style scoped>\n    .dataframe tbody tr th:only-of-type {\n        vertical-align: middle;\n    }\n\n    .dataframe tbody tr th {\n        vertical-align: top;\n    }\n\n    .dataframe thead th {\n        text-align: right;\n    }\n</style>\n<table border=\"1\" class=\"dataframe\">\n  <thead>\n    <tr style=\"text-align: right;\">\n      <th></th>\n      <th></th>\n      <th>mean</th>\n      <th>median</th>\n      <th>count</th>\n    </tr>\n    <tr>\n      <th>psp_key</th>\n      <th>entry_rr_perc</th>\n      <th></th>\n      <th></th>\n      <th></th>\n    </tr>\n  </thead>\n  <tbody>\n    <tr>\n      <th>2h</th>\n      <th>&lt;p90</th>\n      <td>23.296578</td>\n      <td>-81.932037</td>\n      <td>231</td>\n    </tr>\n  </tbody>\n</table>\n</div>"
     },
     "metadata": {},
     "output_type": "display_data"
    },
    {
     "data": {
      "text/plain": "'chase_median_rr'"
     },
     "metadata": {},
     "output_type": "display_data"
    },
    {
     "data": {
      "text/plain": "                            mean     median  count\npsp_key entry_rr_perc                             \n1h      <p70           16.999562 -59.667156    252\n        <p90           21.537388 -74.880498    153\n2h      <p30           21.350326  47.569191     73\n        <p90           22.854827 -82.453931     87",
      "text/html": "<div>\n<style scoped>\n    .dataframe tbody tr th:only-of-type {\n        vertical-align: middle;\n    }\n\n    .dataframe tbody tr th {\n        vertical-align: top;\n    }\n\n    .dataframe thead th {\n        text-align: right;\n    }\n</style>\n<table border=\"1\" class=\"dataframe\">\n  <thead>\n    <tr style=\"text-align: right;\">\n      <th></th>\n      <th></th>\n      <th>mean</th>\n      <th>median</th>\n      <th>count</th>\n    </tr>\n    <tr>\n      <th>psp_key</th>\n      <th>entry_rr_perc</th>\n      <th></th>\n      <th></th>\n      <th></th>\n    </tr>\n  </thead>\n  <tbody>\n    <tr>\n      <th rowspan=\"2\" valign=\"top\">1h</th>\n      <th>&lt;p70</th>\n      <td>16.999562</td>\n      <td>-59.667156</td>\n      <td>252</td>\n    </tr>\n    <tr>\n      <th>&lt;p90</th>\n      <td>21.537388</td>\n      <td>-74.880498</td>\n      <td>153</td>\n    </tr>\n    <tr>\n      <th rowspan=\"2\" valign=\"top\">2h</th>\n      <th>&lt;p30</th>\n      <td>21.350326</td>\n      <td>47.569191</td>\n      <td>73</td>\n    </tr>\n    <tr>\n      <th>&lt;p90</th>\n      <td>22.854827</td>\n      <td>-82.453931</td>\n      <td>87</td>\n    </tr>\n  </tbody>\n</table>\n</div>"
     },
     "metadata": {},
     "output_type": "display_data"
    },
    {
     "data": {
      "text/plain": "'chase_mean_rr'"
     },
     "metadata": {},
     "output_type": "display_data"
    },
    {
     "data": {
      "text/plain": "                            mean     median  count\npsp_key entry_rr_perc                             \n2h      <p30           50.949840  73.765895     14\n        <p70           39.367224 -47.074099     82",
      "text/html": "<div>\n<style scoped>\n    .dataframe tbody tr th:only-of-type {\n        vertical-align: middle;\n    }\n\n    .dataframe tbody tr th {\n        vertical-align: top;\n    }\n\n    .dataframe thead th {\n        text-align: right;\n    }\n</style>\n<table border=\"1\" class=\"dataframe\">\n  <thead>\n    <tr style=\"text-align: right;\">\n      <th></th>\n      <th></th>\n      <th>mean</th>\n      <th>median</th>\n      <th>count</th>\n    </tr>\n    <tr>\n      <th>psp_key</th>\n      <th>entry_rr_perc</th>\n      <th></th>\n      <th></th>\n      <th></th>\n    </tr>\n  </thead>\n  <tbody>\n    <tr>\n      <th rowspan=\"2\" valign=\"top\">2h</th>\n      <th>&lt;p30</th>\n      <td>50.949840</td>\n      <td>73.765895</td>\n      <td>14</td>\n    </tr>\n    <tr>\n      <th>&lt;p70</th>\n      <td>39.367224</td>\n      <td>-47.074099</td>\n      <td>82</td>\n    </tr>\n  </tbody>\n</table>\n</div>"
     },
     "metadata": {},
     "output_type": "display_data"
    },
    {
     "data": {
      "text/plain": "'chase_absent_tdo'"
     },
     "metadata": {},
     "output_type": "display_data"
    },
    {
     "data": {
      "text/plain": "                             mean      median  count\npsp_key entry_rr_perc                               \n1h      <p70            61.812474  -49.871768     40\n        >=p90           74.936906 -100.000000      5\n2h      <p70            23.567278  -67.004660     31\n        <p90           156.076351  -62.555221      9",
      "text/html": "<div>\n<style scoped>\n    .dataframe tbody tr th:only-of-type {\n        vertical-align: middle;\n    }\n\n    .dataframe tbody tr th {\n        vertical-align: top;\n    }\n\n    .dataframe thead th {\n        text-align: right;\n    }\n</style>\n<table border=\"1\" class=\"dataframe\">\n  <thead>\n    <tr style=\"text-align: right;\">\n      <th></th>\n      <th></th>\n      <th>mean</th>\n      <th>median</th>\n      <th>count</th>\n    </tr>\n    <tr>\n      <th>psp_key</th>\n      <th>entry_rr_perc</th>\n      <th></th>\n      <th></th>\n      <th></th>\n    </tr>\n  </thead>\n  <tbody>\n    <tr>\n      <th rowspan=\"2\" valign=\"top\">1h</th>\n      <th>&lt;p70</th>\n      <td>61.812474</td>\n      <td>-49.871768</td>\n      <td>40</td>\n    </tr>\n    <tr>\n      <th>&gt;=p90</th>\n      <td>74.936906</td>\n      <td>-100.000000</td>\n      <td>5</td>\n    </tr>\n    <tr>\n      <th rowspan=\"2\" valign=\"top\">2h</th>\n      <th>&lt;p70</th>\n      <td>23.567278</td>\n      <td>-67.004660</td>\n      <td>31</td>\n    </tr>\n    <tr>\n      <th>&lt;p90</th>\n      <td>156.076351</td>\n      <td>-62.555221</td>\n      <td>9</td>\n    </tr>\n  </tbody>\n</table>\n</div>"
     },
     "metadata": {},
     "output_type": "display_data"
    },
    {
     "data": {
      "text/plain": "'chase_absent_t90mo'"
     },
     "metadata": {},
     "output_type": "display_data"
    },
    {
     "data": {
      "text/plain": "                            mean     median  count\npsp_key entry_rr_perc                             \n2h      <p90           72.884419  34.914818      8\n4h      <p30           16.573500  29.299628     31",
      "text/html": "<div>\n<style scoped>\n    .dataframe tbody tr th:only-of-type {\n        vertical-align: middle;\n    }\n\n    .dataframe tbody tr th {\n        vertical-align: top;\n    }\n\n    .dataframe thead th {\n        text-align: right;\n    }\n</style>\n<table border=\"1\" class=\"dataframe\">\n  <thead>\n    <tr style=\"text-align: right;\">\n      <th></th>\n      <th></th>\n      <th>mean</th>\n      <th>median</th>\n      <th>count</th>\n    </tr>\n    <tr>\n      <th>psp_key</th>\n      <th>entry_rr_perc</th>\n      <th></th>\n      <th></th>\n      <th></th>\n    </tr>\n  </thead>\n  <tbody>\n    <tr>\n      <th>2h</th>\n      <th>&lt;p90</th>\n      <td>72.884419</td>\n      <td>34.914818</td>\n      <td>8</td>\n    </tr>\n    <tr>\n      <th>4h</th>\n      <th>&lt;p30</th>\n      <td>16.573500</td>\n      <td>29.299628</td>\n      <td>31</td>\n    </tr>\n  </tbody>\n</table>\n</div>"
     },
     "metadata": {},
     "output_type": "display_data"
    },
    {
     "data": {
      "text/plain": "'chase_tmo'"
     },
     "metadata": {},
     "output_type": "display_data"
    },
    {
     "data": {
      "text/plain": "                            mean     median  count\npsp_key entry_rr_perc                             \n1h      <p10           31.936406  31.692149      6",
      "text/html": "<div>\n<style scoped>\n    .dataframe tbody tr th:only-of-type {\n        vertical-align: middle;\n    }\n\n    .dataframe tbody tr th {\n        vertical-align: top;\n    }\n\n    .dataframe thead th {\n        text-align: right;\n    }\n</style>\n<table border=\"1\" class=\"dataframe\">\n  <thead>\n    <tr style=\"text-align: right;\">\n      <th></th>\n      <th></th>\n      <th>mean</th>\n      <th>median</th>\n      <th>count</th>\n    </tr>\n    <tr>\n      <th>psp_key</th>\n      <th>entry_rr_perc</th>\n      <th></th>\n      <th></th>\n      <th></th>\n    </tr>\n  </thead>\n  <tbody>\n    <tr>\n      <th>1h</th>\n      <th>&lt;p10</th>\n      <td>31.936406</td>\n      <td>31.692149</td>\n      <td>6</td>\n    </tr>\n  </tbody>\n</table>\n</div>"
     },
     "metadata": {},
     "output_type": "display_data"
    },
    {
     "data": {
      "text/plain": "'chase_two'"
     },
     "metadata": {},
     "output_type": "display_data"
    },
    {
     "data": {
      "text/plain": "                            mean     median  count\npsp_key entry_rr_perc                             \n1h      <p30           24.685585  34.371134     13\n        <p70           16.883311 -55.666249     21\n2h      <p30           30.968921  21.132611      9\n4h      <p10           21.166965  22.157814      5\n        <p70           69.583045  96.031403      8",
      "text/html": "<div>\n<style scoped>\n    .dataframe tbody tr th:only-of-type {\n        vertical-align: middle;\n    }\n\n    .dataframe tbody tr th {\n        vertical-align: top;\n    }\n\n    .dataframe thead th {\n        text-align: right;\n    }\n</style>\n<table border=\"1\" class=\"dataframe\">\n  <thead>\n    <tr style=\"text-align: right;\">\n      <th></th>\n      <th></th>\n      <th>mean</th>\n      <th>median</th>\n      <th>count</th>\n    </tr>\n    <tr>\n      <th>psp_key</th>\n      <th>entry_rr_perc</th>\n      <th></th>\n      <th></th>\n      <th></th>\n    </tr>\n  </thead>\n  <tbody>\n    <tr>\n      <th rowspan=\"2\" valign=\"top\">1h</th>\n      <th>&lt;p30</th>\n      <td>24.685585</td>\n      <td>34.371134</td>\n      <td>13</td>\n    </tr>\n    <tr>\n      <th>&lt;p70</th>\n      <td>16.883311</td>\n      <td>-55.666249</td>\n      <td>21</td>\n    </tr>\n    <tr>\n      <th>2h</th>\n      <th>&lt;p30</th>\n      <td>30.968921</td>\n      <td>21.132611</td>\n      <td>9</td>\n    </tr>\n    <tr>\n      <th rowspan=\"2\" valign=\"top\">4h</th>\n      <th>&lt;p10</th>\n      <td>21.166965</td>\n      <td>22.157814</td>\n      <td>5</td>\n    </tr>\n    <tr>\n      <th>&lt;p70</th>\n      <td>69.583045</td>\n      <td>96.031403</td>\n      <td>8</td>\n    </tr>\n  </tbody>\n</table>\n</div>"
     },
     "metadata": {},
     "output_type": "display_data"
    },
    {
     "data": {
      "text/plain": "'chase_tdo'"
     },
     "metadata": {},
     "output_type": "display_data"
    },
    {
     "data": {
      "text/plain": "                            mean     median  count\npsp_key entry_rr_perc                             \n2h      <p90           47.042833 -68.524387     10\n4h      <p70           29.264202 -50.897441     33",
      "text/html": "<div>\n<style scoped>\n    .dataframe tbody tr th:only-of-type {\n        vertical-align: middle;\n    }\n\n    .dataframe tbody tr th {\n        vertical-align: top;\n    }\n\n    .dataframe thead th {\n        text-align: right;\n    }\n</style>\n<table border=\"1\" class=\"dataframe\">\n  <thead>\n    <tr style=\"text-align: right;\">\n      <th></th>\n      <th></th>\n      <th>mean</th>\n      <th>median</th>\n      <th>count</th>\n    </tr>\n    <tr>\n      <th>psp_key</th>\n      <th>entry_rr_perc</th>\n      <th></th>\n      <th></th>\n      <th></th>\n    </tr>\n  </thead>\n  <tbody>\n    <tr>\n      <th>2h</th>\n      <th>&lt;p90</th>\n      <td>47.042833</td>\n      <td>-68.524387</td>\n      <td>10</td>\n    </tr>\n    <tr>\n      <th>4h</th>\n      <th>&lt;p70</th>\n      <td>29.264202</td>\n      <td>-50.897441</td>\n      <td>33</td>\n    </tr>\n  </tbody>\n</table>\n</div>"
     },
     "metadata": {},
     "output_type": "display_data"
    },
    {
     "data": {
      "text/plain": "'chase_t90mo'"
     },
     "metadata": {},
     "output_type": "display_data"
    },
    {
     "data": {
      "text/plain": "                            mean     median  count\npsp_key entry_rr_perc                             \n2h      <p90           66.774849 -75.560783     27\n4h      <p30           16.204230  34.789651     28",
      "text/html": "<div>\n<style scoped>\n    .dataframe tbody tr th:only-of-type {\n        vertical-align: middle;\n    }\n\n    .dataframe tbody tr th {\n        vertical-align: top;\n    }\n\n    .dataframe thead th {\n        text-align: right;\n    }\n</style>\n<table border=\"1\" class=\"dataframe\">\n  <thead>\n    <tr style=\"text-align: right;\">\n      <th></th>\n      <th></th>\n      <th>mean</th>\n      <th>median</th>\n      <th>count</th>\n    </tr>\n    <tr>\n      <th>psp_key</th>\n      <th>entry_rr_perc</th>\n      <th></th>\n      <th></th>\n      <th></th>\n    </tr>\n  </thead>\n  <tbody>\n    <tr>\n      <th>2h</th>\n      <th>&lt;p90</th>\n      <td>66.774849</td>\n      <td>-75.560783</td>\n      <td>27</td>\n    </tr>\n    <tr>\n      <th>4h</th>\n      <th>&lt;p30</th>\n      <td>16.204230</td>\n      <td>34.789651</td>\n      <td>28</td>\n    </tr>\n  </tbody>\n</table>\n</div>"
     },
     "metadata": {},
     "output_type": "display_data"
    },
    {
     "data": {
      "text/plain": "'market all [0.35, 1.0, 3.29, 6.73]'"
     },
     "metadata": {},
     "output_type": "display_data"
    },
    {
     "data": {
      "text/plain": "'limit all [0.58, 1.6, 5.18, 10.72]'"
     },
     "metadata": {},
     "output_type": "display_data"
    },
    {
     "data": {
      "text/plain": "'chase_median_rr [0.63, 1.96, 5.53, 9.8]'"
     },
     "metadata": {},
     "output_type": "display_data"
    },
    {
     "data": {
      "text/plain": "'chase_mean_rr [1.52, 4.11, 9.64, 17.82]'"
     },
     "metadata": {},
     "output_type": "display_data"
    },
    {
     "data": {
      "text/plain": "'chase_absent_tyo [4.0, 6.39, 9.79, 10.79]'"
     },
     "metadata": {},
     "output_type": "display_data"
    },
    {
     "data": {
      "text/plain": "'chase_absent_tmo [0.32, 0.42, 0.56, 0.59]'"
     },
     "metadata": {},
     "output_type": "display_data"
    },
    {
     "data": {
      "text/plain": "'chase_absent_two [0.54, 1.34, 5.97, 10.86]'"
     },
     "metadata": {},
     "output_type": "display_data"
    },
    {
     "data": {
      "text/plain": "'chase_absent_tdo [0.65, 1.42, 3.77, 7.59]'"
     },
     "metadata": {},
     "output_type": "display_data"
    },
    {
     "data": {
      "text/plain": "'chase_absent_t90mo [0.46, 0.93, 2.71, 5.18]'"
     },
     "metadata": {},
     "output_type": "display_data"
    },
    {
     "data": {
      "text/plain": "'chase_tyo [0.23, 1.12, 3.89, 5.45]'"
     },
     "metadata": {},
     "output_type": "display_data"
    },
    {
     "data": {
      "text/plain": "'chase_tmo [0.39, 0.82, 2.19, 7.65]'"
     },
     "metadata": {},
     "output_type": "display_data"
    },
    {
     "data": {
      "text/plain": "'chase_two [0.22, 0.83, 2.49, 6.6]'"
     },
     "metadata": {},
     "output_type": "display_data"
    },
    {
     "data": {
      "text/plain": "'chase_tdo [0.25, 0.75, 2.42, 5.32]'"
     },
     "metadata": {},
     "output_type": "display_data"
    },
    {
     "data": {
      "text/plain": "'chase_t90mo [0.87, 1.82, 4.56, 8.7]'"
     },
     "metadata": {},
     "output_type": "display_data"
    },
    {
     "data": {
      "text/plain": "                        market all                      limit all              \\\n                              mean      median count         mean      median   \npsp_key entry_rr_perc                                                           \n1h      <p10           -12.74/0.66    7.02/1.0    62   -3.88/0.68   12.64/1.0   \n        <p30           -10.74/0.52    2.69/1.0   132   -7.71/0.45   -37.3/0.0   \n        <p70            -0.44/0.36  -55.52/0.0   315    7.49/0.31  -61.25/0.0   \n        <p90            12.32/0.28   -70.6/0.0   199   12.82/0.21  -85.18/0.0   \n        >=p90          -13.38/0.15  -100.0/0.0   100  -13.17/0.11  -100.0/0.0   \n2h      <p10             4.95/0.82   10.62/1.0    51    8.14/0.78   11.41/1.0   \n        <p30              6.34/0.6   34.93/1.0   125   11.66/0.56   30.06/1.0   \n        <p70            -1.57/0.37  -49.11/0.0   245    4.94/0.32  -62.32/0.0   \n        <p90             13.3/0.25  -70.54/0.0   103    23.3/0.22  -81.93/0.0   \n        >=p90           38.76/0.17  -100.0/0.0    46  -13.61/0.11  -100.0/0.0   \n4h      <p10            -1.23/0.74   10.85/1.0    58   -5.11/0.66    8.91/1.0   \n        <p30              0.76/0.6   23.86/1.0    83   -3.65/0.49   -5.49/0.0   \n        <p70             5.18/0.39  -38.92/0.0   120   10.09/0.33   -56.9/0.0   \n        <p90            -25.8/0.13  -87.82/0.0    38   -6.24/0.16  -97.66/0.0   \n        >=p90           -36.6/0.08  -100.0/0.0    25  -16.19/0.08  -100.0/0.0   \n\n                            chase_median_rr                   chase_mean_rr  \\\n                      count            mean      median count          mean   \npsp_key entry_rr_perc                                                         \n1h      <p10            119     -11.96/0.63   11.91/1.0    49    -9.54/0.67   \n        <p30            272     -17.44/0.42  -47.38/0.0    79   -17.51/0.42   \n        <p70            701       17.0/0.32  -59.67/0.0   252     1.32/0.29   \n        <p90            386      21.54/0.26  -74.88/0.0   153    10.35/0.17   \n        >=p90           207     -24.11/0.09  -100.0/0.0    66     0.32/0.12   \n2h      <p10            124      10.11/0.81    8.18/1.0    32     4.11/0.85   \n        <p30            263       21.35/0.6   47.57/1.0    73    50.95/0.79   \n        <p70            488      -4.97/0.31  -61.26/0.0   170    39.37/0.37   \n        <p90            231      22.85/0.21  -82.45/0.0    87   -18.48/0.17   \n        >=p90           117     -75.68/0.08  -100.0/0.0    24    -2.03/0.13   \n4h      <p10            117      -11.3/0.63    5.33/1.0    30     -38.5/0.5   \n        <p30            183      -5.37/0.44   -13.3/0.0    45   -15.76/0.53   \n        <p70            247      14.82/0.35  -50.95/0.0    80    10.13/0.32   \n        <p90            102     -50.66/0.09  -100.0/0.0    34    -0.47/0.17   \n        >=p90            36       6.32/0.12  -100.0/0.0    17   -13.57/0.07   \n\n                       ... chase_tmo    chase_two                    \\\n                       ...     count         mean      median count   \npsp_key entry_rr_perc  ...                                            \n1h      <p10           ...         6    2.46/0.75   11.09/1.0     8   \n        <p30           ...         4   24.69/0.69   34.37/1.0    13   \n        <p70           ...         6   16.88/0.33  -55.67/0.0    21   \n        <p90           ...      <NA>   -79.78/0.0  -79.78/0.0     2   \n        >=p90          ...         1   -81.53/0.0  -100.0/0.0     5   \n2h      <p10           ...         2   -4.87/0.69    11.7/1.0    13   \n        <p30           ...         5   30.97/0.56   21.13/1.0     9   \n        <p70           ...         5   10.85/0.36  -71.55/0.0    14   \n        <p90           ...         2    222.7/0.5  162.63/0.5     4   \n        >=p90          ...         2  273.37/0.25  -80.71/0.0     4   \n4h      <p10           ...         1    21.17/1.0   22.16/1.0     5   \n        <p30           ...         3  -11.29/0.38  -64.43/0.0    16   \n        <p70           ...         2   69.58/0.62   96.03/1.0     8   \n        <p90           ...      <NA>   623.91/1.0  623.91/1.0     2   \n        >=p90          ...         1          NaN         NaN  <NA>   \n\n                         chase_tdo                    chase_t90mo              \\\n                              mean      median count         mean      median   \npsp_key entry_rr_perc                                                           \n1h      <p10            -3.17/0.65   10.51/1.0    26    26.06/1.0   33.71/1.0   \n        <p30            -1.31/0.45  -24.99/0.0    53   -6.19/0.43  -44.46/0.0   \n        <p70             -1.9/0.31  -72.44/0.0    61   -6.19/0.29  -66.77/0.0   \n        <p90            -8.97/0.21  -61.63/0.0    14   -8.27/0.16  -91.45/0.0   \n        >=p90           -100.0/0.0  -100.0/0.0     6  -36.57/0.11  -100.0/0.0   \n2h      <p10            10.78/0.81   14.48/1.0    42    20.41/0.5   20.41/0.5   \n        <p30            10.88/0.56   34.78/1.0    63   -3.87/0.48  -39.47/0.0   \n        <p70              -6.0/0.3  -66.58/0.0    56  -13.86/0.24  -69.71/0.0   \n        <p90             47.04/0.3  -68.52/0.0    10   66.77/0.22  -75.56/0.0   \n        >=p90           -94.77/0.0  -100.0/0.0     6   -19.2/0.11  -100.0/0.0   \n4h      <p10             -6.69/0.7   10.66/1.0    37      6.3/0.5    8.77/0.5   \n        <p30           -24.67/0.41  -54.37/0.0    34    16.2/0.57   34.79/1.0   \n        <p70            29.26/0.39   -50.9/0.0    33  -12.63/0.24  -65.22/0.0   \n        <p90           -42.17/0.17  -84.99/0.0    12   -7.37/0.12  -100.0/0.0   \n        >=p90           -100.0/0.0  -100.0/0.0     2   -100.0/0.0  -100.0/0.0   \n\n                             \n                      count  \npsp_key entry_rr_perc        \n1h      <p10              3  \n        <p30             46  \n        <p70            127  \n        <p90             45  \n        >=p90            18  \n2h      <p10              2  \n        <p30             42  \n        <p70             85  \n        <p90             27  \n        >=p90            18  \n4h      <p10             16  \n        <p30             28  \n        <p70             50  \n        <p90             16  \n        >=p90             1  \n\n[15 rows x 42 columns]",
      "text/html": "<div>\n<style scoped>\n    .dataframe tbody tr th:only-of-type {\n        vertical-align: middle;\n    }\n\n    .dataframe tbody tr th {\n        vertical-align: top;\n    }\n\n    .dataframe thead tr th {\n        text-align: left;\n    }\n\n    .dataframe thead tr:last-of-type th {\n        text-align: right;\n    }\n</style>\n<table border=\"1\" class=\"dataframe\">\n  <thead>\n    <tr>\n      <th></th>\n      <th></th>\n      <th colspan=\"3\" halign=\"left\">market all</th>\n      <th colspan=\"3\" halign=\"left\">limit all</th>\n      <th colspan=\"3\" halign=\"left\">chase_median_rr</th>\n      <th>chase_mean_rr</th>\n      <th>...</th>\n      <th>chase_tmo</th>\n      <th colspan=\"3\" halign=\"left\">chase_two</th>\n      <th colspan=\"3\" halign=\"left\">chase_tdo</th>\n      <th colspan=\"3\" halign=\"left\">chase_t90mo</th>\n    </tr>\n    <tr>\n      <th></th>\n      <th></th>\n      <th>mean</th>\n      <th>median</th>\n      <th>count</th>\n      <th>mean</th>\n      <th>median</th>\n      <th>count</th>\n      <th>mean</th>\n      <th>median</th>\n      <th>count</th>\n      <th>mean</th>\n      <th>...</th>\n      <th>count</th>\n      <th>mean</th>\n      <th>median</th>\n      <th>count</th>\n      <th>mean</th>\n      <th>median</th>\n      <th>count</th>\n      <th>mean</th>\n      <th>median</th>\n      <th>count</th>\n    </tr>\n    <tr>\n      <th>psp_key</th>\n      <th>entry_rr_perc</th>\n      <th></th>\n      <th></th>\n      <th></th>\n      <th></th>\n      <th></th>\n      <th></th>\n      <th></th>\n      <th></th>\n      <th></th>\n      <th></th>\n      <th></th>\n      <th></th>\n      <th></th>\n      <th></th>\n      <th></th>\n      <th></th>\n      <th></th>\n      <th></th>\n      <th></th>\n      <th></th>\n      <th></th>\n    </tr>\n  </thead>\n  <tbody>\n    <tr>\n      <th rowspan=\"5\" valign=\"top\">1h</th>\n      <th>&lt;p10</th>\n      <td>-12.74/0.66</td>\n      <td>7.02/1.0</td>\n      <td>62</td>\n      <td>-3.88/0.68</td>\n      <td>12.64/1.0</td>\n      <td>119</td>\n      <td>-11.96/0.63</td>\n      <td>11.91/1.0</td>\n      <td>49</td>\n      <td>-9.54/0.67</td>\n      <td>...</td>\n      <td>6</td>\n      <td>2.46/0.75</td>\n      <td>11.09/1.0</td>\n      <td>8</td>\n      <td>-3.17/0.65</td>\n      <td>10.51/1.0</td>\n      <td>26</td>\n      <td>26.06/1.0</td>\n      <td>33.71/1.0</td>\n      <td>3</td>\n    </tr>\n    <tr>\n      <th>&lt;p30</th>\n      <td>-10.74/0.52</td>\n      <td>2.69/1.0</td>\n      <td>132</td>\n      <td>-7.71/0.45</td>\n      <td>-37.3/0.0</td>\n      <td>272</td>\n      <td>-17.44/0.42</td>\n      <td>-47.38/0.0</td>\n      <td>79</td>\n      <td>-17.51/0.42</td>\n      <td>...</td>\n      <td>4</td>\n      <td>24.69/0.69</td>\n      <td>34.37/1.0</td>\n      <td>13</td>\n      <td>-1.31/0.45</td>\n      <td>-24.99/0.0</td>\n      <td>53</td>\n      <td>-6.19/0.43</td>\n      <td>-44.46/0.0</td>\n      <td>46</td>\n    </tr>\n    <tr>\n      <th>&lt;p70</th>\n      <td>-0.44/0.36</td>\n      <td>-55.52/0.0</td>\n      <td>315</td>\n      <td>7.49/0.31</td>\n      <td>-61.25/0.0</td>\n      <td>701</td>\n      <td>17.0/0.32</td>\n      <td>-59.67/0.0</td>\n      <td>252</td>\n      <td>1.32/0.29</td>\n      <td>...</td>\n      <td>6</td>\n      <td>16.88/0.33</td>\n      <td>-55.67/0.0</td>\n      <td>21</td>\n      <td>-1.9/0.31</td>\n      <td>-72.44/0.0</td>\n      <td>61</td>\n      <td>-6.19/0.29</td>\n      <td>-66.77/0.0</td>\n      <td>127</td>\n    </tr>\n    <tr>\n      <th>&lt;p90</th>\n      <td>12.32/0.28</td>\n      <td>-70.6/0.0</td>\n      <td>199</td>\n      <td>12.82/0.21</td>\n      <td>-85.18/0.0</td>\n      <td>386</td>\n      <td>21.54/0.26</td>\n      <td>-74.88/0.0</td>\n      <td>153</td>\n      <td>10.35/0.17</td>\n      <td>...</td>\n      <td>&lt;NA&gt;</td>\n      <td>-79.78/0.0</td>\n      <td>-79.78/0.0</td>\n      <td>2</td>\n      <td>-8.97/0.21</td>\n      <td>-61.63/0.0</td>\n      <td>14</td>\n      <td>-8.27/0.16</td>\n      <td>-91.45/0.0</td>\n      <td>45</td>\n    </tr>\n    <tr>\n      <th>&gt;=p90</th>\n      <td>-13.38/0.15</td>\n      <td>-100.0/0.0</td>\n      <td>100</td>\n      <td>-13.17/0.11</td>\n      <td>-100.0/0.0</td>\n      <td>207</td>\n      <td>-24.11/0.09</td>\n      <td>-100.0/0.0</td>\n      <td>66</td>\n      <td>0.32/0.12</td>\n      <td>...</td>\n      <td>1</td>\n      <td>-81.53/0.0</td>\n      <td>-100.0/0.0</td>\n      <td>5</td>\n      <td>-100.0/0.0</td>\n      <td>-100.0/0.0</td>\n      <td>6</td>\n      <td>-36.57/0.11</td>\n      <td>-100.0/0.0</td>\n      <td>18</td>\n    </tr>\n    <tr>\n      <th rowspan=\"5\" valign=\"top\">2h</th>\n      <th>&lt;p10</th>\n      <td>4.95/0.82</td>\n      <td>10.62/1.0</td>\n      <td>51</td>\n      <td>8.14/0.78</td>\n      <td>11.41/1.0</td>\n      <td>124</td>\n      <td>10.11/0.81</td>\n      <td>8.18/1.0</td>\n      <td>32</td>\n      <td>4.11/0.85</td>\n      <td>...</td>\n      <td>2</td>\n      <td>-4.87/0.69</td>\n      <td>11.7/1.0</td>\n      <td>13</td>\n      <td>10.78/0.81</td>\n      <td>14.48/1.0</td>\n      <td>42</td>\n      <td>20.41/0.5</td>\n      <td>20.41/0.5</td>\n      <td>2</td>\n    </tr>\n    <tr>\n      <th>&lt;p30</th>\n      <td>6.34/0.6</td>\n      <td>34.93/1.0</td>\n      <td>125</td>\n      <td>11.66/0.56</td>\n      <td>30.06/1.0</td>\n      <td>263</td>\n      <td>21.35/0.6</td>\n      <td>47.57/1.0</td>\n      <td>73</td>\n      <td>50.95/0.79</td>\n      <td>...</td>\n      <td>5</td>\n      <td>30.97/0.56</td>\n      <td>21.13/1.0</td>\n      <td>9</td>\n      <td>10.88/0.56</td>\n      <td>34.78/1.0</td>\n      <td>63</td>\n      <td>-3.87/0.48</td>\n      <td>-39.47/0.0</td>\n      <td>42</td>\n    </tr>\n    <tr>\n      <th>&lt;p70</th>\n      <td>-1.57/0.37</td>\n      <td>-49.11/0.0</td>\n      <td>245</td>\n      <td>4.94/0.32</td>\n      <td>-62.32/0.0</td>\n      <td>488</td>\n      <td>-4.97/0.31</td>\n      <td>-61.26/0.0</td>\n      <td>170</td>\n      <td>39.37/0.37</td>\n      <td>...</td>\n      <td>5</td>\n      <td>10.85/0.36</td>\n      <td>-71.55/0.0</td>\n      <td>14</td>\n      <td>-6.0/0.3</td>\n      <td>-66.58/0.0</td>\n      <td>56</td>\n      <td>-13.86/0.24</td>\n      <td>-69.71/0.0</td>\n      <td>85</td>\n    </tr>\n    <tr>\n      <th>&lt;p90</th>\n      <td>13.3/0.25</td>\n      <td>-70.54/0.0</td>\n      <td>103</td>\n      <td>23.3/0.22</td>\n      <td>-81.93/0.0</td>\n      <td>231</td>\n      <td>22.85/0.21</td>\n      <td>-82.45/0.0</td>\n      <td>87</td>\n      <td>-18.48/0.17</td>\n      <td>...</td>\n      <td>2</td>\n      <td>222.7/0.5</td>\n      <td>162.63/0.5</td>\n      <td>4</td>\n      <td>47.04/0.3</td>\n      <td>-68.52/0.0</td>\n      <td>10</td>\n      <td>66.77/0.22</td>\n      <td>-75.56/0.0</td>\n      <td>27</td>\n    </tr>\n    <tr>\n      <th>&gt;=p90</th>\n      <td>38.76/0.17</td>\n      <td>-100.0/0.0</td>\n      <td>46</td>\n      <td>-13.61/0.11</td>\n      <td>-100.0/0.0</td>\n      <td>117</td>\n      <td>-75.68/0.08</td>\n      <td>-100.0/0.0</td>\n      <td>24</td>\n      <td>-2.03/0.13</td>\n      <td>...</td>\n      <td>2</td>\n      <td>273.37/0.25</td>\n      <td>-80.71/0.0</td>\n      <td>4</td>\n      <td>-94.77/0.0</td>\n      <td>-100.0/0.0</td>\n      <td>6</td>\n      <td>-19.2/0.11</td>\n      <td>-100.0/0.0</td>\n      <td>18</td>\n    </tr>\n    <tr>\n      <th rowspan=\"5\" valign=\"top\">4h</th>\n      <th>&lt;p10</th>\n      <td>-1.23/0.74</td>\n      <td>10.85/1.0</td>\n      <td>58</td>\n      <td>-5.11/0.66</td>\n      <td>8.91/1.0</td>\n      <td>117</td>\n      <td>-11.3/0.63</td>\n      <td>5.33/1.0</td>\n      <td>30</td>\n      <td>-38.5/0.5</td>\n      <td>...</td>\n      <td>1</td>\n      <td>21.17/1.0</td>\n      <td>22.16/1.0</td>\n      <td>5</td>\n      <td>-6.69/0.7</td>\n      <td>10.66/1.0</td>\n      <td>37</td>\n      <td>6.3/0.5</td>\n      <td>8.77/0.5</td>\n      <td>16</td>\n    </tr>\n    <tr>\n      <th>&lt;p30</th>\n      <td>0.76/0.6</td>\n      <td>23.86/1.0</td>\n      <td>83</td>\n      <td>-3.65/0.49</td>\n      <td>-5.49/0.0</td>\n      <td>183</td>\n      <td>-5.37/0.44</td>\n      <td>-13.3/0.0</td>\n      <td>45</td>\n      <td>-15.76/0.53</td>\n      <td>...</td>\n      <td>3</td>\n      <td>-11.29/0.38</td>\n      <td>-64.43/0.0</td>\n      <td>16</td>\n      <td>-24.67/0.41</td>\n      <td>-54.37/0.0</td>\n      <td>34</td>\n      <td>16.2/0.57</td>\n      <td>34.79/1.0</td>\n      <td>28</td>\n    </tr>\n    <tr>\n      <th>&lt;p70</th>\n      <td>5.18/0.39</td>\n      <td>-38.92/0.0</td>\n      <td>120</td>\n      <td>10.09/0.33</td>\n      <td>-56.9/0.0</td>\n      <td>247</td>\n      <td>14.82/0.35</td>\n      <td>-50.95/0.0</td>\n      <td>80</td>\n      <td>10.13/0.32</td>\n      <td>...</td>\n      <td>2</td>\n      <td>69.58/0.62</td>\n      <td>96.03/1.0</td>\n      <td>8</td>\n      <td>29.26/0.39</td>\n      <td>-50.9/0.0</td>\n      <td>33</td>\n      <td>-12.63/0.24</td>\n      <td>-65.22/0.0</td>\n      <td>50</td>\n    </tr>\n    <tr>\n      <th>&lt;p90</th>\n      <td>-25.8/0.13</td>\n      <td>-87.82/0.0</td>\n      <td>38</td>\n      <td>-6.24/0.16</td>\n      <td>-97.66/0.0</td>\n      <td>102</td>\n      <td>-50.66/0.09</td>\n      <td>-100.0/0.0</td>\n      <td>34</td>\n      <td>-0.47/0.17</td>\n      <td>...</td>\n      <td>&lt;NA&gt;</td>\n      <td>623.91/1.0</td>\n      <td>623.91/1.0</td>\n      <td>2</td>\n      <td>-42.17/0.17</td>\n      <td>-84.99/0.0</td>\n      <td>12</td>\n      <td>-7.37/0.12</td>\n      <td>-100.0/0.0</td>\n      <td>16</td>\n    </tr>\n    <tr>\n      <th>&gt;=p90</th>\n      <td>-36.6/0.08</td>\n      <td>-100.0/0.0</td>\n      <td>25</td>\n      <td>-16.19/0.08</td>\n      <td>-100.0/0.0</td>\n      <td>36</td>\n      <td>6.32/0.12</td>\n      <td>-100.0/0.0</td>\n      <td>17</td>\n      <td>-13.57/0.07</td>\n      <td>...</td>\n      <td>1</td>\n      <td>NaN</td>\n      <td>NaN</td>\n      <td>&lt;NA&gt;</td>\n      <td>-100.0/0.0</td>\n      <td>-100.0/0.0</td>\n      <td>2</td>\n      <td>-100.0/0.0</td>\n      <td>-100.0/0.0</td>\n      <td>1</td>\n    </tr>\n  </tbody>\n</table>\n<p>15 rows × 42 columns</p>\n</div>"
     },
     "execution_count": 106,
     "metadata": {},
     "output_type": "execute_result"
    }
   ],
   "source": [
    "def group(fields: List[str], show_perc: str):\n",
    "    def to_agg_df(label, df):\n",
    "        if df.empty:\n",
    "            return pd.DataFrame()\n",
    "\n",
    "        agg_pnl = df.groupby(fields)[\"pnl_usd\"].agg([\"mean\", \"median\", \"count\"])\n",
    "        agg_wr  = df.groupby(fields)[\"won\"].agg([\"mean\", \"median\", \"count\"])\n",
    "\n",
    "        agg_pnl_filtered = agg_pnl[(agg_pnl[\"count\"] > 4) & (agg_pnl[\"mean\"] > 15)]\n",
    "        if not agg_pnl_filtered.empty:\n",
    "            display(label, agg_pnl_filtered)\n",
    "\n",
    "        # округляем\n",
    "        agg_pnl = agg_pnl.round({\"mean\": 2, \"median\": 2, \"count\": 0})\n",
    "        agg_wr  = agg_wr.round({\"mean\": 2, \"median\": 2, \"count\": 0})\n",
    "\n",
    "        # объединяем ячейки по логике\n",
    "        def merge_cells(v1, v2, col_name):\n",
    "            if col_name == \"count\":\n",
    "                return int(v1) if not pd.isna(v1) else pd.NA\n",
    "            if pd.isna(v1) or pd.isna(v2):\n",
    "                return 0\n",
    "            if isinstance(v1, str) and isinstance(v2, str) and v1 == v2:\n",
    "                return v1\n",
    "            return f\"{v1}/{v2}\"\n",
    "\n",
    "        merged = pd.DataFrame(\n",
    "            [\n",
    "                [\n",
    "                    merge_cells(a, b, col_name)\n",
    "                    for (a, b, col_name) in zip(row_pnl, row_wr, agg_pnl.columns)\n",
    "                ]\n",
    "                for row_pnl, row_wr in zip(agg_pnl.values, agg_wr.values)\n",
    "            ],\n",
    "            index=agg_pnl.index,\n",
    "            columns=agg_pnl.columns,\n",
    "        )\n",
    "\n",
    "        merged.columns = pd.MultiIndex.from_product([[label], merged.columns])\n",
    "        for col in merged.columns:\n",
    "            if col[1] == \"count\":  # второй уровень MultiIndex\n",
    "                merged[col] = merged[col].astype(\"Int64\")  # nullable integer\n",
    "        return merged\n",
    "    \n",
    "    dfs = [\n",
    "        ('market all', df_m),\n",
    "        ('limit all', df_l),\n",
    "        ('chase_median_rr', df_l_chase_median_rr),\n",
    "        ('chase_mean_rr', df_l_chase_mean_rr),\n",
    "        ('chase_absent_tyo', df_l_chase_absent_tyo),\n",
    "        ('chase_absent_tmo', df_l_chase_absent_tmo),\n",
    "        ('chase_absent_two', df_l_chase_absent_two),\n",
    "        ('chase_absent_tdo', df_l_chase_absent_tdo),\n",
    "        ('chase_absent_t90mo', df_l_chase_absent_t90mo),\n",
    "        ('chase_tyo', df_l_chase_tyo),\n",
    "        ('chase_tmo', df_l_chase_tmo),\n",
    "        ('chase_two', df_l_chase_two),\n",
    "        ('chase_tdo', df_l_chase_tdo),\n",
    "        ('chase_t90mo', df_l_chase_t90mo),\n",
    "    ]\n",
    "\n",
    "    df_joined = pd.concat(\n",
    "        [to_agg_df(label, df) for label, df in dfs if not df.empty],\n",
    "        axis=1\n",
    "    )\n",
    "    \n",
    "    if show_perc:\n",
    "        for df_tuple in dfs:\n",
    "            if df_tuple[1].empty:\n",
    "                continue\n",
    "            display(f\"{df_tuple[0]} {[round(float(x), 2) for x in np.percentile(df_tuple[1][show_perc], [10, 30, 70, 90])]}\")\n",
    "    \n",
    "    return df_joined\n",
    "\n",
    "    # print(\"- pnl\")\n",
    "    # display(df_joined_pnl)\n",
    "    # print(\"- winrate\")\n",
    "    # display(df_joined_wr)\n",
    "\n",
    "df_group = group([\"psp_key\", \"entry_rr_perc\"], \"entry_rr\")\n",
    "df_group"
   ],
   "metadata": {
    "collapsed": false,
    "ExecuteTime": {
     "end_time": "2025-09-02T23:08:51.811092Z",
     "start_time": "2025-09-02T23:08:51.463422Z"
    }
   },
   "id": "9b1db32ee3c32514",
   "execution_count": 106
  },
  {
   "cell_type": "code",
   "execution_count": 107,
   "id": "635b22294b2d4d73",
   "metadata": {
    "collapsed": false,
    "ExecuteTime": {
     "end_time": "2025-09-02T23:08:51.817282Z",
     "start_time": "2025-09-02T23:08:51.813313Z"
    }
   },
   "outputs": [],
   "source": [
    "# group([\"direction\"])\n",
    "# group([\"asset\"])\n",
    "# group([\"smt_type\"])\n",
    "# group([\"smt_label\"])\n",
    "# group([\"smt_flags\"])\n",
    "\n",
    "# display([round(float(x), 4) for x in np.percentile(trades_df_2024['entry_rr'], [10, 30, 70, 90])])\n",
    "# display([round(float(x), 4) for x in np.percentile(trades_df_2025['entry_rr'], [10, 30, 70, 90])])\n",
    "\n",
    "# group([\"entry_rr_perc\"])\n",
    "# df_group = group([\"direction\", \"psp_key\"], \"\")\n",
    "# df_group"
   ]
  },
  {
   "cell_type": "code",
   "outputs": [
    {
     "data": {
      "text/plain": "'limit all'"
     },
     "metadata": {},
     "output_type": "display_data"
    },
    {
     "data": {
      "text/plain": "                           mean     median  count\npsp_key target_level                             \n1h      4             17.557067 -71.566338    366",
      "text/html": "<div>\n<style scoped>\n    .dataframe tbody tr th:only-of-type {\n        vertical-align: middle;\n    }\n\n    .dataframe tbody tr th {\n        vertical-align: top;\n    }\n\n    .dataframe thead th {\n        text-align: right;\n    }\n</style>\n<table border=\"1\" class=\"dataframe\">\n  <thead>\n    <tr style=\"text-align: right;\">\n      <th></th>\n      <th></th>\n      <th>mean</th>\n      <th>median</th>\n      <th>count</th>\n    </tr>\n    <tr>\n      <th>psp_key</th>\n      <th>target_level</th>\n      <th></th>\n      <th></th>\n      <th></th>\n    </tr>\n  </thead>\n  <tbody>\n    <tr>\n      <th>1h</th>\n      <th>4</th>\n      <td>17.557067</td>\n      <td>-71.566338</td>\n      <td>366</td>\n    </tr>\n  </tbody>\n</table>\n</div>"
     },
     "metadata": {},
     "output_type": "display_data"
    },
    {
     "data": {
      "text/plain": "'chase_mean_rr'"
     },
     "metadata": {},
     "output_type": "display_data"
    },
    {
     "data": {
      "text/plain": "                           mean    median  count\npsp_key target_level                            \n1h      4             28.135499 -100.0000     89\n2h      5             21.956427  -72.5107    189",
      "text/html": "<div>\n<style scoped>\n    .dataframe tbody tr th:only-of-type {\n        vertical-align: middle;\n    }\n\n    .dataframe tbody tr th {\n        vertical-align: top;\n    }\n\n    .dataframe thead th {\n        text-align: right;\n    }\n</style>\n<table border=\"1\" class=\"dataframe\">\n  <thead>\n    <tr style=\"text-align: right;\">\n      <th></th>\n      <th></th>\n      <th>mean</th>\n      <th>median</th>\n      <th>count</th>\n    </tr>\n    <tr>\n      <th>psp_key</th>\n      <th>target_level</th>\n      <th></th>\n      <th></th>\n      <th></th>\n    </tr>\n  </thead>\n  <tbody>\n    <tr>\n      <th>1h</th>\n      <th>4</th>\n      <td>28.135499</td>\n      <td>-100.0000</td>\n      <td>89</td>\n    </tr>\n    <tr>\n      <th>2h</th>\n      <th>5</th>\n      <td>21.956427</td>\n      <td>-72.5107</td>\n      <td>189</td>\n    </tr>\n  </tbody>\n</table>\n</div>"
     },
     "metadata": {},
     "output_type": "display_data"
    },
    {
     "data": {
      "text/plain": "'chase_absent_two'"
     },
     "metadata": {},
     "output_type": "display_data"
    },
    {
     "data": {
      "text/plain": "                           mean  median  count\npsp_key target_level                          \n1h      5             27.120771  -100.0      6",
      "text/html": "<div>\n<style scoped>\n    .dataframe tbody tr th:only-of-type {\n        vertical-align: middle;\n    }\n\n    .dataframe tbody tr th {\n        vertical-align: top;\n    }\n\n    .dataframe thead th {\n        text-align: right;\n    }\n</style>\n<table border=\"1\" class=\"dataframe\">\n  <thead>\n    <tr style=\"text-align: right;\">\n      <th></th>\n      <th></th>\n      <th>mean</th>\n      <th>median</th>\n      <th>count</th>\n    </tr>\n    <tr>\n      <th>psp_key</th>\n      <th>target_level</th>\n      <th></th>\n      <th></th>\n      <th></th>\n    </tr>\n  </thead>\n  <tbody>\n    <tr>\n      <th>1h</th>\n      <th>5</th>\n      <td>27.120771</td>\n      <td>-100.0</td>\n      <td>6</td>\n    </tr>\n  </tbody>\n</table>\n</div>"
     },
     "metadata": {},
     "output_type": "display_data"
    },
    {
     "data": {
      "text/plain": "'chase_absent_tdo'"
     },
     "metadata": {},
     "output_type": "display_data"
    },
    {
     "data": {
      "text/plain": "                           mean     median  count\npsp_key target_level                             \n1h      4             71.712073 -62.555221     35\n2h      5             38.549866 -67.004660     39",
      "text/html": "<div>\n<style scoped>\n    .dataframe tbody tr th:only-of-type {\n        vertical-align: middle;\n    }\n\n    .dataframe tbody tr th {\n        vertical-align: top;\n    }\n\n    .dataframe thead th {\n        text-align: right;\n    }\n</style>\n<table border=\"1\" class=\"dataframe\">\n  <thead>\n    <tr style=\"text-align: right;\">\n      <th></th>\n      <th></th>\n      <th>mean</th>\n      <th>median</th>\n      <th>count</th>\n    </tr>\n    <tr>\n      <th>psp_key</th>\n      <th>target_level</th>\n      <th></th>\n      <th></th>\n      <th></th>\n    </tr>\n  </thead>\n  <tbody>\n    <tr>\n      <th>1h</th>\n      <th>4</th>\n      <td>71.712073</td>\n      <td>-62.555221</td>\n      <td>35</td>\n    </tr>\n    <tr>\n      <th>2h</th>\n      <th>5</th>\n      <td>38.549866</td>\n      <td>-67.004660</td>\n      <td>39</td>\n    </tr>\n  </tbody>\n</table>\n</div>"
     },
     "metadata": {},
     "output_type": "display_data"
    },
    {
     "data": {
      "text/plain": "'chase_tyo'"
     },
     "metadata": {},
     "output_type": "display_data"
    },
    {
     "data": {
      "text/plain": "                            mean     median  count\npsp_key target_level                              \n2h      5             104.241231  18.367207      5",
      "text/html": "<div>\n<style scoped>\n    .dataframe tbody tr th:only-of-type {\n        vertical-align: middle;\n    }\n\n    .dataframe tbody tr th {\n        vertical-align: top;\n    }\n\n    .dataframe thead th {\n        text-align: right;\n    }\n</style>\n<table border=\"1\" class=\"dataframe\">\n  <thead>\n    <tr style=\"text-align: right;\">\n      <th></th>\n      <th></th>\n      <th>mean</th>\n      <th>median</th>\n      <th>count</th>\n    </tr>\n    <tr>\n      <th>psp_key</th>\n      <th>target_level</th>\n      <th></th>\n      <th></th>\n      <th></th>\n    </tr>\n  </thead>\n  <tbody>\n    <tr>\n      <th>2h</th>\n      <th>5</th>\n      <td>104.241231</td>\n      <td>18.367207</td>\n      <td>5</td>\n    </tr>\n  </tbody>\n</table>\n</div>"
     },
     "metadata": {},
     "output_type": "display_data"
    },
    {
     "data": {
      "text/plain": "'chase_tmo'"
     },
     "metadata": {},
     "output_type": "display_data"
    },
    {
     "data": {
      "text/plain": "                           mean     median  count\npsp_key target_level                             \n2h      5             35.962767 -87.832303     14",
      "text/html": "<div>\n<style scoped>\n    .dataframe tbody tr th:only-of-type {\n        vertical-align: middle;\n    }\n\n    .dataframe tbody tr th {\n        vertical-align: top;\n    }\n\n    .dataframe thead th {\n        text-align: right;\n    }\n</style>\n<table border=\"1\" class=\"dataframe\">\n  <thead>\n    <tr style=\"text-align: right;\">\n      <th></th>\n      <th></th>\n      <th>mean</th>\n      <th>median</th>\n      <th>count</th>\n    </tr>\n    <tr>\n      <th>psp_key</th>\n      <th>target_level</th>\n      <th></th>\n      <th></th>\n      <th></th>\n    </tr>\n  </thead>\n  <tbody>\n    <tr>\n      <th>2h</th>\n      <th>5</th>\n      <td>35.962767</td>\n      <td>-87.832303</td>\n      <td>14</td>\n    </tr>\n  </tbody>\n</table>\n</div>"
     },
     "metadata": {},
     "output_type": "display_data"
    },
    {
     "data": {
      "text/plain": "'chase_two'"
     },
     "metadata": {},
     "output_type": "display_data"
    },
    {
     "data": {
      "text/plain": "                            mean     median  count\npsp_key target_level                              \n2h      4              62.104709  15.643370     13\n        5              49.810989  -5.617160     31\n4h      4             104.243480  65.933796     18",
      "text/html": "<div>\n<style scoped>\n    .dataframe tbody tr th:only-of-type {\n        vertical-align: middle;\n    }\n\n    .dataframe tbody tr th {\n        vertical-align: top;\n    }\n\n    .dataframe thead th {\n        text-align: right;\n    }\n</style>\n<table border=\"1\" class=\"dataframe\">\n  <thead>\n    <tr style=\"text-align: right;\">\n      <th></th>\n      <th></th>\n      <th>mean</th>\n      <th>median</th>\n      <th>count</th>\n    </tr>\n    <tr>\n      <th>psp_key</th>\n      <th>target_level</th>\n      <th></th>\n      <th></th>\n      <th></th>\n    </tr>\n  </thead>\n  <tbody>\n    <tr>\n      <th rowspan=\"2\" valign=\"top\">2h</th>\n      <th>4</th>\n      <td>62.104709</td>\n      <td>15.643370</td>\n      <td>13</td>\n    </tr>\n    <tr>\n      <th>5</th>\n      <td>49.810989</td>\n      <td>-5.617160</td>\n      <td>31</td>\n    </tr>\n    <tr>\n      <th>4h</th>\n      <th>4</th>\n      <td>104.243480</td>\n      <td>65.933796</td>\n      <td>18</td>\n    </tr>\n  </tbody>\n</table>\n</div>"
     },
     "metadata": {},
     "output_type": "display_data"
    },
    {
     "data": {
      "text/plain": "'chase_t90mo'"
     },
     "metadata": {},
     "output_type": "display_data"
    },
    {
     "data": {
      "text/plain": "                           mean    median  count\npsp_key target_level                            \n2h      4             25.521284 -71.36621     40",
      "text/html": "<div>\n<style scoped>\n    .dataframe tbody tr th:only-of-type {\n        vertical-align: middle;\n    }\n\n    .dataframe tbody tr th {\n        vertical-align: top;\n    }\n\n    .dataframe thead th {\n        text-align: right;\n    }\n</style>\n<table border=\"1\" class=\"dataframe\">\n  <thead>\n    <tr style=\"text-align: right;\">\n      <th></th>\n      <th></th>\n      <th>mean</th>\n      <th>median</th>\n      <th>count</th>\n    </tr>\n    <tr>\n      <th>psp_key</th>\n      <th>target_level</th>\n      <th></th>\n      <th></th>\n      <th></th>\n    </tr>\n  </thead>\n  <tbody>\n    <tr>\n      <th>2h</th>\n      <th>4</th>\n      <td>25.521284</td>\n      <td>-71.36621</td>\n      <td>40</td>\n    </tr>\n  </tbody>\n</table>\n</div>"
     },
     "metadata": {},
     "output_type": "display_data"
    },
    {
     "data": {
      "text/plain": "                      market all                     limit all              \\\n                            mean      median count        mean      median   \npsp_key target_level                                                         \n1h      4              -2.74/0.3  -65.52/0.0   169  17.56/0.28  -71.57/0.0   \n        5             -1.21/0.38  -53.71/0.0   639  -1.14/0.32  -63.22/0.0   \n2h      4             -2.59/0.34  -62.07/0.0   126    3.45/0.3  -68.63/0.0   \n        5              9.32/0.45  -26.35/0.0   444    9.86/0.4  -48.33/0.0   \n4h      4             -4.39/0.35  -53.52/0.0   150   4.02/0.31  -63.94/0.0   \n        5             -3.58/0.55    8.08/1.0   174   -3.5/0.46  -10.96/0.0   \n\n                           chase_median_rr                   chase_mean_rr  \\\n                     count            mean      median count          mean   \npsp_key target_level                                                         \n1h      4              366       13.0/0.28  -71.09/0.0   126     28.14/0.2   \n        5             1319       5.05/0.33  -62.28/0.0   473    -4.31/0.22   \n2h      4              277      -0.13/0.27  -72.52/0.0    84   -31.55/0.18   \n        5              946        4.04/0.4  -47.04/0.0   302    21.96/0.33   \n4h      4              320      -3.09/0.27  -68.17/0.0   100    -5.93/0.21   \n        5              365      -6.61/0.42   -29.9/0.0   106     1.18/0.35   \n\n                      ... chase_tmo    chase_two                    \\\n                      ...     count         mean      median count   \npsp_key target_level  ...                                            \n1h      4             ...         1     5.3/0.62   26.26/1.0     8   \n        5             ...        16    2.08/0.41  -49.33/0.0    41   \n2h      4             ...         2    62.1/0.54   15.64/1.0    13   \n        5             ...        14   49.81/0.48   -5.62/0.0    31   \n4h      4             ...         2  104.24/0.61   65.93/1.0    18   \n        5             ...         5  -11.28/0.54    11.7/1.0    13   \n\n                        chase_tdo                    chase_t90mo              \\\n                             mean      median count         mean      median   \npsp_key target_level                                                           \n1h      4              -10.15/0.3  -77.03/0.0    30  -20.42/0.25  -69.88/0.0   \n        5              -5.29/0.42  -35.63/0.0   130    -4.37/0.3  -65.34/0.0   \n2h      4              14.26/0.28   -63.6/0.0    29   25.52/0.32  -71.37/0.0   \n        5               1.96/0.55    8.44/1.0   148   -6.44/0.27  -69.14/0.0   \n4h      4               4.65/0.32   -80.8/0.0    41   -0.94/0.32  -56.17/0.0   \n        5             -13.21/0.55    7.16/1.0    77   -4.83/0.37  -39.68/0.0   \n\n                            \n                     count  \npsp_key target_level        \n1h      4               61  \n        5              178  \n2h      4               40  \n        5              134  \n4h      4               62  \n        5               49  \n\n[6 rows x 42 columns]",
      "text/html": "<div>\n<style scoped>\n    .dataframe tbody tr th:only-of-type {\n        vertical-align: middle;\n    }\n\n    .dataframe tbody tr th {\n        vertical-align: top;\n    }\n\n    .dataframe thead tr th {\n        text-align: left;\n    }\n\n    .dataframe thead tr:last-of-type th {\n        text-align: right;\n    }\n</style>\n<table border=\"1\" class=\"dataframe\">\n  <thead>\n    <tr>\n      <th></th>\n      <th></th>\n      <th colspan=\"3\" halign=\"left\">market all</th>\n      <th colspan=\"3\" halign=\"left\">limit all</th>\n      <th colspan=\"3\" halign=\"left\">chase_median_rr</th>\n      <th>chase_mean_rr</th>\n      <th>...</th>\n      <th>chase_tmo</th>\n      <th colspan=\"3\" halign=\"left\">chase_two</th>\n      <th colspan=\"3\" halign=\"left\">chase_tdo</th>\n      <th colspan=\"3\" halign=\"left\">chase_t90mo</th>\n    </tr>\n    <tr>\n      <th></th>\n      <th></th>\n      <th>mean</th>\n      <th>median</th>\n      <th>count</th>\n      <th>mean</th>\n      <th>median</th>\n      <th>count</th>\n      <th>mean</th>\n      <th>median</th>\n      <th>count</th>\n      <th>mean</th>\n      <th>...</th>\n      <th>count</th>\n      <th>mean</th>\n      <th>median</th>\n      <th>count</th>\n      <th>mean</th>\n      <th>median</th>\n      <th>count</th>\n      <th>mean</th>\n      <th>median</th>\n      <th>count</th>\n    </tr>\n    <tr>\n      <th>psp_key</th>\n      <th>target_level</th>\n      <th></th>\n      <th></th>\n      <th></th>\n      <th></th>\n      <th></th>\n      <th></th>\n      <th></th>\n      <th></th>\n      <th></th>\n      <th></th>\n      <th></th>\n      <th></th>\n      <th></th>\n      <th></th>\n      <th></th>\n      <th></th>\n      <th></th>\n      <th></th>\n      <th></th>\n      <th></th>\n      <th></th>\n    </tr>\n  </thead>\n  <tbody>\n    <tr>\n      <th rowspan=\"2\" valign=\"top\">1h</th>\n      <th>4</th>\n      <td>-2.74/0.3</td>\n      <td>-65.52/0.0</td>\n      <td>169</td>\n      <td>17.56/0.28</td>\n      <td>-71.57/0.0</td>\n      <td>366</td>\n      <td>13.0/0.28</td>\n      <td>-71.09/0.0</td>\n      <td>126</td>\n      <td>28.14/0.2</td>\n      <td>...</td>\n      <td>1</td>\n      <td>5.3/0.62</td>\n      <td>26.26/1.0</td>\n      <td>8</td>\n      <td>-10.15/0.3</td>\n      <td>-77.03/0.0</td>\n      <td>30</td>\n      <td>-20.42/0.25</td>\n      <td>-69.88/0.0</td>\n      <td>61</td>\n    </tr>\n    <tr>\n      <th>5</th>\n      <td>-1.21/0.38</td>\n      <td>-53.71/0.0</td>\n      <td>639</td>\n      <td>-1.14/0.32</td>\n      <td>-63.22/0.0</td>\n      <td>1319</td>\n      <td>5.05/0.33</td>\n      <td>-62.28/0.0</td>\n      <td>473</td>\n      <td>-4.31/0.22</td>\n      <td>...</td>\n      <td>16</td>\n      <td>2.08/0.41</td>\n      <td>-49.33/0.0</td>\n      <td>41</td>\n      <td>-5.29/0.42</td>\n      <td>-35.63/0.0</td>\n      <td>130</td>\n      <td>-4.37/0.3</td>\n      <td>-65.34/0.0</td>\n      <td>178</td>\n    </tr>\n    <tr>\n      <th rowspan=\"2\" valign=\"top\">2h</th>\n      <th>4</th>\n      <td>-2.59/0.34</td>\n      <td>-62.07/0.0</td>\n      <td>126</td>\n      <td>3.45/0.3</td>\n      <td>-68.63/0.0</td>\n      <td>277</td>\n      <td>-0.13/0.27</td>\n      <td>-72.52/0.0</td>\n      <td>84</td>\n      <td>-31.55/0.18</td>\n      <td>...</td>\n      <td>2</td>\n      <td>62.1/0.54</td>\n      <td>15.64/1.0</td>\n      <td>13</td>\n      <td>14.26/0.28</td>\n      <td>-63.6/0.0</td>\n      <td>29</td>\n      <td>25.52/0.32</td>\n      <td>-71.37/0.0</td>\n      <td>40</td>\n    </tr>\n    <tr>\n      <th>5</th>\n      <td>9.32/0.45</td>\n      <td>-26.35/0.0</td>\n      <td>444</td>\n      <td>9.86/0.4</td>\n      <td>-48.33/0.0</td>\n      <td>946</td>\n      <td>4.04/0.4</td>\n      <td>-47.04/0.0</td>\n      <td>302</td>\n      <td>21.96/0.33</td>\n      <td>...</td>\n      <td>14</td>\n      <td>49.81/0.48</td>\n      <td>-5.62/0.0</td>\n      <td>31</td>\n      <td>1.96/0.55</td>\n      <td>8.44/1.0</td>\n      <td>148</td>\n      <td>-6.44/0.27</td>\n      <td>-69.14/0.0</td>\n      <td>134</td>\n    </tr>\n    <tr>\n      <th rowspan=\"2\" valign=\"top\">4h</th>\n      <th>4</th>\n      <td>-4.39/0.35</td>\n      <td>-53.52/0.0</td>\n      <td>150</td>\n      <td>4.02/0.31</td>\n      <td>-63.94/0.0</td>\n      <td>320</td>\n      <td>-3.09/0.27</td>\n      <td>-68.17/0.0</td>\n      <td>100</td>\n      <td>-5.93/0.21</td>\n      <td>...</td>\n      <td>2</td>\n      <td>104.24/0.61</td>\n      <td>65.93/1.0</td>\n      <td>18</td>\n      <td>4.65/0.32</td>\n      <td>-80.8/0.0</td>\n      <td>41</td>\n      <td>-0.94/0.32</td>\n      <td>-56.17/0.0</td>\n      <td>62</td>\n    </tr>\n    <tr>\n      <th>5</th>\n      <td>-3.58/0.55</td>\n      <td>8.08/1.0</td>\n      <td>174</td>\n      <td>-3.5/0.46</td>\n      <td>-10.96/0.0</td>\n      <td>365</td>\n      <td>-6.61/0.42</td>\n      <td>-29.9/0.0</td>\n      <td>106</td>\n      <td>1.18/0.35</td>\n      <td>...</td>\n      <td>5</td>\n      <td>-11.28/0.54</td>\n      <td>11.7/1.0</td>\n      <td>13</td>\n      <td>-13.21/0.55</td>\n      <td>7.16/1.0</td>\n      <td>77</td>\n      <td>-4.83/0.37</td>\n      <td>-39.68/0.0</td>\n      <td>49</td>\n    </tr>\n  </tbody>\n</table>\n<p>6 rows × 42 columns</p>\n</div>"
     },
     "execution_count": 108,
     "metadata": {},
     "output_type": "execute_result"
    }
   ],
   "source": [
    "df_group = group([\"psp_key\", \"target_level\"], \"\")\n",
    "df_group"
   ],
   "metadata": {
    "collapsed": false,
    "ExecuteTime": {
     "end_time": "2025-09-02T23:08:52.107469Z",
     "start_time": "2025-09-02T23:08:51.821156Z"
    }
   },
   "id": "1ba08e06214d119d",
   "execution_count": 108
  },
  {
   "cell_type": "code",
   "outputs": [
    {
     "data": {
      "text/plain": "'limit all'"
     },
     "metadata": {},
     "output_type": "display_data"
    },
    {
     "data": {
      "text/plain": "                                           mean     median  count\npercents_till_stop_perc target_level                             \n<p30                    5             22.146717 -60.172995    576\n<p70                    4             15.753693 -57.517043    388\n>=p90                   4             21.658851 -52.724120    110",
      "text/html": "<div>\n<style scoped>\n    .dataframe tbody tr th:only-of-type {\n        vertical-align: middle;\n    }\n\n    .dataframe tbody tr th {\n        vertical-align: top;\n    }\n\n    .dataframe thead th {\n        text-align: right;\n    }\n</style>\n<table border=\"1\" class=\"dataframe\">\n  <thead>\n    <tr style=\"text-align: right;\">\n      <th></th>\n      <th></th>\n      <th>mean</th>\n      <th>median</th>\n      <th>count</th>\n    </tr>\n    <tr>\n      <th>percents_till_stop_perc</th>\n      <th>target_level</th>\n      <th></th>\n      <th></th>\n      <th></th>\n    </tr>\n  </thead>\n  <tbody>\n    <tr>\n      <th>&lt;p30</th>\n      <th>5</th>\n      <td>22.146717</td>\n      <td>-60.172995</td>\n      <td>576</td>\n    </tr>\n    <tr>\n      <th>&lt;p70</th>\n      <th>4</th>\n      <td>15.753693</td>\n      <td>-57.517043</td>\n      <td>388</td>\n    </tr>\n    <tr>\n      <th>&gt;=p90</th>\n      <th>4</th>\n      <td>21.658851</td>\n      <td>-52.724120</td>\n      <td>110</td>\n    </tr>\n  </tbody>\n</table>\n</div>"
     },
     "metadata": {},
     "output_type": "display_data"
    },
    {
     "data": {
      "text/plain": "'chase_median_rr'"
     },
     "metadata": {},
     "output_type": "display_data"
    },
    {
     "data": {
      "text/plain": "                                           mean     median  count\npercents_till_stop_perc target_level                             \n<p30                    5             18.649070 -59.971655    191\n<p70                    4             17.352503 -62.756324    126",
      "text/html": "<div>\n<style scoped>\n    .dataframe tbody tr th:only-of-type {\n        vertical-align: middle;\n    }\n\n    .dataframe tbody tr th {\n        vertical-align: top;\n    }\n\n    .dataframe thead th {\n        text-align: right;\n    }\n</style>\n<table border=\"1\" class=\"dataframe\">\n  <thead>\n    <tr style=\"text-align: right;\">\n      <th></th>\n      <th></th>\n      <th>mean</th>\n      <th>median</th>\n      <th>count</th>\n    </tr>\n    <tr>\n      <th>percents_till_stop_perc</th>\n      <th>target_level</th>\n      <th></th>\n      <th></th>\n      <th></th>\n    </tr>\n  </thead>\n  <tbody>\n    <tr>\n      <th>&lt;p30</th>\n      <th>5</th>\n      <td>18.649070</td>\n      <td>-59.971655</td>\n      <td>191</td>\n    </tr>\n    <tr>\n      <th>&lt;p70</th>\n      <th>4</th>\n      <td>17.352503</td>\n      <td>-62.756324</td>\n      <td>126</td>\n    </tr>\n  </tbody>\n</table>\n</div>"
     },
     "metadata": {},
     "output_type": "display_data"
    },
    {
     "data": {
      "text/plain": "'chase_mean_rr'"
     },
     "metadata": {},
     "output_type": "display_data"
    },
    {
     "data": {
      "text/plain": "                                           mean      median  count\npercents_till_stop_perc target_level                              \n<p30                    4             25.716374 -100.000000     37\n                        5             23.998700 -100.000000    139\n>=p90                   4             66.872491  -55.721441     21\n                        5             19.472376    0.775864     42",
      "text/html": "<div>\n<style scoped>\n    .dataframe tbody tr th:only-of-type {\n        vertical-align: middle;\n    }\n\n    .dataframe tbody tr th {\n        vertical-align: top;\n    }\n\n    .dataframe thead th {\n        text-align: right;\n    }\n</style>\n<table border=\"1\" class=\"dataframe\">\n  <thead>\n    <tr style=\"text-align: right;\">\n      <th></th>\n      <th></th>\n      <th>mean</th>\n      <th>median</th>\n      <th>count</th>\n    </tr>\n    <tr>\n      <th>percents_till_stop_perc</th>\n      <th>target_level</th>\n      <th></th>\n      <th></th>\n      <th></th>\n    </tr>\n  </thead>\n  <tbody>\n    <tr>\n      <th rowspan=\"2\" valign=\"top\">&lt;p30</th>\n      <th>4</th>\n      <td>25.716374</td>\n      <td>-100.000000</td>\n      <td>37</td>\n    </tr>\n    <tr>\n      <th>5</th>\n      <td>23.998700</td>\n      <td>-100.000000</td>\n      <td>139</td>\n    </tr>\n    <tr>\n      <th rowspan=\"2\" valign=\"top\">&gt;=p90</th>\n      <th>4</th>\n      <td>66.872491</td>\n      <td>-55.721441</td>\n      <td>21</td>\n    </tr>\n    <tr>\n      <th>5</th>\n      <td>19.472376</td>\n      <td>0.775864</td>\n      <td>42</td>\n    </tr>\n  </tbody>\n</table>\n</div>"
     },
     "metadata": {},
     "output_type": "display_data"
    },
    {
     "data": {
      "text/plain": "'chase_absent_tdo'"
     },
     "metadata": {},
     "output_type": "display_data"
    },
    {
     "data": {
      "text/plain": "                                            mean     median  count\npercents_till_stop_perc target_level                              \n<p30                    4              82.454211 -62.555221      9\n                        5             119.670503  28.371667     23\n<p70                    4              20.318439 -61.167314     24\n>=p90                   4             110.020005  98.692373     13",
      "text/html": "<div>\n<style scoped>\n    .dataframe tbody tr th:only-of-type {\n        vertical-align: middle;\n    }\n\n    .dataframe tbody tr th {\n        vertical-align: top;\n    }\n\n    .dataframe thead th {\n        text-align: right;\n    }\n</style>\n<table border=\"1\" class=\"dataframe\">\n  <thead>\n    <tr style=\"text-align: right;\">\n      <th></th>\n      <th></th>\n      <th>mean</th>\n      <th>median</th>\n      <th>count</th>\n    </tr>\n    <tr>\n      <th>percents_till_stop_perc</th>\n      <th>target_level</th>\n      <th></th>\n      <th></th>\n      <th></th>\n    </tr>\n  </thead>\n  <tbody>\n    <tr>\n      <th rowspan=\"2\" valign=\"top\">&lt;p30</th>\n      <th>4</th>\n      <td>82.454211</td>\n      <td>-62.555221</td>\n      <td>9</td>\n    </tr>\n    <tr>\n      <th>5</th>\n      <td>119.670503</td>\n      <td>28.371667</td>\n      <td>23</td>\n    </tr>\n    <tr>\n      <th>&lt;p70</th>\n      <th>4</th>\n      <td>20.318439</td>\n      <td>-61.167314</td>\n      <td>24</td>\n    </tr>\n    <tr>\n      <th>&gt;=p90</th>\n      <th>4</th>\n      <td>110.020005</td>\n      <td>98.692373</td>\n      <td>13</td>\n    </tr>\n  </tbody>\n</table>\n</div>"
     },
     "metadata": {},
     "output_type": "display_data"
    },
    {
     "data": {
      "text/plain": "'chase_absent_t90mo'"
     },
     "metadata": {},
     "output_type": "display_data"
    },
    {
     "data": {
      "text/plain": "                                           mean     median  count\npercents_till_stop_perc target_level                             \n<p70                    4             15.542291 -41.031484     26\n>=p90                   4             17.467887  59.942940     11",
      "text/html": "<div>\n<style scoped>\n    .dataframe tbody tr th:only-of-type {\n        vertical-align: middle;\n    }\n\n    .dataframe tbody tr th {\n        vertical-align: top;\n    }\n\n    .dataframe thead th {\n        text-align: right;\n    }\n</style>\n<table border=\"1\" class=\"dataframe\">\n  <thead>\n    <tr style=\"text-align: right;\">\n      <th></th>\n      <th></th>\n      <th>mean</th>\n      <th>median</th>\n      <th>count</th>\n    </tr>\n    <tr>\n      <th>percents_till_stop_perc</th>\n      <th>target_level</th>\n      <th></th>\n      <th></th>\n      <th></th>\n    </tr>\n  </thead>\n  <tbody>\n    <tr>\n      <th>&lt;p70</th>\n      <th>4</th>\n      <td>15.542291</td>\n      <td>-41.031484</td>\n      <td>26</td>\n    </tr>\n    <tr>\n      <th>&gt;=p90</th>\n      <th>4</th>\n      <td>17.467887</td>\n      <td>59.942940</td>\n      <td>11</td>\n    </tr>\n  </tbody>\n</table>\n</div>"
     },
     "metadata": {},
     "output_type": "display_data"
    },
    {
     "data": {
      "text/plain": "'chase_tyo'"
     },
     "metadata": {},
     "output_type": "display_data"
    },
    {
     "data": {
      "text/plain": "                                           mean     median  count\npercents_till_stop_perc target_level                             \n<p70                    5             81.046925  18.367207      7",
      "text/html": "<div>\n<style scoped>\n    .dataframe tbody tr th:only-of-type {\n        vertical-align: middle;\n    }\n\n    .dataframe tbody tr th {\n        vertical-align: top;\n    }\n\n    .dataframe thead th {\n        text-align: right;\n    }\n</style>\n<table border=\"1\" class=\"dataframe\">\n  <thead>\n    <tr style=\"text-align: right;\">\n      <th></th>\n      <th></th>\n      <th>mean</th>\n      <th>median</th>\n      <th>count</th>\n    </tr>\n    <tr>\n      <th>percents_till_stop_perc</th>\n      <th>target_level</th>\n      <th></th>\n      <th></th>\n      <th></th>\n    </tr>\n  </thead>\n  <tbody>\n    <tr>\n      <th>&lt;p70</th>\n      <th>5</th>\n      <td>81.046925</td>\n      <td>18.367207</td>\n      <td>7</td>\n    </tr>\n  </tbody>\n</table>\n</div>"
     },
     "metadata": {},
     "output_type": "display_data"
    },
    {
     "data": {
      "text/plain": "'chase_two'"
     },
     "metadata": {},
     "output_type": "display_data"
    },
    {
     "data": {
      "text/plain": "                                           mean     median  count\npercents_till_stop_perc target_level                             \n<p30                    5             25.090576 -60.412611     16\n<p70                    4             68.698520  65.933796     12\n                        5             32.107983 -55.666249     36\n<p90                    4             78.813771  26.255122     20",
      "text/html": "<div>\n<style scoped>\n    .dataframe tbody tr th:only-of-type {\n        vertical-align: middle;\n    }\n\n    .dataframe tbody tr th {\n        vertical-align: top;\n    }\n\n    .dataframe thead th {\n        text-align: right;\n    }\n</style>\n<table border=\"1\" class=\"dataframe\">\n  <thead>\n    <tr style=\"text-align: right;\">\n      <th></th>\n      <th></th>\n      <th>mean</th>\n      <th>median</th>\n      <th>count</th>\n    </tr>\n    <tr>\n      <th>percents_till_stop_perc</th>\n      <th>target_level</th>\n      <th></th>\n      <th></th>\n      <th></th>\n    </tr>\n  </thead>\n  <tbody>\n    <tr>\n      <th>&lt;p30</th>\n      <th>5</th>\n      <td>25.090576</td>\n      <td>-60.412611</td>\n      <td>16</td>\n    </tr>\n    <tr>\n      <th rowspan=\"2\" valign=\"top\">&lt;p70</th>\n      <th>4</th>\n      <td>68.698520</td>\n      <td>65.933796</td>\n      <td>12</td>\n    </tr>\n    <tr>\n      <th>5</th>\n      <td>32.107983</td>\n      <td>-55.666249</td>\n      <td>36</td>\n    </tr>\n    <tr>\n      <th>&lt;p90</th>\n      <th>4</th>\n      <td>78.813771</td>\n      <td>26.255122</td>\n      <td>20</td>\n    </tr>\n  </tbody>\n</table>\n</div>"
     },
     "metadata": {},
     "output_type": "display_data"
    },
    {
     "data": {
      "text/plain": "'chase_tdo'"
     },
     "metadata": {},
     "output_type": "display_data"
    },
    {
     "data": {
      "text/plain": "                                           mean     median  count\npercents_till_stop_perc target_level                             \n<p30                    4             16.274867 -71.339429     15\n<p70                    4             16.654093 -49.818557     47",
      "text/html": "<div>\n<style scoped>\n    .dataframe tbody tr th:only-of-type {\n        vertical-align: middle;\n    }\n\n    .dataframe tbody tr th {\n        vertical-align: top;\n    }\n\n    .dataframe thead th {\n        text-align: right;\n    }\n</style>\n<table border=\"1\" class=\"dataframe\">\n  <thead>\n    <tr style=\"text-align: right;\">\n      <th></th>\n      <th></th>\n      <th>mean</th>\n      <th>median</th>\n      <th>count</th>\n    </tr>\n    <tr>\n      <th>percents_till_stop_perc</th>\n      <th>target_level</th>\n      <th></th>\n      <th></th>\n      <th></th>\n    </tr>\n  </thead>\n  <tbody>\n    <tr>\n      <th>&lt;p30</th>\n      <th>4</th>\n      <td>16.274867</td>\n      <td>-71.339429</td>\n      <td>15</td>\n    </tr>\n    <tr>\n      <th>&lt;p70</th>\n      <th>4</th>\n      <td>16.654093</td>\n      <td>-49.818557</td>\n      <td>47</td>\n    </tr>\n  </tbody>\n</table>\n</div>"
     },
     "metadata": {},
     "output_type": "display_data"
    },
    {
     "data": {
      "text/plain": "'chase_t90mo'"
     },
     "metadata": {},
     "output_type": "display_data"
    },
    {
     "data": {
      "text/plain": "                                           mean     median  count\npercents_till_stop_perc target_level                             \n<p30                    5             16.854744 -65.266763     88\n<p70                    4             17.628709 -46.772591     70\n<p90                    4             16.275110 -66.881152     43",
      "text/html": "<div>\n<style scoped>\n    .dataframe tbody tr th:only-of-type {\n        vertical-align: middle;\n    }\n\n    .dataframe tbody tr th {\n        vertical-align: top;\n    }\n\n    .dataframe thead th {\n        text-align: right;\n    }\n</style>\n<table border=\"1\" class=\"dataframe\">\n  <thead>\n    <tr style=\"text-align: right;\">\n      <th></th>\n      <th></th>\n      <th>mean</th>\n      <th>median</th>\n      <th>count</th>\n    </tr>\n    <tr>\n      <th>percents_till_stop_perc</th>\n      <th>target_level</th>\n      <th></th>\n      <th></th>\n      <th></th>\n    </tr>\n  </thead>\n  <tbody>\n    <tr>\n      <th>&lt;p30</th>\n      <th>5</th>\n      <td>16.854744</td>\n      <td>-65.266763</td>\n      <td>88</td>\n    </tr>\n    <tr>\n      <th>&lt;p70</th>\n      <th>4</th>\n      <td>17.628709</td>\n      <td>-46.772591</td>\n      <td>70</td>\n    </tr>\n    <tr>\n      <th>&lt;p90</th>\n      <th>4</th>\n      <td>16.275110</td>\n      <td>-66.881152</td>\n      <td>43</td>\n    </tr>\n  </tbody>\n</table>\n</div>"
     },
     "metadata": {},
     "output_type": "display_data"
    },
    {
     "data": {
      "text/plain": "'market all [0.34, 0.65, 1.52, 2.67]'"
     },
     "metadata": {},
     "output_type": "display_data"
    },
    {
     "data": {
      "text/plain": "'limit all [0.31, 0.59, 1.4, 2.41]'"
     },
     "metadata": {},
     "output_type": "display_data"
    },
    {
     "data": {
      "text/plain": "'chase_median_rr [0.31, 0.58, 1.38, 2.46]'"
     },
     "metadata": {},
     "output_type": "display_data"
    },
    {
     "data": {
      "text/plain": "'chase_mean_rr [0.26, 0.52, 1.23, 2.2]'"
     },
     "metadata": {},
     "output_type": "display_data"
    },
    {
     "data": {
      "text/plain": "'chase_absent_tyo [0.41, 0.44, 0.65, 0.82]'"
     },
     "metadata": {},
     "output_type": "display_data"
    },
    {
     "data": {
      "text/plain": "'chase_absent_tmo [1.3, 1.74, 2.9, 3.61]'"
     },
     "metadata": {},
     "output_type": "display_data"
    },
    {
     "data": {
      "text/plain": "'chase_absent_two [0.27, 0.52, 1.5, 1.66]'"
     },
     "metadata": {},
     "output_type": "display_data"
    },
    {
     "data": {
      "text/plain": "'chase_absent_tdo [0.38, 0.78, 1.68, 2.66]'"
     },
     "metadata": {},
     "output_type": "display_data"
    },
    {
     "data": {
      "text/plain": "'chase_absent_t90mo [0.48, 0.73, 1.75, 3.31]'"
     },
     "metadata": {},
     "output_type": "display_data"
    },
    {
     "data": {
      "text/plain": "'chase_tyo [0.64, 0.72, 0.98, 1.25]'"
     },
     "metadata": {},
     "output_type": "display_data"
    },
    {
     "data": {
      "text/plain": "'chase_tmo [0.51, 0.84, 1.7, 2.59]'"
     },
     "metadata": {},
     "output_type": "display_data"
    },
    {
     "data": {
      "text/plain": "'chase_two [0.45, 0.88, 1.71, 2.44]'"
     },
     "metadata": {},
     "output_type": "display_data"
    },
    {
     "data": {
      "text/plain": "'chase_tdo [0.33, 0.63, 1.39, 2.59]'"
     },
     "metadata": {},
     "output_type": "display_data"
    },
    {
     "data": {
      "text/plain": "'chase_t90mo [0.28, 0.56, 1.29, 2.06]'"
     },
     "metadata": {},
     "output_type": "display_data"
    },
    {
     "data": {
      "text/plain": "                                       market all                    \\\n                                             mean      median count   \npercents_till_stop_perc target_level                                  \n<p10                    4             -37.79/0.12  -100.0/0.0    25   \n                        5               6.66/0.27  -100.0/0.0   144   \n<p30                    4               0.15/0.26  -73.86/0.0    70   \n                        5              10.39/0.35  -52.14/0.0   259   \n<p70                    4              -2.61/0.31  -61.87/0.0   183   \n                        5               0.71/0.43  -35.83/0.0   510   \n<p90                    4               1.47/0.37  -50.31/0.0   116   \n                        5              -3.58/0.52    3.07/1.0   224   \n>=p90                   4              -4.07/0.47  -26.83/0.0    51   \n                        5              -3.89/0.59    9.69/1.0   120   \n\n                                        limit all                    \\\n                                             mean      median count   \npercents_till_stop_perc target_level                                  \n<p10                    4             -50.61/0.09  -100.0/0.0    56   \n                        5              -13.5/0.21  -100.0/0.0   288   \n<p30                    4               6.47/0.22  -78.04/0.0   143   \n                        5              22.15/0.33  -60.17/0.0   576   \n<p70                    4              15.75/0.33  -57.52/0.0   388   \n                        5              -3.98/0.34  -57.09/0.0  1056   \n<p90                    4               7.82/0.29  -67.27/0.0   266   \n                        5               2.19/0.47  -20.68/0.0   460   \n>=p90                   4              21.66/0.41  -52.72/0.0   110   \n                        5               3.46/0.57    7.59/1.0   250   \n\n                                     chase_median_rr                    \\\n                                                mean      median count   \npercents_till_stop_perc target_level                                     \n<p10                    4                -15.42/0.11  -100.0/0.0    19   \n                        5                 -6.16/0.21  -100.0/0.0    99   \n<p30                    4                 -12.89/0.2  -100.0/0.0    51   \n                        5                 18.65/0.31  -59.97/0.0   191   \n<p70                    4                 17.35/0.31  -62.76/0.0   126   \n                        5                 -5.58/0.32  -59.55/0.0   353   \n<p90                    4                   0.5/0.26  -66.34/0.0    78   \n                        5                   9.55/0.5   -2.46/0.5   150   \n>=p90                   4                   1.2/0.39  -60.19/0.0    36   \n                        5                  5.59/0.57    7.59/1.0    88   \n\n                                     chase_mean_rr  ... chase_tmo  \\\n                                              mean  ...     count   \npercents_till_stop_perc target_level                ...             \n<p10                    4               -93.96/0.0  ...         1   \n                        5                8.43/0.19  ...         1   \n<p30                    4               25.72/0.14  ...      <NA>   \n                        5                24.0/0.27  ...         4   \n<p70                    4               -6.81/0.21  ...         2   \n                        5               -8.39/0.23  ...        13   \n<p90                    4                3.22/0.21  ...         2   \n                        5               -2.02/0.37  ...        12   \n>=p90                   4               66.87/0.38  ...      <NA>   \n                        5                19.47/0.5  ...         5   \n\n                                        chase_two                    \\\n                                             mean      median count   \npercents_till_stop_perc target_level                                  \n<p10                    4              163.16/0.5  163.16/0.5     2   \n                        5                8.6/0.33  -100.0/0.0     3   \n<p30                    4               15.08/0.5   15.08/0.5     2   \n                        5              25.09/0.31  -60.41/0.0    16   \n<p70                    4               68.7/0.75   65.93/1.0    12   \n                        5              32.11/0.39  -55.67/0.0    36   \n<p90                    4              78.81/0.55   26.26/1.0    20   \n                        5              -4.27/0.65   21.13/1.0    20   \n>=p90                   4             -10.32/0.33  -74.86/0.0     3   \n                        5               -1.48/0.6    8.54/1.0    10   \n\n                                        chase_tdo                    \\\n                                             mean      median count   \npercents_till_stop_perc target_level                                  \n<p10                    4             -24.16/0.33  -100.0/0.0     3   \n                        5             -23.47/0.32  -64.22/0.0    34   \n<p30                    4               16.27/0.4  -71.34/0.0    15   \n                        5               -3.3/0.45  -34.46/0.0    74   \n<p70                    4              16.65/0.32  -49.82/0.0    47   \n                        5              -1.64/0.51    4.52/1.0   147   \n<p90                    4              -10.0/0.24  -82.65/0.0    25   \n                        5              -2.33/0.51    0.34/1.0    61   \n>=p90                   4               -40.5/0.2   -73.0/0.0    10   \n                        5               0.29/0.69   10.96/1.0    39   \n\n                                      chase_t90mo                    \n                                             mean      median count  \npercents_till_stop_perc target_level                                 \n<p10                    4             -72.52/0.09  -100.0/0.0    11  \n                        5             -50.71/0.17  -100.0/0.0    47  \n<p30                    4             -50.77/0.13  -70.35/0.0    23  \n                        5              16.85/0.28  -65.27/0.0    88  \n<p70                    4              17.63/0.37  -46.77/0.0    70  \n                        5              -4.76/0.28   -63.4/0.0   149  \n<p90                    4               16.28/0.3  -66.88/0.0    43  \n                        5                0.9/0.44  -45.07/0.0    62  \n>=p90                   4             -15.72/0.31  -51.34/0.0    16  \n                        5              -21.61/0.4  -50.31/0.0    15  \n\n[10 rows x 42 columns]",
      "text/html": "<div>\n<style scoped>\n    .dataframe tbody tr th:only-of-type {\n        vertical-align: middle;\n    }\n\n    .dataframe tbody tr th {\n        vertical-align: top;\n    }\n\n    .dataframe thead tr th {\n        text-align: left;\n    }\n\n    .dataframe thead tr:last-of-type th {\n        text-align: right;\n    }\n</style>\n<table border=\"1\" class=\"dataframe\">\n  <thead>\n    <tr>\n      <th></th>\n      <th></th>\n      <th colspan=\"3\" halign=\"left\">market all</th>\n      <th colspan=\"3\" halign=\"left\">limit all</th>\n      <th colspan=\"3\" halign=\"left\">chase_median_rr</th>\n      <th>chase_mean_rr</th>\n      <th>...</th>\n      <th>chase_tmo</th>\n      <th colspan=\"3\" halign=\"left\">chase_two</th>\n      <th colspan=\"3\" halign=\"left\">chase_tdo</th>\n      <th colspan=\"3\" halign=\"left\">chase_t90mo</th>\n    </tr>\n    <tr>\n      <th></th>\n      <th></th>\n      <th>mean</th>\n      <th>median</th>\n      <th>count</th>\n      <th>mean</th>\n      <th>median</th>\n      <th>count</th>\n      <th>mean</th>\n      <th>median</th>\n      <th>count</th>\n      <th>mean</th>\n      <th>...</th>\n      <th>count</th>\n      <th>mean</th>\n      <th>median</th>\n      <th>count</th>\n      <th>mean</th>\n      <th>median</th>\n      <th>count</th>\n      <th>mean</th>\n      <th>median</th>\n      <th>count</th>\n    </tr>\n    <tr>\n      <th>percents_till_stop_perc</th>\n      <th>target_level</th>\n      <th></th>\n      <th></th>\n      <th></th>\n      <th></th>\n      <th></th>\n      <th></th>\n      <th></th>\n      <th></th>\n      <th></th>\n      <th></th>\n      <th></th>\n      <th></th>\n      <th></th>\n      <th></th>\n      <th></th>\n      <th></th>\n      <th></th>\n      <th></th>\n      <th></th>\n      <th></th>\n      <th></th>\n    </tr>\n  </thead>\n  <tbody>\n    <tr>\n      <th rowspan=\"2\" valign=\"top\">&lt;p10</th>\n      <th>4</th>\n      <td>-37.79/0.12</td>\n      <td>-100.0/0.0</td>\n      <td>25</td>\n      <td>-50.61/0.09</td>\n      <td>-100.0/0.0</td>\n      <td>56</td>\n      <td>-15.42/0.11</td>\n      <td>-100.0/0.0</td>\n      <td>19</td>\n      <td>-93.96/0.0</td>\n      <td>...</td>\n      <td>1</td>\n      <td>163.16/0.5</td>\n      <td>163.16/0.5</td>\n      <td>2</td>\n      <td>-24.16/0.33</td>\n      <td>-100.0/0.0</td>\n      <td>3</td>\n      <td>-72.52/0.09</td>\n      <td>-100.0/0.0</td>\n      <td>11</td>\n    </tr>\n    <tr>\n      <th>5</th>\n      <td>6.66/0.27</td>\n      <td>-100.0/0.0</td>\n      <td>144</td>\n      <td>-13.5/0.21</td>\n      <td>-100.0/0.0</td>\n      <td>288</td>\n      <td>-6.16/0.21</td>\n      <td>-100.0/0.0</td>\n      <td>99</td>\n      <td>8.43/0.19</td>\n      <td>...</td>\n      <td>1</td>\n      <td>8.6/0.33</td>\n      <td>-100.0/0.0</td>\n      <td>3</td>\n      <td>-23.47/0.32</td>\n      <td>-64.22/0.0</td>\n      <td>34</td>\n      <td>-50.71/0.17</td>\n      <td>-100.0/0.0</td>\n      <td>47</td>\n    </tr>\n    <tr>\n      <th rowspan=\"2\" valign=\"top\">&lt;p30</th>\n      <th>4</th>\n      <td>0.15/0.26</td>\n      <td>-73.86/0.0</td>\n      <td>70</td>\n      <td>6.47/0.22</td>\n      <td>-78.04/0.0</td>\n      <td>143</td>\n      <td>-12.89/0.2</td>\n      <td>-100.0/0.0</td>\n      <td>51</td>\n      <td>25.72/0.14</td>\n      <td>...</td>\n      <td>&lt;NA&gt;</td>\n      <td>15.08/0.5</td>\n      <td>15.08/0.5</td>\n      <td>2</td>\n      <td>16.27/0.4</td>\n      <td>-71.34/0.0</td>\n      <td>15</td>\n      <td>-50.77/0.13</td>\n      <td>-70.35/0.0</td>\n      <td>23</td>\n    </tr>\n    <tr>\n      <th>5</th>\n      <td>10.39/0.35</td>\n      <td>-52.14/0.0</td>\n      <td>259</td>\n      <td>22.15/0.33</td>\n      <td>-60.17/0.0</td>\n      <td>576</td>\n      <td>18.65/0.31</td>\n      <td>-59.97/0.0</td>\n      <td>191</td>\n      <td>24.0/0.27</td>\n      <td>...</td>\n      <td>4</td>\n      <td>25.09/0.31</td>\n      <td>-60.41/0.0</td>\n      <td>16</td>\n      <td>-3.3/0.45</td>\n      <td>-34.46/0.0</td>\n      <td>74</td>\n      <td>16.85/0.28</td>\n      <td>-65.27/0.0</td>\n      <td>88</td>\n    </tr>\n    <tr>\n      <th rowspan=\"2\" valign=\"top\">&lt;p70</th>\n      <th>4</th>\n      <td>-2.61/0.31</td>\n      <td>-61.87/0.0</td>\n      <td>183</td>\n      <td>15.75/0.33</td>\n      <td>-57.52/0.0</td>\n      <td>388</td>\n      <td>17.35/0.31</td>\n      <td>-62.76/0.0</td>\n      <td>126</td>\n      <td>-6.81/0.21</td>\n      <td>...</td>\n      <td>2</td>\n      <td>68.7/0.75</td>\n      <td>65.93/1.0</td>\n      <td>12</td>\n      <td>16.65/0.32</td>\n      <td>-49.82/0.0</td>\n      <td>47</td>\n      <td>17.63/0.37</td>\n      <td>-46.77/0.0</td>\n      <td>70</td>\n    </tr>\n    <tr>\n      <th>5</th>\n      <td>0.71/0.43</td>\n      <td>-35.83/0.0</td>\n      <td>510</td>\n      <td>-3.98/0.34</td>\n      <td>-57.09/0.0</td>\n      <td>1056</td>\n      <td>-5.58/0.32</td>\n      <td>-59.55/0.0</td>\n      <td>353</td>\n      <td>-8.39/0.23</td>\n      <td>...</td>\n      <td>13</td>\n      <td>32.11/0.39</td>\n      <td>-55.67/0.0</td>\n      <td>36</td>\n      <td>-1.64/0.51</td>\n      <td>4.52/1.0</td>\n      <td>147</td>\n      <td>-4.76/0.28</td>\n      <td>-63.4/0.0</td>\n      <td>149</td>\n    </tr>\n    <tr>\n      <th rowspan=\"2\" valign=\"top\">&lt;p90</th>\n      <th>4</th>\n      <td>1.47/0.37</td>\n      <td>-50.31/0.0</td>\n      <td>116</td>\n      <td>7.82/0.29</td>\n      <td>-67.27/0.0</td>\n      <td>266</td>\n      <td>0.5/0.26</td>\n      <td>-66.34/0.0</td>\n      <td>78</td>\n      <td>3.22/0.21</td>\n      <td>...</td>\n      <td>2</td>\n      <td>78.81/0.55</td>\n      <td>26.26/1.0</td>\n      <td>20</td>\n      <td>-10.0/0.24</td>\n      <td>-82.65/0.0</td>\n      <td>25</td>\n      <td>16.28/0.3</td>\n      <td>-66.88/0.0</td>\n      <td>43</td>\n    </tr>\n    <tr>\n      <th>5</th>\n      <td>-3.58/0.52</td>\n      <td>3.07/1.0</td>\n      <td>224</td>\n      <td>2.19/0.47</td>\n      <td>-20.68/0.0</td>\n      <td>460</td>\n      <td>9.55/0.5</td>\n      <td>-2.46/0.5</td>\n      <td>150</td>\n      <td>-2.02/0.37</td>\n      <td>...</td>\n      <td>12</td>\n      <td>-4.27/0.65</td>\n      <td>21.13/1.0</td>\n      <td>20</td>\n      <td>-2.33/0.51</td>\n      <td>0.34/1.0</td>\n      <td>61</td>\n      <td>0.9/0.44</td>\n      <td>-45.07/0.0</td>\n      <td>62</td>\n    </tr>\n    <tr>\n      <th rowspan=\"2\" valign=\"top\">&gt;=p90</th>\n      <th>4</th>\n      <td>-4.07/0.47</td>\n      <td>-26.83/0.0</td>\n      <td>51</td>\n      <td>21.66/0.41</td>\n      <td>-52.72/0.0</td>\n      <td>110</td>\n      <td>1.2/0.39</td>\n      <td>-60.19/0.0</td>\n      <td>36</td>\n      <td>66.87/0.38</td>\n      <td>...</td>\n      <td>&lt;NA&gt;</td>\n      <td>-10.32/0.33</td>\n      <td>-74.86/0.0</td>\n      <td>3</td>\n      <td>-40.5/0.2</td>\n      <td>-73.0/0.0</td>\n      <td>10</td>\n      <td>-15.72/0.31</td>\n      <td>-51.34/0.0</td>\n      <td>16</td>\n    </tr>\n    <tr>\n      <th>5</th>\n      <td>-3.89/0.59</td>\n      <td>9.69/1.0</td>\n      <td>120</td>\n      <td>3.46/0.57</td>\n      <td>7.59/1.0</td>\n      <td>250</td>\n      <td>5.59/0.57</td>\n      <td>7.59/1.0</td>\n      <td>88</td>\n      <td>19.47/0.5</td>\n      <td>...</td>\n      <td>5</td>\n      <td>-1.48/0.6</td>\n      <td>8.54/1.0</td>\n      <td>10</td>\n      <td>0.29/0.69</td>\n      <td>10.96/1.0</td>\n      <td>39</td>\n      <td>-21.61/0.4</td>\n      <td>-50.31/0.0</td>\n      <td>15</td>\n    </tr>\n  </tbody>\n</table>\n<p>10 rows × 42 columns</p>\n</div>"
     },
     "execution_count": 109,
     "metadata": {},
     "output_type": "execute_result"
    }
   ],
   "source": [
    "df_group = group([\"percents_till_stop_perc\", \"target_level\"], \"percents_till_stop\")\n",
    "df_group"
   ],
   "metadata": {
    "collapsed": false,
    "ExecuteTime": {
     "end_time": "2025-09-02T23:08:52.448745Z",
     "start_time": "2025-09-02T23:08:52.109863Z"
    }
   },
   "id": "7a52177675c1a758",
   "execution_count": 109
  },
  {
   "cell_type": "code",
   "execution_count": 110,
   "id": "b5617f2e69a35666",
   "metadata": {
    "collapsed": false,
    "ExecuteTime": {
     "end_time": "2025-09-02T23:08:52.455074Z",
     "start_time": "2025-09-02T23:08:52.450941Z"
    }
   },
   "outputs": [],
   "source": [
    "# group([\"psp_key\", \"direction\", \"entry_yq\"])\n",
    "# group([\"psp_key\", \"direction\", \"entry_mw\"])\n",
    "# group([\"psp_key\", \"direction\", \"entry_wd\"])\n",
    "# group([\"psp_key\", \"direction\", \"entry_wd\"])\n",
    "# group([\"psp_key\", \"direction\", \"entry_dq\"])\n",
    "# group([\"psp_key\", \"direction\", \"entry_q90m\"])\n",
    "# group([\"entry_yq\"])\n",
    "# group([\"entry_mw\"])\n",
    "# group([\"entry_wd\"])\n",
    "# group([\"entry_dq\"])\n",
    "# group([\"entry_q90m\"])"
   ]
  },
  {
   "cell_type": "code",
   "execution_count": 110,
   "id": "ff8c325b4d14bf3e",
   "metadata": {
    "collapsed": false,
    "ExecuteTime": {
     "end_time": "2025-09-02T23:08:52.460336Z",
     "start_time": "2025-09-02T23:08:52.457315Z"
    }
   },
   "outputs": [],
   "source": []
  },
  {
   "cell_type": "code",
   "execution_count": 111,
   "id": "7c6fc9a68cdfa4b1",
   "metadata": {
    "collapsed": false,
    "ExecuteTime": {
     "end_time": "2025-09-02T23:08:52.473044Z",
     "start_time": "2025-09-02T23:08:52.462359Z"
    }
   },
   "outputs": [],
   "source": [
    "# (trades_df_2024.groupby([\"smt_label\", \"psp_key\", \"direction\"])[\"pnl_usd\"]\n",
    "#  .agg([\"mean\", \"median\", \"count\"])\n",
    "#  .reset_index())\n",
    "# (trades_df_2025.groupby([\"smt_label\", \"psp_key\", \"direction\"])[\"pnl_usd\"]\n",
    "#  .agg([\"mean\", \"median\", \"count\"])\n",
    "#  .reset_index())"
   ]
  },
  {
   "cell_type": "code",
   "execution_count": 112,
   "id": "c26f779155e01a1d",
   "metadata": {
    "collapsed": false,
    "ExecuteTime": {
     "end_time": "2025-09-02T23:08:52.492806Z",
     "start_time": "2025-09-02T23:08:52.475Z"
    }
   },
   "outputs": [],
   "source": [
    "# display([round(float(x), 4) for x in np.percentile(trades_df_2024['entry_rr'], [10, 30, 70, 90])])\n",
    "# display([round(float(x), 4) for x in np.percentile(trades_df_2025['entry_rr'], [10, 30, 70, 90])])\n",
    "# \n",
    "# display(trades_df_2024.groupby(\"entry_rr_perc\")[\"pnl_usd\"].agg([\"mean\", \"median\", \"count\"]))\n",
    "# display(trades_df_2025.groupby(\"entry_rr_perc\")[\"pnl_usd\"].agg([\"mean\", \"median\", \"count\"]))\n",
    "# \n",
    "# display(trades_df_2024.query(\"14 < entry_rr < 17\")[\"pnl_usd\"].agg([\"mean\", \"median\", \"count\"]))\n",
    "# display(trades_df_2025.query(\"14 < entry_rr < 17\")[\"pnl_usd\"].agg([\"mean\", \"median\", \"count\"]))\n",
    "# display(trades_df_2024.query(\"14 < entry_rr < 17\")[\"won\"].agg([\"mean\", \"median\", \"count\"]))\n",
    "# display(trades_df_2025.query(\"14 < entry_rr < 17\")[\"won\"].agg([\"mean\", \"median\", \"count\"]))"
   ]
  },
  {
   "cell_type": "code",
   "outputs": [],
   "source": [
    "# df_rr_change_2024 = trades_df_2024.query(\"won\")[[\"entry_rr\", \"entry_rr_perc\", \"best_entry_rr\"]]\n",
    "# df_rr_change_2024[\"multiplier\"] = df_rr_change_2024[\"best_entry_rr\"] / df_rr_change_2024[\"entry_rr\"]\n",
    "# display([round(float(x), 4) for x in np.percentile(df_rr_change_2024['entry_rr'], [10, 30, 70, 90])])\n",
    "# display(df_rr_change_2024.groupby(\"entry_rr_perc\")[\"multiplier\"].agg([\"mean\", \"median\", \"count\"]))\n",
    "# \n",
    "# df_rr_change_2025 = trades_df_2025.query(\"won\")[[\"entry_rr\", \"entry_rr_perc\", \"best_entry_rr\"]]\n",
    "# df_rr_change_2025[\"multiplier\"] = df_rr_change_2025[\"best_entry_rr\"] / df_rr_change_2025[\"entry_rr\"]\n",
    "# display([round(float(x), 4) for x in np.percentile(df_rr_change_2025['entry_rr'], [10, 30, 70, 90])])\n",
    "# display(df_rr_change_2025.groupby(\"entry_rr_perc\")[\"multiplier\"].agg([\"mean\", \"median\", \"count\"]))"
   ],
   "metadata": {
    "collapsed": false,
    "ExecuteTime": {
     "end_time": "2025-09-02T23:08:52.507143Z",
     "start_time": "2025-09-02T23:08:52.497013Z"
    }
   },
   "id": "7947ce3bea8d6633",
   "execution_count": 113
  }
 ],
 "metadata": {
  "kernelspec": {
   "display_name": "Python 3 (ipykernel)",
   "language": "python",
   "name": "python3"
  },
  "language_info": {
   "codemirror_mode": {
    "name": "ipython",
    "version": 3
   },
   "file_extension": ".py",
   "mimetype": "text/x-python",
   "name": "python",
   "nbconvert_exporter": "python",
   "pygments_lexer": "ipython3",
   "version": "3.11.11"
  }
 },
 "nbformat": 4,
 "nbformat_minor": 5
}
